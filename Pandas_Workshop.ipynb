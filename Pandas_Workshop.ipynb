{
  "nbformat": 4,
  "nbformat_minor": 0,
  "metadata": {
    "kernelspec": {
      "display_name": "Python 3",
      "language": "python",
      "name": "python3"
    },
    "language_info": {
      "codemirror_mode": {
        "name": "ipython",
        "version": 3
      },
      "file_extension": ".py",
      "mimetype": "text/x-python",
      "name": "python",
      "nbconvert_exporter": "python",
      "pygments_lexer": "ipython3",
      "version": "3.6.3"
    },
    "colab": {
      "name": "Pandas Workshop.ipynb",
      "provenance": [],
      "collapsed_sections": [
        "6-N6e8PW-saR",
        "6UUb6xm5-sai",
        "GWPV0y4u-sbE",
        "mp0jJPyh-sbh",
        "R69GQcRv-sb1",
        "fDW6qtyh-scM",
        "Vh940lVR-scX",
        "5fbAhv_3-scX",
        "QUBaPkot-sci",
        "bTBUlQzy-sck",
        "UPTzl3ZA-scp",
        "OrU0PrBW-scv",
        "JO_Alg2Y-sc3",
        "5NrqrBpq-sdH",
        "DIv9NW5f-sdW",
        "wHMitNQr-sdf",
        "a68EuUef-sdy",
        "I95_2to4-sem",
        "C7ZIggm6-sew"
      ],
      "toc_visible": true
    }
  },
  "cells": [
    {
      "cell_type": "markdown",
      "metadata": {
        "_cell_guid": "da21b90d-98fc-483f-bf58-bd1dacf7027c",
        "_kg_hide-input": true,
        "_uuid": "90fb4599b093efccc95cacb6db2da95bcd695545",
        "id": "Qdn4K1mI-sXr"
      },
      "source": [
        "### This is a short introduction to pandas, geared mainly for new users. You can see more complex recipes in the [Cookbook](https://pandas.pydata.org/pandas-docs/stable/cookbook.html#cookbook)"
      ]
    },
    {
      "cell_type": "code",
      "metadata": {
        "_cell_guid": "f26dff57-ef68-4cbf-86f1-b027cc75d6c1",
        "_uuid": "e0a227d03ea6a2d1995268f8cea078357eb596d4",
        "id": "l3r0esRR-sXt"
      },
      "source": [
        "import pandas as pd\n",
        "import numpy as np"
      ],
      "execution_count": null,
      "outputs": []
    },
    {
      "cell_type": "markdown",
      "metadata": {
        "_cell_guid": "0c4de500-e940-428a-a624-d72cf69055ae",
        "_uuid": "666bd202e06457942b464ff348f49256eb40cb10",
        "id": "DaqZnWff-sYA"
      },
      "source": [
        "# Object Creation\n",
        "Creating a Series by passing a list of values, letting pandas create a default integer index.\n",
        "Series is one dimensional(1-D) array defined in pandas that can be used to store any data type."
      ]
    },
    {
      "cell_type": "code",
      "metadata": {
        "_cell_guid": "684d2ff9-f491-4384-b51d-d89a545f40a6",
        "_uuid": "3d527ebba36697ffcf0b5d46ef717172edcb0539",
        "collapsed": true,
        "id": "2g9Oym48-sYE",
        "outputId": "6334239e-d2a9-489d-f6ac-0ec5de04ad15",
        "colab": {
          "base_uri": "https://localhost:8080/",
          "height": 136
        }
      },
      "source": [
        "s = pd.Series([1,3,5,np.nan,6,8])\n",
        "s"
      ],
      "execution_count": null,
      "outputs": [
        {
          "output_type": "execute_result",
          "data": {
            "text/plain": [
              "0    1.0\n",
              "1    3.0\n",
              "2    5.0\n",
              "3    NaN\n",
              "4    6.0\n",
              "5    8.0\n",
              "dtype: float64"
            ]
          },
          "metadata": {
            "tags": []
          },
          "execution_count": 3
        }
      ]
    },
    {
      "cell_type": "code",
      "metadata": {
        "id": "3CpXVkobM2JW",
        "outputId": "78e6f242-3166-4835-d03e-7f74d65cbb08",
        "colab": {
          "base_uri": "https://localhost:8080/",
          "height": 119
        }
      },
      "source": [
        "# Creating series of Dictionary type\n",
        "dictionary ={'a':1, 'b':2, 'c':3, 'd':4, 'e':5}  \n",
        "s = pd.Series(dictionary)\n",
        "s"
      ],
      "execution_count": null,
      "outputs": [
        {
          "output_type": "execute_result",
          "data": {
            "text/plain": [
              "a    1\n",
              "b    2\n",
              "c    3\n",
              "d    4\n",
              "e    5\n",
              "dtype: int64"
            ]
          },
          "metadata": {
            "tags": []
          },
          "execution_count": 4
        }
      ]
    },
    {
      "cell_type": "code",
      "metadata": {
        "id": "7WAfJs-MNL7H",
        "outputId": "30e3f275-79c6-46b4-b0be-4775a50525d0",
        "colab": {
          "base_uri": "https://localhost:8080/",
          "height": 68
        }
      },
      "source": [
        "# Creating series of 2darray \n",
        "Data =[[2, 3, 4], [5, 6, 7]]  # Defining 2darray \n",
        "s = pd.Series(Data)\n",
        "s"
      ],
      "execution_count": null,
      "outputs": [
        {
          "output_type": "execute_result",
          "data": {
            "text/plain": [
              "0    [2, 3, 4]\n",
              "1    [5, 6, 7]\n",
              "dtype: object"
            ]
          },
          "metadata": {
            "tags": []
          },
          "execution_count": 5
        }
      ]
    },
    {
      "cell_type": "markdown",
      "metadata": {
        "_cell_guid": "a34354da-ed7a-4b6c-b29a-371b98778256",
        "_uuid": "762a9ec540f47f1aeba21b5a7deb1cf51a0994eb",
        "id": "xbopGMm7-sYW"
      },
      "source": [
        "Creating a [DataFrame](https://pandas.pydata.org/pandas-docs/stable/generated/pandas.DataFrame.html#pandas.DataFrame) by passing a numpy array, with a datetime index and labeled columns.\n",
        "DataFrames is two-dimensional(2-D) data structure defined in pandas which consists of rows and columns."
      ]
    },
    {
      "cell_type": "code",
      "metadata": {
        "_cell_guid": "1f57494c-5ec2-49a4-adb4-4843d5c39c62",
        "_uuid": "50b786a38ed5b11ec29c308d29599623c26f0f23",
        "collapsed": true,
        "id": "nADQfnIX-sYZ",
        "outputId": "626bf539-e691-4511-f954-c9855ec4023c",
        "colab": {
          "base_uri": "https://localhost:8080/",
          "height": 68
        }
      },
      "source": [
        "dates = pd.date_range('20141101', periods=6) #Return a fixed frequency DatetimeIndex.\n",
        "dates"
      ],
      "execution_count": null,
      "outputs": [
        {
          "output_type": "execute_result",
          "data": {
            "text/plain": [
              "DatetimeIndex(['2014-11-01', '2014-11-02', '2014-11-03', '2014-11-04',\n",
              "               '2014-11-05', '2014-11-06'],\n",
              "              dtype='datetime64[ns]', freq='D')"
            ]
          },
          "metadata": {
            "tags": []
          },
          "execution_count": 6
        }
      ]
    },
    {
      "cell_type": "code",
      "metadata": {
        "_cell_guid": "e29399aa-3818-4dd8-bc3b-634aa5c3fe78",
        "_uuid": "b21c8f9e3992c18eb839851aaa6ad057654e9082",
        "id": "wxhiS8mn-sYy",
        "outputId": "fb83cb2e-6462-4ca8-d61d-9622d8eb3d8e",
        "colab": {
          "base_uri": "https://localhost:8080/",
          "height": 235
        }
      },
      "source": [
        "df = pd.DataFrame(np.random.randn(6,4), index=dates,columns=['one','two','three','four'])\n",
        "df"
      ],
      "execution_count": null,
      "outputs": [
        {
          "output_type": "execute_result",
          "data": {
            "text/html": [
              "<div>\n",
              "<style scoped>\n",
              "    .dataframe tbody tr th:only-of-type {\n",
              "        vertical-align: middle;\n",
              "    }\n",
              "\n",
              "    .dataframe tbody tr th {\n",
              "        vertical-align: top;\n",
              "    }\n",
              "\n",
              "    .dataframe thead th {\n",
              "        text-align: right;\n",
              "    }\n",
              "</style>\n",
              "<table border=\"1\" class=\"dataframe\">\n",
              "  <thead>\n",
              "    <tr style=\"text-align: right;\">\n",
              "      <th></th>\n",
              "      <th>one</th>\n",
              "      <th>two</th>\n",
              "      <th>three</th>\n",
              "      <th>four</th>\n",
              "    </tr>\n",
              "  </thead>\n",
              "  <tbody>\n",
              "    <tr>\n",
              "      <th>2014-11-01</th>\n",
              "      <td>0.641256</td>\n",
              "      <td>-0.071686</td>\n",
              "      <td>-1.505191</td>\n",
              "      <td>0.582573</td>\n",
              "    </tr>\n",
              "    <tr>\n",
              "      <th>2014-11-02</th>\n",
              "      <td>-0.249225</td>\n",
              "      <td>-0.226376</td>\n",
              "      <td>0.652858</td>\n",
              "      <td>-0.400260</td>\n",
              "    </tr>\n",
              "    <tr>\n",
              "      <th>2014-11-03</th>\n",
              "      <td>1.657259</td>\n",
              "      <td>0.507164</td>\n",
              "      <td>0.320023</td>\n",
              "      <td>0.916616</td>\n",
              "    </tr>\n",
              "    <tr>\n",
              "      <th>2014-11-04</th>\n",
              "      <td>0.053211</td>\n",
              "      <td>-0.467229</td>\n",
              "      <td>-0.131700</td>\n",
              "      <td>0.022752</td>\n",
              "    </tr>\n",
              "    <tr>\n",
              "      <th>2014-11-05</th>\n",
              "      <td>-0.463195</td>\n",
              "      <td>-1.494090</td>\n",
              "      <td>1.885471</td>\n",
              "      <td>1.137514</td>\n",
              "    </tr>\n",
              "    <tr>\n",
              "      <th>2014-11-06</th>\n",
              "      <td>-1.151330</td>\n",
              "      <td>-0.443656</td>\n",
              "      <td>0.878910</td>\n",
              "      <td>-0.175962</td>\n",
              "    </tr>\n",
              "  </tbody>\n",
              "</table>\n",
              "</div>"
            ],
            "text/plain": [
              "                 one       two     three      four\n",
              "2014-11-01  0.641256 -0.071686 -1.505191  0.582573\n",
              "2014-11-02 -0.249225 -0.226376  0.652858 -0.400260\n",
              "2014-11-03  1.657259  0.507164  0.320023  0.916616\n",
              "2014-11-04  0.053211 -0.467229 -0.131700  0.022752\n",
              "2014-11-05 -0.463195 -1.494090  1.885471  1.137514\n",
              "2014-11-06 -1.151330 -0.443656  0.878910 -0.175962"
            ]
          },
          "metadata": {
            "tags": []
          },
          "execution_count": 7
        }
      ]
    },
    {
      "cell_type": "markdown",
      "metadata": {
        "id": "LWZKRS6tEO2u"
      },
      "source": [
        "Here, Data can be:\n",
        "\n",
        "*  One or more dictionaries\n",
        "*  One or more Series\n",
        "*  2D-numpy Ndarray\n",
        "\n",
        "\n"
      ]
    },
    {
      "cell_type": "code",
      "metadata": {
        "id": "0RH8PyjoEttS",
        "outputId": "47383c9c-d1f3-47b7-9af5-8bfa7a5b1f63",
        "colab": {
          "base_uri": "https://localhost:8080/",
          "height": 204
        }
      },
      "source": [
        "#When Data is Dictionaries\n",
        "# Program to Create Data Frame with two dictionaries \n",
        "dict1 ={'a':1, 'b':2, 'c':3, 'd':4}        # Define Dictionary 1 \n",
        "dict2 ={'a':5, 'b':6, 'c':7, 'd':8, 'e':9} # Define Dictionary 2 \n",
        "Data = {'first':dict1, 'second':dict2}  # Define Data with dict1 and dict2 \n",
        "dfd = pd.DataFrame(Data)  # Create DataFrame \n",
        "dfd"
      ],
      "execution_count": null,
      "outputs": [
        {
          "output_type": "execute_result",
          "data": {
            "text/html": [
              "<div>\n",
              "<style scoped>\n",
              "    .dataframe tbody tr th:only-of-type {\n",
              "        vertical-align: middle;\n",
              "    }\n",
              "\n",
              "    .dataframe tbody tr th {\n",
              "        vertical-align: top;\n",
              "    }\n",
              "\n",
              "    .dataframe thead th {\n",
              "        text-align: right;\n",
              "    }\n",
              "</style>\n",
              "<table border=\"1\" class=\"dataframe\">\n",
              "  <thead>\n",
              "    <tr style=\"text-align: right;\">\n",
              "      <th></th>\n",
              "      <th>first</th>\n",
              "      <th>second</th>\n",
              "    </tr>\n",
              "  </thead>\n",
              "  <tbody>\n",
              "    <tr>\n",
              "      <th>a</th>\n",
              "      <td>1.0</td>\n",
              "      <td>5</td>\n",
              "    </tr>\n",
              "    <tr>\n",
              "      <th>b</th>\n",
              "      <td>2.0</td>\n",
              "      <td>6</td>\n",
              "    </tr>\n",
              "    <tr>\n",
              "      <th>c</th>\n",
              "      <td>3.0</td>\n",
              "      <td>7</td>\n",
              "    </tr>\n",
              "    <tr>\n",
              "      <th>d</th>\n",
              "      <td>4.0</td>\n",
              "      <td>8</td>\n",
              "    </tr>\n",
              "    <tr>\n",
              "      <th>e</th>\n",
              "      <td>NaN</td>\n",
              "      <td>9</td>\n",
              "    </tr>\n",
              "  </tbody>\n",
              "</table>\n",
              "</div>"
            ],
            "text/plain": [
              "   first  second\n",
              "a    1.0       5\n",
              "b    2.0       6\n",
              "c    3.0       7\n",
              "d    4.0       8\n",
              "e    NaN       9"
            ]
          },
          "metadata": {
            "tags": []
          },
          "execution_count": 8
        }
      ]
    },
    {
      "cell_type": "code",
      "metadata": {
        "id": "FJfuBtG3E2UE",
        "outputId": "89083d75-785f-4230-cbfc-ef4ef0f94d54",
        "colab": {
          "base_uri": "https://localhost:8080/",
          "height": 266
        }
      },
      "source": [
        "# When Data is Series\n",
        "# Program to create Dataframe of three series  \n",
        "import pandas as pd \n",
        "  \n",
        "s1 = pd.Series([1, 3, 4, 5, 6, 2, 9])           # Define series 1 \n",
        "s2 = pd.Series([1.1, 3.5, 4.7, 5.8, 2.9, 9.3]) # Define series 2 \n",
        "s3 = pd.Series(['a', 'b', 'c', 'd', 'e'])     # Define series 3 \n",
        "  \n",
        "  \n",
        "Data ={'first':s1, 'second':s2, 'third':s3} # Define Data \n",
        "dfseries = pd.DataFrame(Data)              # Create DataFrame \n",
        "dfseries"
      ],
      "execution_count": null,
      "outputs": [
        {
          "output_type": "execute_result",
          "data": {
            "text/html": [
              "<div>\n",
              "<style scoped>\n",
              "    .dataframe tbody tr th:only-of-type {\n",
              "        vertical-align: middle;\n",
              "    }\n",
              "\n",
              "    .dataframe tbody tr th {\n",
              "        vertical-align: top;\n",
              "    }\n",
              "\n",
              "    .dataframe thead th {\n",
              "        text-align: right;\n",
              "    }\n",
              "</style>\n",
              "<table border=\"1\" class=\"dataframe\">\n",
              "  <thead>\n",
              "    <tr style=\"text-align: right;\">\n",
              "      <th></th>\n",
              "      <th>first</th>\n",
              "      <th>second</th>\n",
              "      <th>third</th>\n",
              "    </tr>\n",
              "  </thead>\n",
              "  <tbody>\n",
              "    <tr>\n",
              "      <th>0</th>\n",
              "      <td>1</td>\n",
              "      <td>1.1</td>\n",
              "      <td>a</td>\n",
              "    </tr>\n",
              "    <tr>\n",
              "      <th>1</th>\n",
              "      <td>3</td>\n",
              "      <td>3.5</td>\n",
              "      <td>b</td>\n",
              "    </tr>\n",
              "    <tr>\n",
              "      <th>2</th>\n",
              "      <td>4</td>\n",
              "      <td>4.7</td>\n",
              "      <td>c</td>\n",
              "    </tr>\n",
              "    <tr>\n",
              "      <th>3</th>\n",
              "      <td>5</td>\n",
              "      <td>5.8</td>\n",
              "      <td>d</td>\n",
              "    </tr>\n",
              "    <tr>\n",
              "      <th>4</th>\n",
              "      <td>6</td>\n",
              "      <td>2.9</td>\n",
              "      <td>e</td>\n",
              "    </tr>\n",
              "    <tr>\n",
              "      <th>5</th>\n",
              "      <td>2</td>\n",
              "      <td>9.3</td>\n",
              "      <td>NaN</td>\n",
              "    </tr>\n",
              "    <tr>\n",
              "      <th>6</th>\n",
              "      <td>9</td>\n",
              "      <td>NaN</td>\n",
              "      <td>NaN</td>\n",
              "    </tr>\n",
              "  </tbody>\n",
              "</table>\n",
              "</div>"
            ],
            "text/plain": [
              "   first  second third\n",
              "0      1     1.1     a\n",
              "1      3     3.5     b\n",
              "2      4     4.7     c\n",
              "3      5     5.8     d\n",
              "4      6     2.9     e\n",
              "5      2     9.3   NaN\n",
              "6      9     NaN   NaN"
            ]
          },
          "metadata": {
            "tags": []
          },
          "execution_count": 9
        }
      ]
    },
    {
      "cell_type": "code",
      "metadata": {
        "id": "svgoPoc7FDwr",
        "outputId": "96c19194-3fa9-462a-de9e-ffb32b646ac6",
        "colab": {
          "base_uri": "https://localhost:8080/",
          "height": 111
        }
      },
      "source": [
        "# When Data is 2D-numpy ndarray\n",
        "# Program to create DataFrame from 2D array \n",
        "import pandas as pd # Import Library \n",
        "d1 =[[2, 3, 4], [5, 6, 7]] # Define 2d array 1 \n",
        "d2 =[[2, 4, 8], [1, 3, 9]] # Define 2d array 2 \n",
        "Data ={'first': d1, 'second': d2} # Define Data  \n",
        "df2d = pd.DataFrame(Data)    # Create DataFrame \n",
        "df2d"
      ],
      "execution_count": null,
      "outputs": [
        {
          "output_type": "execute_result",
          "data": {
            "text/html": [
              "<div>\n",
              "<style scoped>\n",
              "    .dataframe tbody tr th:only-of-type {\n",
              "        vertical-align: middle;\n",
              "    }\n",
              "\n",
              "    .dataframe tbody tr th {\n",
              "        vertical-align: top;\n",
              "    }\n",
              "\n",
              "    .dataframe thead th {\n",
              "        text-align: right;\n",
              "    }\n",
              "</style>\n",
              "<table border=\"1\" class=\"dataframe\">\n",
              "  <thead>\n",
              "    <tr style=\"text-align: right;\">\n",
              "      <th></th>\n",
              "      <th>first</th>\n",
              "      <th>second</th>\n",
              "    </tr>\n",
              "  </thead>\n",
              "  <tbody>\n",
              "    <tr>\n",
              "      <th>0</th>\n",
              "      <td>[2, 3, 4]</td>\n",
              "      <td>[2, 4, 8]</td>\n",
              "    </tr>\n",
              "    <tr>\n",
              "      <th>1</th>\n",
              "      <td>[5, 6, 7]</td>\n",
              "      <td>[1, 3, 9]</td>\n",
              "    </tr>\n",
              "  </tbody>\n",
              "</table>\n",
              "</div>"
            ],
            "text/plain": [
              "       first     second\n",
              "0  [2, 3, 4]  [2, 4, 8]\n",
              "1  [5, 6, 7]  [1, 3, 9]"
            ]
          },
          "metadata": {
            "tags": []
          },
          "execution_count": 10
        }
      ]
    },
    {
      "cell_type": "markdown",
      "metadata": {
        "_cell_guid": "6622566b-e889-4589-88db-9e6ac53bda43",
        "_uuid": "886f7623a8e6ef893a83174796656aa7417c72be",
        "id": "vhlyXWWm-sY7"
      },
      "source": [
        "Creating a DataFrame by passing a dict of objects that can be converted to series-like."
      ]
    },
    {
      "cell_type": "code",
      "metadata": {
        "_cell_guid": "a36d23bb-aa78-4964-984f-1c0fef73c85b",
        "_uuid": "91c969a5e0dede5ed222df08fda0a19e7ecb6ba9",
        "id": "KBXqL5sx-sY8",
        "outputId": "083a016b-0382-4acd-9cb2-041dc510c696",
        "colab": {
          "base_uri": "https://localhost:8080/",
          "height": 173
        }
      },
      "source": [
        "df2 = pd.DataFrame({ 'A' : 1.,\n",
        "   ....:                      'B' : pd.Timestamp('20130102'),\n",
        "   ....:                      'C' : pd.Series(1,index=list(range(4)),dtype='float32'),\n",
        "   ....:                      'D' : np.array([3] * 4,dtype='int32'),     \n",
        "   ....:                      'E' : 'foo' })\n",
        "   ....: \n",
        "df2"
      ],
      "execution_count": null,
      "outputs": [
        {
          "output_type": "execute_result",
          "data": {
            "text/html": [
              "<div>\n",
              "<style scoped>\n",
              "    .dataframe tbody tr th:only-of-type {\n",
              "        vertical-align: middle;\n",
              "    }\n",
              "\n",
              "    .dataframe tbody tr th {\n",
              "        vertical-align: top;\n",
              "    }\n",
              "\n",
              "    .dataframe thead th {\n",
              "        text-align: right;\n",
              "    }\n",
              "</style>\n",
              "<table border=\"1\" class=\"dataframe\">\n",
              "  <thead>\n",
              "    <tr style=\"text-align: right;\">\n",
              "      <th></th>\n",
              "      <th>A</th>\n",
              "      <th>B</th>\n",
              "      <th>C</th>\n",
              "      <th>D</th>\n",
              "      <th>E</th>\n",
              "    </tr>\n",
              "  </thead>\n",
              "  <tbody>\n",
              "    <tr>\n",
              "      <th>0</th>\n",
              "      <td>1.0</td>\n",
              "      <td>2013-01-02</td>\n",
              "      <td>1.0</td>\n",
              "      <td>3</td>\n",
              "      <td>foo</td>\n",
              "    </tr>\n",
              "    <tr>\n",
              "      <th>1</th>\n",
              "      <td>1.0</td>\n",
              "      <td>2013-01-02</td>\n",
              "      <td>1.0</td>\n",
              "      <td>3</td>\n",
              "      <td>foo</td>\n",
              "    </tr>\n",
              "    <tr>\n",
              "      <th>2</th>\n",
              "      <td>1.0</td>\n",
              "      <td>2013-01-02</td>\n",
              "      <td>1.0</td>\n",
              "      <td>3</td>\n",
              "      <td>foo</td>\n",
              "    </tr>\n",
              "    <tr>\n",
              "      <th>3</th>\n",
              "      <td>1.0</td>\n",
              "      <td>2013-01-02</td>\n",
              "      <td>1.0</td>\n",
              "      <td>3</td>\n",
              "      <td>foo</td>\n",
              "    </tr>\n",
              "  </tbody>\n",
              "</table>\n",
              "</div>"
            ],
            "text/plain": [
              "     A          B    C  D    E\n",
              "0  1.0 2013-01-02  1.0  3  foo\n",
              "1  1.0 2013-01-02  1.0  3  foo\n",
              "2  1.0 2013-01-02  1.0  3  foo\n",
              "3  1.0 2013-01-02  1.0  3  foo"
            ]
          },
          "metadata": {
            "tags": []
          },
          "execution_count": 11
        }
      ]
    },
    {
      "cell_type": "markdown",
      "metadata": {
        "_cell_guid": "10d03951-7cbd-4ee0-9302-1a77697a74f2",
        "_uuid": "05e30726935db33f49e624f496fc8c953be46383",
        "id": "4AlE-PYR-sZB"
      },
      "source": [
        "Having specific [dtypes](https://pandas.pydata.org/pandas-docs/stable/basics.html#basics-dtypes):"
      ]
    },
    {
      "cell_type": "code",
      "metadata": {
        "_cell_guid": "e862ec95-5893-4f46-ac7d-4d8a638ffc1f",
        "_uuid": "9e7f0e3693cf1f63718fce13feed81c93ed22d58",
        "id": "dALuqT9K-sZC",
        "outputId": "082233ad-4b76-4d6e-c8d0-872f461195b1",
        "colab": {
          "base_uri": "https://localhost:8080/",
          "height": 119
        }
      },
      "source": [
        "df2.dtypes"
      ],
      "execution_count": null,
      "outputs": [
        {
          "output_type": "execute_result",
          "data": {
            "text/plain": [
              "A           float64\n",
              "B    datetime64[ns]\n",
              "C           float32\n",
              "D             int32\n",
              "E            object\n",
              "dtype: object"
            ]
          },
          "metadata": {
            "tags": []
          },
          "execution_count": 12
        }
      ]
    },
    {
      "cell_type": "markdown",
      "metadata": {
        "_cell_guid": "860dc5f5-ce12-47b0-b0b1-09cc4aba5f73",
        "_uuid": "886b98db6af991c2ec742c18085b0b8a7b88d31f",
        "id": "FudxnosG-sZH"
      },
      "source": [
        "\n",
        "# Viewing Data\n",
        "See the [Basics section](https://pandas.pydata.org/pandas-docs/stable/basics.html#basics)\n",
        "See the top & bottom rows of the frame"
      ]
    },
    {
      "cell_type": "code",
      "metadata": {
        "_cell_guid": "b1b5ca0e-4b43-4ec9-80ee-65b807d234d2",
        "_uuid": "c1d9e77ee2cfdc5b81af10b29565a9166ca01994",
        "collapsed": true,
        "id": "Ft_f4XQ1-sZH",
        "outputId": "3c4fd4a3-4dd8-478e-a6b3-c7e166bca9a3",
        "colab": {
          "base_uri": "https://localhost:8080/",
          "height": 204
        }
      },
      "source": [
        "df.head()"
      ],
      "execution_count": null,
      "outputs": [
        {
          "output_type": "execute_result",
          "data": {
            "text/html": [
              "<div>\n",
              "<style scoped>\n",
              "    .dataframe tbody tr th:only-of-type {\n",
              "        vertical-align: middle;\n",
              "    }\n",
              "\n",
              "    .dataframe tbody tr th {\n",
              "        vertical-align: top;\n",
              "    }\n",
              "\n",
              "    .dataframe thead th {\n",
              "        text-align: right;\n",
              "    }\n",
              "</style>\n",
              "<table border=\"1\" class=\"dataframe\">\n",
              "  <thead>\n",
              "    <tr style=\"text-align: right;\">\n",
              "      <th></th>\n",
              "      <th>one</th>\n",
              "      <th>two</th>\n",
              "      <th>three</th>\n",
              "      <th>four</th>\n",
              "    </tr>\n",
              "  </thead>\n",
              "  <tbody>\n",
              "    <tr>\n",
              "      <th>2014-11-01</th>\n",
              "      <td>0.641256</td>\n",
              "      <td>-0.071686</td>\n",
              "      <td>-1.505191</td>\n",
              "      <td>0.582573</td>\n",
              "    </tr>\n",
              "    <tr>\n",
              "      <th>2014-11-02</th>\n",
              "      <td>-0.249225</td>\n",
              "      <td>-0.226376</td>\n",
              "      <td>0.652858</td>\n",
              "      <td>-0.400260</td>\n",
              "    </tr>\n",
              "    <tr>\n",
              "      <th>2014-11-03</th>\n",
              "      <td>1.657259</td>\n",
              "      <td>0.507164</td>\n",
              "      <td>0.320023</td>\n",
              "      <td>0.916616</td>\n",
              "    </tr>\n",
              "    <tr>\n",
              "      <th>2014-11-04</th>\n",
              "      <td>0.053211</td>\n",
              "      <td>-0.467229</td>\n",
              "      <td>-0.131700</td>\n",
              "      <td>0.022752</td>\n",
              "    </tr>\n",
              "    <tr>\n",
              "      <th>2014-11-05</th>\n",
              "      <td>-0.463195</td>\n",
              "      <td>-1.494090</td>\n",
              "      <td>1.885471</td>\n",
              "      <td>1.137514</td>\n",
              "    </tr>\n",
              "  </tbody>\n",
              "</table>\n",
              "</div>"
            ],
            "text/plain": [
              "                 one       two     three      four\n",
              "2014-11-01  0.641256 -0.071686 -1.505191  0.582573\n",
              "2014-11-02 -0.249225 -0.226376  0.652858 -0.400260\n",
              "2014-11-03  1.657259  0.507164  0.320023  0.916616\n",
              "2014-11-04  0.053211 -0.467229 -0.131700  0.022752\n",
              "2014-11-05 -0.463195 -1.494090  1.885471  1.137514"
            ]
          },
          "metadata": {
            "tags": []
          },
          "execution_count": 13
        }
      ]
    },
    {
      "cell_type": "code",
      "metadata": {
        "_cell_guid": "3428b24c-520e-4d23-b439-9c9e2b8d353d",
        "_uuid": "74c7c24d7adc0382cdc6055a88643ea7cbe2c111",
        "collapsed": true,
        "id": "UfFrGsE_-sZN",
        "outputId": "ffc683a6-2798-45a1-bbc1-cc82d9dbba01",
        "colab": {
          "base_uri": "https://localhost:8080/",
          "height": 142
        }
      },
      "source": [
        "df.tail(3)"
      ],
      "execution_count": null,
      "outputs": [
        {
          "output_type": "execute_result",
          "data": {
            "text/html": [
              "<div>\n",
              "<style scoped>\n",
              "    .dataframe tbody tr th:only-of-type {\n",
              "        vertical-align: middle;\n",
              "    }\n",
              "\n",
              "    .dataframe tbody tr th {\n",
              "        vertical-align: top;\n",
              "    }\n",
              "\n",
              "    .dataframe thead th {\n",
              "        text-align: right;\n",
              "    }\n",
              "</style>\n",
              "<table border=\"1\" class=\"dataframe\">\n",
              "  <thead>\n",
              "    <tr style=\"text-align: right;\">\n",
              "      <th></th>\n",
              "      <th>one</th>\n",
              "      <th>two</th>\n",
              "      <th>three</th>\n",
              "      <th>four</th>\n",
              "    </tr>\n",
              "  </thead>\n",
              "  <tbody>\n",
              "    <tr>\n",
              "      <th>2014-11-04</th>\n",
              "      <td>0.053211</td>\n",
              "      <td>-0.467229</td>\n",
              "      <td>-0.131700</td>\n",
              "      <td>0.022752</td>\n",
              "    </tr>\n",
              "    <tr>\n",
              "      <th>2014-11-05</th>\n",
              "      <td>-0.463195</td>\n",
              "      <td>-1.494090</td>\n",
              "      <td>1.885471</td>\n",
              "      <td>1.137514</td>\n",
              "    </tr>\n",
              "    <tr>\n",
              "      <th>2014-11-06</th>\n",
              "      <td>-1.151330</td>\n",
              "      <td>-0.443656</td>\n",
              "      <td>0.878910</td>\n",
              "      <td>-0.175962</td>\n",
              "    </tr>\n",
              "  </tbody>\n",
              "</table>\n",
              "</div>"
            ],
            "text/plain": [
              "                 one       two     three      four\n",
              "2014-11-04  0.053211 -0.467229 -0.131700  0.022752\n",
              "2014-11-05 -0.463195 -1.494090  1.885471  1.137514\n",
              "2014-11-06 -1.151330 -0.443656  0.878910 -0.175962"
            ]
          },
          "metadata": {
            "tags": []
          },
          "execution_count": 14
        }
      ]
    },
    {
      "cell_type": "markdown",
      "metadata": {
        "_cell_guid": "efec648c-6c39-4b09-a87e-cf3dc723ff0b",
        "_uuid": "5c4372dac3fba6ebf7fc16e222ab135529dfb3fe",
        "id": "aGZP7bhT-sZW"
      },
      "source": [
        "Display the index, columns, and the underlying numpy data"
      ]
    },
    {
      "cell_type": "code",
      "metadata": {
        "_cell_guid": "53a240a3-ecb2-4f38-8862-da1d00aedf7c",
        "_uuid": "056ab69a40592e47b9e07cb2514784eb50d81ade",
        "id": "W8zs5Bx3-sZa",
        "outputId": "5d166c36-3bb1-4267-fc79-4627a0d0708a",
        "colab": {
          "base_uri": "https://localhost:8080/",
          "height": 68
        }
      },
      "source": [
        "df.index"
      ],
      "execution_count": null,
      "outputs": [
        {
          "output_type": "execute_result",
          "data": {
            "text/plain": [
              "DatetimeIndex(['2014-11-01', '2014-11-02', '2014-11-03', '2014-11-04',\n",
              "               '2014-11-05', '2014-11-06'],\n",
              "              dtype='datetime64[ns]', freq='D')"
            ]
          },
          "metadata": {
            "tags": []
          },
          "execution_count": 15
        }
      ]
    },
    {
      "cell_type": "code",
      "metadata": {
        "_cell_guid": "a9cae030-681e-4b3d-993f-0e2cbaaa10a9",
        "_uuid": "b86456edbcc2249100502525c1fd38dd4235d0f3",
        "id": "YLKf1d7j-sZg",
        "outputId": "58843f23-9e98-4ec8-d8b1-d747316f79d6",
        "colab": {
          "base_uri": "https://localhost:8080/",
          "height": 34
        }
      },
      "source": [
        "df.columns"
      ],
      "execution_count": null,
      "outputs": [
        {
          "output_type": "execute_result",
          "data": {
            "text/plain": [
              "Index(['one', 'two', 'three', 'four'], dtype='object')"
            ]
          },
          "metadata": {
            "tags": []
          },
          "execution_count": 16
        }
      ]
    },
    {
      "cell_type": "code",
      "metadata": {
        "_cell_guid": "0d442ada-0d41-4fe4-a843-48592068306d",
        "_uuid": "842fe1b27b0714ee2155a657e3eec4f3719a40b0",
        "id": "vMoeduVH-sZl",
        "outputId": "b71af5da-7905-45f3-db78-3d040d56b8ad",
        "colab": {
          "base_uri": "https://localhost:8080/",
          "height": 119
        }
      },
      "source": [
        "df.values"
      ],
      "execution_count": null,
      "outputs": [
        {
          "output_type": "execute_result",
          "data": {
            "text/plain": [
              "array([[ 0.64125573, -0.07168603, -1.50519135,  0.58257317],\n",
              "       [-0.24922524, -0.22637613,  0.65285798, -0.40025977],\n",
              "       [ 1.65725886,  0.50716432,  0.32002292,  0.91661596],\n",
              "       [ 0.05321147, -0.46722941, -0.13169988,  0.02275235],\n",
              "       [-0.46319453, -1.49409008,  1.88547061,  1.13751449],\n",
              "       [-1.15133049, -0.44365601,  0.87891014, -0.17596156]])"
            ]
          },
          "metadata": {
            "tags": []
          },
          "execution_count": 17
        }
      ]
    },
    {
      "cell_type": "markdown",
      "metadata": {
        "_cell_guid": "ab9e7b9e-f32b-4c0f-9df6-32d4464a4cb2",
        "_uuid": "7ef425f14c048accd98f18f3a5e0974fa9fe8a78",
        "id": "tuTJPIsd-sZr"
      },
      "source": [
        "Describe shows a quick statistic summary of your data"
      ]
    },
    {
      "cell_type": "code",
      "metadata": {
        "_cell_guid": "43393dfd-989c-43a6-834e-550c8d3ccbd4",
        "_uuid": "1f1dbb5dd09ffa4c2ee0c3c289328de4c070ad2b",
        "collapsed": true,
        "id": "yxQcckS7-sZr",
        "outputId": "ea67cde5-9f1c-453a-c6fd-d81c54425df4",
        "colab": {
          "base_uri": "https://localhost:8080/",
          "height": 297
        }
      },
      "source": [
        "df.describe()"
      ],
      "execution_count": null,
      "outputs": [
        {
          "output_type": "execute_result",
          "data": {
            "text/html": [
              "<div>\n",
              "<style scoped>\n",
              "    .dataframe tbody tr th:only-of-type {\n",
              "        vertical-align: middle;\n",
              "    }\n",
              "\n",
              "    .dataframe tbody tr th {\n",
              "        vertical-align: top;\n",
              "    }\n",
              "\n",
              "    .dataframe thead th {\n",
              "        text-align: right;\n",
              "    }\n",
              "</style>\n",
              "<table border=\"1\" class=\"dataframe\">\n",
              "  <thead>\n",
              "    <tr style=\"text-align: right;\">\n",
              "      <th></th>\n",
              "      <th>one</th>\n",
              "      <th>two</th>\n",
              "      <th>three</th>\n",
              "      <th>four</th>\n",
              "    </tr>\n",
              "  </thead>\n",
              "  <tbody>\n",
              "    <tr>\n",
              "      <th>count</th>\n",
              "      <td>6.000000</td>\n",
              "      <td>6.000000</td>\n",
              "      <td>6.000000</td>\n",
              "      <td>6.000000</td>\n",
              "    </tr>\n",
              "    <tr>\n",
              "      <th>mean</th>\n",
              "      <td>0.081329</td>\n",
              "      <td>-0.365979</td>\n",
              "      <td>0.350062</td>\n",
              "      <td>0.347206</td>\n",
              "    </tr>\n",
              "    <tr>\n",
              "      <th>std</th>\n",
              "      <td>0.971914</td>\n",
              "      <td>0.656871</td>\n",
              "      <td>1.131707</td>\n",
              "      <td>0.623200</td>\n",
              "    </tr>\n",
              "    <tr>\n",
              "      <th>min</th>\n",
              "      <td>-1.151330</td>\n",
              "      <td>-1.494090</td>\n",
              "      <td>-1.505191</td>\n",
              "      <td>-0.400260</td>\n",
              "    </tr>\n",
              "    <tr>\n",
              "      <th>25%</th>\n",
              "      <td>-0.409702</td>\n",
              "      <td>-0.461336</td>\n",
              "      <td>-0.018769</td>\n",
              "      <td>-0.126283</td>\n",
              "    </tr>\n",
              "    <tr>\n",
              "      <th>50%</th>\n",
              "      <td>-0.098007</td>\n",
              "      <td>-0.335016</td>\n",
              "      <td>0.486440</td>\n",
              "      <td>0.302663</td>\n",
              "    </tr>\n",
              "    <tr>\n",
              "      <th>75%</th>\n",
              "      <td>0.494245</td>\n",
              "      <td>-0.110359</td>\n",
              "      <td>0.822397</td>\n",
              "      <td>0.833105</td>\n",
              "    </tr>\n",
              "    <tr>\n",
              "      <th>max</th>\n",
              "      <td>1.657259</td>\n",
              "      <td>0.507164</td>\n",
              "      <td>1.885471</td>\n",
              "      <td>1.137514</td>\n",
              "    </tr>\n",
              "  </tbody>\n",
              "</table>\n",
              "</div>"
            ],
            "text/plain": [
              "            one       two     three      four\n",
              "count  6.000000  6.000000  6.000000  6.000000\n",
              "mean   0.081329 -0.365979  0.350062  0.347206\n",
              "std    0.971914  0.656871  1.131707  0.623200\n",
              "min   -1.151330 -1.494090 -1.505191 -0.400260\n",
              "25%   -0.409702 -0.461336 -0.018769 -0.126283\n",
              "50%   -0.098007 -0.335016  0.486440  0.302663\n",
              "75%    0.494245 -0.110359  0.822397  0.833105\n",
              "max    1.657259  0.507164  1.885471  1.137514"
            ]
          },
          "metadata": {
            "tags": []
          },
          "execution_count": 18
        }
      ]
    },
    {
      "cell_type": "markdown",
      "metadata": {
        "_cell_guid": "21ba544f-8736-4382-8462-20f02c353328",
        "_uuid": "e5fb874c26019da50f1b68fbea8bcf0e7940809f",
        "id": "6JEdmpju-sZx"
      },
      "source": [
        "Transposing your data"
      ]
    },
    {
      "cell_type": "code",
      "metadata": {
        "_cell_guid": "13e0e285-eac4-48fc-8a82-23491e8ebaf0",
        "_uuid": "ee5d4078cd8d5a545be55483208e73b9c9e939f4",
        "id": "DVThppvY-sZy",
        "outputId": "538dda78-0a80-4fe5-a7e3-e3944ffcc38e",
        "colab": {
          "base_uri": "https://localhost:8080/",
          "height": 173
        }
      },
      "source": [
        "df.T"
      ],
      "execution_count": null,
      "outputs": [
        {
          "output_type": "execute_result",
          "data": {
            "text/html": [
              "<div>\n",
              "<style scoped>\n",
              "    .dataframe tbody tr th:only-of-type {\n",
              "        vertical-align: middle;\n",
              "    }\n",
              "\n",
              "    .dataframe tbody tr th {\n",
              "        vertical-align: top;\n",
              "    }\n",
              "\n",
              "    .dataframe thead th {\n",
              "        text-align: right;\n",
              "    }\n",
              "</style>\n",
              "<table border=\"1\" class=\"dataframe\">\n",
              "  <thead>\n",
              "    <tr style=\"text-align: right;\">\n",
              "      <th></th>\n",
              "      <th>2014-11-01</th>\n",
              "      <th>2014-11-02</th>\n",
              "      <th>2014-11-03</th>\n",
              "      <th>2014-11-04</th>\n",
              "      <th>2014-11-05</th>\n",
              "      <th>2014-11-06</th>\n",
              "    </tr>\n",
              "  </thead>\n",
              "  <tbody>\n",
              "    <tr>\n",
              "      <th>one</th>\n",
              "      <td>0.641256</td>\n",
              "      <td>-0.249225</td>\n",
              "      <td>1.657259</td>\n",
              "      <td>0.053211</td>\n",
              "      <td>-0.463195</td>\n",
              "      <td>-1.151330</td>\n",
              "    </tr>\n",
              "    <tr>\n",
              "      <th>two</th>\n",
              "      <td>-0.071686</td>\n",
              "      <td>-0.226376</td>\n",
              "      <td>0.507164</td>\n",
              "      <td>-0.467229</td>\n",
              "      <td>-1.494090</td>\n",
              "      <td>-0.443656</td>\n",
              "    </tr>\n",
              "    <tr>\n",
              "      <th>three</th>\n",
              "      <td>-1.505191</td>\n",
              "      <td>0.652858</td>\n",
              "      <td>0.320023</td>\n",
              "      <td>-0.131700</td>\n",
              "      <td>1.885471</td>\n",
              "      <td>0.878910</td>\n",
              "    </tr>\n",
              "    <tr>\n",
              "      <th>four</th>\n",
              "      <td>0.582573</td>\n",
              "      <td>-0.400260</td>\n",
              "      <td>0.916616</td>\n",
              "      <td>0.022752</td>\n",
              "      <td>1.137514</td>\n",
              "      <td>-0.175962</td>\n",
              "    </tr>\n",
              "  </tbody>\n",
              "</table>\n",
              "</div>"
            ],
            "text/plain": [
              "       2014-11-01  2014-11-02  2014-11-03  2014-11-04  2014-11-05  2014-11-06\n",
              "one      0.641256   -0.249225    1.657259    0.053211   -0.463195   -1.151330\n",
              "two     -0.071686   -0.226376    0.507164   -0.467229   -1.494090   -0.443656\n",
              "three   -1.505191    0.652858    0.320023   -0.131700    1.885471    0.878910\n",
              "four     0.582573   -0.400260    0.916616    0.022752    1.137514   -0.175962"
            ]
          },
          "metadata": {
            "tags": []
          },
          "execution_count": 19
        }
      ]
    },
    {
      "cell_type": "markdown",
      "metadata": {
        "_cell_guid": "d92b9eac-9dc6-446e-b87e-d50ef52630a8",
        "_uuid": "b526362d5e5f451a460ca3add042b633538055dc",
        "id": "b-O6NV32-sZ6"
      },
      "source": [
        "Sorting by an axis (In this case, sorting the columns in reverse alphabetical order):"
      ]
    },
    {
      "cell_type": "code",
      "metadata": {
        "_cell_guid": "1dfd42f4-5231-4508-900f-1ddc37cdd250",
        "_uuid": "397ac00b05aa5867ba188f537ae7ac814275352c",
        "id": "zo3-XDSa-saG",
        "outputId": "0223deaa-a0ed-4498-b8f6-8dfaa912792e",
        "colab": {
          "base_uri": "https://localhost:8080/",
          "height": 235
        }
      },
      "source": [
        "df.sort_index(axis=1, ascending=False)"
      ],
      "execution_count": null,
      "outputs": [
        {
          "output_type": "execute_result",
          "data": {
            "text/html": [
              "<div>\n",
              "<style scoped>\n",
              "    .dataframe tbody tr th:only-of-type {\n",
              "        vertical-align: middle;\n",
              "    }\n",
              "\n",
              "    .dataframe tbody tr th {\n",
              "        vertical-align: top;\n",
              "    }\n",
              "\n",
              "    .dataframe thead th {\n",
              "        text-align: right;\n",
              "    }\n",
              "</style>\n",
              "<table border=\"1\" class=\"dataframe\">\n",
              "  <thead>\n",
              "    <tr style=\"text-align: right;\">\n",
              "      <th></th>\n",
              "      <th>two</th>\n",
              "      <th>three</th>\n",
              "      <th>one</th>\n",
              "      <th>four</th>\n",
              "    </tr>\n",
              "  </thead>\n",
              "  <tbody>\n",
              "    <tr>\n",
              "      <th>2014-11-01</th>\n",
              "      <td>-0.071686</td>\n",
              "      <td>-1.505191</td>\n",
              "      <td>0.641256</td>\n",
              "      <td>0.582573</td>\n",
              "    </tr>\n",
              "    <tr>\n",
              "      <th>2014-11-02</th>\n",
              "      <td>-0.226376</td>\n",
              "      <td>0.652858</td>\n",
              "      <td>-0.249225</td>\n",
              "      <td>-0.400260</td>\n",
              "    </tr>\n",
              "    <tr>\n",
              "      <th>2014-11-03</th>\n",
              "      <td>0.507164</td>\n",
              "      <td>0.320023</td>\n",
              "      <td>1.657259</td>\n",
              "      <td>0.916616</td>\n",
              "    </tr>\n",
              "    <tr>\n",
              "      <th>2014-11-04</th>\n",
              "      <td>-0.467229</td>\n",
              "      <td>-0.131700</td>\n",
              "      <td>0.053211</td>\n",
              "      <td>0.022752</td>\n",
              "    </tr>\n",
              "    <tr>\n",
              "      <th>2014-11-05</th>\n",
              "      <td>-1.494090</td>\n",
              "      <td>1.885471</td>\n",
              "      <td>-0.463195</td>\n",
              "      <td>1.137514</td>\n",
              "    </tr>\n",
              "    <tr>\n",
              "      <th>2014-11-06</th>\n",
              "      <td>-0.443656</td>\n",
              "      <td>0.878910</td>\n",
              "      <td>-1.151330</td>\n",
              "      <td>-0.175962</td>\n",
              "    </tr>\n",
              "  </tbody>\n",
              "</table>\n",
              "</div>"
            ],
            "text/plain": [
              "                 two     three       one      four\n",
              "2014-11-01 -0.071686 -1.505191  0.641256  0.582573\n",
              "2014-11-02 -0.226376  0.652858 -0.249225 -0.400260\n",
              "2014-11-03  0.507164  0.320023  1.657259  0.916616\n",
              "2014-11-04 -0.467229 -0.131700  0.053211  0.022752\n",
              "2014-11-05 -1.494090  1.885471 -0.463195  1.137514\n",
              "2014-11-06 -0.443656  0.878910 -1.151330 -0.175962"
            ]
          },
          "metadata": {
            "tags": []
          },
          "execution_count": 20
        }
      ]
    },
    {
      "cell_type": "markdown",
      "metadata": {
        "_cell_guid": "9898c02b-57bd-48d6-884f-3fe8eb53b34a",
        "_uuid": "e3c6b93d9352a0660f989b63e09f03e05c9e1feb",
        "id": "XfcE6C06-saN"
      },
      "source": [
        "Sorting by values"
      ]
    },
    {
      "cell_type": "code",
      "metadata": {
        "_cell_guid": "389c1344-4f60-4628-b6c1-de736d429d3a",
        "_uuid": "df1ac4e8bc643bbcc49f0769c52778ca19761a9e",
        "id": "fwPKV9-o-saO",
        "outputId": "809a91ad-e1b7-4b1d-cddb-f354acf52bf1",
        "colab": {
          "base_uri": "https://localhost:8080/",
          "height": 235
        }
      },
      "source": [
        "df.sort_values(by='two')"
      ],
      "execution_count": null,
      "outputs": [
        {
          "output_type": "execute_result",
          "data": {
            "text/html": [
              "<div>\n",
              "<style scoped>\n",
              "    .dataframe tbody tr th:only-of-type {\n",
              "        vertical-align: middle;\n",
              "    }\n",
              "\n",
              "    .dataframe tbody tr th {\n",
              "        vertical-align: top;\n",
              "    }\n",
              "\n",
              "    .dataframe thead th {\n",
              "        text-align: right;\n",
              "    }\n",
              "</style>\n",
              "<table border=\"1\" class=\"dataframe\">\n",
              "  <thead>\n",
              "    <tr style=\"text-align: right;\">\n",
              "      <th></th>\n",
              "      <th>one</th>\n",
              "      <th>two</th>\n",
              "      <th>three</th>\n",
              "      <th>four</th>\n",
              "    </tr>\n",
              "  </thead>\n",
              "  <tbody>\n",
              "    <tr>\n",
              "      <th>2014-11-05</th>\n",
              "      <td>-0.463195</td>\n",
              "      <td>-1.494090</td>\n",
              "      <td>1.885471</td>\n",
              "      <td>1.137514</td>\n",
              "    </tr>\n",
              "    <tr>\n",
              "      <th>2014-11-04</th>\n",
              "      <td>0.053211</td>\n",
              "      <td>-0.467229</td>\n",
              "      <td>-0.131700</td>\n",
              "      <td>0.022752</td>\n",
              "    </tr>\n",
              "    <tr>\n",
              "      <th>2014-11-06</th>\n",
              "      <td>-1.151330</td>\n",
              "      <td>-0.443656</td>\n",
              "      <td>0.878910</td>\n",
              "      <td>-0.175962</td>\n",
              "    </tr>\n",
              "    <tr>\n",
              "      <th>2014-11-02</th>\n",
              "      <td>-0.249225</td>\n",
              "      <td>-0.226376</td>\n",
              "      <td>0.652858</td>\n",
              "      <td>-0.400260</td>\n",
              "    </tr>\n",
              "    <tr>\n",
              "      <th>2014-11-01</th>\n",
              "      <td>0.641256</td>\n",
              "      <td>-0.071686</td>\n",
              "      <td>-1.505191</td>\n",
              "      <td>0.582573</td>\n",
              "    </tr>\n",
              "    <tr>\n",
              "      <th>2014-11-03</th>\n",
              "      <td>1.657259</td>\n",
              "      <td>0.507164</td>\n",
              "      <td>0.320023</td>\n",
              "      <td>0.916616</td>\n",
              "    </tr>\n",
              "  </tbody>\n",
              "</table>\n",
              "</div>"
            ],
            "text/plain": [
              "                 one       two     three      four\n",
              "2014-11-05 -0.463195 -1.494090  1.885471  1.137514\n",
              "2014-11-04  0.053211 -0.467229 -0.131700  0.022752\n",
              "2014-11-06 -1.151330 -0.443656  0.878910 -0.175962\n",
              "2014-11-02 -0.249225 -0.226376  0.652858 -0.400260\n",
              "2014-11-01  0.641256 -0.071686 -1.505191  0.582573\n",
              "2014-11-03  1.657259  0.507164  0.320023  0.916616"
            ]
          },
          "metadata": {
            "tags": []
          },
          "execution_count": 21
        }
      ]
    },
    {
      "cell_type": "markdown",
      "metadata": {
        "id": "hZSphjR-DFqA"
      },
      "source": [
        "# Reading and Viewing CSV dataframes\n"
      ]
    },
    {
      "cell_type": "code",
      "metadata": {
        "id": "cdc0k4f1DfYI"
      },
      "source": [
        "# from google.colab import drive\n",
        "# drive.mount('/content/drive')"
      ],
      "execution_count": null,
      "outputs": []
    },
    {
      "cell_type": "code",
      "metadata": {
        "id": "UPIVdiebDshQ",
        "outputId": "0af26f8a-69f2-44d1-b428-a755f0680b30",
        "colab": {
          "base_uri": "https://localhost:8080/",
          "height": 660
        }
      },
      "source": [
        "# dfcsv = pd.read_csv('/content/drive/My Drive/melb_data.csv')\n",
        "# dfcsv"
      ],
      "execution_count": null,
      "outputs": [
        {
          "output_type": "execute_result",
          "data": {
            "text/html": [
              "<div>\n",
              "<style scoped>\n",
              "    .dataframe tbody tr th:only-of-type {\n",
              "        vertical-align: middle;\n",
              "    }\n",
              "\n",
              "    .dataframe tbody tr th {\n",
              "        vertical-align: top;\n",
              "    }\n",
              "\n",
              "    .dataframe thead th {\n",
              "        text-align: right;\n",
              "    }\n",
              "</style>\n",
              "<table border=\"1\" class=\"dataframe\">\n",
              "  <thead>\n",
              "    <tr style=\"text-align: right;\">\n",
              "      <th></th>\n",
              "      <th>Suburb</th>\n",
              "      <th>Address</th>\n",
              "      <th>Rooms</th>\n",
              "      <th>Type</th>\n",
              "      <th>Price</th>\n",
              "      <th>Method</th>\n",
              "      <th>SellerG</th>\n",
              "      <th>Date</th>\n",
              "      <th>Distance</th>\n",
              "      <th>Postcode</th>\n",
              "      <th>Bedroom2</th>\n",
              "      <th>Bathroom</th>\n",
              "      <th>Car</th>\n",
              "      <th>Landsize</th>\n",
              "      <th>BuildingArea</th>\n",
              "      <th>YearBuilt</th>\n",
              "      <th>CouncilArea</th>\n",
              "      <th>Lattitude</th>\n",
              "      <th>Longtitude</th>\n",
              "      <th>Regionname</th>\n",
              "      <th>Propertycount</th>\n",
              "    </tr>\n",
              "  </thead>\n",
              "  <tbody>\n",
              "    <tr>\n",
              "      <th>0</th>\n",
              "      <td>Abbotsford</td>\n",
              "      <td>85 Turner St</td>\n",
              "      <td>2</td>\n",
              "      <td>h</td>\n",
              "      <td>1480000.0</td>\n",
              "      <td>S</td>\n",
              "      <td>Biggin</td>\n",
              "      <td>3/12/2016</td>\n",
              "      <td>2.5</td>\n",
              "      <td>3067.0</td>\n",
              "      <td>2.0</td>\n",
              "      <td>1.0</td>\n",
              "      <td>1.0</td>\n",
              "      <td>202.0</td>\n",
              "      <td>NaN</td>\n",
              "      <td>NaN</td>\n",
              "      <td>Yarra</td>\n",
              "      <td>-37.79960</td>\n",
              "      <td>144.99840</td>\n",
              "      <td>Northern Metropolitan</td>\n",
              "      <td>4019.0</td>\n",
              "    </tr>\n",
              "    <tr>\n",
              "      <th>1</th>\n",
              "      <td>Abbotsford</td>\n",
              "      <td>25 Bloomburg St</td>\n",
              "      <td>2</td>\n",
              "      <td>h</td>\n",
              "      <td>1035000.0</td>\n",
              "      <td>S</td>\n",
              "      <td>Biggin</td>\n",
              "      <td>4/02/2016</td>\n",
              "      <td>2.5</td>\n",
              "      <td>3067.0</td>\n",
              "      <td>2.0</td>\n",
              "      <td>1.0</td>\n",
              "      <td>0.0</td>\n",
              "      <td>156.0</td>\n",
              "      <td>79.0</td>\n",
              "      <td>1900.0</td>\n",
              "      <td>Yarra</td>\n",
              "      <td>-37.80790</td>\n",
              "      <td>144.99340</td>\n",
              "      <td>Northern Metropolitan</td>\n",
              "      <td>4019.0</td>\n",
              "    </tr>\n",
              "    <tr>\n",
              "      <th>2</th>\n",
              "      <td>Abbotsford</td>\n",
              "      <td>5 Charles St</td>\n",
              "      <td>3</td>\n",
              "      <td>h</td>\n",
              "      <td>1465000.0</td>\n",
              "      <td>SP</td>\n",
              "      <td>Biggin</td>\n",
              "      <td>4/03/2017</td>\n",
              "      <td>2.5</td>\n",
              "      <td>3067.0</td>\n",
              "      <td>3.0</td>\n",
              "      <td>2.0</td>\n",
              "      <td>0.0</td>\n",
              "      <td>134.0</td>\n",
              "      <td>150.0</td>\n",
              "      <td>1900.0</td>\n",
              "      <td>Yarra</td>\n",
              "      <td>-37.80930</td>\n",
              "      <td>144.99440</td>\n",
              "      <td>Northern Metropolitan</td>\n",
              "      <td>4019.0</td>\n",
              "    </tr>\n",
              "    <tr>\n",
              "      <th>3</th>\n",
              "      <td>Abbotsford</td>\n",
              "      <td>40 Federation La</td>\n",
              "      <td>3</td>\n",
              "      <td>h</td>\n",
              "      <td>850000.0</td>\n",
              "      <td>PI</td>\n",
              "      <td>Biggin</td>\n",
              "      <td>4/03/2017</td>\n",
              "      <td>2.5</td>\n",
              "      <td>3067.0</td>\n",
              "      <td>3.0</td>\n",
              "      <td>2.0</td>\n",
              "      <td>1.0</td>\n",
              "      <td>94.0</td>\n",
              "      <td>NaN</td>\n",
              "      <td>NaN</td>\n",
              "      <td>Yarra</td>\n",
              "      <td>-37.79690</td>\n",
              "      <td>144.99690</td>\n",
              "      <td>Northern Metropolitan</td>\n",
              "      <td>4019.0</td>\n",
              "    </tr>\n",
              "    <tr>\n",
              "      <th>4</th>\n",
              "      <td>Abbotsford</td>\n",
              "      <td>55a Park St</td>\n",
              "      <td>4</td>\n",
              "      <td>h</td>\n",
              "      <td>1600000.0</td>\n",
              "      <td>VB</td>\n",
              "      <td>Nelson</td>\n",
              "      <td>4/06/2016</td>\n",
              "      <td>2.5</td>\n",
              "      <td>3067.0</td>\n",
              "      <td>3.0</td>\n",
              "      <td>1.0</td>\n",
              "      <td>2.0</td>\n",
              "      <td>120.0</td>\n",
              "      <td>142.0</td>\n",
              "      <td>2014.0</td>\n",
              "      <td>Yarra</td>\n",
              "      <td>-37.80720</td>\n",
              "      <td>144.99410</td>\n",
              "      <td>Northern Metropolitan</td>\n",
              "      <td>4019.0</td>\n",
              "    </tr>\n",
              "    <tr>\n",
              "      <th>...</th>\n",
              "      <td>...</td>\n",
              "      <td>...</td>\n",
              "      <td>...</td>\n",
              "      <td>...</td>\n",
              "      <td>...</td>\n",
              "      <td>...</td>\n",
              "      <td>...</td>\n",
              "      <td>...</td>\n",
              "      <td>...</td>\n",
              "      <td>...</td>\n",
              "      <td>...</td>\n",
              "      <td>...</td>\n",
              "      <td>...</td>\n",
              "      <td>...</td>\n",
              "      <td>...</td>\n",
              "      <td>...</td>\n",
              "      <td>...</td>\n",
              "      <td>...</td>\n",
              "      <td>...</td>\n",
              "      <td>...</td>\n",
              "      <td>...</td>\n",
              "    </tr>\n",
              "    <tr>\n",
              "      <th>13575</th>\n",
              "      <td>Wheelers Hill</td>\n",
              "      <td>12 Strada Cr</td>\n",
              "      <td>4</td>\n",
              "      <td>h</td>\n",
              "      <td>1245000.0</td>\n",
              "      <td>S</td>\n",
              "      <td>Barry</td>\n",
              "      <td>26/08/2017</td>\n",
              "      <td>16.7</td>\n",
              "      <td>3150.0</td>\n",
              "      <td>4.0</td>\n",
              "      <td>2.0</td>\n",
              "      <td>2.0</td>\n",
              "      <td>652.0</td>\n",
              "      <td>NaN</td>\n",
              "      <td>1981.0</td>\n",
              "      <td>NaN</td>\n",
              "      <td>-37.90562</td>\n",
              "      <td>145.16761</td>\n",
              "      <td>South-Eastern Metropolitan</td>\n",
              "      <td>7392.0</td>\n",
              "    </tr>\n",
              "    <tr>\n",
              "      <th>13576</th>\n",
              "      <td>Williamstown</td>\n",
              "      <td>77 Merrett Dr</td>\n",
              "      <td>3</td>\n",
              "      <td>h</td>\n",
              "      <td>1031000.0</td>\n",
              "      <td>SP</td>\n",
              "      <td>Williams</td>\n",
              "      <td>26/08/2017</td>\n",
              "      <td>6.8</td>\n",
              "      <td>3016.0</td>\n",
              "      <td>3.0</td>\n",
              "      <td>2.0</td>\n",
              "      <td>2.0</td>\n",
              "      <td>333.0</td>\n",
              "      <td>133.0</td>\n",
              "      <td>1995.0</td>\n",
              "      <td>NaN</td>\n",
              "      <td>-37.85927</td>\n",
              "      <td>144.87904</td>\n",
              "      <td>Western Metropolitan</td>\n",
              "      <td>6380.0</td>\n",
              "    </tr>\n",
              "    <tr>\n",
              "      <th>13577</th>\n",
              "      <td>Williamstown</td>\n",
              "      <td>83 Power St</td>\n",
              "      <td>3</td>\n",
              "      <td>h</td>\n",
              "      <td>1170000.0</td>\n",
              "      <td>S</td>\n",
              "      <td>Raine</td>\n",
              "      <td>26/08/2017</td>\n",
              "      <td>6.8</td>\n",
              "      <td>3016.0</td>\n",
              "      <td>3.0</td>\n",
              "      <td>2.0</td>\n",
              "      <td>4.0</td>\n",
              "      <td>436.0</td>\n",
              "      <td>NaN</td>\n",
              "      <td>1997.0</td>\n",
              "      <td>NaN</td>\n",
              "      <td>-37.85274</td>\n",
              "      <td>144.88738</td>\n",
              "      <td>Western Metropolitan</td>\n",
              "      <td>6380.0</td>\n",
              "    </tr>\n",
              "    <tr>\n",
              "      <th>13578</th>\n",
              "      <td>Williamstown</td>\n",
              "      <td>96 Verdon St</td>\n",
              "      <td>4</td>\n",
              "      <td>h</td>\n",
              "      <td>2500000.0</td>\n",
              "      <td>PI</td>\n",
              "      <td>Sweeney</td>\n",
              "      <td>26/08/2017</td>\n",
              "      <td>6.8</td>\n",
              "      <td>3016.0</td>\n",
              "      <td>4.0</td>\n",
              "      <td>1.0</td>\n",
              "      <td>5.0</td>\n",
              "      <td>866.0</td>\n",
              "      <td>157.0</td>\n",
              "      <td>1920.0</td>\n",
              "      <td>NaN</td>\n",
              "      <td>-37.85908</td>\n",
              "      <td>144.89299</td>\n",
              "      <td>Western Metropolitan</td>\n",
              "      <td>6380.0</td>\n",
              "    </tr>\n",
              "    <tr>\n",
              "      <th>13579</th>\n",
              "      <td>Yarraville</td>\n",
              "      <td>6 Agnes St</td>\n",
              "      <td>4</td>\n",
              "      <td>h</td>\n",
              "      <td>1285000.0</td>\n",
              "      <td>SP</td>\n",
              "      <td>Village</td>\n",
              "      <td>26/08/2017</td>\n",
              "      <td>6.3</td>\n",
              "      <td>3013.0</td>\n",
              "      <td>4.0</td>\n",
              "      <td>1.0</td>\n",
              "      <td>1.0</td>\n",
              "      <td>362.0</td>\n",
              "      <td>112.0</td>\n",
              "      <td>1920.0</td>\n",
              "      <td>NaN</td>\n",
              "      <td>-37.81188</td>\n",
              "      <td>144.88449</td>\n",
              "      <td>Western Metropolitan</td>\n",
              "      <td>6543.0</td>\n",
              "    </tr>\n",
              "  </tbody>\n",
              "</table>\n",
              "<p>13580 rows × 21 columns</p>\n",
              "</div>"
            ],
            "text/plain": [
              "              Suburb  ... Propertycount\n",
              "0         Abbotsford  ...        4019.0\n",
              "1         Abbotsford  ...        4019.0\n",
              "2         Abbotsford  ...        4019.0\n",
              "3         Abbotsford  ...        4019.0\n",
              "4         Abbotsford  ...        4019.0\n",
              "...              ...  ...           ...\n",
              "13575  Wheelers Hill  ...        7392.0\n",
              "13576   Williamstown  ...        6380.0\n",
              "13577   Williamstown  ...        6380.0\n",
              "13578   Williamstown  ...        6380.0\n",
              "13579     Yarraville  ...        6543.0\n",
              "\n",
              "[13580 rows x 21 columns]"
            ]
          },
          "metadata": {
            "tags": []
          },
          "execution_count": 23
        }
      ]
    },
    {
      "cell_type": "code",
      "metadata": {
        "id": "0jrtOL5dETuY",
        "outputId": "4afdd086-8ef9-4470-cd08-7bd03b090ae3",
        "colab": {
          "base_uri": "https://localhost:8080/",
          "height": 600
        }
      },
      "source": [
        "# dfcsv.head(10)"
      ],
      "execution_count": null,
      "outputs": [
        {
          "output_type": "execute_result",
          "data": {
            "text/html": [
              "<div>\n",
              "<style scoped>\n",
              "    .dataframe tbody tr th:only-of-type {\n",
              "        vertical-align: middle;\n",
              "    }\n",
              "\n",
              "    .dataframe tbody tr th {\n",
              "        vertical-align: top;\n",
              "    }\n",
              "\n",
              "    .dataframe thead th {\n",
              "        text-align: right;\n",
              "    }\n",
              "</style>\n",
              "<table border=\"1\" class=\"dataframe\">\n",
              "  <thead>\n",
              "    <tr style=\"text-align: right;\">\n",
              "      <th></th>\n",
              "      <th>Suburb</th>\n",
              "      <th>Address</th>\n",
              "      <th>Rooms</th>\n",
              "      <th>Type</th>\n",
              "      <th>Price</th>\n",
              "      <th>Method</th>\n",
              "      <th>SellerG</th>\n",
              "      <th>Date</th>\n",
              "      <th>Distance</th>\n",
              "      <th>Postcode</th>\n",
              "      <th>Bedroom2</th>\n",
              "      <th>Bathroom</th>\n",
              "      <th>Car</th>\n",
              "      <th>Landsize</th>\n",
              "      <th>BuildingArea</th>\n",
              "      <th>YearBuilt</th>\n",
              "      <th>CouncilArea</th>\n",
              "      <th>Lattitude</th>\n",
              "      <th>Longtitude</th>\n",
              "      <th>Regionname</th>\n",
              "      <th>Propertycount</th>\n",
              "    </tr>\n",
              "  </thead>\n",
              "  <tbody>\n",
              "    <tr>\n",
              "      <th>0</th>\n",
              "      <td>Abbotsford</td>\n",
              "      <td>85 Turner St</td>\n",
              "      <td>2</td>\n",
              "      <td>h</td>\n",
              "      <td>1480000.0</td>\n",
              "      <td>S</td>\n",
              "      <td>Biggin</td>\n",
              "      <td>3/12/2016</td>\n",
              "      <td>2.5</td>\n",
              "      <td>3067.0</td>\n",
              "      <td>2.0</td>\n",
              "      <td>1.0</td>\n",
              "      <td>1.0</td>\n",
              "      <td>202.0</td>\n",
              "      <td>NaN</td>\n",
              "      <td>NaN</td>\n",
              "      <td>Yarra</td>\n",
              "      <td>-37.7996</td>\n",
              "      <td>144.9984</td>\n",
              "      <td>Northern Metropolitan</td>\n",
              "      <td>4019.0</td>\n",
              "    </tr>\n",
              "    <tr>\n",
              "      <th>1</th>\n",
              "      <td>Abbotsford</td>\n",
              "      <td>25 Bloomburg St</td>\n",
              "      <td>2</td>\n",
              "      <td>h</td>\n",
              "      <td>1035000.0</td>\n",
              "      <td>S</td>\n",
              "      <td>Biggin</td>\n",
              "      <td>4/02/2016</td>\n",
              "      <td>2.5</td>\n",
              "      <td>3067.0</td>\n",
              "      <td>2.0</td>\n",
              "      <td>1.0</td>\n",
              "      <td>0.0</td>\n",
              "      <td>156.0</td>\n",
              "      <td>79.0</td>\n",
              "      <td>1900.0</td>\n",
              "      <td>Yarra</td>\n",
              "      <td>-37.8079</td>\n",
              "      <td>144.9934</td>\n",
              "      <td>Northern Metropolitan</td>\n",
              "      <td>4019.0</td>\n",
              "    </tr>\n",
              "    <tr>\n",
              "      <th>2</th>\n",
              "      <td>Abbotsford</td>\n",
              "      <td>5 Charles St</td>\n",
              "      <td>3</td>\n",
              "      <td>h</td>\n",
              "      <td>1465000.0</td>\n",
              "      <td>SP</td>\n",
              "      <td>Biggin</td>\n",
              "      <td>4/03/2017</td>\n",
              "      <td>2.5</td>\n",
              "      <td>3067.0</td>\n",
              "      <td>3.0</td>\n",
              "      <td>2.0</td>\n",
              "      <td>0.0</td>\n",
              "      <td>134.0</td>\n",
              "      <td>150.0</td>\n",
              "      <td>1900.0</td>\n",
              "      <td>Yarra</td>\n",
              "      <td>-37.8093</td>\n",
              "      <td>144.9944</td>\n",
              "      <td>Northern Metropolitan</td>\n",
              "      <td>4019.0</td>\n",
              "    </tr>\n",
              "    <tr>\n",
              "      <th>3</th>\n",
              "      <td>Abbotsford</td>\n",
              "      <td>40 Federation La</td>\n",
              "      <td>3</td>\n",
              "      <td>h</td>\n",
              "      <td>850000.0</td>\n",
              "      <td>PI</td>\n",
              "      <td>Biggin</td>\n",
              "      <td>4/03/2017</td>\n",
              "      <td>2.5</td>\n",
              "      <td>3067.0</td>\n",
              "      <td>3.0</td>\n",
              "      <td>2.0</td>\n",
              "      <td>1.0</td>\n",
              "      <td>94.0</td>\n",
              "      <td>NaN</td>\n",
              "      <td>NaN</td>\n",
              "      <td>Yarra</td>\n",
              "      <td>-37.7969</td>\n",
              "      <td>144.9969</td>\n",
              "      <td>Northern Metropolitan</td>\n",
              "      <td>4019.0</td>\n",
              "    </tr>\n",
              "    <tr>\n",
              "      <th>4</th>\n",
              "      <td>Abbotsford</td>\n",
              "      <td>55a Park St</td>\n",
              "      <td>4</td>\n",
              "      <td>h</td>\n",
              "      <td>1600000.0</td>\n",
              "      <td>VB</td>\n",
              "      <td>Nelson</td>\n",
              "      <td>4/06/2016</td>\n",
              "      <td>2.5</td>\n",
              "      <td>3067.0</td>\n",
              "      <td>3.0</td>\n",
              "      <td>1.0</td>\n",
              "      <td>2.0</td>\n",
              "      <td>120.0</td>\n",
              "      <td>142.0</td>\n",
              "      <td>2014.0</td>\n",
              "      <td>Yarra</td>\n",
              "      <td>-37.8072</td>\n",
              "      <td>144.9941</td>\n",
              "      <td>Northern Metropolitan</td>\n",
              "      <td>4019.0</td>\n",
              "    </tr>\n",
              "    <tr>\n",
              "      <th>5</th>\n",
              "      <td>Abbotsford</td>\n",
              "      <td>129 Charles St</td>\n",
              "      <td>2</td>\n",
              "      <td>h</td>\n",
              "      <td>941000.0</td>\n",
              "      <td>S</td>\n",
              "      <td>Jellis</td>\n",
              "      <td>7/05/2016</td>\n",
              "      <td>2.5</td>\n",
              "      <td>3067.0</td>\n",
              "      <td>2.0</td>\n",
              "      <td>1.0</td>\n",
              "      <td>0.0</td>\n",
              "      <td>181.0</td>\n",
              "      <td>NaN</td>\n",
              "      <td>NaN</td>\n",
              "      <td>Yarra</td>\n",
              "      <td>-37.8041</td>\n",
              "      <td>144.9953</td>\n",
              "      <td>Northern Metropolitan</td>\n",
              "      <td>4019.0</td>\n",
              "    </tr>\n",
              "    <tr>\n",
              "      <th>6</th>\n",
              "      <td>Abbotsford</td>\n",
              "      <td>124 Yarra St</td>\n",
              "      <td>3</td>\n",
              "      <td>h</td>\n",
              "      <td>1876000.0</td>\n",
              "      <td>S</td>\n",
              "      <td>Nelson</td>\n",
              "      <td>7/05/2016</td>\n",
              "      <td>2.5</td>\n",
              "      <td>3067.0</td>\n",
              "      <td>4.0</td>\n",
              "      <td>2.0</td>\n",
              "      <td>0.0</td>\n",
              "      <td>245.0</td>\n",
              "      <td>210.0</td>\n",
              "      <td>1910.0</td>\n",
              "      <td>Yarra</td>\n",
              "      <td>-37.8024</td>\n",
              "      <td>144.9993</td>\n",
              "      <td>Northern Metropolitan</td>\n",
              "      <td>4019.0</td>\n",
              "    </tr>\n",
              "    <tr>\n",
              "      <th>7</th>\n",
              "      <td>Abbotsford</td>\n",
              "      <td>98 Charles St</td>\n",
              "      <td>2</td>\n",
              "      <td>h</td>\n",
              "      <td>1636000.0</td>\n",
              "      <td>S</td>\n",
              "      <td>Nelson</td>\n",
              "      <td>8/10/2016</td>\n",
              "      <td>2.5</td>\n",
              "      <td>3067.0</td>\n",
              "      <td>2.0</td>\n",
              "      <td>1.0</td>\n",
              "      <td>2.0</td>\n",
              "      <td>256.0</td>\n",
              "      <td>107.0</td>\n",
              "      <td>1890.0</td>\n",
              "      <td>Yarra</td>\n",
              "      <td>-37.8060</td>\n",
              "      <td>144.9954</td>\n",
              "      <td>Northern Metropolitan</td>\n",
              "      <td>4019.0</td>\n",
              "    </tr>\n",
              "    <tr>\n",
              "      <th>8</th>\n",
              "      <td>Abbotsford</td>\n",
              "      <td>6/241 Nicholson St</td>\n",
              "      <td>1</td>\n",
              "      <td>u</td>\n",
              "      <td>300000.0</td>\n",
              "      <td>S</td>\n",
              "      <td>Biggin</td>\n",
              "      <td>8/10/2016</td>\n",
              "      <td>2.5</td>\n",
              "      <td>3067.0</td>\n",
              "      <td>1.0</td>\n",
              "      <td>1.0</td>\n",
              "      <td>1.0</td>\n",
              "      <td>0.0</td>\n",
              "      <td>NaN</td>\n",
              "      <td>NaN</td>\n",
              "      <td>Yarra</td>\n",
              "      <td>-37.8008</td>\n",
              "      <td>144.9973</td>\n",
              "      <td>Northern Metropolitan</td>\n",
              "      <td>4019.0</td>\n",
              "    </tr>\n",
              "    <tr>\n",
              "      <th>9</th>\n",
              "      <td>Abbotsford</td>\n",
              "      <td>10 Valiant St</td>\n",
              "      <td>2</td>\n",
              "      <td>h</td>\n",
              "      <td>1097000.0</td>\n",
              "      <td>S</td>\n",
              "      <td>Biggin</td>\n",
              "      <td>8/10/2016</td>\n",
              "      <td>2.5</td>\n",
              "      <td>3067.0</td>\n",
              "      <td>3.0</td>\n",
              "      <td>1.0</td>\n",
              "      <td>2.0</td>\n",
              "      <td>220.0</td>\n",
              "      <td>75.0</td>\n",
              "      <td>1900.0</td>\n",
              "      <td>Yarra</td>\n",
              "      <td>-37.8010</td>\n",
              "      <td>144.9989</td>\n",
              "      <td>Northern Metropolitan</td>\n",
              "      <td>4019.0</td>\n",
              "    </tr>\n",
              "  </tbody>\n",
              "</table>\n",
              "</div>"
            ],
            "text/plain": [
              "       Suburb             Address  ...             Regionname Propertycount\n",
              "0  Abbotsford        85 Turner St  ...  Northern Metropolitan        4019.0\n",
              "1  Abbotsford     25 Bloomburg St  ...  Northern Metropolitan        4019.0\n",
              "2  Abbotsford        5 Charles St  ...  Northern Metropolitan        4019.0\n",
              "3  Abbotsford    40 Federation La  ...  Northern Metropolitan        4019.0\n",
              "4  Abbotsford         55a Park St  ...  Northern Metropolitan        4019.0\n",
              "5  Abbotsford      129 Charles St  ...  Northern Metropolitan        4019.0\n",
              "6  Abbotsford        124 Yarra St  ...  Northern Metropolitan        4019.0\n",
              "7  Abbotsford       98 Charles St  ...  Northern Metropolitan        4019.0\n",
              "8  Abbotsford  6/241 Nicholson St  ...  Northern Metropolitan        4019.0\n",
              "9  Abbotsford       10 Valiant St  ...  Northern Metropolitan        4019.0\n",
              "\n",
              "[10 rows x 21 columns]"
            ]
          },
          "metadata": {
            "tags": []
          },
          "execution_count": 24
        }
      ]
    },
    {
      "cell_type": "code",
      "metadata": {
        "id": "zjlmSadUEX36",
        "outputId": "07b71ce6-a417-4fa7-dc25-2991550dd79f",
        "colab": {
          "base_uri": "https://localhost:8080/",
          "height": 634
        }
      },
      "source": [
        "# dfcsv.tail(10)"
      ],
      "execution_count": null,
      "outputs": [
        {
          "output_type": "execute_result",
          "data": {
            "text/html": [
              "<div>\n",
              "<style scoped>\n",
              "    .dataframe tbody tr th:only-of-type {\n",
              "        vertical-align: middle;\n",
              "    }\n",
              "\n",
              "    .dataframe tbody tr th {\n",
              "        vertical-align: top;\n",
              "    }\n",
              "\n",
              "    .dataframe thead th {\n",
              "        text-align: right;\n",
              "    }\n",
              "</style>\n",
              "<table border=\"1\" class=\"dataframe\">\n",
              "  <thead>\n",
              "    <tr style=\"text-align: right;\">\n",
              "      <th></th>\n",
              "      <th>Suburb</th>\n",
              "      <th>Address</th>\n",
              "      <th>Rooms</th>\n",
              "      <th>Type</th>\n",
              "      <th>Price</th>\n",
              "      <th>Method</th>\n",
              "      <th>SellerG</th>\n",
              "      <th>Date</th>\n",
              "      <th>Distance</th>\n",
              "      <th>Postcode</th>\n",
              "      <th>Bedroom2</th>\n",
              "      <th>Bathroom</th>\n",
              "      <th>Car</th>\n",
              "      <th>Landsize</th>\n",
              "      <th>BuildingArea</th>\n",
              "      <th>YearBuilt</th>\n",
              "      <th>CouncilArea</th>\n",
              "      <th>Lattitude</th>\n",
              "      <th>Longtitude</th>\n",
              "      <th>Regionname</th>\n",
              "      <th>Propertycount</th>\n",
              "    </tr>\n",
              "  </thead>\n",
              "  <tbody>\n",
              "    <tr>\n",
              "      <th>13570</th>\n",
              "      <td>Wantirna South</td>\n",
              "      <td>34 Fewster Dr</td>\n",
              "      <td>3</td>\n",
              "      <td>h</td>\n",
              "      <td>970000.0</td>\n",
              "      <td>S</td>\n",
              "      <td>Barry</td>\n",
              "      <td>26/08/2017</td>\n",
              "      <td>14.7</td>\n",
              "      <td>3152.0</td>\n",
              "      <td>3.0</td>\n",
              "      <td>2.0</td>\n",
              "      <td>2.0</td>\n",
              "      <td>674.0</td>\n",
              "      <td>NaN</td>\n",
              "      <td>NaN</td>\n",
              "      <td>NaN</td>\n",
              "      <td>-37.88360</td>\n",
              "      <td>145.22805</td>\n",
              "      <td>Eastern Metropolitan</td>\n",
              "      <td>7082.0</td>\n",
              "    </tr>\n",
              "    <tr>\n",
              "      <th>13571</th>\n",
              "      <td>Wantirna South</td>\n",
              "      <td>15 Mara Cl</td>\n",
              "      <td>4</td>\n",
              "      <td>h</td>\n",
              "      <td>1330000.0</td>\n",
              "      <td>S</td>\n",
              "      <td>Barry</td>\n",
              "      <td>26/08/2017</td>\n",
              "      <td>14.7</td>\n",
              "      <td>3152.0</td>\n",
              "      <td>4.0</td>\n",
              "      <td>2.0</td>\n",
              "      <td>2.0</td>\n",
              "      <td>717.0</td>\n",
              "      <td>191.0</td>\n",
              "      <td>1980.0</td>\n",
              "      <td>NaN</td>\n",
              "      <td>-37.86887</td>\n",
              "      <td>145.22116</td>\n",
              "      <td>Eastern Metropolitan</td>\n",
              "      <td>7082.0</td>\n",
              "    </tr>\n",
              "    <tr>\n",
              "      <th>13572</th>\n",
              "      <td>Watsonia</td>\n",
              "      <td>76 Kenmare St</td>\n",
              "      <td>2</td>\n",
              "      <td>h</td>\n",
              "      <td>650000.0</td>\n",
              "      <td>PI</td>\n",
              "      <td>Morrison</td>\n",
              "      <td>26/08/2017</td>\n",
              "      <td>14.5</td>\n",
              "      <td>3087.0</td>\n",
              "      <td>2.0</td>\n",
              "      <td>1.0</td>\n",
              "      <td>1.0</td>\n",
              "      <td>210.0</td>\n",
              "      <td>79.0</td>\n",
              "      <td>2006.0</td>\n",
              "      <td>NaN</td>\n",
              "      <td>-37.70657</td>\n",
              "      <td>145.07878</td>\n",
              "      <td>Northern Metropolitan</td>\n",
              "      <td>2329.0</td>\n",
              "    </tr>\n",
              "    <tr>\n",
              "      <th>13573</th>\n",
              "      <td>Werribee</td>\n",
              "      <td>5 Nuragi Ct</td>\n",
              "      <td>4</td>\n",
              "      <td>h</td>\n",
              "      <td>635000.0</td>\n",
              "      <td>S</td>\n",
              "      <td>hockingstuart</td>\n",
              "      <td>26/08/2017</td>\n",
              "      <td>14.7</td>\n",
              "      <td>3030.0</td>\n",
              "      <td>4.0</td>\n",
              "      <td>2.0</td>\n",
              "      <td>1.0</td>\n",
              "      <td>662.0</td>\n",
              "      <td>172.0</td>\n",
              "      <td>1980.0</td>\n",
              "      <td>NaN</td>\n",
              "      <td>-37.89327</td>\n",
              "      <td>144.64789</td>\n",
              "      <td>Western Metropolitan</td>\n",
              "      <td>16166.0</td>\n",
              "    </tr>\n",
              "    <tr>\n",
              "      <th>13574</th>\n",
              "      <td>Westmeadows</td>\n",
              "      <td>9 Black St</td>\n",
              "      <td>3</td>\n",
              "      <td>h</td>\n",
              "      <td>582000.0</td>\n",
              "      <td>S</td>\n",
              "      <td>Red</td>\n",
              "      <td>26/08/2017</td>\n",
              "      <td>16.5</td>\n",
              "      <td>3049.0</td>\n",
              "      <td>3.0</td>\n",
              "      <td>2.0</td>\n",
              "      <td>2.0</td>\n",
              "      <td>256.0</td>\n",
              "      <td>NaN</td>\n",
              "      <td>NaN</td>\n",
              "      <td>NaN</td>\n",
              "      <td>-37.67917</td>\n",
              "      <td>144.89390</td>\n",
              "      <td>Northern Metropolitan</td>\n",
              "      <td>2474.0</td>\n",
              "    </tr>\n",
              "    <tr>\n",
              "      <th>13575</th>\n",
              "      <td>Wheelers Hill</td>\n",
              "      <td>12 Strada Cr</td>\n",
              "      <td>4</td>\n",
              "      <td>h</td>\n",
              "      <td>1245000.0</td>\n",
              "      <td>S</td>\n",
              "      <td>Barry</td>\n",
              "      <td>26/08/2017</td>\n",
              "      <td>16.7</td>\n",
              "      <td>3150.0</td>\n",
              "      <td>4.0</td>\n",
              "      <td>2.0</td>\n",
              "      <td>2.0</td>\n",
              "      <td>652.0</td>\n",
              "      <td>NaN</td>\n",
              "      <td>1981.0</td>\n",
              "      <td>NaN</td>\n",
              "      <td>-37.90562</td>\n",
              "      <td>145.16761</td>\n",
              "      <td>South-Eastern Metropolitan</td>\n",
              "      <td>7392.0</td>\n",
              "    </tr>\n",
              "    <tr>\n",
              "      <th>13576</th>\n",
              "      <td>Williamstown</td>\n",
              "      <td>77 Merrett Dr</td>\n",
              "      <td>3</td>\n",
              "      <td>h</td>\n",
              "      <td>1031000.0</td>\n",
              "      <td>SP</td>\n",
              "      <td>Williams</td>\n",
              "      <td>26/08/2017</td>\n",
              "      <td>6.8</td>\n",
              "      <td>3016.0</td>\n",
              "      <td>3.0</td>\n",
              "      <td>2.0</td>\n",
              "      <td>2.0</td>\n",
              "      <td>333.0</td>\n",
              "      <td>133.0</td>\n",
              "      <td>1995.0</td>\n",
              "      <td>NaN</td>\n",
              "      <td>-37.85927</td>\n",
              "      <td>144.87904</td>\n",
              "      <td>Western Metropolitan</td>\n",
              "      <td>6380.0</td>\n",
              "    </tr>\n",
              "    <tr>\n",
              "      <th>13577</th>\n",
              "      <td>Williamstown</td>\n",
              "      <td>83 Power St</td>\n",
              "      <td>3</td>\n",
              "      <td>h</td>\n",
              "      <td>1170000.0</td>\n",
              "      <td>S</td>\n",
              "      <td>Raine</td>\n",
              "      <td>26/08/2017</td>\n",
              "      <td>6.8</td>\n",
              "      <td>3016.0</td>\n",
              "      <td>3.0</td>\n",
              "      <td>2.0</td>\n",
              "      <td>4.0</td>\n",
              "      <td>436.0</td>\n",
              "      <td>NaN</td>\n",
              "      <td>1997.0</td>\n",
              "      <td>NaN</td>\n",
              "      <td>-37.85274</td>\n",
              "      <td>144.88738</td>\n",
              "      <td>Western Metropolitan</td>\n",
              "      <td>6380.0</td>\n",
              "    </tr>\n",
              "    <tr>\n",
              "      <th>13578</th>\n",
              "      <td>Williamstown</td>\n",
              "      <td>96 Verdon St</td>\n",
              "      <td>4</td>\n",
              "      <td>h</td>\n",
              "      <td>2500000.0</td>\n",
              "      <td>PI</td>\n",
              "      <td>Sweeney</td>\n",
              "      <td>26/08/2017</td>\n",
              "      <td>6.8</td>\n",
              "      <td>3016.0</td>\n",
              "      <td>4.0</td>\n",
              "      <td>1.0</td>\n",
              "      <td>5.0</td>\n",
              "      <td>866.0</td>\n",
              "      <td>157.0</td>\n",
              "      <td>1920.0</td>\n",
              "      <td>NaN</td>\n",
              "      <td>-37.85908</td>\n",
              "      <td>144.89299</td>\n",
              "      <td>Western Metropolitan</td>\n",
              "      <td>6380.0</td>\n",
              "    </tr>\n",
              "    <tr>\n",
              "      <th>13579</th>\n",
              "      <td>Yarraville</td>\n",
              "      <td>6 Agnes St</td>\n",
              "      <td>4</td>\n",
              "      <td>h</td>\n",
              "      <td>1285000.0</td>\n",
              "      <td>SP</td>\n",
              "      <td>Village</td>\n",
              "      <td>26/08/2017</td>\n",
              "      <td>6.3</td>\n",
              "      <td>3013.0</td>\n",
              "      <td>4.0</td>\n",
              "      <td>1.0</td>\n",
              "      <td>1.0</td>\n",
              "      <td>362.0</td>\n",
              "      <td>112.0</td>\n",
              "      <td>1920.0</td>\n",
              "      <td>NaN</td>\n",
              "      <td>-37.81188</td>\n",
              "      <td>144.88449</td>\n",
              "      <td>Western Metropolitan</td>\n",
              "      <td>6543.0</td>\n",
              "    </tr>\n",
              "  </tbody>\n",
              "</table>\n",
              "</div>"
            ],
            "text/plain": [
              "               Suburb        Address  ...                  Regionname Propertycount\n",
              "13570  Wantirna South  34 Fewster Dr  ...        Eastern Metropolitan        7082.0\n",
              "13571  Wantirna South     15 Mara Cl  ...        Eastern Metropolitan        7082.0\n",
              "13572        Watsonia  76 Kenmare St  ...       Northern Metropolitan        2329.0\n",
              "13573        Werribee    5 Nuragi Ct  ...        Western Metropolitan       16166.0\n",
              "13574     Westmeadows     9 Black St  ...       Northern Metropolitan        2474.0\n",
              "13575   Wheelers Hill   12 Strada Cr  ...  South-Eastern Metropolitan        7392.0\n",
              "13576    Williamstown  77 Merrett Dr  ...        Western Metropolitan        6380.0\n",
              "13577    Williamstown    83 Power St  ...        Western Metropolitan        6380.0\n",
              "13578    Williamstown   96 Verdon St  ...        Western Metropolitan        6380.0\n",
              "13579      Yarraville     6 Agnes St  ...        Western Metropolitan        6543.0\n",
              "\n",
              "[10 rows x 21 columns]"
            ]
          },
          "metadata": {
            "tags": []
          },
          "execution_count": 25
        }
      ]
    },
    {
      "cell_type": "code",
      "metadata": {
        "id": "4peL83fIEhHs",
        "outputId": "df56bf67-178f-4d4e-d3c5-ad046dafef76",
        "colab": {
          "base_uri": "https://localhost:8080/",
          "height": 317
        }
      },
      "source": [
        "# dfcsv.describe()"
      ],
      "execution_count": null,
      "outputs": [
        {
          "output_type": "execute_result",
          "data": {
            "text/html": [
              "<div>\n",
              "<style scoped>\n",
              "    .dataframe tbody tr th:only-of-type {\n",
              "        vertical-align: middle;\n",
              "    }\n",
              "\n",
              "    .dataframe tbody tr th {\n",
              "        vertical-align: top;\n",
              "    }\n",
              "\n",
              "    .dataframe thead th {\n",
              "        text-align: right;\n",
              "    }\n",
              "</style>\n",
              "<table border=\"1\" class=\"dataframe\">\n",
              "  <thead>\n",
              "    <tr style=\"text-align: right;\">\n",
              "      <th></th>\n",
              "      <th>Rooms</th>\n",
              "      <th>Price</th>\n",
              "      <th>Distance</th>\n",
              "      <th>Postcode</th>\n",
              "      <th>Bedroom2</th>\n",
              "      <th>Bathroom</th>\n",
              "      <th>Car</th>\n",
              "      <th>Landsize</th>\n",
              "      <th>BuildingArea</th>\n",
              "      <th>YearBuilt</th>\n",
              "      <th>Lattitude</th>\n",
              "      <th>Longtitude</th>\n",
              "      <th>Propertycount</th>\n",
              "    </tr>\n",
              "  </thead>\n",
              "  <tbody>\n",
              "    <tr>\n",
              "      <th>count</th>\n",
              "      <td>13580.000000</td>\n",
              "      <td>1.358000e+04</td>\n",
              "      <td>13580.000000</td>\n",
              "      <td>13580.000000</td>\n",
              "      <td>13580.000000</td>\n",
              "      <td>13580.000000</td>\n",
              "      <td>13518.000000</td>\n",
              "      <td>13580.000000</td>\n",
              "      <td>7130.000000</td>\n",
              "      <td>8205.000000</td>\n",
              "      <td>13580.000000</td>\n",
              "      <td>13580.000000</td>\n",
              "      <td>13580.000000</td>\n",
              "    </tr>\n",
              "    <tr>\n",
              "      <th>mean</th>\n",
              "      <td>2.937997</td>\n",
              "      <td>1.075684e+06</td>\n",
              "      <td>10.137776</td>\n",
              "      <td>3105.301915</td>\n",
              "      <td>2.914728</td>\n",
              "      <td>1.534242</td>\n",
              "      <td>1.610075</td>\n",
              "      <td>558.416127</td>\n",
              "      <td>151.967650</td>\n",
              "      <td>1964.684217</td>\n",
              "      <td>-37.809203</td>\n",
              "      <td>144.995216</td>\n",
              "      <td>7454.417378</td>\n",
              "    </tr>\n",
              "    <tr>\n",
              "      <th>std</th>\n",
              "      <td>0.955748</td>\n",
              "      <td>6.393107e+05</td>\n",
              "      <td>5.868725</td>\n",
              "      <td>90.676964</td>\n",
              "      <td>0.965921</td>\n",
              "      <td>0.691712</td>\n",
              "      <td>0.962634</td>\n",
              "      <td>3990.669241</td>\n",
              "      <td>541.014538</td>\n",
              "      <td>37.273762</td>\n",
              "      <td>0.079260</td>\n",
              "      <td>0.103916</td>\n",
              "      <td>4378.581772</td>\n",
              "    </tr>\n",
              "    <tr>\n",
              "      <th>min</th>\n",
              "      <td>1.000000</td>\n",
              "      <td>8.500000e+04</td>\n",
              "      <td>0.000000</td>\n",
              "      <td>3000.000000</td>\n",
              "      <td>0.000000</td>\n",
              "      <td>0.000000</td>\n",
              "      <td>0.000000</td>\n",
              "      <td>0.000000</td>\n",
              "      <td>0.000000</td>\n",
              "      <td>1196.000000</td>\n",
              "      <td>-38.182550</td>\n",
              "      <td>144.431810</td>\n",
              "      <td>249.000000</td>\n",
              "    </tr>\n",
              "    <tr>\n",
              "      <th>25%</th>\n",
              "      <td>2.000000</td>\n",
              "      <td>6.500000e+05</td>\n",
              "      <td>6.100000</td>\n",
              "      <td>3044.000000</td>\n",
              "      <td>2.000000</td>\n",
              "      <td>1.000000</td>\n",
              "      <td>1.000000</td>\n",
              "      <td>177.000000</td>\n",
              "      <td>93.000000</td>\n",
              "      <td>1940.000000</td>\n",
              "      <td>-37.856822</td>\n",
              "      <td>144.929600</td>\n",
              "      <td>4380.000000</td>\n",
              "    </tr>\n",
              "    <tr>\n",
              "      <th>50%</th>\n",
              "      <td>3.000000</td>\n",
              "      <td>9.030000e+05</td>\n",
              "      <td>9.200000</td>\n",
              "      <td>3084.000000</td>\n",
              "      <td>3.000000</td>\n",
              "      <td>1.000000</td>\n",
              "      <td>2.000000</td>\n",
              "      <td>440.000000</td>\n",
              "      <td>126.000000</td>\n",
              "      <td>1970.000000</td>\n",
              "      <td>-37.802355</td>\n",
              "      <td>145.000100</td>\n",
              "      <td>6555.000000</td>\n",
              "    </tr>\n",
              "    <tr>\n",
              "      <th>75%</th>\n",
              "      <td>3.000000</td>\n",
              "      <td>1.330000e+06</td>\n",
              "      <td>13.000000</td>\n",
              "      <td>3148.000000</td>\n",
              "      <td>3.000000</td>\n",
              "      <td>2.000000</td>\n",
              "      <td>2.000000</td>\n",
              "      <td>651.000000</td>\n",
              "      <td>174.000000</td>\n",
              "      <td>1999.000000</td>\n",
              "      <td>-37.756400</td>\n",
              "      <td>145.058305</td>\n",
              "      <td>10331.000000</td>\n",
              "    </tr>\n",
              "    <tr>\n",
              "      <th>max</th>\n",
              "      <td>10.000000</td>\n",
              "      <td>9.000000e+06</td>\n",
              "      <td>48.100000</td>\n",
              "      <td>3977.000000</td>\n",
              "      <td>20.000000</td>\n",
              "      <td>8.000000</td>\n",
              "      <td>10.000000</td>\n",
              "      <td>433014.000000</td>\n",
              "      <td>44515.000000</td>\n",
              "      <td>2018.000000</td>\n",
              "      <td>-37.408530</td>\n",
              "      <td>145.526350</td>\n",
              "      <td>21650.000000</td>\n",
              "    </tr>\n",
              "  </tbody>\n",
              "</table>\n",
              "</div>"
            ],
            "text/plain": [
              "              Rooms         Price  ...    Longtitude  Propertycount\n",
              "count  13580.000000  1.358000e+04  ...  13580.000000   13580.000000\n",
              "mean       2.937997  1.075684e+06  ...    144.995216    7454.417378\n",
              "std        0.955748  6.393107e+05  ...      0.103916    4378.581772\n",
              "min        1.000000  8.500000e+04  ...    144.431810     249.000000\n",
              "25%        2.000000  6.500000e+05  ...    144.929600    4380.000000\n",
              "50%        3.000000  9.030000e+05  ...    145.000100    6555.000000\n",
              "75%        3.000000  1.330000e+06  ...    145.058305   10331.000000\n",
              "max       10.000000  9.000000e+06  ...    145.526350   21650.000000\n",
              "\n",
              "[8 rows x 13 columns]"
            ]
          },
          "metadata": {
            "tags": []
          },
          "execution_count": 26
        }
      ]
    },
    {
      "cell_type": "markdown",
      "metadata": {
        "_cell_guid": "6e80dc85-7f33-4803-928c-8f327da5c15a",
        "_uuid": "5202ddc8b46f9ce7333977c7dc4c919304fbfd4b",
        "id": "889iN3od-saQ"
      },
      "source": [
        "# Selection"
      ]
    },
    {
      "cell_type": "markdown",
      "metadata": {
        "_cell_guid": "cbf1a871-cf24-46ae-8384-72d99f6b3c9a",
        "_uuid": "dd007c4689288bd481c99133d13cb05e204ca1a8",
        "id": "s0g7F2QT-saR"
      },
      "source": [
        "Note While standard Python / Numpy expressions for selecting and setting are intuitive and come in handy for interactive work, for production code, we recommend the optimized pandas data access methods, .at, .iat, .loc, .iloc and .ix.\n",
        "See the indexing documentation [Indexing and Selecting Data](https://pandas.pydata.org/pandas-docs/stable/indexing.html#indexing) and [MultiIndex / Advanced Indexing](https://pandas.pydata.org/pandas-docs/stable/advanced.html#advanced)"
      ]
    },
    {
      "cell_type": "markdown",
      "metadata": {
        "_cell_guid": "002668d8-3da6-4f78-bb84-0c1d3d42c81c",
        "_uuid": "446149fabdb526d11b6d42aa58a7219043a63210",
        "id": "6-N6e8PW-saR"
      },
      "source": [
        "## Getting"
      ]
    },
    {
      "cell_type": "markdown",
      "metadata": {
        "_cell_guid": "04f82f76-6390-4f0e-9a64-67619cc85e42",
        "_uuid": "8f34cc17657fc7f8b77f35c5beefdca76343994e",
        "id": "sYPbOlYC-saS"
      },
      "source": [
        "Selecting a single column, which yields a Series, equivalent to df.one"
      ]
    },
    {
      "cell_type": "code",
      "metadata": {
        "_cell_guid": "4be8e75e-64f3-453e-b3e5-b788b1c967a5",
        "_uuid": "9bd8927534a077d8d9c3d74747ea6ab3f5070d68",
        "collapsed": true,
        "id": "Pg2HbPxk-saS",
        "outputId": "c586ac3c-7786-4560-9e85-4dd4f9663f6b",
        "colab": {
          "base_uri": "https://localhost:8080/",
          "height": 136
        }
      },
      "source": [
        "df['one']"
      ],
      "execution_count": null,
      "outputs": [
        {
          "output_type": "execute_result",
          "data": {
            "text/plain": [
              "2014-11-01   -0.087950\n",
              "2014-11-02   -0.354448\n",
              "2014-11-03    2.546953\n",
              "2014-11-04   -1.351978\n",
              "2014-11-05   -1.248611\n",
              "2014-11-06    1.535226\n",
              "Freq: D, Name: one, dtype: float64"
            ]
          },
          "metadata": {
            "tags": []
          },
          "execution_count": 33
        }
      ]
    },
    {
      "cell_type": "code",
      "metadata": {
        "_cell_guid": "c0092d95-8fd7-4059-8938-580a05c70f6b",
        "_uuid": "9678ff7f4faaffc358ad10bb176d96c7d45ac236",
        "id": "NQxOjLE_-saV",
        "outputId": "53b0ad79-d192-4caf-aee6-65ffb31917b6",
        "colab": {
          "base_uri": "https://localhost:8080/",
          "height": 136
        }
      },
      "source": [
        "df.one"
      ],
      "execution_count": null,
      "outputs": [
        {
          "output_type": "execute_result",
          "data": {
            "text/plain": [
              "2014-11-01   -0.087950\n",
              "2014-11-02   -0.354448\n",
              "2014-11-03    2.546953\n",
              "2014-11-04   -1.351978\n",
              "2014-11-05   -1.248611\n",
              "2014-11-06    1.535226\n",
              "Freq: D, Name: one, dtype: float64"
            ]
          },
          "metadata": {
            "tags": []
          },
          "execution_count": 34
        }
      ]
    },
    {
      "cell_type": "markdown",
      "metadata": {
        "_cell_guid": "a9160b5a-2a8d-42f7-a1a0-cf59481bbbe5",
        "_uuid": "724ce079707e2d58e3e6ec122a128fb280f85010",
        "id": "fx1EajLQ-saY"
      },
      "source": [
        "Selecting via [], which slices the rows."
      ]
    },
    {
      "cell_type": "code",
      "metadata": {
        "_cell_guid": "f5909120-c5ee-498a-8ed1-b4316b51226e",
        "_uuid": "dbcd1c56866336f25d10ebfb1dbd457b1c5c415e",
        "collapsed": true,
        "id": "b4SImuvr-saZ",
        "outputId": "d0bd6bc8-3f77-45aa-ae0b-3cc0c99116a8",
        "colab": {
          "base_uri": "https://localhost:8080/",
          "height": 142
        }
      },
      "source": [
        "df[0:3]"
      ],
      "execution_count": null,
      "outputs": [
        {
          "output_type": "execute_result",
          "data": {
            "text/html": [
              "<div>\n",
              "<style scoped>\n",
              "    .dataframe tbody tr th:only-of-type {\n",
              "        vertical-align: middle;\n",
              "    }\n",
              "\n",
              "    .dataframe tbody tr th {\n",
              "        vertical-align: top;\n",
              "    }\n",
              "\n",
              "    .dataframe thead th {\n",
              "        text-align: right;\n",
              "    }\n",
              "</style>\n",
              "<table border=\"1\" class=\"dataframe\">\n",
              "  <thead>\n",
              "    <tr style=\"text-align: right;\">\n",
              "      <th></th>\n",
              "      <th>one</th>\n",
              "      <th>two</th>\n",
              "      <th>three</th>\n",
              "      <th>four</th>\n",
              "    </tr>\n",
              "  </thead>\n",
              "  <tbody>\n",
              "    <tr>\n",
              "      <th>2014-11-01</th>\n",
              "      <td>-0.087950</td>\n",
              "      <td>-1.624057</td>\n",
              "      <td>-0.949013</td>\n",
              "      <td>0.893152</td>\n",
              "    </tr>\n",
              "    <tr>\n",
              "      <th>2014-11-02</th>\n",
              "      <td>-0.354448</td>\n",
              "      <td>-0.612598</td>\n",
              "      <td>-0.057550</td>\n",
              "      <td>-0.585016</td>\n",
              "    </tr>\n",
              "    <tr>\n",
              "      <th>2014-11-03</th>\n",
              "      <td>2.546953</td>\n",
              "      <td>-1.868281</td>\n",
              "      <td>-1.245563</td>\n",
              "      <td>0.032292</td>\n",
              "    </tr>\n",
              "  </tbody>\n",
              "</table>\n",
              "</div>"
            ],
            "text/plain": [
              "                 one       two     three      four\n",
              "2014-11-01 -0.087950 -1.624057 -0.949013  0.893152\n",
              "2014-11-02 -0.354448 -0.612598 -0.057550 -0.585016\n",
              "2014-11-03  2.546953 -1.868281 -1.245563  0.032292"
            ]
          },
          "metadata": {
            "tags": []
          },
          "execution_count": 35
        }
      ]
    },
    {
      "cell_type": "code",
      "metadata": {
        "_cell_guid": "0b5c50db-08a3-487e-8f9b-3fac98f0c336",
        "_uuid": "1bc96862bd0c4fde57487e71bce38dc272763a36",
        "id": "7TXnp3Yy-sad",
        "outputId": "0ec29607-ca85-4fb9-bbd1-bdeb40b19653",
        "colab": {
          "base_uri": "https://localhost:8080/",
          "height": 142
        }
      },
      "source": [
        "df['20141102':'20141104']"
      ],
      "execution_count": null,
      "outputs": [
        {
          "output_type": "execute_result",
          "data": {
            "text/html": [
              "<div>\n",
              "<style scoped>\n",
              "    .dataframe tbody tr th:only-of-type {\n",
              "        vertical-align: middle;\n",
              "    }\n",
              "\n",
              "    .dataframe tbody tr th {\n",
              "        vertical-align: top;\n",
              "    }\n",
              "\n",
              "    .dataframe thead th {\n",
              "        text-align: right;\n",
              "    }\n",
              "</style>\n",
              "<table border=\"1\" class=\"dataframe\">\n",
              "  <thead>\n",
              "    <tr style=\"text-align: right;\">\n",
              "      <th></th>\n",
              "      <th>one</th>\n",
              "      <th>two</th>\n",
              "      <th>three</th>\n",
              "      <th>four</th>\n",
              "    </tr>\n",
              "  </thead>\n",
              "  <tbody>\n",
              "    <tr>\n",
              "      <th>2014-11-02</th>\n",
              "      <td>-0.354448</td>\n",
              "      <td>-0.612598</td>\n",
              "      <td>-0.057550</td>\n",
              "      <td>-0.585016</td>\n",
              "    </tr>\n",
              "    <tr>\n",
              "      <th>2014-11-03</th>\n",
              "      <td>2.546953</td>\n",
              "      <td>-1.868281</td>\n",
              "      <td>-1.245563</td>\n",
              "      <td>0.032292</td>\n",
              "    </tr>\n",
              "    <tr>\n",
              "      <th>2014-11-04</th>\n",
              "      <td>-1.351978</td>\n",
              "      <td>0.447240</td>\n",
              "      <td>-0.002232</td>\n",
              "      <td>-1.657279</td>\n",
              "    </tr>\n",
              "  </tbody>\n",
              "</table>\n",
              "</div>"
            ],
            "text/plain": [
              "                 one       two     three      four\n",
              "2014-11-02 -0.354448 -0.612598 -0.057550 -0.585016\n",
              "2014-11-03  2.546953 -1.868281 -1.245563  0.032292\n",
              "2014-11-04 -1.351978  0.447240 -0.002232 -1.657279"
            ]
          },
          "metadata": {
            "tags": []
          },
          "execution_count": 36
        }
      ]
    },
    {
      "cell_type": "markdown",
      "metadata": {
        "_cell_guid": "47120656-c870-4ccb-87d6-cdf0cb10628b",
        "_uuid": "50e9f44238b630e0f854dffa849f4a26f2b7abfd",
        "id": "6UUb6xm5-sai"
      },
      "source": [
        "## Selecting by Label"
      ]
    },
    {
      "cell_type": "markdown",
      "metadata": {
        "_cell_guid": "5eb8a10b-100c-4949-bf57-fc1b0b709023",
        "_uuid": "6c5b006e3dabd7dc506fb4c840b003667cdcb019",
        "id": "E99RziLk-sak"
      },
      "source": [
        "See more in[ Selection by Label](https://pandas.pydata.org/pandas-docs/stable/indexing.html#indexing-label)\n",
        "\n",
        "For getting a cross section using a label"
      ]
    },
    {
      "cell_type": "code",
      "metadata": {
        "_cell_guid": "07d52142-94b9-42fb-a649-63f2f56bd3af",
        "_uuid": "34c5205092732b67a2de0667418af4f3e73fa18f",
        "id": "x_WEW0mC-sak",
        "outputId": "446ef86d-2a96-4796-ec6a-86ae27f8fa47",
        "colab": {
          "base_uri": "https://localhost:8080/",
          "height": 102
        }
      },
      "source": [
        "df.loc[dates[0]]"
      ],
      "execution_count": null,
      "outputs": [
        {
          "output_type": "execute_result",
          "data": {
            "text/plain": [
              "one     -0.087950\n",
              "two     -1.624057\n",
              "three   -0.949013\n",
              "four     0.893152\n",
              "Name: 2014-11-01 00:00:00, dtype: float64"
            ]
          },
          "metadata": {
            "tags": []
          },
          "execution_count": 37
        }
      ]
    },
    {
      "cell_type": "markdown",
      "metadata": {
        "_cell_guid": "6a647eb5-c61b-4a01-a9a9-cc9de6284338",
        "_uuid": "847a4c224d66434bc572cdd3106c99bce8925607",
        "id": "CS4bt91l-sao"
      },
      "source": [
        "Selecting on a multi-axis by label"
      ]
    },
    {
      "cell_type": "code",
      "metadata": {
        "_cell_guid": "7001a024-168a-4c7f-bf36-d813fb798bfb",
        "_uuid": "f46aa94ce3199632c14f66aea3f9155fc57c8d3e",
        "id": "KwMdVbCi-sap",
        "outputId": "e1fdb6b0-1102-4dd4-8e20-ad096bcb6251",
        "colab": {
          "base_uri": "https://localhost:8080/",
          "height": 235
        }
      },
      "source": [
        "df.loc[:,['one','two']]"
      ],
      "execution_count": null,
      "outputs": [
        {
          "output_type": "execute_result",
          "data": {
            "text/html": [
              "<div>\n",
              "<style scoped>\n",
              "    .dataframe tbody tr th:only-of-type {\n",
              "        vertical-align: middle;\n",
              "    }\n",
              "\n",
              "    .dataframe tbody tr th {\n",
              "        vertical-align: top;\n",
              "    }\n",
              "\n",
              "    .dataframe thead th {\n",
              "        text-align: right;\n",
              "    }\n",
              "</style>\n",
              "<table border=\"1\" class=\"dataframe\">\n",
              "  <thead>\n",
              "    <tr style=\"text-align: right;\">\n",
              "      <th></th>\n",
              "      <th>one</th>\n",
              "      <th>two</th>\n",
              "    </tr>\n",
              "  </thead>\n",
              "  <tbody>\n",
              "    <tr>\n",
              "      <th>2014-11-01</th>\n",
              "      <td>-0.087950</td>\n",
              "      <td>-1.624057</td>\n",
              "    </tr>\n",
              "    <tr>\n",
              "      <th>2014-11-02</th>\n",
              "      <td>-0.354448</td>\n",
              "      <td>-0.612598</td>\n",
              "    </tr>\n",
              "    <tr>\n",
              "      <th>2014-11-03</th>\n",
              "      <td>2.546953</td>\n",
              "      <td>-1.868281</td>\n",
              "    </tr>\n",
              "    <tr>\n",
              "      <th>2014-11-04</th>\n",
              "      <td>-1.351978</td>\n",
              "      <td>0.447240</td>\n",
              "    </tr>\n",
              "    <tr>\n",
              "      <th>2014-11-05</th>\n",
              "      <td>-1.248611</td>\n",
              "      <td>-0.410178</td>\n",
              "    </tr>\n",
              "    <tr>\n",
              "      <th>2014-11-06</th>\n",
              "      <td>1.535226</td>\n",
              "      <td>-0.807390</td>\n",
              "    </tr>\n",
              "  </tbody>\n",
              "</table>\n",
              "</div>"
            ],
            "text/plain": [
              "                 one       two\n",
              "2014-11-01 -0.087950 -1.624057\n",
              "2014-11-02 -0.354448 -0.612598\n",
              "2014-11-03  2.546953 -1.868281\n",
              "2014-11-04 -1.351978  0.447240\n",
              "2014-11-05 -1.248611 -0.410178\n",
              "2014-11-06  1.535226 -0.807390"
            ]
          },
          "metadata": {
            "tags": []
          },
          "execution_count": 38
        }
      ]
    },
    {
      "cell_type": "markdown",
      "metadata": {
        "_cell_guid": "e28a81bd-14eb-4931-a839-98d0ecaecd3c",
        "_uuid": "9a6ae941b46b104db1cd8def0545981d4733bfe9",
        "id": "jbuFJ9aH-sau"
      },
      "source": [
        "Showing label slicing, both endpoints are included"
      ]
    },
    {
      "cell_type": "code",
      "metadata": {
        "_cell_guid": "96ab0649-01d3-48f2-b519-dd78c2186336",
        "_uuid": "e02bd76d6a3169255570d96c2cb84d1d19baafe9",
        "collapsed": true,
        "id": "XTMK69Zc-sav",
        "outputId": "8eeef002-2a13-401f-87b4-01d5f3b5f622",
        "colab": {
          "base_uri": "https://localhost:8080/",
          "height": 142
        }
      },
      "source": [
        "df.loc['20141102':'20141104',['one','two']]"
      ],
      "execution_count": null,
      "outputs": [
        {
          "output_type": "execute_result",
          "data": {
            "text/html": [
              "<div>\n",
              "<style scoped>\n",
              "    .dataframe tbody tr th:only-of-type {\n",
              "        vertical-align: middle;\n",
              "    }\n",
              "\n",
              "    .dataframe tbody tr th {\n",
              "        vertical-align: top;\n",
              "    }\n",
              "\n",
              "    .dataframe thead th {\n",
              "        text-align: right;\n",
              "    }\n",
              "</style>\n",
              "<table border=\"1\" class=\"dataframe\">\n",
              "  <thead>\n",
              "    <tr style=\"text-align: right;\">\n",
              "      <th></th>\n",
              "      <th>one</th>\n",
              "      <th>two</th>\n",
              "    </tr>\n",
              "  </thead>\n",
              "  <tbody>\n",
              "    <tr>\n",
              "      <th>2014-11-02</th>\n",
              "      <td>-0.354448</td>\n",
              "      <td>-0.612598</td>\n",
              "    </tr>\n",
              "    <tr>\n",
              "      <th>2014-11-03</th>\n",
              "      <td>2.546953</td>\n",
              "      <td>-1.868281</td>\n",
              "    </tr>\n",
              "    <tr>\n",
              "      <th>2014-11-04</th>\n",
              "      <td>-1.351978</td>\n",
              "      <td>0.447240</td>\n",
              "    </tr>\n",
              "  </tbody>\n",
              "</table>\n",
              "</div>"
            ],
            "text/plain": [
              "                 one       two\n",
              "2014-11-02 -0.354448 -0.612598\n",
              "2014-11-03  2.546953 -1.868281\n",
              "2014-11-04 -1.351978  0.447240"
            ]
          },
          "metadata": {
            "tags": []
          },
          "execution_count": 39
        }
      ]
    },
    {
      "cell_type": "markdown",
      "metadata": {
        "_cell_guid": "1da0f850-8b42-4221-ae51-223924b40266",
        "_uuid": "74e06e2a77ac27d580b88b90068a795052f00e8e",
        "id": "gQkBd0XB-saz"
      },
      "source": [
        "Reduction in the dimensions of the returned object"
      ]
    },
    {
      "cell_type": "code",
      "metadata": {
        "_cell_guid": "e7b0cb7d-70cc-41f6-8b55-32824b804241",
        "_uuid": "6477a1db5cf42f8260bc8c2cee54c2745fb255a1",
        "collapsed": true,
        "id": "w0OR4NZQ-sa0",
        "outputId": "ec8de7fb-6db3-43a8-bf17-09a1b4daaed7",
        "colab": {
          "base_uri": "https://localhost:8080/",
          "height": 68
        }
      },
      "source": [
        "df.loc['20141102',['one','two']]"
      ],
      "execution_count": null,
      "outputs": [
        {
          "output_type": "execute_result",
          "data": {
            "text/plain": [
              "one   -0.354448\n",
              "two   -0.612598\n",
              "Name: 2014-11-02 00:00:00, dtype: float64"
            ]
          },
          "metadata": {
            "tags": []
          },
          "execution_count": 40
        }
      ]
    },
    {
      "cell_type": "markdown",
      "metadata": {
        "_cell_guid": "3d623580-97fc-456e-924f-5bab3121d87d",
        "_uuid": "9f4dd3322a60f1b105d9a21783287edb27c8ea0c",
        "id": "xUy8DOHN-sa3"
      },
      "source": [
        "For getting a scalar value"
      ]
    },
    {
      "cell_type": "code",
      "metadata": {
        "_cell_guid": "5097b9ad-5170-41d8-857f-97142be556f5",
        "_uuid": "9f1d7120553ca8bb9a6b658c2f04e3bfe67f97a6",
        "collapsed": true,
        "id": "vURH88Td-sa3",
        "outputId": "3c0d0508-a333-4d27-ddcc-a40df9eceb67",
        "colab": {
          "base_uri": "https://localhost:8080/",
          "height": 34
        }
      },
      "source": [
        "df.loc[dates[0],'one']"
      ],
      "execution_count": null,
      "outputs": [
        {
          "output_type": "execute_result",
          "data": {
            "text/plain": [
              "-0.08795006867267917"
            ]
          },
          "metadata": {
            "tags": []
          },
          "execution_count": 41
        }
      ]
    },
    {
      "cell_type": "markdown",
      "metadata": {
        "_cell_guid": "68f229fd-5117-4207-856e-5c6e4b58c135",
        "_uuid": "3586bfb5875d760a36ecf78e62dd0ca38a67b54b",
        "id": "88rPz1Ws-sa-"
      },
      "source": [
        "For getting fast access to a scalar (equiv to the prior method)"
      ]
    },
    {
      "cell_type": "code",
      "metadata": {
        "_cell_guid": "39271947-9c6d-456a-aaf3-307e55d24442",
        "_uuid": "c30b411195fff3849b54bcdc3b658fbcc96cecbb",
        "collapsed": true,
        "id": "Lq5L5eMa-sa_",
        "outputId": "ce431a56-d198-4144-b880-52837318295a",
        "colab": {
          "base_uri": "https://localhost:8080/",
          "height": 34
        }
      },
      "source": [
        "df.at[dates[0],'one']"
      ],
      "execution_count": null,
      "outputs": [
        {
          "output_type": "execute_result",
          "data": {
            "text/plain": [
              "-0.08795006867267917"
            ]
          },
          "metadata": {
            "tags": []
          },
          "execution_count": 42
        }
      ]
    },
    {
      "cell_type": "markdown",
      "metadata": {
        "_cell_guid": "7dd7fef8-149a-420f-a45b-af912c3f2369",
        "_uuid": "16f6dc5101bf7f1cef79a016c9b557ee910930ad",
        "id": "GWPV0y4u-sbE"
      },
      "source": [
        "## Selection by Position"
      ]
    },
    {
      "cell_type": "markdown",
      "metadata": {
        "_cell_guid": "428d1a82-86e1-41d0-a416-52906afc8995",
        "_uuid": "a789524d4da761f0fa9b77b459acf52e8a6291b6",
        "id": "ClsgFVC1-sbF"
      },
      "source": [
        "See more in [Selection by Position](Selection by Position)\n",
        "\n",
        "Select via the position of the passed integers"
      ]
    },
    {
      "cell_type": "code",
      "metadata": {
        "_cell_guid": "fe438107-8d37-4714-8da7-d1c5b3afc846",
        "_uuid": "62558a81897d581168ee6c2b41f76267b9c91124",
        "id": "9WBFqITl-sbG",
        "outputId": "8c124ee8-7073-4430-e640-362129cd3183",
        "colab": {
          "base_uri": "https://localhost:8080/",
          "height": 102
        }
      },
      "source": [
        "df.iloc[3]"
      ],
      "execution_count": null,
      "outputs": [
        {
          "output_type": "execute_result",
          "data": {
            "text/plain": [
              "one     -1.351978\n",
              "two      0.447240\n",
              "three   -0.002232\n",
              "four    -1.657279\n",
              "Name: 2014-11-04 00:00:00, dtype: float64"
            ]
          },
          "metadata": {
            "tags": []
          },
          "execution_count": 43
        }
      ]
    },
    {
      "cell_type": "markdown",
      "metadata": {
        "_cell_guid": "cd04525c-ada2-4260-b5f7-747d4e5df884",
        "_uuid": "4709ff3e512e7d238ed456980113d4934499b5d6",
        "id": "LFMUXH2V-sbK"
      },
      "source": [
        "By integer slices, acting similar to numpy/python"
      ]
    },
    {
      "cell_type": "markdown",
      "metadata": {
        "_cell_guid": "728cc20e-ba9d-413d-9ee5-e76eb2735c8a",
        "_uuid": "602b716b2b8d28bede8043ce95f3247233d3b94c",
        "id": "HdV2wM7Z-sbK"
      },
      "source": [
        "By lists of integer position locations, similar to the numpy/python style"
      ]
    },
    {
      "cell_type": "code",
      "metadata": {
        "_cell_guid": "0af7f46d-7da7-4b36-bcfd-02a9fdb8dbe5",
        "_uuid": "83f0a59d8beabd0bb6192467ebe9b287a3216776",
        "id": "dHJhoCJF-sbL",
        "outputId": "3aadda10-1eb2-4625-e83e-378c5ff9b4ae",
        "colab": {
          "base_uri": "https://localhost:8080/",
          "height": 142
        }
      },
      "source": [
        "df.iloc[[1,2,4],[0,2]]"
      ],
      "execution_count": null,
      "outputs": [
        {
          "output_type": "execute_result",
          "data": {
            "text/html": [
              "<div>\n",
              "<style scoped>\n",
              "    .dataframe tbody tr th:only-of-type {\n",
              "        vertical-align: middle;\n",
              "    }\n",
              "\n",
              "    .dataframe tbody tr th {\n",
              "        vertical-align: top;\n",
              "    }\n",
              "\n",
              "    .dataframe thead th {\n",
              "        text-align: right;\n",
              "    }\n",
              "</style>\n",
              "<table border=\"1\" class=\"dataframe\">\n",
              "  <thead>\n",
              "    <tr style=\"text-align: right;\">\n",
              "      <th></th>\n",
              "      <th>one</th>\n",
              "      <th>three</th>\n",
              "    </tr>\n",
              "  </thead>\n",
              "  <tbody>\n",
              "    <tr>\n",
              "      <th>2014-11-02</th>\n",
              "      <td>-0.354448</td>\n",
              "      <td>-0.057550</td>\n",
              "    </tr>\n",
              "    <tr>\n",
              "      <th>2014-11-03</th>\n",
              "      <td>2.546953</td>\n",
              "      <td>-1.245563</td>\n",
              "    </tr>\n",
              "    <tr>\n",
              "      <th>2014-11-05</th>\n",
              "      <td>-1.248611</td>\n",
              "      <td>-0.842663</td>\n",
              "    </tr>\n",
              "  </tbody>\n",
              "</table>\n",
              "</div>"
            ],
            "text/plain": [
              "                 one     three\n",
              "2014-11-02 -0.354448 -0.057550\n",
              "2014-11-03  2.546953 -1.245563\n",
              "2014-11-05 -1.248611 -0.842663"
            ]
          },
          "metadata": {
            "tags": []
          },
          "execution_count": 44
        }
      ]
    },
    {
      "cell_type": "markdown",
      "metadata": {
        "_cell_guid": "e9f6b749-ad67-4d89-aaed-4024b8530936",
        "_uuid": "61639e9a7523b05fb1a03d464ffa1f1eb1688efb",
        "id": "zQRlg3wa-sbP"
      },
      "source": [
        "For slicing rows explicitly"
      ]
    },
    {
      "cell_type": "code",
      "metadata": {
        "_cell_guid": "467719ff-d23e-45c2-9657-0b7bcaff6655",
        "_uuid": "8d69d0090825b1644d037ecb051afdb9633628d3",
        "id": "0oFpgh3n-sbP",
        "outputId": "21097bf5-eb8c-48e9-dab1-61b591d080f5",
        "colab": {
          "base_uri": "https://localhost:8080/",
          "height": 111
        }
      },
      "source": [
        "df.iloc[1:3,:] #note here 3rd index in not included in this slicing "
      ],
      "execution_count": null,
      "outputs": [
        {
          "output_type": "execute_result",
          "data": {
            "text/html": [
              "<div>\n",
              "<style scoped>\n",
              "    .dataframe tbody tr th:only-of-type {\n",
              "        vertical-align: middle;\n",
              "    }\n",
              "\n",
              "    .dataframe tbody tr th {\n",
              "        vertical-align: top;\n",
              "    }\n",
              "\n",
              "    .dataframe thead th {\n",
              "        text-align: right;\n",
              "    }\n",
              "</style>\n",
              "<table border=\"1\" class=\"dataframe\">\n",
              "  <thead>\n",
              "    <tr style=\"text-align: right;\">\n",
              "      <th></th>\n",
              "      <th>one</th>\n",
              "      <th>two</th>\n",
              "      <th>three</th>\n",
              "      <th>four</th>\n",
              "    </tr>\n",
              "  </thead>\n",
              "  <tbody>\n",
              "    <tr>\n",
              "      <th>2014-11-02</th>\n",
              "      <td>-0.354448</td>\n",
              "      <td>-0.612598</td>\n",
              "      <td>-0.057550</td>\n",
              "      <td>-0.585016</td>\n",
              "    </tr>\n",
              "    <tr>\n",
              "      <th>2014-11-03</th>\n",
              "      <td>2.546953</td>\n",
              "      <td>-1.868281</td>\n",
              "      <td>-1.245563</td>\n",
              "      <td>0.032292</td>\n",
              "    </tr>\n",
              "  </tbody>\n",
              "</table>\n",
              "</div>"
            ],
            "text/plain": [
              "                 one       two     three      four\n",
              "2014-11-02 -0.354448 -0.612598 -0.057550 -0.585016\n",
              "2014-11-03  2.546953 -1.868281 -1.245563  0.032292"
            ]
          },
          "metadata": {
            "tags": []
          },
          "execution_count": 47
        }
      ]
    },
    {
      "cell_type": "markdown",
      "metadata": {
        "_cell_guid": "38c01dfe-f13a-4cef-bfed-b49e77eef480",
        "_uuid": "aa3ccb6ed055424381bdb3e41b97ea2f881d19db",
        "id": "bsZLJD_V-sbT"
      },
      "source": [
        "For slicing columns explicitly"
      ]
    },
    {
      "cell_type": "code",
      "metadata": {
        "_cell_guid": "7a0bdd04-6670-4821-8328-3090827a13ed",
        "_uuid": "c14695bf9699073d68e0aeb63973a58bee51c57c",
        "id": "QLh-EiFa-sbU",
        "outputId": "f5238451-1447-4d88-da25-08877889bd95",
        "colab": {
          "base_uri": "https://localhost:8080/",
          "height": 235
        }
      },
      "source": [
        "df.iloc[:,1:3]"
      ],
      "execution_count": null,
      "outputs": [
        {
          "output_type": "execute_result",
          "data": {
            "text/html": [
              "<div>\n",
              "<style scoped>\n",
              "    .dataframe tbody tr th:only-of-type {\n",
              "        vertical-align: middle;\n",
              "    }\n",
              "\n",
              "    .dataframe tbody tr th {\n",
              "        vertical-align: top;\n",
              "    }\n",
              "\n",
              "    .dataframe thead th {\n",
              "        text-align: right;\n",
              "    }\n",
              "</style>\n",
              "<table border=\"1\" class=\"dataframe\">\n",
              "  <thead>\n",
              "    <tr style=\"text-align: right;\">\n",
              "      <th></th>\n",
              "      <th>two</th>\n",
              "      <th>three</th>\n",
              "    </tr>\n",
              "  </thead>\n",
              "  <tbody>\n",
              "    <tr>\n",
              "      <th>2014-11-01</th>\n",
              "      <td>-1.624057</td>\n",
              "      <td>-0.949013</td>\n",
              "    </tr>\n",
              "    <tr>\n",
              "      <th>2014-11-02</th>\n",
              "      <td>-0.612598</td>\n",
              "      <td>-0.057550</td>\n",
              "    </tr>\n",
              "    <tr>\n",
              "      <th>2014-11-03</th>\n",
              "      <td>-1.868281</td>\n",
              "      <td>-1.245563</td>\n",
              "    </tr>\n",
              "    <tr>\n",
              "      <th>2014-11-04</th>\n",
              "      <td>0.447240</td>\n",
              "      <td>-0.002232</td>\n",
              "    </tr>\n",
              "    <tr>\n",
              "      <th>2014-11-05</th>\n",
              "      <td>-0.410178</td>\n",
              "      <td>-0.842663</td>\n",
              "    </tr>\n",
              "    <tr>\n",
              "      <th>2014-11-06</th>\n",
              "      <td>-0.807390</td>\n",
              "      <td>-0.782769</td>\n",
              "    </tr>\n",
              "  </tbody>\n",
              "</table>\n",
              "</div>"
            ],
            "text/plain": [
              "                 two     three\n",
              "2014-11-01 -1.624057 -0.949013\n",
              "2014-11-02 -0.612598 -0.057550\n",
              "2014-11-03 -1.868281 -1.245563\n",
              "2014-11-04  0.447240 -0.002232\n",
              "2014-11-05 -0.410178 -0.842663\n",
              "2014-11-06 -0.807390 -0.782769"
            ]
          },
          "metadata": {
            "tags": []
          },
          "execution_count": 48
        }
      ]
    },
    {
      "cell_type": "markdown",
      "metadata": {
        "_cell_guid": "c7526fcd-5d0f-41c0-946f-726fadd3d8cf",
        "_uuid": "728d45f365a6e58c4fe60caaec27170c956b47e5",
        "id": "z418QlkA-sba"
      },
      "source": [
        "For getting a value explicitly"
      ]
    },
    {
      "cell_type": "code",
      "metadata": {
        "_cell_guid": "32c6bb98-903a-45b1-b430-08d1b898e813",
        "_uuid": "8c824f1f3d44d8ed41b7b1328354863861ee9ef2",
        "id": "zFwA84Hp-sbb",
        "outputId": "cb4a983a-8010-4718-ff41-29339e16f8e3",
        "colab": {
          "base_uri": "https://localhost:8080/",
          "height": 34
        }
      },
      "source": [
        "df.iloc[1,1]"
      ],
      "execution_count": null,
      "outputs": [
        {
          "output_type": "execute_result",
          "data": {
            "text/plain": [
              "-0.612597908745616"
            ]
          },
          "metadata": {
            "tags": []
          },
          "execution_count": 49
        }
      ]
    },
    {
      "cell_type": "markdown",
      "metadata": {
        "_cell_guid": "24a9bd7b-8362-4722-8aa2-0c2484163586",
        "_uuid": "9cc662005289530c6cf43b87dabd314a313ffde1",
        "id": "-JEO05pW-sbd"
      },
      "source": [
        "For getting fast access to a scalar (equiv to the prior method)"
      ]
    },
    {
      "cell_type": "code",
      "metadata": {
        "_cell_guid": "2080b00d-b540-4bba-b8bc-682b80356290",
        "_uuid": "dfedfb75ff53703c78c0558f2822b01a0b8af49e",
        "collapsed": true,
        "id": "IglsDvc8-sbd",
        "outputId": "afe6d55b-51a3-4152-9f0d-bcb63596744a",
        "colab": {
          "base_uri": "https://localhost:8080/",
          "height": 34
        }
      },
      "source": [
        "df.iat[0,0]"
      ],
      "execution_count": null,
      "outputs": [
        {
          "output_type": "execute_result",
          "data": {
            "text/plain": [
              "-0.08795006867267917"
            ]
          },
          "metadata": {
            "tags": []
          },
          "execution_count": 50
        }
      ]
    },
    {
      "cell_type": "markdown",
      "metadata": {
        "_cell_guid": "4205069b-9b81-4015-8113-80e5997ed02a",
        "_uuid": "1f65376861105ccf80d8230b7518ec631e869383",
        "id": "mp0jJPyh-sbh"
      },
      "source": [
        "## Boolean Indexing\n",
        "Using a single column’s values to select data."
      ]
    },
    {
      "cell_type": "code",
      "metadata": {
        "_cell_guid": "b7d6f231-8fca-4b94-b4da-7e1077bfc1c6",
        "_uuid": "0897ab764824072dc3d6d45bc03c70f1f29c6833",
        "collapsed": true,
        "id": "qJg-Y2ve-sbj",
        "outputId": "58b42211-2a68-4c79-c1c9-804985e5f5f4",
        "colab": {
          "base_uri": "https://localhost:8080/",
          "height": 111
        }
      },
      "source": [
        "df[df.one > 0.5]"
      ],
      "execution_count": null,
      "outputs": [
        {
          "output_type": "execute_result",
          "data": {
            "text/html": [
              "<div>\n",
              "<style scoped>\n",
              "    .dataframe tbody tr th:only-of-type {\n",
              "        vertical-align: middle;\n",
              "    }\n",
              "\n",
              "    .dataframe tbody tr th {\n",
              "        vertical-align: top;\n",
              "    }\n",
              "\n",
              "    .dataframe thead th {\n",
              "        text-align: right;\n",
              "    }\n",
              "</style>\n",
              "<table border=\"1\" class=\"dataframe\">\n",
              "  <thead>\n",
              "    <tr style=\"text-align: right;\">\n",
              "      <th></th>\n",
              "      <th>one</th>\n",
              "      <th>two</th>\n",
              "      <th>three</th>\n",
              "      <th>four</th>\n",
              "    </tr>\n",
              "  </thead>\n",
              "  <tbody>\n",
              "    <tr>\n",
              "      <th>2014-11-03</th>\n",
              "      <td>2.546953</td>\n",
              "      <td>-1.868281</td>\n",
              "      <td>-1.245563</td>\n",
              "      <td>0.032292</td>\n",
              "    </tr>\n",
              "    <tr>\n",
              "      <th>2014-11-06</th>\n",
              "      <td>1.535226</td>\n",
              "      <td>-0.807390</td>\n",
              "      <td>-0.782769</td>\n",
              "      <td>-0.158657</td>\n",
              "    </tr>\n",
              "  </tbody>\n",
              "</table>\n",
              "</div>"
            ],
            "text/plain": [
              "                 one       two     three      four\n",
              "2014-11-03  2.546953 -1.868281 -1.245563  0.032292\n",
              "2014-11-06  1.535226 -0.807390 -0.782769 -0.158657"
            ]
          },
          "metadata": {
            "tags": []
          },
          "execution_count": 51
        }
      ]
    },
    {
      "cell_type": "markdown",
      "metadata": {
        "_cell_guid": "001075c2-f7be-4218-9683-ffa1f5d9240e",
        "_uuid": "4b70f057a80db995d082b8d30c54ba603fe2cb62",
        "id": "LFlOShZX-sbm"
      },
      "source": [
        "Selecting values from a DataFrame where a boolean condition is met."
      ]
    },
    {
      "cell_type": "code",
      "metadata": {
        "_cell_guid": "01955ea3-17c6-4b0d-8d2e-cc5d654bb6cf",
        "_uuid": "8a6a6d699089df278c1436c28b9ff50c18e424ec",
        "collapsed": true,
        "id": "Sy1JOqT7-sbo",
        "outputId": "f0838a6e-0428-4c54-a5bf-b04e4b5d7e2c",
        "colab": {
          "base_uri": "https://localhost:8080/",
          "height": 235
        }
      },
      "source": [
        "df[df>0]"
      ],
      "execution_count": null,
      "outputs": [
        {
          "output_type": "execute_result",
          "data": {
            "text/html": [
              "<div>\n",
              "<style scoped>\n",
              "    .dataframe tbody tr th:only-of-type {\n",
              "        vertical-align: middle;\n",
              "    }\n",
              "\n",
              "    .dataframe tbody tr th {\n",
              "        vertical-align: top;\n",
              "    }\n",
              "\n",
              "    .dataframe thead th {\n",
              "        text-align: right;\n",
              "    }\n",
              "</style>\n",
              "<table border=\"1\" class=\"dataframe\">\n",
              "  <thead>\n",
              "    <tr style=\"text-align: right;\">\n",
              "      <th></th>\n",
              "      <th>one</th>\n",
              "      <th>two</th>\n",
              "      <th>three</th>\n",
              "      <th>four</th>\n",
              "    </tr>\n",
              "  </thead>\n",
              "  <tbody>\n",
              "    <tr>\n",
              "      <th>2014-11-01</th>\n",
              "      <td>NaN</td>\n",
              "      <td>NaN</td>\n",
              "      <td>NaN</td>\n",
              "      <td>0.893152</td>\n",
              "    </tr>\n",
              "    <tr>\n",
              "      <th>2014-11-02</th>\n",
              "      <td>NaN</td>\n",
              "      <td>NaN</td>\n",
              "      <td>NaN</td>\n",
              "      <td>NaN</td>\n",
              "    </tr>\n",
              "    <tr>\n",
              "      <th>2014-11-03</th>\n",
              "      <td>2.546953</td>\n",
              "      <td>NaN</td>\n",
              "      <td>NaN</td>\n",
              "      <td>0.032292</td>\n",
              "    </tr>\n",
              "    <tr>\n",
              "      <th>2014-11-04</th>\n",
              "      <td>NaN</td>\n",
              "      <td>0.44724</td>\n",
              "      <td>NaN</td>\n",
              "      <td>NaN</td>\n",
              "    </tr>\n",
              "    <tr>\n",
              "      <th>2014-11-05</th>\n",
              "      <td>NaN</td>\n",
              "      <td>NaN</td>\n",
              "      <td>NaN</td>\n",
              "      <td>0.330763</td>\n",
              "    </tr>\n",
              "    <tr>\n",
              "      <th>2014-11-06</th>\n",
              "      <td>1.535226</td>\n",
              "      <td>NaN</td>\n",
              "      <td>NaN</td>\n",
              "      <td>NaN</td>\n",
              "    </tr>\n",
              "  </tbody>\n",
              "</table>\n",
              "</div>"
            ],
            "text/plain": [
              "                 one      two  three      four\n",
              "2014-11-01       NaN      NaN    NaN  0.893152\n",
              "2014-11-02       NaN      NaN    NaN       NaN\n",
              "2014-11-03  2.546953      NaN    NaN  0.032292\n",
              "2014-11-04       NaN  0.44724    NaN       NaN\n",
              "2014-11-05       NaN      NaN    NaN  0.330763\n",
              "2014-11-06  1.535226      NaN    NaN       NaN"
            ]
          },
          "metadata": {
            "tags": []
          },
          "execution_count": 52
        }
      ]
    },
    {
      "cell_type": "markdown",
      "metadata": {
        "_cell_guid": "0d9b0104-071e-4b67-a28c-af0a3b5298c5",
        "_uuid": "152e38c5f8c9b1623f719b3d733d4a7dd83d37bd",
        "id": "Mm_sjeIx-sbu"
      },
      "source": [
        "Using the isin method for filtering:"
      ]
    },
    {
      "cell_type": "code",
      "metadata": {
        "_cell_guid": "81efdb26-8d6d-4d30-8095-0212e2068bd7",
        "_uuid": "ac6deb8efac6fea270befc2c5a444825de86a270",
        "collapsed": true,
        "id": "aRavkkRd-sbv",
        "outputId": "fb000129-0c60-49cd-a926-8e1ac0d691f8",
        "colab": {
          "base_uri": "https://localhost:8080/",
          "height": 235
        }
      },
      "source": [
        "df2 = df.copy()\n",
        "df2['five'] = ['one', 'one','two','three','four','three']\n",
        "df2"
      ],
      "execution_count": null,
      "outputs": [
        {
          "output_type": "execute_result",
          "data": {
            "text/html": [
              "<div>\n",
              "<style scoped>\n",
              "    .dataframe tbody tr th:only-of-type {\n",
              "        vertical-align: middle;\n",
              "    }\n",
              "\n",
              "    .dataframe tbody tr th {\n",
              "        vertical-align: top;\n",
              "    }\n",
              "\n",
              "    .dataframe thead th {\n",
              "        text-align: right;\n",
              "    }\n",
              "</style>\n",
              "<table border=\"1\" class=\"dataframe\">\n",
              "  <thead>\n",
              "    <tr style=\"text-align: right;\">\n",
              "      <th></th>\n",
              "      <th>one</th>\n",
              "      <th>two</th>\n",
              "      <th>three</th>\n",
              "      <th>four</th>\n",
              "      <th>five</th>\n",
              "    </tr>\n",
              "  </thead>\n",
              "  <tbody>\n",
              "    <tr>\n",
              "      <th>2014-11-01</th>\n",
              "      <td>-0.087950</td>\n",
              "      <td>-1.624057</td>\n",
              "      <td>-0.949013</td>\n",
              "      <td>0.893152</td>\n",
              "      <td>one</td>\n",
              "    </tr>\n",
              "    <tr>\n",
              "      <th>2014-11-02</th>\n",
              "      <td>-0.354448</td>\n",
              "      <td>-0.612598</td>\n",
              "      <td>-0.057550</td>\n",
              "      <td>-0.585016</td>\n",
              "      <td>one</td>\n",
              "    </tr>\n",
              "    <tr>\n",
              "      <th>2014-11-03</th>\n",
              "      <td>2.546953</td>\n",
              "      <td>-1.868281</td>\n",
              "      <td>-1.245563</td>\n",
              "      <td>0.032292</td>\n",
              "      <td>two</td>\n",
              "    </tr>\n",
              "    <tr>\n",
              "      <th>2014-11-04</th>\n",
              "      <td>-1.351978</td>\n",
              "      <td>0.447240</td>\n",
              "      <td>-0.002232</td>\n",
              "      <td>-1.657279</td>\n",
              "      <td>three</td>\n",
              "    </tr>\n",
              "    <tr>\n",
              "      <th>2014-11-05</th>\n",
              "      <td>-1.248611</td>\n",
              "      <td>-0.410178</td>\n",
              "      <td>-0.842663</td>\n",
              "      <td>0.330763</td>\n",
              "      <td>four</td>\n",
              "    </tr>\n",
              "    <tr>\n",
              "      <th>2014-11-06</th>\n",
              "      <td>1.535226</td>\n",
              "      <td>-0.807390</td>\n",
              "      <td>-0.782769</td>\n",
              "      <td>-0.158657</td>\n",
              "      <td>three</td>\n",
              "    </tr>\n",
              "  </tbody>\n",
              "</table>\n",
              "</div>"
            ],
            "text/plain": [
              "                 one       two     three      four   five\n",
              "2014-11-01 -0.087950 -1.624057 -0.949013  0.893152    one\n",
              "2014-11-02 -0.354448 -0.612598 -0.057550 -0.585016    one\n",
              "2014-11-03  2.546953 -1.868281 -1.245563  0.032292    two\n",
              "2014-11-04 -1.351978  0.447240 -0.002232 -1.657279  three\n",
              "2014-11-05 -1.248611 -0.410178 -0.842663  0.330763   four\n",
              "2014-11-06  1.535226 -0.807390 -0.782769 -0.158657  three"
            ]
          },
          "metadata": {
            "tags": []
          },
          "execution_count": 53
        }
      ]
    },
    {
      "cell_type": "code",
      "metadata": {
        "_cell_guid": "b8a6507a-ab97-4884-ad6b-86ce08b562b1",
        "_uuid": "1057b0c34eae282d8b234583497a6e9d53a254f5",
        "collapsed": true,
        "id": "viT0O0HU-sby",
        "outputId": "e23516a9-f2d1-48c3-967e-1484f639bb93",
        "colab": {
          "base_uri": "https://localhost:8080/",
          "height": 111
        }
      },
      "source": [
        "df2[df2['five'].isin(['two','four'])]"
      ],
      "execution_count": null,
      "outputs": [
        {
          "output_type": "execute_result",
          "data": {
            "text/html": [
              "<div>\n",
              "<style scoped>\n",
              "    .dataframe tbody tr th:only-of-type {\n",
              "        vertical-align: middle;\n",
              "    }\n",
              "\n",
              "    .dataframe tbody tr th {\n",
              "        vertical-align: top;\n",
              "    }\n",
              "\n",
              "    .dataframe thead th {\n",
              "        text-align: right;\n",
              "    }\n",
              "</style>\n",
              "<table border=\"1\" class=\"dataframe\">\n",
              "  <thead>\n",
              "    <tr style=\"text-align: right;\">\n",
              "      <th></th>\n",
              "      <th>one</th>\n",
              "      <th>two</th>\n",
              "      <th>three</th>\n",
              "      <th>four</th>\n",
              "      <th>five</th>\n",
              "    </tr>\n",
              "  </thead>\n",
              "  <tbody>\n",
              "    <tr>\n",
              "      <th>2014-11-03</th>\n",
              "      <td>2.546953</td>\n",
              "      <td>-1.868281</td>\n",
              "      <td>-1.245563</td>\n",
              "      <td>0.032292</td>\n",
              "      <td>two</td>\n",
              "    </tr>\n",
              "    <tr>\n",
              "      <th>2014-11-05</th>\n",
              "      <td>-1.248611</td>\n",
              "      <td>-0.410178</td>\n",
              "      <td>-0.842663</td>\n",
              "      <td>0.330763</td>\n",
              "      <td>four</td>\n",
              "    </tr>\n",
              "  </tbody>\n",
              "</table>\n",
              "</div>"
            ],
            "text/plain": [
              "                 one       two     three      four  five\n",
              "2014-11-03  2.546953 -1.868281 -1.245563  0.032292   two\n",
              "2014-11-05 -1.248611 -0.410178 -0.842663  0.330763  four"
            ]
          },
          "metadata": {
            "tags": []
          },
          "execution_count": 54
        }
      ]
    },
    {
      "cell_type": "markdown",
      "metadata": {
        "_cell_guid": "b6eff184-f774-4668-a5fa-2eb792a8ee19",
        "_uuid": "36dc62173e385467dca8e0b12398ce00cd3bc7c9",
        "id": "R69GQcRv-sb1"
      },
      "source": [
        "## Setting\n",
        "Setting a new column automatically aligns the data by the indexes"
      ]
    },
    {
      "cell_type": "code",
      "metadata": {
        "_cell_guid": "4d61f140-af66-4b4c-9296-17e243bf4991",
        "_uuid": "c0f9338b687ee3fb7b535f772955de1cb232e10e",
        "collapsed": true,
        "id": "rYU4HGg1-sb4",
        "outputId": "e0603e5a-386b-463f-b0bd-3dde89824302",
        "colab": {
          "base_uri": "https://localhost:8080/",
          "height": 136
        }
      },
      "source": [
        "s1 = pd.Series([1,2,3,4,5,6], index=pd.date_range('20141101', periods=6))\n",
        "s1"
      ],
      "execution_count": null,
      "outputs": [
        {
          "output_type": "execute_result",
          "data": {
            "text/plain": [
              "2014-11-01    1\n",
              "2014-11-02    2\n",
              "2014-11-03    3\n",
              "2014-11-04    4\n",
              "2014-11-05    5\n",
              "2014-11-06    6\n",
              "Freq: D, dtype: int64"
            ]
          },
          "metadata": {
            "tags": []
          },
          "execution_count": 55
        }
      ]
    },
    {
      "cell_type": "code",
      "metadata": {
        "_cell_guid": "ef2e599f-68db-48c8-b750-e8f5143fe407",
        "_uuid": "6f01ca50121e0d9289c675ea6de02a716ae66dfb",
        "collapsed": true,
        "id": "vfzzwghj-sb7",
        "outputId": "0885511d-20de-4f89-c99f-d510361152bb",
        "colab": {
          "base_uri": "https://localhost:8080/",
          "height": 235
        }
      },
      "source": [
        "df['six'] = s1\n",
        "df"
      ],
      "execution_count": null,
      "outputs": [
        {
          "output_type": "execute_result",
          "data": {
            "text/html": [
              "<div>\n",
              "<style scoped>\n",
              "    .dataframe tbody tr th:only-of-type {\n",
              "        vertical-align: middle;\n",
              "    }\n",
              "\n",
              "    .dataframe tbody tr th {\n",
              "        vertical-align: top;\n",
              "    }\n",
              "\n",
              "    .dataframe thead th {\n",
              "        text-align: right;\n",
              "    }\n",
              "</style>\n",
              "<table border=\"1\" class=\"dataframe\">\n",
              "  <thead>\n",
              "    <tr style=\"text-align: right;\">\n",
              "      <th></th>\n",
              "      <th>one</th>\n",
              "      <th>two</th>\n",
              "      <th>three</th>\n",
              "      <th>four</th>\n",
              "      <th>six</th>\n",
              "    </tr>\n",
              "  </thead>\n",
              "  <tbody>\n",
              "    <tr>\n",
              "      <th>2014-11-01</th>\n",
              "      <td>-0.087950</td>\n",
              "      <td>-1.624057</td>\n",
              "      <td>-0.949013</td>\n",
              "      <td>0.893152</td>\n",
              "      <td>1</td>\n",
              "    </tr>\n",
              "    <tr>\n",
              "      <th>2014-11-02</th>\n",
              "      <td>-0.354448</td>\n",
              "      <td>-0.612598</td>\n",
              "      <td>-0.057550</td>\n",
              "      <td>-0.585016</td>\n",
              "      <td>2</td>\n",
              "    </tr>\n",
              "    <tr>\n",
              "      <th>2014-11-03</th>\n",
              "      <td>2.546953</td>\n",
              "      <td>-1.868281</td>\n",
              "      <td>-1.245563</td>\n",
              "      <td>0.032292</td>\n",
              "      <td>3</td>\n",
              "    </tr>\n",
              "    <tr>\n",
              "      <th>2014-11-04</th>\n",
              "      <td>-1.351978</td>\n",
              "      <td>0.447240</td>\n",
              "      <td>-0.002232</td>\n",
              "      <td>-1.657279</td>\n",
              "      <td>4</td>\n",
              "    </tr>\n",
              "    <tr>\n",
              "      <th>2014-11-05</th>\n",
              "      <td>-1.248611</td>\n",
              "      <td>-0.410178</td>\n",
              "      <td>-0.842663</td>\n",
              "      <td>0.330763</td>\n",
              "      <td>5</td>\n",
              "    </tr>\n",
              "    <tr>\n",
              "      <th>2014-11-06</th>\n",
              "      <td>1.535226</td>\n",
              "      <td>-0.807390</td>\n",
              "      <td>-0.782769</td>\n",
              "      <td>-0.158657</td>\n",
              "      <td>6</td>\n",
              "    </tr>\n",
              "  </tbody>\n",
              "</table>\n",
              "</div>"
            ],
            "text/plain": [
              "                 one       two     three      four  six\n",
              "2014-11-01 -0.087950 -1.624057 -0.949013  0.893152    1\n",
              "2014-11-02 -0.354448 -0.612598 -0.057550 -0.585016    2\n",
              "2014-11-03  2.546953 -1.868281 -1.245563  0.032292    3\n",
              "2014-11-04 -1.351978  0.447240 -0.002232 -1.657279    4\n",
              "2014-11-05 -1.248611 -0.410178 -0.842663  0.330763    5\n",
              "2014-11-06  1.535226 -0.807390 -0.782769 -0.158657    6"
            ]
          },
          "metadata": {
            "tags": []
          },
          "execution_count": 56
        }
      ]
    },
    {
      "cell_type": "markdown",
      "metadata": {
        "_cell_guid": "360096be-309b-4cc7-8ecb-d23721cb14a2",
        "_uuid": "ae8946ddaffc0e88adab4a082e2ffd2252700078",
        "id": "k3p4Oic5-sb-"
      },
      "source": [
        "Setting values by label:"
      ]
    },
    {
      "cell_type": "code",
      "metadata": {
        "_cell_guid": "a3acd34a-8443-4d9a-83e7-8b98dc75ba63",
        "_uuid": "190aff49aae8c1396239b406e9909e62de82c0b3",
        "collapsed": true,
        "id": "ynWo3TxD-sb-",
        "outputId": "d744d812-4bc2-4048-8005-177085237151",
        "colab": {
          "base_uri": "https://localhost:8080/",
          "height": 235
        }
      },
      "source": [
        "df.at[dates[0],'one'] = 0\n",
        "df"
      ],
      "execution_count": null,
      "outputs": [
        {
          "output_type": "execute_result",
          "data": {
            "text/html": [
              "<div>\n",
              "<style scoped>\n",
              "    .dataframe tbody tr th:only-of-type {\n",
              "        vertical-align: middle;\n",
              "    }\n",
              "\n",
              "    .dataframe tbody tr th {\n",
              "        vertical-align: top;\n",
              "    }\n",
              "\n",
              "    .dataframe thead th {\n",
              "        text-align: right;\n",
              "    }\n",
              "</style>\n",
              "<table border=\"1\" class=\"dataframe\">\n",
              "  <thead>\n",
              "    <tr style=\"text-align: right;\">\n",
              "      <th></th>\n",
              "      <th>one</th>\n",
              "      <th>two</th>\n",
              "      <th>three</th>\n",
              "      <th>four</th>\n",
              "      <th>six</th>\n",
              "    </tr>\n",
              "  </thead>\n",
              "  <tbody>\n",
              "    <tr>\n",
              "      <th>2014-11-01</th>\n",
              "      <td>0.000000</td>\n",
              "      <td>-1.624057</td>\n",
              "      <td>-0.949013</td>\n",
              "      <td>0.893152</td>\n",
              "      <td>1</td>\n",
              "    </tr>\n",
              "    <tr>\n",
              "      <th>2014-11-02</th>\n",
              "      <td>-0.354448</td>\n",
              "      <td>-0.612598</td>\n",
              "      <td>-0.057550</td>\n",
              "      <td>-0.585016</td>\n",
              "      <td>2</td>\n",
              "    </tr>\n",
              "    <tr>\n",
              "      <th>2014-11-03</th>\n",
              "      <td>2.546953</td>\n",
              "      <td>-1.868281</td>\n",
              "      <td>-1.245563</td>\n",
              "      <td>0.032292</td>\n",
              "      <td>3</td>\n",
              "    </tr>\n",
              "    <tr>\n",
              "      <th>2014-11-04</th>\n",
              "      <td>-1.351978</td>\n",
              "      <td>0.447240</td>\n",
              "      <td>-0.002232</td>\n",
              "      <td>-1.657279</td>\n",
              "      <td>4</td>\n",
              "    </tr>\n",
              "    <tr>\n",
              "      <th>2014-11-05</th>\n",
              "      <td>-1.248611</td>\n",
              "      <td>-0.410178</td>\n",
              "      <td>-0.842663</td>\n",
              "      <td>0.330763</td>\n",
              "      <td>5</td>\n",
              "    </tr>\n",
              "    <tr>\n",
              "      <th>2014-11-06</th>\n",
              "      <td>1.535226</td>\n",
              "      <td>-0.807390</td>\n",
              "      <td>-0.782769</td>\n",
              "      <td>-0.158657</td>\n",
              "      <td>6</td>\n",
              "    </tr>\n",
              "  </tbody>\n",
              "</table>\n",
              "</div>"
            ],
            "text/plain": [
              "                 one       two     three      four  six\n",
              "2014-11-01  0.000000 -1.624057 -0.949013  0.893152    1\n",
              "2014-11-02 -0.354448 -0.612598 -0.057550 -0.585016    2\n",
              "2014-11-03  2.546953 -1.868281 -1.245563  0.032292    3\n",
              "2014-11-04 -1.351978  0.447240 -0.002232 -1.657279    4\n",
              "2014-11-05 -1.248611 -0.410178 -0.842663  0.330763    5\n",
              "2014-11-06  1.535226 -0.807390 -0.782769 -0.158657    6"
            ]
          },
          "metadata": {
            "tags": []
          },
          "execution_count": 57
        }
      ]
    },
    {
      "cell_type": "markdown",
      "metadata": {
        "_cell_guid": "0da27b58-8d50-424c-85a5-a13606a93e8a",
        "_uuid": "2b4a495f12e347c3d5b6db4951766e7390dc516f",
        "id": "-XUpF-Mm-scB"
      },
      "source": [
        "Setting values by position:"
      ]
    },
    {
      "cell_type": "code",
      "metadata": {
        "_cell_guid": "a6891c06-b41e-440a-a15e-8e80bedef5fe",
        "_uuid": "1500650883a2caeaf0d0cb3c1895bb305fa58eb7",
        "collapsed": true,
        "id": "0mRJD1wB-scB",
        "outputId": "c9eead61-72af-41bb-aa02-4e298e915172",
        "colab": {
          "base_uri": "https://localhost:8080/",
          "height": 235
        }
      },
      "source": [
        "df.iat[0,1] = 0\n",
        "df"
      ],
      "execution_count": null,
      "outputs": [
        {
          "output_type": "execute_result",
          "data": {
            "text/html": [
              "<div>\n",
              "<style scoped>\n",
              "    .dataframe tbody tr th:only-of-type {\n",
              "        vertical-align: middle;\n",
              "    }\n",
              "\n",
              "    .dataframe tbody tr th {\n",
              "        vertical-align: top;\n",
              "    }\n",
              "\n",
              "    .dataframe thead th {\n",
              "        text-align: right;\n",
              "    }\n",
              "</style>\n",
              "<table border=\"1\" class=\"dataframe\">\n",
              "  <thead>\n",
              "    <tr style=\"text-align: right;\">\n",
              "      <th></th>\n",
              "      <th>one</th>\n",
              "      <th>two</th>\n",
              "      <th>three</th>\n",
              "      <th>four</th>\n",
              "      <th>six</th>\n",
              "    </tr>\n",
              "  </thead>\n",
              "  <tbody>\n",
              "    <tr>\n",
              "      <th>2014-11-01</th>\n",
              "      <td>0.000000</td>\n",
              "      <td>0.000000</td>\n",
              "      <td>-0.949013</td>\n",
              "      <td>0.893152</td>\n",
              "      <td>1</td>\n",
              "    </tr>\n",
              "    <tr>\n",
              "      <th>2014-11-02</th>\n",
              "      <td>-0.354448</td>\n",
              "      <td>-0.612598</td>\n",
              "      <td>-0.057550</td>\n",
              "      <td>-0.585016</td>\n",
              "      <td>2</td>\n",
              "    </tr>\n",
              "    <tr>\n",
              "      <th>2014-11-03</th>\n",
              "      <td>2.546953</td>\n",
              "      <td>-1.868281</td>\n",
              "      <td>-1.245563</td>\n",
              "      <td>0.032292</td>\n",
              "      <td>3</td>\n",
              "    </tr>\n",
              "    <tr>\n",
              "      <th>2014-11-04</th>\n",
              "      <td>-1.351978</td>\n",
              "      <td>0.447240</td>\n",
              "      <td>-0.002232</td>\n",
              "      <td>-1.657279</td>\n",
              "      <td>4</td>\n",
              "    </tr>\n",
              "    <tr>\n",
              "      <th>2014-11-05</th>\n",
              "      <td>-1.248611</td>\n",
              "      <td>-0.410178</td>\n",
              "      <td>-0.842663</td>\n",
              "      <td>0.330763</td>\n",
              "      <td>5</td>\n",
              "    </tr>\n",
              "    <tr>\n",
              "      <th>2014-11-06</th>\n",
              "      <td>1.535226</td>\n",
              "      <td>-0.807390</td>\n",
              "      <td>-0.782769</td>\n",
              "      <td>-0.158657</td>\n",
              "      <td>6</td>\n",
              "    </tr>\n",
              "  </tbody>\n",
              "</table>\n",
              "</div>"
            ],
            "text/plain": [
              "                 one       two     three      four  six\n",
              "2014-11-01  0.000000  0.000000 -0.949013  0.893152    1\n",
              "2014-11-02 -0.354448 -0.612598 -0.057550 -0.585016    2\n",
              "2014-11-03  2.546953 -1.868281 -1.245563  0.032292    3\n",
              "2014-11-04 -1.351978  0.447240 -0.002232 -1.657279    4\n",
              "2014-11-05 -1.248611 -0.410178 -0.842663  0.330763    5\n",
              "2014-11-06  1.535226 -0.807390 -0.782769 -0.158657    6"
            ]
          },
          "metadata": {
            "tags": []
          },
          "execution_count": 58
        }
      ]
    },
    {
      "cell_type": "code",
      "metadata": {
        "_cell_guid": "1e8225cf-4459-4cb4-98ef-a32d09c382e2",
        "_uuid": "6993b6c151f135cc7a965730c4c572775cbd8a01",
        "collapsed": true,
        "id": "qfWjzrNj-scF",
        "outputId": "596b5812-b2b3-490c-bca5-3262a4b59731",
        "colab": {
          "base_uri": "https://localhost:8080/",
          "height": 235
        }
      },
      "source": [
        "df.loc[:,'four'] = np.array([5] * len(df))\n",
        "df"
      ],
      "execution_count": null,
      "outputs": [
        {
          "output_type": "execute_result",
          "data": {
            "text/html": [
              "<div>\n",
              "<style scoped>\n",
              "    .dataframe tbody tr th:only-of-type {\n",
              "        vertical-align: middle;\n",
              "    }\n",
              "\n",
              "    .dataframe tbody tr th {\n",
              "        vertical-align: top;\n",
              "    }\n",
              "\n",
              "    .dataframe thead th {\n",
              "        text-align: right;\n",
              "    }\n",
              "</style>\n",
              "<table border=\"1\" class=\"dataframe\">\n",
              "  <thead>\n",
              "    <tr style=\"text-align: right;\">\n",
              "      <th></th>\n",
              "      <th>one</th>\n",
              "      <th>two</th>\n",
              "      <th>three</th>\n",
              "      <th>four</th>\n",
              "      <th>six</th>\n",
              "    </tr>\n",
              "  </thead>\n",
              "  <tbody>\n",
              "    <tr>\n",
              "      <th>2014-11-01</th>\n",
              "      <td>0.000000</td>\n",
              "      <td>0.000000</td>\n",
              "      <td>-0.949013</td>\n",
              "      <td>5</td>\n",
              "      <td>1</td>\n",
              "    </tr>\n",
              "    <tr>\n",
              "      <th>2014-11-02</th>\n",
              "      <td>-0.354448</td>\n",
              "      <td>-0.612598</td>\n",
              "      <td>-0.057550</td>\n",
              "      <td>5</td>\n",
              "      <td>2</td>\n",
              "    </tr>\n",
              "    <tr>\n",
              "      <th>2014-11-03</th>\n",
              "      <td>2.546953</td>\n",
              "      <td>-1.868281</td>\n",
              "      <td>-1.245563</td>\n",
              "      <td>5</td>\n",
              "      <td>3</td>\n",
              "    </tr>\n",
              "    <tr>\n",
              "      <th>2014-11-04</th>\n",
              "      <td>-1.351978</td>\n",
              "      <td>0.447240</td>\n",
              "      <td>-0.002232</td>\n",
              "      <td>5</td>\n",
              "      <td>4</td>\n",
              "    </tr>\n",
              "    <tr>\n",
              "      <th>2014-11-05</th>\n",
              "      <td>-1.248611</td>\n",
              "      <td>-0.410178</td>\n",
              "      <td>-0.842663</td>\n",
              "      <td>5</td>\n",
              "      <td>5</td>\n",
              "    </tr>\n",
              "    <tr>\n",
              "      <th>2014-11-06</th>\n",
              "      <td>1.535226</td>\n",
              "      <td>-0.807390</td>\n",
              "      <td>-0.782769</td>\n",
              "      <td>5</td>\n",
              "      <td>6</td>\n",
              "    </tr>\n",
              "  </tbody>\n",
              "</table>\n",
              "</div>"
            ],
            "text/plain": [
              "                 one       two     three  four  six\n",
              "2014-11-01  0.000000  0.000000 -0.949013     5    1\n",
              "2014-11-02 -0.354448 -0.612598 -0.057550     5    2\n",
              "2014-11-03  2.546953 -1.868281 -1.245563     5    3\n",
              "2014-11-04 -1.351978  0.447240 -0.002232     5    4\n",
              "2014-11-05 -1.248611 -0.410178 -0.842663     5    5\n",
              "2014-11-06  1.535226 -0.807390 -0.782769     5    6"
            ]
          },
          "metadata": {
            "tags": []
          },
          "execution_count": 59
        }
      ]
    },
    {
      "cell_type": "markdown",
      "metadata": {
        "_cell_guid": "5ac1ed59-30d2-41c3-883c-bb96634f4830",
        "_uuid": "1f0389c283d54453415ca78a3eafc8d127ba2893",
        "id": "9azNe8gd-scI"
      },
      "source": [
        "A where operation with setting."
      ]
    },
    {
      "cell_type": "code",
      "metadata": {
        "_cell_guid": "7108c375-08f9-4402-9f39-7e68f3ac929f",
        "_uuid": "783d37539e38075c324ebd1c29689211afb66a03",
        "collapsed": true,
        "id": "EVNkHoeb-scI",
        "outputId": "9b238138-de22-4cc9-d811-a949889a192e"
      },
      "source": [
        "df2 = df.copy()\n",
        "df2[df2 > 0] = -df2\n",
        "df2"
      ],
      "execution_count": null,
      "outputs": [
        {
          "output_type": "execute_result",
          "data": {
            "text/html": [
              "<div>\n",
              "<style>\n",
              "    .dataframe thead tr:only-child th {\n",
              "        text-align: right;\n",
              "    }\n",
              "\n",
              "    .dataframe thead th {\n",
              "        text-align: left;\n",
              "    }\n",
              "\n",
              "    .dataframe tbody tr th {\n",
              "        vertical-align: top;\n",
              "    }\n",
              "</style>\n",
              "<table border=\"1\" class=\"dataframe\">\n",
              "  <thead>\n",
              "    <tr style=\"text-align: right;\">\n",
              "      <th></th>\n",
              "      <th>one</th>\n",
              "      <th>two</th>\n",
              "      <th>three</th>\n",
              "      <th>four</th>\n",
              "      <th>six</th>\n",
              "    </tr>\n",
              "  </thead>\n",
              "  <tbody>\n",
              "    <tr>\n",
              "      <th>2014-11-01</th>\n",
              "      <td>0.000000</td>\n",
              "      <td>0.000000</td>\n",
              "      <td>-0.612401</td>\n",
              "      <td>-5</td>\n",
              "      <td>-1</td>\n",
              "    </tr>\n",
              "    <tr>\n",
              "      <th>2014-11-02</th>\n",
              "      <td>-0.845278</td>\n",
              "      <td>-1.983306</td>\n",
              "      <td>-0.191953</td>\n",
              "      <td>-5</td>\n",
              "      <td>-2</td>\n",
              "    </tr>\n",
              "    <tr>\n",
              "      <th>2014-11-03</th>\n",
              "      <td>-0.605314</td>\n",
              "      <td>-0.636184</td>\n",
              "      <td>-0.707862</td>\n",
              "      <td>-5</td>\n",
              "      <td>-3</td>\n",
              "    </tr>\n",
              "    <tr>\n",
              "      <th>2014-11-04</th>\n",
              "      <td>-0.622217</td>\n",
              "      <td>-2.828172</td>\n",
              "      <td>-0.222672</td>\n",
              "      <td>-5</td>\n",
              "      <td>-4</td>\n",
              "    </tr>\n",
              "    <tr>\n",
              "      <th>2014-11-05</th>\n",
              "      <td>-0.030346</td>\n",
              "      <td>-0.817101</td>\n",
              "      <td>-2.492516</td>\n",
              "      <td>-5</td>\n",
              "      <td>-5</td>\n",
              "    </tr>\n",
              "    <tr>\n",
              "      <th>2014-11-06</th>\n",
              "      <td>-0.957112</td>\n",
              "      <td>-0.148611</td>\n",
              "      <td>-0.795108</td>\n",
              "      <td>-5</td>\n",
              "      <td>-6</td>\n",
              "    </tr>\n",
              "  </tbody>\n",
              "</table>\n",
              "</div>"
            ],
            "text/plain": [
              "                 one       two     three  four  six\n",
              "2014-11-01  0.000000  0.000000 -0.612401    -5   -1\n",
              "2014-11-02 -0.845278 -1.983306 -0.191953    -5   -2\n",
              "2014-11-03 -0.605314 -0.636184 -0.707862    -5   -3\n",
              "2014-11-04 -0.622217 -2.828172 -0.222672    -5   -4\n",
              "2014-11-05 -0.030346 -0.817101 -2.492516    -5   -5\n",
              "2014-11-06 -0.957112 -0.148611 -0.795108    -5   -6"
            ]
          },
          "metadata": {
            "tags": []
          },
          "execution_count": 41
        }
      ]
    },
    {
      "cell_type": "markdown",
      "metadata": {
        "_cell_guid": "4bab0a44-3ea1-4817-ae0e-233d159e74e5",
        "_uuid": "5481ab3311350209e065b43c612af4b85bee6a1d",
        "collapsed": true,
        "id": "fDW6qtyh-scM"
      },
      "source": [
        "# Missing Data\n",
        "pandas primarily uses the value np.nan to represent missing data. It is by default not included in computations. See the [Missing Data section](https://pandas.pydata.org/pandas-docs/stable/missing_data.html#missing-data)\n",
        "\n",
        "Reindexing allows you to change/add/delete the index on a specified axis. This returns a copy of the data."
      ]
    },
    {
      "cell_type": "code",
      "metadata": {
        "_cell_guid": "8ea992cf-a44c-48ba-8c29-772a76a62e25",
        "_uuid": "b34287e42a0e574b9ada0dd0660e7610bde2a4a2",
        "collapsed": true,
        "id": "-SmMxy_e-scM",
        "outputId": "1254cc82-a298-456c-a413-e59907b85a8f",
        "colab": {
          "base_uri": "https://localhost:8080/",
          "height": 195
        }
      },
      "source": [
        "df1 = df.reindex(index=dates[0:4], columns=list(df.columns) + ['E'])\n",
        "df1.loc[dates[0]:dates[1],'E'] = 1\n",
        "df1"
      ],
      "execution_count": null,
      "outputs": [
        {
          "output_type": "error",
          "ename": "NameError",
          "evalue": "ignored",
          "traceback": [
            "\u001b[0;31m---------------------------------------------------------------------------\u001b[0m",
            "\u001b[0;31mNameError\u001b[0m                                 Traceback (most recent call last)",
            "\u001b[0;32m<ipython-input-2-abfd66d6b6f3>\u001b[0m in \u001b[0;36m<module>\u001b[0;34m()\u001b[0m\n\u001b[0;32m----> 1\u001b[0;31m \u001b[0mdf1\u001b[0m \u001b[0;34m=\u001b[0m \u001b[0mdf\u001b[0m\u001b[0;34m.\u001b[0m\u001b[0mreindex\u001b[0m\u001b[0;34m(\u001b[0m\u001b[0mindex\u001b[0m\u001b[0;34m=\u001b[0m\u001b[0mdates\u001b[0m\u001b[0;34m[\u001b[0m\u001b[0;36m0\u001b[0m\u001b[0;34m:\u001b[0m\u001b[0;36m4\u001b[0m\u001b[0;34m]\u001b[0m\u001b[0;34m,\u001b[0m \u001b[0mcolumns\u001b[0m\u001b[0;34m=\u001b[0m\u001b[0mlist\u001b[0m\u001b[0;34m(\u001b[0m\u001b[0mdf\u001b[0m\u001b[0;34m.\u001b[0m\u001b[0mcolumns\u001b[0m\u001b[0;34m)\u001b[0m \u001b[0;34m+\u001b[0m \u001b[0;34m[\u001b[0m\u001b[0;34m'E'\u001b[0m\u001b[0;34m]\u001b[0m\u001b[0;34m)\u001b[0m\u001b[0;34m\u001b[0m\u001b[0;34m\u001b[0m\u001b[0m\n\u001b[0m\u001b[1;32m      2\u001b[0m \u001b[0mdf1\u001b[0m\u001b[0;34m.\u001b[0m\u001b[0mloc\u001b[0m\u001b[0;34m[\u001b[0m\u001b[0mdates\u001b[0m\u001b[0;34m[\u001b[0m\u001b[0;36m0\u001b[0m\u001b[0;34m]\u001b[0m\u001b[0;34m:\u001b[0m\u001b[0mdates\u001b[0m\u001b[0;34m[\u001b[0m\u001b[0;36m1\u001b[0m\u001b[0;34m]\u001b[0m\u001b[0;34m,\u001b[0m\u001b[0;34m'E'\u001b[0m\u001b[0;34m]\u001b[0m \u001b[0;34m=\u001b[0m \u001b[0;36m1\u001b[0m\u001b[0;34m\u001b[0m\u001b[0;34m\u001b[0m\u001b[0m\n\u001b[1;32m      3\u001b[0m \u001b[0mdf1\u001b[0m\u001b[0;34m\u001b[0m\u001b[0;34m\u001b[0m\u001b[0m\n",
            "\u001b[0;31mNameError\u001b[0m: name 'df' is not defined"
          ]
        }
      ]
    },
    {
      "cell_type": "markdown",
      "metadata": {
        "_cell_guid": "7e0319e8-fc11-4556-a0e6-4bc520b2179f",
        "_uuid": "46eaf209fd3122be95d2ef0804dc8bd665794205",
        "id": "WkwyuTF--scP"
      },
      "source": [
        "To drop any rows that have missing data:"
      ]
    },
    {
      "cell_type": "code",
      "metadata": {
        "_cell_guid": "9c118c95-34b0-4a03-9ae6-4a4e2fb3ab52",
        "_uuid": "be778687edde438a54f9378d59f532c9fe9d87da",
        "collapsed": true,
        "id": "uoa6cfVt-scP",
        "outputId": "3ac83ce5-8ac0-4143-ba2d-5885b4c1e267"
      },
      "source": [
        "df1.dropna(how='any')"
      ],
      "execution_count": null,
      "outputs": [
        {
          "output_type": "execute_result",
          "data": {
            "text/html": [
              "<div>\n",
              "<style>\n",
              "    .dataframe thead tr:only-child th {\n",
              "        text-align: right;\n",
              "    }\n",
              "\n",
              "    .dataframe thead th {\n",
              "        text-align: left;\n",
              "    }\n",
              "\n",
              "    .dataframe tbody tr th {\n",
              "        vertical-align: top;\n",
              "    }\n",
              "</style>\n",
              "<table border=\"1\" class=\"dataframe\">\n",
              "  <thead>\n",
              "    <tr style=\"text-align: right;\">\n",
              "      <th></th>\n",
              "      <th>one</th>\n",
              "      <th>two</th>\n",
              "      <th>three</th>\n",
              "      <th>four</th>\n",
              "      <th>six</th>\n",
              "      <th>E</th>\n",
              "    </tr>\n",
              "  </thead>\n",
              "  <tbody>\n",
              "    <tr>\n",
              "      <th>2014-11-01</th>\n",
              "      <td>0.000000</td>\n",
              "      <td>0.000000</td>\n",
              "      <td>0.612401</td>\n",
              "      <td>5</td>\n",
              "      <td>1</td>\n",
              "      <td>1.0</td>\n",
              "    </tr>\n",
              "    <tr>\n",
              "      <th>2014-11-02</th>\n",
              "      <td>-0.845278</td>\n",
              "      <td>1.983306</td>\n",
              "      <td>0.191953</td>\n",
              "      <td>5</td>\n",
              "      <td>2</td>\n",
              "      <td>1.0</td>\n",
              "    </tr>\n",
              "  </tbody>\n",
              "</table>\n",
              "</div>"
            ],
            "text/plain": [
              "                 one       two     three  four  six    E\n",
              "2014-11-01  0.000000  0.000000  0.612401     5    1  1.0\n",
              "2014-11-02 -0.845278  1.983306  0.191953     5    2  1.0"
            ]
          },
          "metadata": {
            "tags": []
          },
          "execution_count": 43
        }
      ]
    },
    {
      "cell_type": "markdown",
      "metadata": {
        "_cell_guid": "b833f8bd-684d-42d6-babb-6a2d02257757",
        "_uuid": "8a107a35dfb6b1f888a3760b1ddc1a2fc8ef1eae",
        "id": "e1TFzvD2-scT"
      },
      "source": [
        "Filling missing data:"
      ]
    },
    {
      "cell_type": "code",
      "metadata": {
        "_cell_guid": "f2521f7e-c916-4de2-abb5-c9c5ebebc600",
        "_uuid": "a5089cfe6c94a390800d4ebc997f143f5c000e8e",
        "collapsed": true,
        "id": "K8cnA9Lr-scV",
        "outputId": "13645f1e-5601-4237-b4f4-3efca68423a9"
      },
      "source": [
        "df1.fillna(value=5)"
      ],
      "execution_count": null,
      "outputs": [
        {
          "output_type": "execute_result",
          "data": {
            "text/html": [
              "<div>\n",
              "<style>\n",
              "    .dataframe thead tr:only-child th {\n",
              "        text-align: right;\n",
              "    }\n",
              "\n",
              "    .dataframe thead th {\n",
              "        text-align: left;\n",
              "    }\n",
              "\n",
              "    .dataframe tbody tr th {\n",
              "        vertical-align: top;\n",
              "    }\n",
              "</style>\n",
              "<table border=\"1\" class=\"dataframe\">\n",
              "  <thead>\n",
              "    <tr style=\"text-align: right;\">\n",
              "      <th></th>\n",
              "      <th>one</th>\n",
              "      <th>two</th>\n",
              "      <th>three</th>\n",
              "      <th>four</th>\n",
              "      <th>six</th>\n",
              "      <th>E</th>\n",
              "    </tr>\n",
              "  </thead>\n",
              "  <tbody>\n",
              "    <tr>\n",
              "      <th>2014-11-01</th>\n",
              "      <td>0.000000</td>\n",
              "      <td>0.000000</td>\n",
              "      <td>0.612401</td>\n",
              "      <td>5</td>\n",
              "      <td>1</td>\n",
              "      <td>1.0</td>\n",
              "    </tr>\n",
              "    <tr>\n",
              "      <th>2014-11-02</th>\n",
              "      <td>-0.845278</td>\n",
              "      <td>1.983306</td>\n",
              "      <td>0.191953</td>\n",
              "      <td>5</td>\n",
              "      <td>2</td>\n",
              "      <td>1.0</td>\n",
              "    </tr>\n",
              "    <tr>\n",
              "      <th>2014-11-03</th>\n",
              "      <td>-0.605314</td>\n",
              "      <td>-0.636184</td>\n",
              "      <td>0.707862</td>\n",
              "      <td>5</td>\n",
              "      <td>3</td>\n",
              "      <td>5.0</td>\n",
              "    </tr>\n",
              "    <tr>\n",
              "      <th>2014-11-04</th>\n",
              "      <td>0.622217</td>\n",
              "      <td>2.828172</td>\n",
              "      <td>-0.222672</td>\n",
              "      <td>5</td>\n",
              "      <td>4</td>\n",
              "      <td>5.0</td>\n",
              "    </tr>\n",
              "  </tbody>\n",
              "</table>\n",
              "</div>"
            ],
            "text/plain": [
              "                 one       two     three  four  six    E\n",
              "2014-11-01  0.000000  0.000000  0.612401     5    1  1.0\n",
              "2014-11-02 -0.845278  1.983306  0.191953     5    2  1.0\n",
              "2014-11-03 -0.605314 -0.636184  0.707862     5    3  5.0\n",
              "2014-11-04  0.622217  2.828172 -0.222672     5    4  5.0"
            ]
          },
          "metadata": {
            "tags": []
          },
          "execution_count": 44
        }
      ]
    },
    {
      "cell_type": "markdown",
      "metadata": {
        "_cell_guid": "02f262f9-27dd-4e4e-9c6d-030c23123e90",
        "_uuid": "3f1f384adbd5d3081028c45a797f6ab1f0174490",
        "id": "Vh940lVR-scX"
      },
      "source": [
        "# Operations\n",
        "See the [Basic section on Binary Ops](https://pandas.pydata.org/pandas-docs/stable/basics.html#basics-binop)"
      ]
    },
    {
      "cell_type": "markdown",
      "metadata": {
        "_cell_guid": "a599044b-97a5-4ff1-ac07-d2205c9bd275",
        "_uuid": "7dd84063efa95105e26e900a85b3b593c5f79406",
        "id": "5fbAhv_3-scX"
      },
      "source": [
        "### Stats\n",
        "Operations in general *exclude* missing data.\n",
        "\n",
        "Performing a descriptive statistic:"
      ]
    },
    {
      "cell_type": "code",
      "metadata": {
        "_cell_guid": "873b0539-d75a-4d8f-81e2-42c1ee70f945",
        "_uuid": "18a53af2b3fcb793e6c52ddfabc3bf4b01edc3ae",
        "collapsed": true,
        "id": "quOwnriO-scY",
        "outputId": "b8396adf-a59c-4484-d76a-ef0c689a0922"
      },
      "source": [
        "df.mean()"
      ],
      "execution_count": null,
      "outputs": [
        {
          "output_type": "execute_result",
          "data": {
            "text/plain": [
              "one      0.016399\n",
              "two      0.856834\n",
              "three   -0.333013\n",
              "four     5.000000\n",
              "six      3.500000\n",
              "dtype: float64"
            ]
          },
          "metadata": {
            "tags": []
          },
          "execution_count": 45
        }
      ]
    },
    {
      "cell_type": "markdown",
      "metadata": {
        "_cell_guid": "20530588-c864-428f-aad0-4ad48a3df1e5",
        "_uuid": "f066371c33bd242c801bb35fb61caed24cff26f6",
        "id": "_BmDWFnr-sca"
      },
      "source": [
        "Same operation on the other axis:"
      ]
    },
    {
      "cell_type": "code",
      "metadata": {
        "_cell_guid": "88cdbfa8-728c-4803-a400-5b348828e03e",
        "_uuid": "25a698388c134cb27fc648f76ecef27c12471fce",
        "collapsed": true,
        "id": "0fszAky1-scb",
        "outputId": "72a8484c-b930-42e6-8522-3e4ae436832d"
      },
      "source": [
        "df.mean(1)"
      ],
      "execution_count": null,
      "outputs": [
        {
          "output_type": "execute_result",
          "data": {
            "text/plain": [
              "2014-11-01    1.322480\n",
              "2014-11-02    1.665996\n",
              "2014-11-03    1.493273\n",
              "2014-11-04    2.445543\n",
              "2014-11-05    1.658848\n",
              "2014-11-06    2.262123\n",
              "Freq: D, dtype: float64"
            ]
          },
          "metadata": {
            "tags": []
          },
          "execution_count": 46
        }
      ]
    },
    {
      "cell_type": "markdown",
      "metadata": {
        "_cell_guid": "1fffe4d6-a49d-42e5-8b89-e44724ad03db",
        "_uuid": "a10e0ecc601023ea17c043b422ae7774a718e97e",
        "id": "aqInZ_bB-scd"
      },
      "source": [
        "Operating with objects that have different dimensionality and need alignment. In addition, pandas automatically broadcasts along the specified dimension. The following code also shifts the data vertically, leaving NaN values in the unoccupied spaces"
      ]
    },
    {
      "cell_type": "code",
      "metadata": {
        "_cell_guid": "e461e77a-cc2d-4186-9a6f-00f7b898328d",
        "_uuid": "7eda48639b578d0a9fb2e6e3a3f4ba76fbde780c",
        "collapsed": true,
        "id": "WmXNQSGd-scd",
        "outputId": "8f01948e-2ce7-436a-e88e-3b5c2394789f"
      },
      "source": [
        "s = pd.Series([1,3,5,np.nan,6,8], index=dates).shift(2)\n",
        "s"
      ],
      "execution_count": null,
      "outputs": [
        {
          "output_type": "execute_result",
          "data": {
            "text/plain": [
              "2014-11-01    NaN\n",
              "2014-11-02    NaN\n",
              "2014-11-03    1.0\n",
              "2014-11-04    3.0\n",
              "2014-11-05    5.0\n",
              "2014-11-06    NaN\n",
              "Freq: D, dtype: float64"
            ]
          },
          "metadata": {
            "tags": []
          },
          "execution_count": 47
        }
      ]
    },
    {
      "cell_type": "code",
      "metadata": {
        "_cell_guid": "950ca30f-af5b-4184-9556-f98187afe6d5",
        "_uuid": "b88c2ac00262f1176bc919dc4bfa9e37bafa3d07",
        "collapsed": true,
        "id": "Nrlj_g_z-scg",
        "outputId": "20fe33ba-1be8-41d8-b9e1-3837e0dafcfc"
      },
      "source": [
        "df.sub(s, axis='index')"
      ],
      "execution_count": null,
      "outputs": [
        {
          "output_type": "execute_result",
          "data": {
            "text/html": [
              "<div>\n",
              "<style>\n",
              "    .dataframe thead tr:only-child th {\n",
              "        text-align: right;\n",
              "    }\n",
              "\n",
              "    .dataframe thead th {\n",
              "        text-align: left;\n",
              "    }\n",
              "\n",
              "    .dataframe tbody tr th {\n",
              "        vertical-align: top;\n",
              "    }\n",
              "</style>\n",
              "<table border=\"1\" class=\"dataframe\">\n",
              "  <thead>\n",
              "    <tr style=\"text-align: right;\">\n",
              "      <th></th>\n",
              "      <th>one</th>\n",
              "      <th>two</th>\n",
              "      <th>three</th>\n",
              "      <th>four</th>\n",
              "      <th>six</th>\n",
              "    </tr>\n",
              "  </thead>\n",
              "  <tbody>\n",
              "    <tr>\n",
              "      <th>2014-11-01</th>\n",
              "      <td>NaN</td>\n",
              "      <td>NaN</td>\n",
              "      <td>NaN</td>\n",
              "      <td>NaN</td>\n",
              "      <td>NaN</td>\n",
              "    </tr>\n",
              "    <tr>\n",
              "      <th>2014-11-02</th>\n",
              "      <td>NaN</td>\n",
              "      <td>NaN</td>\n",
              "      <td>NaN</td>\n",
              "      <td>NaN</td>\n",
              "      <td>NaN</td>\n",
              "    </tr>\n",
              "    <tr>\n",
              "      <th>2014-11-03</th>\n",
              "      <td>-1.605314</td>\n",
              "      <td>-1.636184</td>\n",
              "      <td>-0.292138</td>\n",
              "      <td>4.0</td>\n",
              "      <td>2.0</td>\n",
              "    </tr>\n",
              "    <tr>\n",
              "      <th>2014-11-04</th>\n",
              "      <td>-2.377783</td>\n",
              "      <td>-0.171828</td>\n",
              "      <td>-3.222672</td>\n",
              "      <td>2.0</td>\n",
              "      <td>1.0</td>\n",
              "    </tr>\n",
              "    <tr>\n",
              "      <th>2014-11-05</th>\n",
              "      <td>-5.030346</td>\n",
              "      <td>-4.182899</td>\n",
              "      <td>-7.492516</td>\n",
              "      <td>0.0</td>\n",
              "      <td>0.0</td>\n",
              "    </tr>\n",
              "    <tr>\n",
              "      <th>2014-11-06</th>\n",
              "      <td>NaN</td>\n",
              "      <td>NaN</td>\n",
              "      <td>NaN</td>\n",
              "      <td>NaN</td>\n",
              "      <td>NaN</td>\n",
              "    </tr>\n",
              "  </tbody>\n",
              "</table>\n",
              "</div>"
            ],
            "text/plain": [
              "                 one       two     three  four  six\n",
              "2014-11-01       NaN       NaN       NaN   NaN  NaN\n",
              "2014-11-02       NaN       NaN       NaN   NaN  NaN\n",
              "2014-11-03 -1.605314 -1.636184 -0.292138   4.0  2.0\n",
              "2014-11-04 -2.377783 -0.171828 -3.222672   2.0  1.0\n",
              "2014-11-05 -5.030346 -4.182899 -7.492516   0.0  0.0\n",
              "2014-11-06       NaN       NaN       NaN   NaN  NaN"
            ]
          },
          "metadata": {
            "tags": []
          },
          "execution_count": 48
        }
      ]
    },
    {
      "cell_type": "markdown",
      "metadata": {
        "_cell_guid": "8a609a42-405f-4145-a258-2b2a1a836fa6",
        "_uuid": "a82c28ab38951a030fc5aaffc9229091af226cf8",
        "id": "QUBaPkot-sci"
      },
      "source": [
        "### Apply\n",
        "Applying functions to the data"
      ]
    },
    {
      "cell_type": "code",
      "metadata": {
        "_cell_guid": "ed25e76b-00c8-4f75-b8f2-a6b2669e264f",
        "_uuid": "0fdf92e9b753e997301f3d7c9e88941f87e086b1",
        "collapsed": true,
        "id": "QiasuN5p-sci",
        "outputId": "9d8f41a6-0362-4a4b-eeb6-fac8f98a8f9d"
      },
      "source": [
        "df.apply(np.cumsum)"
      ],
      "execution_count": null,
      "outputs": [
        {
          "output_type": "execute_result",
          "data": {
            "text/html": [
              "<div>\n",
              "<style>\n",
              "    .dataframe thead tr:only-child th {\n",
              "        text-align: right;\n",
              "    }\n",
              "\n",
              "    .dataframe thead th {\n",
              "        text-align: left;\n",
              "    }\n",
              "\n",
              "    .dataframe tbody tr th {\n",
              "        vertical-align: top;\n",
              "    }\n",
              "</style>\n",
              "<table border=\"1\" class=\"dataframe\">\n",
              "  <thead>\n",
              "    <tr style=\"text-align: right;\">\n",
              "      <th></th>\n",
              "      <th>one</th>\n",
              "      <th>two</th>\n",
              "      <th>three</th>\n",
              "      <th>four</th>\n",
              "      <th>six</th>\n",
              "    </tr>\n",
              "  </thead>\n",
              "  <tbody>\n",
              "    <tr>\n",
              "      <th>2014-11-01</th>\n",
              "      <td>0.000000</td>\n",
              "      <td>0.000000</td>\n",
              "      <td>0.612401</td>\n",
              "      <td>5</td>\n",
              "      <td>1</td>\n",
              "    </tr>\n",
              "    <tr>\n",
              "      <th>2014-11-02</th>\n",
              "      <td>-0.845278</td>\n",
              "      <td>1.983306</td>\n",
              "      <td>0.804355</td>\n",
              "      <td>10</td>\n",
              "      <td>3</td>\n",
              "    </tr>\n",
              "    <tr>\n",
              "      <th>2014-11-03</th>\n",
              "      <td>-1.450592</td>\n",
              "      <td>1.347122</td>\n",
              "      <td>1.512217</td>\n",
              "      <td>15</td>\n",
              "      <td>6</td>\n",
              "    </tr>\n",
              "    <tr>\n",
              "      <th>2014-11-04</th>\n",
              "      <td>-0.828375</td>\n",
              "      <td>4.175294</td>\n",
              "      <td>1.289545</td>\n",
              "      <td>20</td>\n",
              "      <td>10</td>\n",
              "    </tr>\n",
              "    <tr>\n",
              "      <th>2014-11-05</th>\n",
              "      <td>-0.858721</td>\n",
              "      <td>4.992395</td>\n",
              "      <td>-1.202971</td>\n",
              "      <td>25</td>\n",
              "      <td>15</td>\n",
              "    </tr>\n",
              "    <tr>\n",
              "      <th>2014-11-06</th>\n",
              "      <td>0.098392</td>\n",
              "      <td>5.141006</td>\n",
              "      <td>-1.998079</td>\n",
              "      <td>30</td>\n",
              "      <td>21</td>\n",
              "    </tr>\n",
              "  </tbody>\n",
              "</table>\n",
              "</div>"
            ],
            "text/plain": [
              "                 one       two     three  four  six\n",
              "2014-11-01  0.000000  0.000000  0.612401     5    1\n",
              "2014-11-02 -0.845278  1.983306  0.804355    10    3\n",
              "2014-11-03 -1.450592  1.347122  1.512217    15    6\n",
              "2014-11-04 -0.828375  4.175294  1.289545    20   10\n",
              "2014-11-05 -0.858721  4.992395 -1.202971    25   15\n",
              "2014-11-06  0.098392  5.141006 -1.998079    30   21"
            ]
          },
          "metadata": {
            "tags": []
          },
          "execution_count": 49
        }
      ]
    },
    {
      "cell_type": "markdown",
      "metadata": {
        "_cell_guid": "c29ce7af-9539-4857-9f41-0453d788992f",
        "_uuid": "f016b295830e32f680784dbe2f41b568215d9efb",
        "id": "bTBUlQzy-sck"
      },
      "source": [
        "### Histogramming \n",
        "See more at [Histogramming and Discretization](https://pandas.pydata.org/pandas-docs/stable/basics.html#basics-discretization)"
      ]
    },
    {
      "cell_type": "code",
      "metadata": {
        "_cell_guid": "765ec7fe-83b0-4180-acdc-540a28422a85",
        "_uuid": "8cc61eeda690d11eefecf2116e28136020ca0003",
        "collapsed": true,
        "id": "f3-6W33t-sck",
        "outputId": "6b27622d-7c0e-4a04-bfd3-f26f000abb1a"
      },
      "source": [
        "s = pd.Series(np.random.randint(0, 7, size=10))\n",
        "s"
      ],
      "execution_count": null,
      "outputs": [
        {
          "output_type": "execute_result",
          "data": {
            "text/plain": [
              "0    0\n",
              "1    3\n",
              "2    4\n",
              "3    1\n",
              "4    5\n",
              "5    1\n",
              "6    6\n",
              "7    3\n",
              "8    5\n",
              "9    5\n",
              "dtype: int64"
            ]
          },
          "metadata": {
            "tags": []
          },
          "execution_count": 50
        }
      ]
    },
    {
      "cell_type": "code",
      "metadata": {
        "_cell_guid": "cd3bda59-12a7-434c-9195-23c4dcba5b8b",
        "_uuid": "77963d7b3d63b8e939652cc2c114a0731baa359e",
        "collapsed": true,
        "id": "8OCWlV-O-scn",
        "outputId": "c7255eb3-fda0-4704-a3ef-01d7024020b1"
      },
      "source": [
        "s.value_counts()"
      ],
      "execution_count": null,
      "outputs": [
        {
          "output_type": "execute_result",
          "data": {
            "text/plain": [
              "5    3\n",
              "3    2\n",
              "1    2\n",
              "6    1\n",
              "4    1\n",
              "0    1\n",
              "dtype: int64"
            ]
          },
          "metadata": {
            "tags": []
          },
          "execution_count": 51
        }
      ]
    },
    {
      "cell_type": "markdown",
      "metadata": {
        "_cell_guid": "cb8c8038-acc7-4b09-8e70-3354521439e6",
        "_uuid": "e74ee3f403a6358e6658dcfae2f2909128d64130",
        "id": "UPTzl3ZA-scp"
      },
      "source": [
        "### String Methods\n",
        "Series is equipped with a set of string processing methods in the str attribute that make it easy to operate on each element of the array, as in the code snippet below. Note that pattern-matching in str generally uses [regular expressions](https://docs.python.org/2/library/re.html) by default (and in some cases always uses them). See more at [Vectorized String Methods](https://pandas.pydata.org/pandas-docs/stable/text.html#text-string-methods)."
      ]
    },
    {
      "cell_type": "code",
      "metadata": {
        "_cell_guid": "d6eb8ddf-f32a-406d-8d9e-bd0c0a76bdc9",
        "_uuid": "b74596be6dc4925c11bbc9552f52e0ab8a401b19",
        "id": "O6eihWSz-scp"
      },
      "source": [
        "s = pd.Series(['A', 'B', 'C', 'Aaba', 'Baca', np.nan, 'CABA', 'dog', 'cat'])\n"
      ],
      "execution_count": null,
      "outputs": []
    },
    {
      "cell_type": "code",
      "metadata": {
        "_cell_guid": "ea018f68-1d1e-487a-9d8d-e985f2c1d08f",
        "_uuid": "fb5a35db50d449608f76c79aaacf3c27f79ac398",
        "collapsed": true,
        "id": "McouGd13-scr",
        "outputId": "6678c5a3-e6df-4eff-a205-8ac360ac57ae"
      },
      "source": [
        "s.str.lower()"
      ],
      "execution_count": null,
      "outputs": [
        {
          "output_type": "execute_result",
          "data": {
            "text/plain": [
              "0       a\n",
              "1       b\n",
              "2       c\n",
              "3    aaba\n",
              "4    baca\n",
              "5     NaN\n",
              "6    caba\n",
              "7     dog\n",
              "8     cat\n",
              "dtype: object"
            ]
          },
          "metadata": {
            "tags": []
          },
          "execution_count": 53
        }
      ]
    },
    {
      "cell_type": "markdown",
      "metadata": {
        "_cell_guid": "bbeb9a06-d07c-4d38-96f6-fd96f8109a36",
        "_uuid": "9ecce4d43cdb73c250c231bd1f6ced47238ee848",
        "id": "OrU0PrBW-scv"
      },
      "source": [
        "# Merge\n",
        "### Concat\n",
        "pandas provides various facilities for easily combining together Series, DataFrame, and Panel objects with various kinds of set logic for the indexes and relational algebra functionality in the case of join / merge-type operations.\n",
        "\n",
        "See the [Merging section](https://pandas.pydata.org/pandas-docs/stable/merging.html#merging)\n",
        "\n",
        "Concatenating pandas objects together with [concat()](https://pandas.pydata.org/pandas-docs/stable/generated/pandas.concat.html#pandas.concat):"
      ]
    },
    {
      "cell_type": "code",
      "metadata": {
        "_cell_guid": "35b5371c-d03f-4014-b43e-0ea171cc2af5",
        "_uuid": "0e198af891bd5bd91c825d3e3f825211106140a6",
        "collapsed": true,
        "id": "qHl9ytAA-scv",
        "outputId": "8472dee5-51da-421d-8f2f-081027dad5da"
      },
      "source": [
        "df = pd.DataFrame(np.random.randn(10, 4))\n",
        "df"
      ],
      "execution_count": null,
      "outputs": [
        {
          "output_type": "execute_result",
          "data": {
            "text/html": [
              "<div>\n",
              "<style>\n",
              "    .dataframe thead tr:only-child th {\n",
              "        text-align: right;\n",
              "    }\n",
              "\n",
              "    .dataframe thead th {\n",
              "        text-align: left;\n",
              "    }\n",
              "\n",
              "    .dataframe tbody tr th {\n",
              "        vertical-align: top;\n",
              "    }\n",
              "</style>\n",
              "<table border=\"1\" class=\"dataframe\">\n",
              "  <thead>\n",
              "    <tr style=\"text-align: right;\">\n",
              "      <th></th>\n",
              "      <th>0</th>\n",
              "      <th>1</th>\n",
              "      <th>2</th>\n",
              "      <th>3</th>\n",
              "    </tr>\n",
              "  </thead>\n",
              "  <tbody>\n",
              "    <tr>\n",
              "      <th>0</th>\n",
              "      <td>-0.436112</td>\n",
              "      <td>0.302169</td>\n",
              "      <td>0.067651</td>\n",
              "      <td>0.967016</td>\n",
              "    </tr>\n",
              "    <tr>\n",
              "      <th>1</th>\n",
              "      <td>-0.077582</td>\n",
              "      <td>0.491488</td>\n",
              "      <td>0.325616</td>\n",
              "      <td>-1.142436</td>\n",
              "    </tr>\n",
              "    <tr>\n",
              "      <th>2</th>\n",
              "      <td>1.431596</td>\n",
              "      <td>0.137711</td>\n",
              "      <td>0.139401</td>\n",
              "      <td>0.928530</td>\n",
              "    </tr>\n",
              "    <tr>\n",
              "      <th>3</th>\n",
              "      <td>-0.595253</td>\n",
              "      <td>0.152700</td>\n",
              "      <td>0.332961</td>\n",
              "      <td>0.827073</td>\n",
              "    </tr>\n",
              "    <tr>\n",
              "      <th>4</th>\n",
              "      <td>0.705462</td>\n",
              "      <td>-1.262584</td>\n",
              "      <td>-0.177256</td>\n",
              "      <td>1.388932</td>\n",
              "    </tr>\n",
              "    <tr>\n",
              "      <th>5</th>\n",
              "      <td>-1.004146</td>\n",
              "      <td>0.399645</td>\n",
              "      <td>-0.439888</td>\n",
              "      <td>0.625605</td>\n",
              "    </tr>\n",
              "    <tr>\n",
              "      <th>6</th>\n",
              "      <td>0.017679</td>\n",
              "      <td>0.493244</td>\n",
              "      <td>0.364786</td>\n",
              "      <td>0.333770</td>\n",
              "    </tr>\n",
              "    <tr>\n",
              "      <th>7</th>\n",
              "      <td>0.665226</td>\n",
              "      <td>-0.487820</td>\n",
              "      <td>0.125152</td>\n",
              "      <td>0.743315</td>\n",
              "    </tr>\n",
              "    <tr>\n",
              "      <th>8</th>\n",
              "      <td>0.544550</td>\n",
              "      <td>0.456231</td>\n",
              "      <td>-0.972469</td>\n",
              "      <td>-0.176727</td>\n",
              "    </tr>\n",
              "    <tr>\n",
              "      <th>9</th>\n",
              "      <td>-0.799549</td>\n",
              "      <td>0.198477</td>\n",
              "      <td>1.500031</td>\n",
              "      <td>-0.340852</td>\n",
              "    </tr>\n",
              "  </tbody>\n",
              "</table>\n",
              "</div>"
            ],
            "text/plain": [
              "          0         1         2         3\n",
              "0 -0.436112  0.302169  0.067651  0.967016\n",
              "1 -0.077582  0.491488  0.325616 -1.142436\n",
              "2  1.431596  0.137711  0.139401  0.928530\n",
              "3 -0.595253  0.152700  0.332961  0.827073\n",
              "4  0.705462 -1.262584 -0.177256  1.388932\n",
              "5 -1.004146  0.399645 -0.439888  0.625605\n",
              "6  0.017679  0.493244  0.364786  0.333770\n",
              "7  0.665226 -0.487820  0.125152  0.743315\n",
              "8  0.544550  0.456231 -0.972469 -0.176727\n",
              "9 -0.799549  0.198477  1.500031 -0.340852"
            ]
          },
          "metadata": {
            "tags": []
          },
          "execution_count": 54
        }
      ]
    },
    {
      "cell_type": "code",
      "metadata": {
        "_cell_guid": "295ac685-5727-4a04-b910-34810572e984",
        "_uuid": "e1b0e0b7a541f0347586622dbd355ca42b7778cd",
        "collapsed": true,
        "id": "SsnxBe2k-scx",
        "outputId": "77dbd90f-07d2-468f-df5f-cb58a6d55e38"
      },
      "source": [
        "#break it into pieces:\n",
        "pieces = [df[:3], df[3:7], df[7:]]\n",
        "pieces"
      ],
      "execution_count": null,
      "outputs": [
        {
          "output_type": "execute_result",
          "data": {
            "text/plain": [
              "[          0         1         2         3\n",
              " 0 -0.436112  0.302169  0.067651  0.967016\n",
              " 1 -0.077582  0.491488  0.325616 -1.142436\n",
              " 2  1.431596  0.137711  0.139401  0.928530,\n",
              "           0         1         2         3\n",
              " 3 -0.595253  0.152700  0.332961  0.827073\n",
              " 4  0.705462 -1.262584 -0.177256  1.388932\n",
              " 5 -1.004146  0.399645 -0.439888  0.625605\n",
              " 6  0.017679  0.493244  0.364786  0.333770,\n",
              "           0         1         2         3\n",
              " 7  0.665226 -0.487820  0.125152  0.743315\n",
              " 8  0.544550  0.456231 -0.972469 -0.176727\n",
              " 9 -0.799549  0.198477  1.500031 -0.340852]"
            ]
          },
          "metadata": {
            "tags": []
          },
          "execution_count": 55
        }
      ]
    },
    {
      "cell_type": "code",
      "metadata": {
        "_cell_guid": "aa28f68e-a314-4bbe-a71b-568238c3be23",
        "_uuid": "ec51477795c9b3f0bd0366d130175b226cc9232b",
        "collapsed": true,
        "id": "ei15hrGo-scz",
        "outputId": "b596b28d-0eca-41dc-ebc4-991d0f25d868"
      },
      "source": [
        "pd.concat(pieces)\n"
      ],
      "execution_count": null,
      "outputs": [
        {
          "output_type": "execute_result",
          "data": {
            "text/html": [
              "<div>\n",
              "<style>\n",
              "    .dataframe thead tr:only-child th {\n",
              "        text-align: right;\n",
              "    }\n",
              "\n",
              "    .dataframe thead th {\n",
              "        text-align: left;\n",
              "    }\n",
              "\n",
              "    .dataframe tbody tr th {\n",
              "        vertical-align: top;\n",
              "    }\n",
              "</style>\n",
              "<table border=\"1\" class=\"dataframe\">\n",
              "  <thead>\n",
              "    <tr style=\"text-align: right;\">\n",
              "      <th></th>\n",
              "      <th>0</th>\n",
              "      <th>1</th>\n",
              "      <th>2</th>\n",
              "      <th>3</th>\n",
              "    </tr>\n",
              "  </thead>\n",
              "  <tbody>\n",
              "    <tr>\n",
              "      <th>0</th>\n",
              "      <td>-0.436112</td>\n",
              "      <td>0.302169</td>\n",
              "      <td>0.067651</td>\n",
              "      <td>0.967016</td>\n",
              "    </tr>\n",
              "    <tr>\n",
              "      <th>1</th>\n",
              "      <td>-0.077582</td>\n",
              "      <td>0.491488</td>\n",
              "      <td>0.325616</td>\n",
              "      <td>-1.142436</td>\n",
              "    </tr>\n",
              "    <tr>\n",
              "      <th>2</th>\n",
              "      <td>1.431596</td>\n",
              "      <td>0.137711</td>\n",
              "      <td>0.139401</td>\n",
              "      <td>0.928530</td>\n",
              "    </tr>\n",
              "    <tr>\n",
              "      <th>3</th>\n",
              "      <td>-0.595253</td>\n",
              "      <td>0.152700</td>\n",
              "      <td>0.332961</td>\n",
              "      <td>0.827073</td>\n",
              "    </tr>\n",
              "    <tr>\n",
              "      <th>4</th>\n",
              "      <td>0.705462</td>\n",
              "      <td>-1.262584</td>\n",
              "      <td>-0.177256</td>\n",
              "      <td>1.388932</td>\n",
              "    </tr>\n",
              "    <tr>\n",
              "      <th>5</th>\n",
              "      <td>-1.004146</td>\n",
              "      <td>0.399645</td>\n",
              "      <td>-0.439888</td>\n",
              "      <td>0.625605</td>\n",
              "    </tr>\n",
              "    <tr>\n",
              "      <th>6</th>\n",
              "      <td>0.017679</td>\n",
              "      <td>0.493244</td>\n",
              "      <td>0.364786</td>\n",
              "      <td>0.333770</td>\n",
              "    </tr>\n",
              "    <tr>\n",
              "      <th>7</th>\n",
              "      <td>0.665226</td>\n",
              "      <td>-0.487820</td>\n",
              "      <td>0.125152</td>\n",
              "      <td>0.743315</td>\n",
              "    </tr>\n",
              "    <tr>\n",
              "      <th>8</th>\n",
              "      <td>0.544550</td>\n",
              "      <td>0.456231</td>\n",
              "      <td>-0.972469</td>\n",
              "      <td>-0.176727</td>\n",
              "    </tr>\n",
              "    <tr>\n",
              "      <th>9</th>\n",
              "      <td>-0.799549</td>\n",
              "      <td>0.198477</td>\n",
              "      <td>1.500031</td>\n",
              "      <td>-0.340852</td>\n",
              "    </tr>\n",
              "  </tbody>\n",
              "</table>\n",
              "</div>"
            ],
            "text/plain": [
              "          0         1         2         3\n",
              "0 -0.436112  0.302169  0.067651  0.967016\n",
              "1 -0.077582  0.491488  0.325616 -1.142436\n",
              "2  1.431596  0.137711  0.139401  0.928530\n",
              "3 -0.595253  0.152700  0.332961  0.827073\n",
              "4  0.705462 -1.262584 -0.177256  1.388932\n",
              "5 -1.004146  0.399645 -0.439888  0.625605\n",
              "6  0.017679  0.493244  0.364786  0.333770\n",
              "7  0.665226 -0.487820  0.125152  0.743315\n",
              "8  0.544550  0.456231 -0.972469 -0.176727\n",
              "9 -0.799549  0.198477  1.500031 -0.340852"
            ]
          },
          "metadata": {
            "tags": []
          },
          "execution_count": 56
        }
      ]
    },
    {
      "cell_type": "markdown",
      "metadata": {
        "_cell_guid": "62030eae-f3ff-4d73-816b-a7c9b16d557d",
        "_uuid": "bd71a71d0715857037ccb116bec2084ac65f0a17",
        "id": "JO_Alg2Y-sc3"
      },
      "source": [
        "### Join"
      ]
    },
    {
      "cell_type": "markdown",
      "metadata": {
        "_cell_guid": "1fc997a6-5359-4fcd-bd1a-b0348f71b819",
        "_uuid": "2e5ea2b06b8349ad6e39af887988652edb8fbb73",
        "id": "z57yWjg1-sc3"
      },
      "source": [
        "SQL style merges. See the [Database style joining](https://pandas.pydata.org/pandas-docs/stable/merging.html#merging-join)"
      ]
    },
    {
      "cell_type": "code",
      "metadata": {
        "_cell_guid": "e4564981-808b-4154-8e35-6e94c2883821",
        "_uuid": "ae963f9acd041abc13954a8b57425a162550106f",
        "collapsed": true,
        "id": "1oHxMmri-sc4",
        "outputId": "a2273cb9-994d-4118-87f6-fade5b652975"
      },
      "source": [
        "left = pd.DataFrame({'key': ['foo', 'foo'], 'lval': [1, 2]})\n",
        "left"
      ],
      "execution_count": null,
      "outputs": [
        {
          "output_type": "execute_result",
          "data": {
            "text/html": [
              "<div>\n",
              "<style>\n",
              "    .dataframe thead tr:only-child th {\n",
              "        text-align: right;\n",
              "    }\n",
              "\n",
              "    .dataframe thead th {\n",
              "        text-align: left;\n",
              "    }\n",
              "\n",
              "    .dataframe tbody tr th {\n",
              "        vertical-align: top;\n",
              "    }\n",
              "</style>\n",
              "<table border=\"1\" class=\"dataframe\">\n",
              "  <thead>\n",
              "    <tr style=\"text-align: right;\">\n",
              "      <th></th>\n",
              "      <th>key</th>\n",
              "      <th>lval</th>\n",
              "    </tr>\n",
              "  </thead>\n",
              "  <tbody>\n",
              "    <tr>\n",
              "      <th>0</th>\n",
              "      <td>foo</td>\n",
              "      <td>1</td>\n",
              "    </tr>\n",
              "    <tr>\n",
              "      <th>1</th>\n",
              "      <td>foo</td>\n",
              "      <td>2</td>\n",
              "    </tr>\n",
              "  </tbody>\n",
              "</table>\n",
              "</div>"
            ],
            "text/plain": [
              "   key  lval\n",
              "0  foo     1\n",
              "1  foo     2"
            ]
          },
          "metadata": {
            "tags": []
          },
          "execution_count": 57
        }
      ]
    },
    {
      "cell_type": "code",
      "metadata": {
        "_cell_guid": "4fc7aac1-cf73-4026-9f1a-765b5a8177b3",
        "_uuid": "4c66f190e7c6b22d22629bba2da2b253ebc0258d",
        "collapsed": true,
        "id": "O5wv9uhi-sc6",
        "outputId": "86d7bcef-721a-4556-b608-e96de7516d41"
      },
      "source": [
        "right = pd.DataFrame({'key': ['foo', 'foo'], 'rval': [4, 5]})\n",
        "right"
      ],
      "execution_count": null,
      "outputs": [
        {
          "output_type": "execute_result",
          "data": {
            "text/html": [
              "<div>\n",
              "<style>\n",
              "    .dataframe thead tr:only-child th {\n",
              "        text-align: right;\n",
              "    }\n",
              "\n",
              "    .dataframe thead th {\n",
              "        text-align: left;\n",
              "    }\n",
              "\n",
              "    .dataframe tbody tr th {\n",
              "        vertical-align: top;\n",
              "    }\n",
              "</style>\n",
              "<table border=\"1\" class=\"dataframe\">\n",
              "  <thead>\n",
              "    <tr style=\"text-align: right;\">\n",
              "      <th></th>\n",
              "      <th>key</th>\n",
              "      <th>rval</th>\n",
              "    </tr>\n",
              "  </thead>\n",
              "  <tbody>\n",
              "    <tr>\n",
              "      <th>0</th>\n",
              "      <td>foo</td>\n",
              "      <td>4</td>\n",
              "    </tr>\n",
              "    <tr>\n",
              "      <th>1</th>\n",
              "      <td>foo</td>\n",
              "      <td>5</td>\n",
              "    </tr>\n",
              "  </tbody>\n",
              "</table>\n",
              "</div>"
            ],
            "text/plain": [
              "   key  rval\n",
              "0  foo     4\n",
              "1  foo     5"
            ]
          },
          "metadata": {
            "tags": []
          },
          "execution_count": 58
        }
      ]
    },
    {
      "cell_type": "code",
      "metadata": {
        "_cell_guid": "d5208a6c-f5d4-4e03-9ae0-bbfb8c119e36",
        "_uuid": "72654ecbb57e52b793ee3be15f82cade614c6158",
        "collapsed": true,
        "id": "geUvAv-8-sc8",
        "outputId": "27b702e2-b4ab-4a59-e1fc-9d8860eb3709"
      },
      "source": [
        "pd.merge(left,right,on='key')"
      ],
      "execution_count": null,
      "outputs": [
        {
          "output_type": "execute_result",
          "data": {
            "text/html": [
              "<div>\n",
              "<style>\n",
              "    .dataframe thead tr:only-child th {\n",
              "        text-align: right;\n",
              "    }\n",
              "\n",
              "    .dataframe thead th {\n",
              "        text-align: left;\n",
              "    }\n",
              "\n",
              "    .dataframe tbody tr th {\n",
              "        vertical-align: top;\n",
              "    }\n",
              "</style>\n",
              "<table border=\"1\" class=\"dataframe\">\n",
              "  <thead>\n",
              "    <tr style=\"text-align: right;\">\n",
              "      <th></th>\n",
              "      <th>key</th>\n",
              "      <th>lval</th>\n",
              "      <th>rval</th>\n",
              "    </tr>\n",
              "  </thead>\n",
              "  <tbody>\n",
              "    <tr>\n",
              "      <th>0</th>\n",
              "      <td>foo</td>\n",
              "      <td>1</td>\n",
              "      <td>4</td>\n",
              "    </tr>\n",
              "    <tr>\n",
              "      <th>1</th>\n",
              "      <td>foo</td>\n",
              "      <td>1</td>\n",
              "      <td>5</td>\n",
              "    </tr>\n",
              "    <tr>\n",
              "      <th>2</th>\n",
              "      <td>foo</td>\n",
              "      <td>2</td>\n",
              "      <td>4</td>\n",
              "    </tr>\n",
              "    <tr>\n",
              "      <th>3</th>\n",
              "      <td>foo</td>\n",
              "      <td>2</td>\n",
              "      <td>5</td>\n",
              "    </tr>\n",
              "  </tbody>\n",
              "</table>\n",
              "</div>"
            ],
            "text/plain": [
              "   key  lval  rval\n",
              "0  foo     1     4\n",
              "1  foo     1     5\n",
              "2  foo     2     4\n",
              "3  foo     2     5"
            ]
          },
          "metadata": {
            "tags": []
          },
          "execution_count": 59
        }
      ]
    },
    {
      "cell_type": "markdown",
      "metadata": {
        "_cell_guid": "1bac3a7a-793c-4af0-a6a4-7a52ee72058d",
        "_uuid": "c1d886d9d9ebee002af9f789a1b7acf9ede81959",
        "id": "wlGVFwkj-sc_"
      },
      "source": [
        "Another example that can be given is:"
      ]
    },
    {
      "cell_type": "code",
      "metadata": {
        "_cell_guid": "ec2e4826-c7f0-44e1-90aa-cd981d8deb4f",
        "_uuid": "bc2f4621a6c78f60b886b35ec9a6aceaf4f7f1a6",
        "collapsed": true,
        "id": "7Sy_ksOJ-sc_",
        "outputId": "f35a25de-2393-4515-d99a-b983990d2ef9"
      },
      "source": [
        "left = pd.DataFrame({'key': ['foo', 'bar'], 'lval': [1, 2]})\n",
        "left"
      ],
      "execution_count": null,
      "outputs": [
        {
          "output_type": "execute_result",
          "data": {
            "text/html": [
              "<div>\n",
              "<style>\n",
              "    .dataframe thead tr:only-child th {\n",
              "        text-align: right;\n",
              "    }\n",
              "\n",
              "    .dataframe thead th {\n",
              "        text-align: left;\n",
              "    }\n",
              "\n",
              "    .dataframe tbody tr th {\n",
              "        vertical-align: top;\n",
              "    }\n",
              "</style>\n",
              "<table border=\"1\" class=\"dataframe\">\n",
              "  <thead>\n",
              "    <tr style=\"text-align: right;\">\n",
              "      <th></th>\n",
              "      <th>key</th>\n",
              "      <th>lval</th>\n",
              "    </tr>\n",
              "  </thead>\n",
              "  <tbody>\n",
              "    <tr>\n",
              "      <th>0</th>\n",
              "      <td>foo</td>\n",
              "      <td>1</td>\n",
              "    </tr>\n",
              "    <tr>\n",
              "      <th>1</th>\n",
              "      <td>bar</td>\n",
              "      <td>2</td>\n",
              "    </tr>\n",
              "  </tbody>\n",
              "</table>\n",
              "</div>"
            ],
            "text/plain": [
              "   key  lval\n",
              "0  foo     1\n",
              "1  bar     2"
            ]
          },
          "metadata": {
            "tags": []
          },
          "execution_count": 60
        }
      ]
    },
    {
      "cell_type": "code",
      "metadata": {
        "_cell_guid": "e5c24cf6-23e1-4949-9fee-bdedd1ad4130",
        "_uuid": "337fd14edbbaeedb42b598f0a185e235f71d673a",
        "collapsed": true,
        "id": "kFVMmqmB-sdC",
        "outputId": "c041400b-f6f7-4091-9e0a-b66901248642"
      },
      "source": [
        "right = pd.DataFrame({'key': ['foo', 'bar'], 'rval': [4, 5]})\n",
        "right"
      ],
      "execution_count": null,
      "outputs": [
        {
          "output_type": "execute_result",
          "data": {
            "text/html": [
              "<div>\n",
              "<style>\n",
              "    .dataframe thead tr:only-child th {\n",
              "        text-align: right;\n",
              "    }\n",
              "\n",
              "    .dataframe thead th {\n",
              "        text-align: left;\n",
              "    }\n",
              "\n",
              "    .dataframe tbody tr th {\n",
              "        vertical-align: top;\n",
              "    }\n",
              "</style>\n",
              "<table border=\"1\" class=\"dataframe\">\n",
              "  <thead>\n",
              "    <tr style=\"text-align: right;\">\n",
              "      <th></th>\n",
              "      <th>key</th>\n",
              "      <th>rval</th>\n",
              "    </tr>\n",
              "  </thead>\n",
              "  <tbody>\n",
              "    <tr>\n",
              "      <th>0</th>\n",
              "      <td>foo</td>\n",
              "      <td>4</td>\n",
              "    </tr>\n",
              "    <tr>\n",
              "      <th>1</th>\n",
              "      <td>bar</td>\n",
              "      <td>5</td>\n",
              "    </tr>\n",
              "  </tbody>\n",
              "</table>\n",
              "</div>"
            ],
            "text/plain": [
              "   key  rval\n",
              "0  foo     4\n",
              "1  bar     5"
            ]
          },
          "metadata": {
            "tags": []
          },
          "execution_count": 61
        }
      ]
    },
    {
      "cell_type": "code",
      "metadata": {
        "_cell_guid": "475c1acd-7405-4994-a861-28c7a8416b54",
        "_uuid": "acdb46712ef690150987d134784361bbc32eb90b",
        "collapsed": true,
        "id": "TMTBo8tH-sdE",
        "outputId": "0b5f7ca0-6a9e-4ff1-df5f-bf45fd8ec17d"
      },
      "source": [
        "pd.merge(left, right, on='key')"
      ],
      "execution_count": null,
      "outputs": [
        {
          "output_type": "execute_result",
          "data": {
            "text/html": [
              "<div>\n",
              "<style>\n",
              "    .dataframe thead tr:only-child th {\n",
              "        text-align: right;\n",
              "    }\n",
              "\n",
              "    .dataframe thead th {\n",
              "        text-align: left;\n",
              "    }\n",
              "\n",
              "    .dataframe tbody tr th {\n",
              "        vertical-align: top;\n",
              "    }\n",
              "</style>\n",
              "<table border=\"1\" class=\"dataframe\">\n",
              "  <thead>\n",
              "    <tr style=\"text-align: right;\">\n",
              "      <th></th>\n",
              "      <th>key</th>\n",
              "      <th>lval</th>\n",
              "      <th>rval</th>\n",
              "    </tr>\n",
              "  </thead>\n",
              "  <tbody>\n",
              "    <tr>\n",
              "      <th>0</th>\n",
              "      <td>foo</td>\n",
              "      <td>1</td>\n",
              "      <td>4</td>\n",
              "    </tr>\n",
              "    <tr>\n",
              "      <th>1</th>\n",
              "      <td>bar</td>\n",
              "      <td>2</td>\n",
              "      <td>5</td>\n",
              "    </tr>\n",
              "  </tbody>\n",
              "</table>\n",
              "</div>"
            ],
            "text/plain": [
              "   key  lval  rval\n",
              "0  foo     1     4\n",
              "1  bar     2     5"
            ]
          },
          "metadata": {
            "tags": []
          },
          "execution_count": 62
        }
      ]
    },
    {
      "cell_type": "markdown",
      "metadata": {
        "_cell_guid": "dae9ef46-214d-48e2-ba5c-7e8191f33320",
        "_uuid": "52dfbaeb0fc5416d2e15972f3f544b689f32b701",
        "id": "5NrqrBpq-sdH"
      },
      "source": [
        "### Append\n",
        "Append rows to a dataframe. See the [Appending](https://pandas.pydata.org/pandas-docs/stable/merging.html#merging-concatenation)"
      ]
    },
    {
      "cell_type": "code",
      "metadata": {
        "_cell_guid": "df5cdd4b-3313-4a96-82cc-873ad0c67565",
        "_uuid": "4475724eba1b82530cfd5c7d32d46f4d3c2be1a5",
        "collapsed": true,
        "id": "hlnv_5g6-sdH",
        "outputId": "5448b834-4933-477a-fd83-b1840ad6d9d6"
      },
      "source": [
        "df = pd.DataFrame(np.random.randn(8, 4), columns=['A','B','C','D'])\n",
        "df"
      ],
      "execution_count": null,
      "outputs": [
        {
          "output_type": "execute_result",
          "data": {
            "text/html": [
              "<div>\n",
              "<style>\n",
              "    .dataframe thead tr:only-child th {\n",
              "        text-align: right;\n",
              "    }\n",
              "\n",
              "    .dataframe thead th {\n",
              "        text-align: left;\n",
              "    }\n",
              "\n",
              "    .dataframe tbody tr th {\n",
              "        vertical-align: top;\n",
              "    }\n",
              "</style>\n",
              "<table border=\"1\" class=\"dataframe\">\n",
              "  <thead>\n",
              "    <tr style=\"text-align: right;\">\n",
              "      <th></th>\n",
              "      <th>A</th>\n",
              "      <th>B</th>\n",
              "      <th>C</th>\n",
              "      <th>D</th>\n",
              "    </tr>\n",
              "  </thead>\n",
              "  <tbody>\n",
              "    <tr>\n",
              "      <th>0</th>\n",
              "      <td>0.456646</td>\n",
              "      <td>1.421271</td>\n",
              "      <td>0.977136</td>\n",
              "      <td>-1.999726</td>\n",
              "    </tr>\n",
              "    <tr>\n",
              "      <th>1</th>\n",
              "      <td>-0.223248</td>\n",
              "      <td>1.143462</td>\n",
              "      <td>0.078680</td>\n",
              "      <td>0.304016</td>\n",
              "    </tr>\n",
              "    <tr>\n",
              "      <th>2</th>\n",
              "      <td>-1.283058</td>\n",
              "      <td>-0.533155</td>\n",
              "      <td>0.112845</td>\n",
              "      <td>1.722456</td>\n",
              "    </tr>\n",
              "    <tr>\n",
              "      <th>3</th>\n",
              "      <td>0.003237</td>\n",
              "      <td>1.082237</td>\n",
              "      <td>0.676849</td>\n",
              "      <td>-0.141792</td>\n",
              "    </tr>\n",
              "    <tr>\n",
              "      <th>4</th>\n",
              "      <td>-2.226915</td>\n",
              "      <td>1.328215</td>\n",
              "      <td>0.253559</td>\n",
              "      <td>-1.376209</td>\n",
              "    </tr>\n",
              "    <tr>\n",
              "      <th>5</th>\n",
              "      <td>0.858082</td>\n",
              "      <td>-1.005122</td>\n",
              "      <td>-0.922258</td>\n",
              "      <td>0.541143</td>\n",
              "    </tr>\n",
              "    <tr>\n",
              "      <th>6</th>\n",
              "      <td>0.568793</td>\n",
              "      <td>0.402721</td>\n",
              "      <td>-0.347052</td>\n",
              "      <td>0.672379</td>\n",
              "    </tr>\n",
              "    <tr>\n",
              "      <th>7</th>\n",
              "      <td>1.118566</td>\n",
              "      <td>-0.045804</td>\n",
              "      <td>0.023041</td>\n",
              "      <td>0.221892</td>\n",
              "    </tr>\n",
              "  </tbody>\n",
              "</table>\n",
              "</div>"
            ],
            "text/plain": [
              "          A         B         C         D\n",
              "0  0.456646  1.421271  0.977136 -1.999726\n",
              "1 -0.223248  1.143462  0.078680  0.304016\n",
              "2 -1.283058 -0.533155  0.112845  1.722456\n",
              "3  0.003237  1.082237  0.676849 -0.141792\n",
              "4 -2.226915  1.328215  0.253559 -1.376209\n",
              "5  0.858082 -1.005122 -0.922258  0.541143\n",
              "6  0.568793  0.402721 -0.347052  0.672379\n",
              "7  1.118566 -0.045804  0.023041  0.221892"
            ]
          },
          "metadata": {
            "tags": []
          },
          "execution_count": 63
        }
      ]
    },
    {
      "cell_type": "code",
      "metadata": {
        "_cell_guid": "b15aafac-1acf-4dff-87fc-3e43b9e0ae68",
        "_uuid": "963ccfe458e2b84996e688c787dc9daf00ddfa2f",
        "collapsed": true,
        "id": "rX3qy0xQ-sdK",
        "outputId": "8b954a7a-7f28-4df4-fb60-df632ff4ac27"
      },
      "source": [
        "s = df.iloc[3]\n",
        "s"
      ],
      "execution_count": null,
      "outputs": [
        {
          "output_type": "execute_result",
          "data": {
            "text/plain": [
              "A    0.003237\n",
              "B    1.082237\n",
              "C    0.676849\n",
              "D   -0.141792\n",
              "Name: 3, dtype: float64"
            ]
          },
          "metadata": {
            "tags": []
          },
          "execution_count": 64
        }
      ]
    },
    {
      "cell_type": "code",
      "metadata": {
        "_cell_guid": "8e8e9c59-b72f-423a-888b-adb66ff31f0d",
        "_uuid": "5de0b99314a3e8b7d347050a5d09f729dd54ed52",
        "collapsed": true,
        "id": "b7qO9N4m-sdM",
        "outputId": "9cbe0d96-9161-445d-cc81-c7baadea7797"
      },
      "source": [
        "df.append(s,ignore_index=True)"
      ],
      "execution_count": null,
      "outputs": [
        {
          "output_type": "execute_result",
          "data": {
            "text/html": [
              "<div>\n",
              "<style>\n",
              "    .dataframe thead tr:only-child th {\n",
              "        text-align: right;\n",
              "    }\n",
              "\n",
              "    .dataframe thead th {\n",
              "        text-align: left;\n",
              "    }\n",
              "\n",
              "    .dataframe tbody tr th {\n",
              "        vertical-align: top;\n",
              "    }\n",
              "</style>\n",
              "<table border=\"1\" class=\"dataframe\">\n",
              "  <thead>\n",
              "    <tr style=\"text-align: right;\">\n",
              "      <th></th>\n",
              "      <th>A</th>\n",
              "      <th>B</th>\n",
              "      <th>C</th>\n",
              "      <th>D</th>\n",
              "    </tr>\n",
              "  </thead>\n",
              "  <tbody>\n",
              "    <tr>\n",
              "      <th>0</th>\n",
              "      <td>0.456646</td>\n",
              "      <td>1.421271</td>\n",
              "      <td>0.977136</td>\n",
              "      <td>-1.999726</td>\n",
              "    </tr>\n",
              "    <tr>\n",
              "      <th>1</th>\n",
              "      <td>-0.223248</td>\n",
              "      <td>1.143462</td>\n",
              "      <td>0.078680</td>\n",
              "      <td>0.304016</td>\n",
              "    </tr>\n",
              "    <tr>\n",
              "      <th>2</th>\n",
              "      <td>-1.283058</td>\n",
              "      <td>-0.533155</td>\n",
              "      <td>0.112845</td>\n",
              "      <td>1.722456</td>\n",
              "    </tr>\n",
              "    <tr>\n",
              "      <th>3</th>\n",
              "      <td>0.003237</td>\n",
              "      <td>1.082237</td>\n",
              "      <td>0.676849</td>\n",
              "      <td>-0.141792</td>\n",
              "    </tr>\n",
              "    <tr>\n",
              "      <th>4</th>\n",
              "      <td>-2.226915</td>\n",
              "      <td>1.328215</td>\n",
              "      <td>0.253559</td>\n",
              "      <td>-1.376209</td>\n",
              "    </tr>\n",
              "    <tr>\n",
              "      <th>5</th>\n",
              "      <td>0.858082</td>\n",
              "      <td>-1.005122</td>\n",
              "      <td>-0.922258</td>\n",
              "      <td>0.541143</td>\n",
              "    </tr>\n",
              "    <tr>\n",
              "      <th>6</th>\n",
              "      <td>0.568793</td>\n",
              "      <td>0.402721</td>\n",
              "      <td>-0.347052</td>\n",
              "      <td>0.672379</td>\n",
              "    </tr>\n",
              "    <tr>\n",
              "      <th>7</th>\n",
              "      <td>1.118566</td>\n",
              "      <td>-0.045804</td>\n",
              "      <td>0.023041</td>\n",
              "      <td>0.221892</td>\n",
              "    </tr>\n",
              "    <tr>\n",
              "      <th>8</th>\n",
              "      <td>0.003237</td>\n",
              "      <td>1.082237</td>\n",
              "      <td>0.676849</td>\n",
              "      <td>-0.141792</td>\n",
              "    </tr>\n",
              "  </tbody>\n",
              "</table>\n",
              "</div>"
            ],
            "text/plain": [
              "          A         B         C         D\n",
              "0  0.456646  1.421271  0.977136 -1.999726\n",
              "1 -0.223248  1.143462  0.078680  0.304016\n",
              "2 -1.283058 -0.533155  0.112845  1.722456\n",
              "3  0.003237  1.082237  0.676849 -0.141792\n",
              "4 -2.226915  1.328215  0.253559 -1.376209\n",
              "5  0.858082 -1.005122 -0.922258  0.541143\n",
              "6  0.568793  0.402721 -0.347052  0.672379\n",
              "7  1.118566 -0.045804  0.023041  0.221892\n",
              "8  0.003237  1.082237  0.676849 -0.141792"
            ]
          },
          "metadata": {
            "tags": []
          },
          "execution_count": 65
        }
      ]
    },
    {
      "cell_type": "markdown",
      "metadata": {
        "_cell_guid": "dbf8666d-7af7-4fd0-b40a-5dd3a93cc0cb",
        "_uuid": "9f29392de68aceec0cadc01ccdfc2c124e6821f2",
        "id": "DIv9NW5f-sdW"
      },
      "source": [
        "# Grouping\n",
        "By “group by” we are referring to a process involving one or more of the following steps\n",
        "\n",
        "Splitting the data into groups based on some criteria\n",
        "Applying a function to each group independently\n",
        "Combining the results into a data structure\n",
        "\n",
        "See the [Grouping section](https://pandas.pydata.org/pandas-docs/stable/groupby.html#groupby)"
      ]
    },
    {
      "cell_type": "code",
      "metadata": {
        "_cell_guid": "23331b94-daca-4454-9f8c-f442169e5062",
        "_uuid": "4934d8285f1ed9fc748cb571d8bf212d6f4880ed",
        "collapsed": true,
        "id": "TGaWEv-z-sdX",
        "outputId": "4d2d6aeb-8f88-4f28-d937-8e1f6927ac3d"
      },
      "source": [
        "df = pd.DataFrame({'A' : ['foo', 'bar', 'foo', 'bar',\n",
        "   ....:                           'foo', 'bar', 'foo', 'foo'],\n",
        "   ....:                    'B' : ['one', 'one', 'two', 'three',\n",
        "   ....:                           'two', 'two', 'one', 'three'],\n",
        "   ....:                    'C' : np.random.randn(8),\n",
        "   ....:                    'D' : np.random.randn(8)})\n",
        "df"
      ],
      "execution_count": null,
      "outputs": [
        {
          "output_type": "execute_result",
          "data": {
            "text/html": [
              "<div>\n",
              "<style>\n",
              "    .dataframe thead tr:only-child th {\n",
              "        text-align: right;\n",
              "    }\n",
              "\n",
              "    .dataframe thead th {\n",
              "        text-align: left;\n",
              "    }\n",
              "\n",
              "    .dataframe tbody tr th {\n",
              "        vertical-align: top;\n",
              "    }\n",
              "</style>\n",
              "<table border=\"1\" class=\"dataframe\">\n",
              "  <thead>\n",
              "    <tr style=\"text-align: right;\">\n",
              "      <th></th>\n",
              "      <th>A</th>\n",
              "      <th>B</th>\n",
              "      <th>C</th>\n",
              "      <th>D</th>\n",
              "    </tr>\n",
              "  </thead>\n",
              "  <tbody>\n",
              "    <tr>\n",
              "      <th>0</th>\n",
              "      <td>foo</td>\n",
              "      <td>one</td>\n",
              "      <td>-0.671250</td>\n",
              "      <td>-0.331143</td>\n",
              "    </tr>\n",
              "    <tr>\n",
              "      <th>1</th>\n",
              "      <td>bar</td>\n",
              "      <td>one</td>\n",
              "      <td>-0.495065</td>\n",
              "      <td>1.478643</td>\n",
              "    </tr>\n",
              "    <tr>\n",
              "      <th>2</th>\n",
              "      <td>foo</td>\n",
              "      <td>two</td>\n",
              "      <td>1.439880</td>\n",
              "      <td>0.703543</td>\n",
              "    </tr>\n",
              "    <tr>\n",
              "      <th>3</th>\n",
              "      <td>bar</td>\n",
              "      <td>three</td>\n",
              "      <td>-0.481897</td>\n",
              "      <td>-0.126245</td>\n",
              "    </tr>\n",
              "    <tr>\n",
              "      <th>4</th>\n",
              "      <td>foo</td>\n",
              "      <td>two</td>\n",
              "      <td>1.507422</td>\n",
              "      <td>0.078659</td>\n",
              "    </tr>\n",
              "    <tr>\n",
              "      <th>5</th>\n",
              "      <td>bar</td>\n",
              "      <td>two</td>\n",
              "      <td>0.894381</td>\n",
              "      <td>1.346379</td>\n",
              "    </tr>\n",
              "    <tr>\n",
              "      <th>6</th>\n",
              "      <td>foo</td>\n",
              "      <td>one</td>\n",
              "      <td>0.741226</td>\n",
              "      <td>0.988908</td>\n",
              "    </tr>\n",
              "    <tr>\n",
              "      <th>7</th>\n",
              "      <td>foo</td>\n",
              "      <td>three</td>\n",
              "      <td>-0.010205</td>\n",
              "      <td>-0.642624</td>\n",
              "    </tr>\n",
              "  </tbody>\n",
              "</table>\n",
              "</div>"
            ],
            "text/plain": [
              "     A      B         C         D\n",
              "0  foo    one -0.671250 -0.331143\n",
              "1  bar    one -0.495065  1.478643\n",
              "2  foo    two  1.439880  0.703543\n",
              "3  bar  three -0.481897 -0.126245\n",
              "4  foo    two  1.507422  0.078659\n",
              "5  bar    two  0.894381  1.346379\n",
              "6  foo    one  0.741226  0.988908\n",
              "7  foo  three -0.010205 -0.642624"
            ]
          },
          "metadata": {
            "tags": []
          },
          "execution_count": 66
        }
      ]
    },
    {
      "cell_type": "markdown",
      "metadata": {
        "_cell_guid": "6ba9b996-c9dc-4ea0-901b-32ee9251529c",
        "_uuid": "c58620f714db8772c05d14a5945c69db2e2f8e62",
        "id": "Pwjzg5eG-sdZ"
      },
      "source": [
        "Grouping and then applying a function sum to the resulting groups."
      ]
    },
    {
      "cell_type": "code",
      "metadata": {
        "_cell_guid": "ea8abe75-1945-402c-9a22-7d19393853ba",
        "_uuid": "98178d2cec0567107285d68e1dcb9aa411b74ad4",
        "collapsed": true,
        "id": "DxGVgQaw-sdZ",
        "outputId": "f9514ecd-8960-4eac-cfce-79171d662379"
      },
      "source": [
        "df.groupby('A').sum()"
      ],
      "execution_count": null,
      "outputs": [
        {
          "output_type": "execute_result",
          "data": {
            "text/html": [
              "<div>\n",
              "<style>\n",
              "    .dataframe thead tr:only-child th {\n",
              "        text-align: right;\n",
              "    }\n",
              "\n",
              "    .dataframe thead th {\n",
              "        text-align: left;\n",
              "    }\n",
              "\n",
              "    .dataframe tbody tr th {\n",
              "        vertical-align: top;\n",
              "    }\n",
              "</style>\n",
              "<table border=\"1\" class=\"dataframe\">\n",
              "  <thead>\n",
              "    <tr style=\"text-align: right;\">\n",
              "      <th></th>\n",
              "      <th>C</th>\n",
              "      <th>D</th>\n",
              "    </tr>\n",
              "    <tr>\n",
              "      <th>A</th>\n",
              "      <th></th>\n",
              "      <th></th>\n",
              "    </tr>\n",
              "  </thead>\n",
              "  <tbody>\n",
              "    <tr>\n",
              "      <th>bar</th>\n",
              "      <td>-0.082580</td>\n",
              "      <td>2.698776</td>\n",
              "    </tr>\n",
              "    <tr>\n",
              "      <th>foo</th>\n",
              "      <td>3.007072</td>\n",
              "      <td>0.797343</td>\n",
              "    </tr>\n",
              "  </tbody>\n",
              "</table>\n",
              "</div>"
            ],
            "text/plain": [
              "            C         D\n",
              "A                      \n",
              "bar -0.082580  2.698776\n",
              "foo  3.007072  0.797343"
            ]
          },
          "metadata": {
            "tags": []
          },
          "execution_count": 67
        }
      ]
    },
    {
      "cell_type": "markdown",
      "metadata": {
        "_cell_guid": "8d5181e7-9196-4575-979a-5167e1347f99",
        "_uuid": "4e11d0fa50d0c5f4ba267e7f13af361eb78715fa",
        "id": "FSgGlFLe-sdb"
      },
      "source": [
        "Grouping by multiple columns forms a hierarchical index, which we then apply the function."
      ]
    },
    {
      "cell_type": "code",
      "metadata": {
        "_cell_guid": "d4fd100b-cd69-4f81-afae-f1930e1d66c2",
        "_uuid": "f66bb1fb16b537febc7839743a177a222f4946e5",
        "collapsed": true,
        "id": "L3OUWS-2-sdc",
        "outputId": "d992d7ad-0bbd-4339-bc39-91fda1137700"
      },
      "source": [
        "df.groupby(['A','B']).sum()"
      ],
      "execution_count": null,
      "outputs": [
        {
          "output_type": "execute_result",
          "data": {
            "text/html": [
              "<div>\n",
              "<style>\n",
              "    .dataframe thead tr:only-child th {\n",
              "        text-align: right;\n",
              "    }\n",
              "\n",
              "    .dataframe thead th {\n",
              "        text-align: left;\n",
              "    }\n",
              "\n",
              "    .dataframe tbody tr th {\n",
              "        vertical-align: top;\n",
              "    }\n",
              "</style>\n",
              "<table border=\"1\" class=\"dataframe\">\n",
              "  <thead>\n",
              "    <tr style=\"text-align: right;\">\n",
              "      <th></th>\n",
              "      <th></th>\n",
              "      <th>C</th>\n",
              "      <th>D</th>\n",
              "    </tr>\n",
              "    <tr>\n",
              "      <th>A</th>\n",
              "      <th>B</th>\n",
              "      <th></th>\n",
              "      <th></th>\n",
              "    </tr>\n",
              "  </thead>\n",
              "  <tbody>\n",
              "    <tr>\n",
              "      <th rowspan=\"3\" valign=\"top\">bar</th>\n",
              "      <th>one</th>\n",
              "      <td>-0.495065</td>\n",
              "      <td>1.478643</td>\n",
              "    </tr>\n",
              "    <tr>\n",
              "      <th>three</th>\n",
              "      <td>-0.481897</td>\n",
              "      <td>-0.126245</td>\n",
              "    </tr>\n",
              "    <tr>\n",
              "      <th>two</th>\n",
              "      <td>0.894381</td>\n",
              "      <td>1.346379</td>\n",
              "    </tr>\n",
              "    <tr>\n",
              "      <th rowspan=\"3\" valign=\"top\">foo</th>\n",
              "      <th>one</th>\n",
              "      <td>0.069976</td>\n",
              "      <td>0.657765</td>\n",
              "    </tr>\n",
              "    <tr>\n",
              "      <th>three</th>\n",
              "      <td>-0.010205</td>\n",
              "      <td>-0.642624</td>\n",
              "    </tr>\n",
              "    <tr>\n",
              "      <th>two</th>\n",
              "      <td>2.947301</td>\n",
              "      <td>0.782203</td>\n",
              "    </tr>\n",
              "  </tbody>\n",
              "</table>\n",
              "</div>"
            ],
            "text/plain": [
              "                  C         D\n",
              "A   B                        \n",
              "bar one   -0.495065  1.478643\n",
              "    three -0.481897 -0.126245\n",
              "    two    0.894381  1.346379\n",
              "foo one    0.069976  0.657765\n",
              "    three -0.010205 -0.642624\n",
              "    two    2.947301  0.782203"
            ]
          },
          "metadata": {
            "tags": []
          },
          "execution_count": 68
        }
      ]
    },
    {
      "cell_type": "markdown",
      "metadata": {
        "_cell_guid": "d0c596d2-7b4a-4b22-80c9-fad65f090aba",
        "_uuid": "15911cf2e4cddee344569d63d9ed362efca7f919",
        "id": "wHMitNQr-sdf"
      },
      "source": [
        "# Reshaping\n",
        "See the sections on [Hierarchical Indexing](https://pandas.pydata.org/pandas-docs/stable/advanced.html#advanced-hierarchical) and [Reshaping](https://pandas.pydata.org/pandas-docs/stable/reshaping.html#reshaping-stacking).\n",
        "\n",
        "### Stack"
      ]
    },
    {
      "cell_type": "code",
      "metadata": {
        "_cell_guid": "266aea3e-433a-436a-83df-08551438f6df",
        "_uuid": "5d1deec928f77a06ad5d090b9a72c04168cda5c2",
        "collapsed": true,
        "id": "5sxQ_Evp-sdf",
        "outputId": "3613fc4d-181c-43a5-caae-2b805b7d35b9"
      },
      "source": [
        "tuples = list(zip(*[['bar', 'bar', 'baz', 'baz',\n",
        "   ....:                      'foo', 'foo', 'qux', 'qux'],\n",
        "   ....:                     ['one', 'two', 'one', 'two',\n",
        "   ....:                      'one', 'two', 'one', 'two']]))\n",
        "tuples"
      ],
      "execution_count": null,
      "outputs": [
        {
          "output_type": "execute_result",
          "data": {
            "text/plain": [
              "[('bar', 'one'),\n",
              " ('bar', 'two'),\n",
              " ('baz', 'one'),\n",
              " ('baz', 'two'),\n",
              " ('foo', 'one'),\n",
              " ('foo', 'two'),\n",
              " ('qux', 'one'),\n",
              " ('qux', 'two')]"
            ]
          },
          "metadata": {
            "tags": []
          },
          "execution_count": 69
        }
      ]
    },
    {
      "cell_type": "code",
      "metadata": {
        "_cell_guid": "084d1096-800c-4bc4-aa44-cea9599a65dd",
        "_uuid": "4568a8525a65f30a40a3c6cbae4b8c53eb403b97",
        "collapsed": true,
        "id": "Vcb1XHG9-sdj",
        "outputId": "a68522bd-1b13-4a44-89cc-ea0a04f6c84e"
      },
      "source": [
        "index = pd.MultiIndex.from_tuples(tuples, names=['first', 'second'])\n",
        "index"
      ],
      "execution_count": null,
      "outputs": [
        {
          "output_type": "execute_result",
          "data": {
            "text/plain": [
              "MultiIndex(levels=[['bar', 'baz', 'foo', 'qux'], ['one', 'two']],\n",
              "           labels=[[0, 0, 1, 1, 2, 2, 3, 3], [0, 1, 0, 1, 0, 1, 0, 1]],\n",
              "           names=['first', 'second'])"
            ]
          },
          "metadata": {
            "tags": []
          },
          "execution_count": 70
        }
      ]
    },
    {
      "cell_type": "code",
      "metadata": {
        "_cell_guid": "0764158a-666f-46d9-a981-c97df7b39b34",
        "_uuid": "a05b99f0ea1fa20c13aaad0e738045f14c97e8fb",
        "collapsed": true,
        "id": "LWHRNBtd-sdm",
        "outputId": "e546cae1-be06-4818-f8d7-91db6aa0ba46"
      },
      "source": [
        "df = pd.DataFrame(np.random.randn(8, 2), index=index, columns=['A', 'B'])\n",
        "df"
      ],
      "execution_count": null,
      "outputs": [
        {
          "output_type": "execute_result",
          "data": {
            "text/html": [
              "<div>\n",
              "<style>\n",
              "    .dataframe thead tr:only-child th {\n",
              "        text-align: right;\n",
              "    }\n",
              "\n",
              "    .dataframe thead th {\n",
              "        text-align: left;\n",
              "    }\n",
              "\n",
              "    .dataframe tbody tr th {\n",
              "        vertical-align: top;\n",
              "    }\n",
              "</style>\n",
              "<table border=\"1\" class=\"dataframe\">\n",
              "  <thead>\n",
              "    <tr style=\"text-align: right;\">\n",
              "      <th></th>\n",
              "      <th></th>\n",
              "      <th>A</th>\n",
              "      <th>B</th>\n",
              "    </tr>\n",
              "    <tr>\n",
              "      <th>first</th>\n",
              "      <th>second</th>\n",
              "      <th></th>\n",
              "      <th></th>\n",
              "    </tr>\n",
              "  </thead>\n",
              "  <tbody>\n",
              "    <tr>\n",
              "      <th rowspan=\"2\" valign=\"top\">bar</th>\n",
              "      <th>one</th>\n",
              "      <td>-0.427081</td>\n",
              "      <td>-0.448652</td>\n",
              "    </tr>\n",
              "    <tr>\n",
              "      <th>two</th>\n",
              "      <td>1.348324</td>\n",
              "      <td>0.224204</td>\n",
              "    </tr>\n",
              "    <tr>\n",
              "      <th rowspan=\"2\" valign=\"top\">baz</th>\n",
              "      <th>one</th>\n",
              "      <td>0.961195</td>\n",
              "      <td>-0.171636</td>\n",
              "    </tr>\n",
              "    <tr>\n",
              "      <th>two</th>\n",
              "      <td>-1.261235</td>\n",
              "      <td>-1.143567</td>\n",
              "    </tr>\n",
              "    <tr>\n",
              "      <th rowspan=\"2\" valign=\"top\">foo</th>\n",
              "      <th>one</th>\n",
              "      <td>-0.422736</td>\n",
              "      <td>-0.042326</td>\n",
              "    </tr>\n",
              "    <tr>\n",
              "      <th>two</th>\n",
              "      <td>0.050748</td>\n",
              "      <td>-2.078037</td>\n",
              "    </tr>\n",
              "    <tr>\n",
              "      <th rowspan=\"2\" valign=\"top\">qux</th>\n",
              "      <th>one</th>\n",
              "      <td>0.465950</td>\n",
              "      <td>0.799862</td>\n",
              "    </tr>\n",
              "    <tr>\n",
              "      <th>two</th>\n",
              "      <td>0.476400</td>\n",
              "      <td>-0.280527</td>\n",
              "    </tr>\n",
              "  </tbody>\n",
              "</table>\n",
              "</div>"
            ],
            "text/plain": [
              "                     A         B\n",
              "first second                    \n",
              "bar   one    -0.427081 -0.448652\n",
              "      two     1.348324  0.224204\n",
              "baz   one     0.961195 -0.171636\n",
              "      two    -1.261235 -1.143567\n",
              "foo   one    -0.422736 -0.042326\n",
              "      two     0.050748 -2.078037\n",
              "qux   one     0.465950  0.799862\n",
              "      two     0.476400 -0.280527"
            ]
          },
          "metadata": {
            "tags": []
          },
          "execution_count": 71
        }
      ]
    },
    {
      "cell_type": "markdown",
      "metadata": {
        "_cell_guid": "35cca8ca-6aed-4f7e-9d52-14f5ec8e4e42",
        "_uuid": "3987868916766e10a30f5bdc3d1759ae29aec4b0",
        "id": "D0ugeEZ4-sdn"
      },
      "source": [
        "The [stack()](https://pandas.pydata.org/pandas-docs/stable/generated/pandas.DataFrame.stack.html#pandas.DataFrame.stack) method “compresses” a level in the DataFrame’s columns."
      ]
    },
    {
      "cell_type": "code",
      "metadata": {
        "_cell_guid": "ba300ff7-e5a1-4169-9b00-6c5a13e4d557",
        "_uuid": "a05087c82e0941531337c2166c6027ce8b8e9624",
        "collapsed": true,
        "id": "9RGeJJuZ-sdo",
        "outputId": "4cd9880f-6d1e-4b60-d555-768b1fc4ad81"
      },
      "source": [
        "stacked = df.stack()\n",
        "stacked"
      ],
      "execution_count": null,
      "outputs": [
        {
          "output_type": "execute_result",
          "data": {
            "text/plain": [
              "first  second   \n",
              "bar    one     A   -0.427081\n",
              "               B   -0.448652\n",
              "       two     A    1.348324\n",
              "               B    0.224204\n",
              "baz    one     A    0.961195\n",
              "               B   -0.171636\n",
              "       two     A   -1.261235\n",
              "               B   -1.143567\n",
              "foo    one     A   -0.422736\n",
              "               B   -0.042326\n",
              "       two     A    0.050748\n",
              "               B   -2.078037\n",
              "qux    one     A    0.465950\n",
              "               B    0.799862\n",
              "       two     A    0.476400\n",
              "               B   -0.280527\n",
              "dtype: float64"
            ]
          },
          "metadata": {
            "tags": []
          },
          "execution_count": 72
        }
      ]
    },
    {
      "cell_type": "markdown",
      "metadata": {
        "_cell_guid": "e15acb89-1dd2-4ff4-90ca-796d6dc510b3",
        "_uuid": "b8d507f4029c20f98bb3a782845bc8ca13637a82",
        "id": "UiHZ4Y7G-sdq"
      },
      "source": [
        "With a “stacked” DataFrame or Series (having a MultiIndex as the index), the inverse operation of [stack()](https://pandas.pydata.org/pandas-docs/stable/generated/pandas.DataFrame.stack.html#pandas.DataFrame.stack) is [unstack()](https://pandas.pydata.org/pandas-docs/stable/generated/pandas.DataFrame.unstack.html#pandas.DataFrame.unstack), which by default unstacks the last level:"
      ]
    },
    {
      "cell_type": "code",
      "metadata": {
        "_cell_guid": "73d256c6-dd54-418d-b3c0-ce432f397763",
        "_uuid": "7ac035cd3392fdb6e9bc8bdf49b69c279309c018",
        "collapsed": true,
        "id": "RgEDiSZ9-sdr",
        "outputId": "20b233f2-a45a-4222-de26-c78ee0abda6b"
      },
      "source": [
        "stacked.unstack()"
      ],
      "execution_count": null,
      "outputs": [
        {
          "output_type": "execute_result",
          "data": {
            "text/html": [
              "<div>\n",
              "<style>\n",
              "    .dataframe thead tr:only-child th {\n",
              "        text-align: right;\n",
              "    }\n",
              "\n",
              "    .dataframe thead th {\n",
              "        text-align: left;\n",
              "    }\n",
              "\n",
              "    .dataframe tbody tr th {\n",
              "        vertical-align: top;\n",
              "    }\n",
              "</style>\n",
              "<table border=\"1\" class=\"dataframe\">\n",
              "  <thead>\n",
              "    <tr style=\"text-align: right;\">\n",
              "      <th></th>\n",
              "      <th></th>\n",
              "      <th>A</th>\n",
              "      <th>B</th>\n",
              "    </tr>\n",
              "    <tr>\n",
              "      <th>first</th>\n",
              "      <th>second</th>\n",
              "      <th></th>\n",
              "      <th></th>\n",
              "    </tr>\n",
              "  </thead>\n",
              "  <tbody>\n",
              "    <tr>\n",
              "      <th rowspan=\"2\" valign=\"top\">bar</th>\n",
              "      <th>one</th>\n",
              "      <td>-0.427081</td>\n",
              "      <td>-0.448652</td>\n",
              "    </tr>\n",
              "    <tr>\n",
              "      <th>two</th>\n",
              "      <td>1.348324</td>\n",
              "      <td>0.224204</td>\n",
              "    </tr>\n",
              "    <tr>\n",
              "      <th rowspan=\"2\" valign=\"top\">baz</th>\n",
              "      <th>one</th>\n",
              "      <td>0.961195</td>\n",
              "      <td>-0.171636</td>\n",
              "    </tr>\n",
              "    <tr>\n",
              "      <th>two</th>\n",
              "      <td>-1.261235</td>\n",
              "      <td>-1.143567</td>\n",
              "    </tr>\n",
              "    <tr>\n",
              "      <th rowspan=\"2\" valign=\"top\">foo</th>\n",
              "      <th>one</th>\n",
              "      <td>-0.422736</td>\n",
              "      <td>-0.042326</td>\n",
              "    </tr>\n",
              "    <tr>\n",
              "      <th>two</th>\n",
              "      <td>0.050748</td>\n",
              "      <td>-2.078037</td>\n",
              "    </tr>\n",
              "    <tr>\n",
              "      <th rowspan=\"2\" valign=\"top\">qux</th>\n",
              "      <th>one</th>\n",
              "      <td>0.465950</td>\n",
              "      <td>0.799862</td>\n",
              "    </tr>\n",
              "    <tr>\n",
              "      <th>two</th>\n",
              "      <td>0.476400</td>\n",
              "      <td>-0.280527</td>\n",
              "    </tr>\n",
              "  </tbody>\n",
              "</table>\n",
              "</div>"
            ],
            "text/plain": [
              "                     A         B\n",
              "first second                    \n",
              "bar   one    -0.427081 -0.448652\n",
              "      two     1.348324  0.224204\n",
              "baz   one     0.961195 -0.171636\n",
              "      two    -1.261235 -1.143567\n",
              "foo   one    -0.422736 -0.042326\n",
              "      two     0.050748 -2.078037\n",
              "qux   one     0.465950  0.799862\n",
              "      two     0.476400 -0.280527"
            ]
          },
          "metadata": {
            "tags": []
          },
          "execution_count": 73
        }
      ]
    },
    {
      "cell_type": "code",
      "metadata": {
        "_cell_guid": "cd7ae481-efc0-41cb-aacf-a7388c4111c0",
        "_uuid": "904cdcfbabb4492ab2a1a573c2cbd57f72bfe4bb",
        "collapsed": true,
        "id": "8h6BRHBJ-sdt",
        "outputId": "df0796d3-61df-4231-f65a-683eff969764"
      },
      "source": [
        "stacked.unstack(1)"
      ],
      "execution_count": null,
      "outputs": [
        {
          "output_type": "execute_result",
          "data": {
            "text/html": [
              "<div>\n",
              "<style>\n",
              "    .dataframe thead tr:only-child th {\n",
              "        text-align: right;\n",
              "    }\n",
              "\n",
              "    .dataframe thead th {\n",
              "        text-align: left;\n",
              "    }\n",
              "\n",
              "    .dataframe tbody tr th {\n",
              "        vertical-align: top;\n",
              "    }\n",
              "</style>\n",
              "<table border=\"1\" class=\"dataframe\">\n",
              "  <thead>\n",
              "    <tr style=\"text-align: right;\">\n",
              "      <th></th>\n",
              "      <th>second</th>\n",
              "      <th>one</th>\n",
              "      <th>two</th>\n",
              "    </tr>\n",
              "    <tr>\n",
              "      <th>first</th>\n",
              "      <th></th>\n",
              "      <th></th>\n",
              "      <th></th>\n",
              "    </tr>\n",
              "  </thead>\n",
              "  <tbody>\n",
              "    <tr>\n",
              "      <th rowspan=\"2\" valign=\"top\">bar</th>\n",
              "      <th>A</th>\n",
              "      <td>-0.427081</td>\n",
              "      <td>1.348324</td>\n",
              "    </tr>\n",
              "    <tr>\n",
              "      <th>B</th>\n",
              "      <td>-0.448652</td>\n",
              "      <td>0.224204</td>\n",
              "    </tr>\n",
              "    <tr>\n",
              "      <th rowspan=\"2\" valign=\"top\">baz</th>\n",
              "      <th>A</th>\n",
              "      <td>0.961195</td>\n",
              "      <td>-1.261235</td>\n",
              "    </tr>\n",
              "    <tr>\n",
              "      <th>B</th>\n",
              "      <td>-0.171636</td>\n",
              "      <td>-1.143567</td>\n",
              "    </tr>\n",
              "    <tr>\n",
              "      <th rowspan=\"2\" valign=\"top\">foo</th>\n",
              "      <th>A</th>\n",
              "      <td>-0.422736</td>\n",
              "      <td>0.050748</td>\n",
              "    </tr>\n",
              "    <tr>\n",
              "      <th>B</th>\n",
              "      <td>-0.042326</td>\n",
              "      <td>-2.078037</td>\n",
              "    </tr>\n",
              "    <tr>\n",
              "      <th rowspan=\"2\" valign=\"top\">qux</th>\n",
              "      <th>A</th>\n",
              "      <td>0.465950</td>\n",
              "      <td>0.476400</td>\n",
              "    </tr>\n",
              "    <tr>\n",
              "      <th>B</th>\n",
              "      <td>0.799862</td>\n",
              "      <td>-0.280527</td>\n",
              "    </tr>\n",
              "  </tbody>\n",
              "</table>\n",
              "</div>"
            ],
            "text/plain": [
              "second        one       two\n",
              "first                      \n",
              "bar   A -0.427081  1.348324\n",
              "      B -0.448652  0.224204\n",
              "baz   A  0.961195 -1.261235\n",
              "      B -0.171636 -1.143567\n",
              "foo   A -0.422736  0.050748\n",
              "      B -0.042326 -2.078037\n",
              "qux   A  0.465950  0.476400\n",
              "      B  0.799862 -0.280527"
            ]
          },
          "metadata": {
            "tags": []
          },
          "execution_count": 74
        }
      ]
    },
    {
      "cell_type": "code",
      "metadata": {
        "_cell_guid": "63d4143c-2488-40a7-9d6a-8751ed8f5bec",
        "_uuid": "21092205bbd06eab81ab2b54fc709110c8ebedee",
        "collapsed": true,
        "id": "nxgPGJA0-sdw",
        "outputId": "708e8ef9-33e6-4b03-d4f9-24078e88dc2f"
      },
      "source": [
        "stacked.unstack(0)"
      ],
      "execution_count": null,
      "outputs": [
        {
          "output_type": "execute_result",
          "data": {
            "text/html": [
              "<div>\n",
              "<style>\n",
              "    .dataframe thead tr:only-child th {\n",
              "        text-align: right;\n",
              "    }\n",
              "\n",
              "    .dataframe thead th {\n",
              "        text-align: left;\n",
              "    }\n",
              "\n",
              "    .dataframe tbody tr th {\n",
              "        vertical-align: top;\n",
              "    }\n",
              "</style>\n",
              "<table border=\"1\" class=\"dataframe\">\n",
              "  <thead>\n",
              "    <tr style=\"text-align: right;\">\n",
              "      <th></th>\n",
              "      <th>first</th>\n",
              "      <th>bar</th>\n",
              "      <th>baz</th>\n",
              "      <th>foo</th>\n",
              "      <th>qux</th>\n",
              "    </tr>\n",
              "    <tr>\n",
              "      <th>second</th>\n",
              "      <th></th>\n",
              "      <th></th>\n",
              "      <th></th>\n",
              "      <th></th>\n",
              "      <th></th>\n",
              "    </tr>\n",
              "  </thead>\n",
              "  <tbody>\n",
              "    <tr>\n",
              "      <th rowspan=\"2\" valign=\"top\">one</th>\n",
              "      <th>A</th>\n",
              "      <td>-0.427081</td>\n",
              "      <td>0.961195</td>\n",
              "      <td>-0.422736</td>\n",
              "      <td>0.465950</td>\n",
              "    </tr>\n",
              "    <tr>\n",
              "      <th>B</th>\n",
              "      <td>-0.448652</td>\n",
              "      <td>-0.171636</td>\n",
              "      <td>-0.042326</td>\n",
              "      <td>0.799862</td>\n",
              "    </tr>\n",
              "    <tr>\n",
              "      <th rowspan=\"2\" valign=\"top\">two</th>\n",
              "      <th>A</th>\n",
              "      <td>1.348324</td>\n",
              "      <td>-1.261235</td>\n",
              "      <td>0.050748</td>\n",
              "      <td>0.476400</td>\n",
              "    </tr>\n",
              "    <tr>\n",
              "      <th>B</th>\n",
              "      <td>0.224204</td>\n",
              "      <td>-1.143567</td>\n",
              "      <td>-2.078037</td>\n",
              "      <td>-0.280527</td>\n",
              "    </tr>\n",
              "  </tbody>\n",
              "</table>\n",
              "</div>"
            ],
            "text/plain": [
              "first          bar       baz       foo       qux\n",
              "second                                          \n",
              "one    A -0.427081  0.961195 -0.422736  0.465950\n",
              "       B -0.448652 -0.171636 -0.042326  0.799862\n",
              "two    A  1.348324 -1.261235  0.050748  0.476400\n",
              "       B  0.224204 -1.143567 -2.078037 -0.280527"
            ]
          },
          "metadata": {
            "tags": []
          },
          "execution_count": 75
        }
      ]
    },
    {
      "cell_type": "markdown",
      "metadata": {
        "_cell_guid": "2aeae2c4-7559-4fa7-a837-4500980c823c",
        "_uuid": "6108ff3064ecc74f8d264309548f6feb125ed9be",
        "id": "a68EuUef-sdy"
      },
      "source": [
        "### Pivot Tables\n",
        "See the section on [Pivot Tables](https://pandas.pydata.org/pandas-docs/stable/reshaping.html#reshaping-pivot)."
      ]
    },
    {
      "cell_type": "code",
      "metadata": {
        "_cell_guid": "1a188e29-26e1-4ffc-acd1-5e8fb7c99465",
        "_uuid": "0acd04af17bb429101737d38d9f603571fb3006f",
        "collapsed": true,
        "id": "EH6dQb9_-sdy",
        "outputId": "759140b8-767b-4184-be97-7689d34f9d52"
      },
      "source": [
        "df = pd.DataFrame({'A' : ['one', 'one', 'two', 'three'] * 3,\n",
        "   .....:                    'B' : ['A', 'B', 'C'] * 4,\n",
        "   .....:                    'C' : ['foo', 'foo', 'foo', 'bar', 'bar', 'bar'] * 2,\n",
        "   .....:                    'D' : np.random.randn(12),\n",
        "   .....:                    'E' : np.random.randn(12)})\n",
        "df"
      ],
      "execution_count": null,
      "outputs": [
        {
          "output_type": "execute_result",
          "data": {
            "text/html": [
              "<div>\n",
              "<style>\n",
              "    .dataframe thead tr:only-child th {\n",
              "        text-align: right;\n",
              "    }\n",
              "\n",
              "    .dataframe thead th {\n",
              "        text-align: left;\n",
              "    }\n",
              "\n",
              "    .dataframe tbody tr th {\n",
              "        vertical-align: top;\n",
              "    }\n",
              "</style>\n",
              "<table border=\"1\" class=\"dataframe\">\n",
              "  <thead>\n",
              "    <tr style=\"text-align: right;\">\n",
              "      <th></th>\n",
              "      <th>A</th>\n",
              "      <th>B</th>\n",
              "      <th>C</th>\n",
              "      <th>D</th>\n",
              "      <th>E</th>\n",
              "    </tr>\n",
              "  </thead>\n",
              "  <tbody>\n",
              "    <tr>\n",
              "      <th>0</th>\n",
              "      <td>one</td>\n",
              "      <td>A</td>\n",
              "      <td>foo</td>\n",
              "      <td>-0.713789</td>\n",
              "      <td>-0.514429</td>\n",
              "    </tr>\n",
              "    <tr>\n",
              "      <th>1</th>\n",
              "      <td>one</td>\n",
              "      <td>B</td>\n",
              "      <td>foo</td>\n",
              "      <td>-2.088411</td>\n",
              "      <td>1.047928</td>\n",
              "    </tr>\n",
              "    <tr>\n",
              "      <th>2</th>\n",
              "      <td>two</td>\n",
              "      <td>C</td>\n",
              "      <td>foo</td>\n",
              "      <td>-1.037998</td>\n",
              "      <td>1.741442</td>\n",
              "    </tr>\n",
              "    <tr>\n",
              "      <th>3</th>\n",
              "      <td>three</td>\n",
              "      <td>A</td>\n",
              "      <td>bar</td>\n",
              "      <td>1.656743</td>\n",
              "      <td>-0.930621</td>\n",
              "    </tr>\n",
              "    <tr>\n",
              "      <th>4</th>\n",
              "      <td>one</td>\n",
              "      <td>B</td>\n",
              "      <td>bar</td>\n",
              "      <td>-0.688656</td>\n",
              "      <td>-0.542723</td>\n",
              "    </tr>\n",
              "    <tr>\n",
              "      <th>5</th>\n",
              "      <td>one</td>\n",
              "      <td>C</td>\n",
              "      <td>bar</td>\n",
              "      <td>0.503639</td>\n",
              "      <td>1.723579</td>\n",
              "    </tr>\n",
              "    <tr>\n",
              "      <th>6</th>\n",
              "      <td>two</td>\n",
              "      <td>A</td>\n",
              "      <td>foo</td>\n",
              "      <td>2.235146</td>\n",
              "      <td>0.361746</td>\n",
              "    </tr>\n",
              "    <tr>\n",
              "      <th>7</th>\n",
              "      <td>three</td>\n",
              "      <td>B</td>\n",
              "      <td>foo</td>\n",
              "      <td>-0.177621</td>\n",
              "      <td>-1.140500</td>\n",
              "    </tr>\n",
              "    <tr>\n",
              "      <th>8</th>\n",
              "      <td>one</td>\n",
              "      <td>C</td>\n",
              "      <td>foo</td>\n",
              "      <td>-1.254126</td>\n",
              "      <td>0.288719</td>\n",
              "    </tr>\n",
              "    <tr>\n",
              "      <th>9</th>\n",
              "      <td>one</td>\n",
              "      <td>A</td>\n",
              "      <td>bar</td>\n",
              "      <td>1.028623</td>\n",
              "      <td>0.891349</td>\n",
              "    </tr>\n",
              "    <tr>\n",
              "      <th>10</th>\n",
              "      <td>two</td>\n",
              "      <td>B</td>\n",
              "      <td>bar</td>\n",
              "      <td>-2.723264</td>\n",
              "      <td>0.726894</td>\n",
              "    </tr>\n",
              "    <tr>\n",
              "      <th>11</th>\n",
              "      <td>three</td>\n",
              "      <td>C</td>\n",
              "      <td>bar</td>\n",
              "      <td>0.686261</td>\n",
              "      <td>1.800097</td>\n",
              "    </tr>\n",
              "  </tbody>\n",
              "</table>\n",
              "</div>"
            ],
            "text/plain": [
              "        A  B    C         D         E\n",
              "0     one  A  foo -0.713789 -0.514429\n",
              "1     one  B  foo -2.088411  1.047928\n",
              "2     two  C  foo -1.037998  1.741442\n",
              "3   three  A  bar  1.656743 -0.930621\n",
              "4     one  B  bar -0.688656 -0.542723\n",
              "5     one  C  bar  0.503639  1.723579\n",
              "6     two  A  foo  2.235146  0.361746\n",
              "7   three  B  foo -0.177621 -1.140500\n",
              "8     one  C  foo -1.254126  0.288719\n",
              "9     one  A  bar  1.028623  0.891349\n",
              "10    two  B  bar -2.723264  0.726894\n",
              "11  three  C  bar  0.686261  1.800097"
            ]
          },
          "metadata": {
            "tags": []
          },
          "execution_count": 76
        }
      ]
    },
    {
      "cell_type": "markdown",
      "metadata": {
        "_cell_guid": "2b2e7f69-e135-4cdb-9053-15446689a343",
        "_uuid": "8a59aa522a9c86d054fc8f1917117ff7131ce9d7",
        "id": "mwunzt3M-sd1"
      },
      "source": [
        "We can produce pivot tables from this data very easily:"
      ]
    },
    {
      "cell_type": "code",
      "metadata": {
        "_cell_guid": "236b385e-a44c-4526-b7dd-826b858aec30",
        "_uuid": "24977494d59f97c71999811110baf456f25d9e1c",
        "collapsed": true,
        "id": "uuPEwAth-sd1",
        "outputId": "0a1f740f-3a43-4a8b-8570-a4c8432e084e"
      },
      "source": [
        "pd.pivot_table(df, values='D', index=['A', 'B'], columns=['C'])"
      ],
      "execution_count": null,
      "outputs": [
        {
          "output_type": "execute_result",
          "data": {
            "text/html": [
              "<div>\n",
              "<style>\n",
              "    .dataframe thead tr:only-child th {\n",
              "        text-align: right;\n",
              "    }\n",
              "\n",
              "    .dataframe thead th {\n",
              "        text-align: left;\n",
              "    }\n",
              "\n",
              "    .dataframe tbody tr th {\n",
              "        vertical-align: top;\n",
              "    }\n",
              "</style>\n",
              "<table border=\"1\" class=\"dataframe\">\n",
              "  <thead>\n",
              "    <tr style=\"text-align: right;\">\n",
              "      <th></th>\n",
              "      <th>C</th>\n",
              "      <th>bar</th>\n",
              "      <th>foo</th>\n",
              "    </tr>\n",
              "    <tr>\n",
              "      <th>A</th>\n",
              "      <th>B</th>\n",
              "      <th></th>\n",
              "      <th></th>\n",
              "    </tr>\n",
              "  </thead>\n",
              "  <tbody>\n",
              "    <tr>\n",
              "      <th rowspan=\"3\" valign=\"top\">one</th>\n",
              "      <th>A</th>\n",
              "      <td>1.028623</td>\n",
              "      <td>-0.713789</td>\n",
              "    </tr>\n",
              "    <tr>\n",
              "      <th>B</th>\n",
              "      <td>-0.688656</td>\n",
              "      <td>-2.088411</td>\n",
              "    </tr>\n",
              "    <tr>\n",
              "      <th>C</th>\n",
              "      <td>0.503639</td>\n",
              "      <td>-1.254126</td>\n",
              "    </tr>\n",
              "    <tr>\n",
              "      <th rowspan=\"3\" valign=\"top\">three</th>\n",
              "      <th>A</th>\n",
              "      <td>1.656743</td>\n",
              "      <td>NaN</td>\n",
              "    </tr>\n",
              "    <tr>\n",
              "      <th>B</th>\n",
              "      <td>NaN</td>\n",
              "      <td>-0.177621</td>\n",
              "    </tr>\n",
              "    <tr>\n",
              "      <th>C</th>\n",
              "      <td>0.686261</td>\n",
              "      <td>NaN</td>\n",
              "    </tr>\n",
              "    <tr>\n",
              "      <th rowspan=\"3\" valign=\"top\">two</th>\n",
              "      <th>A</th>\n",
              "      <td>NaN</td>\n",
              "      <td>2.235146</td>\n",
              "    </tr>\n",
              "    <tr>\n",
              "      <th>B</th>\n",
              "      <td>-2.723264</td>\n",
              "      <td>NaN</td>\n",
              "    </tr>\n",
              "    <tr>\n",
              "      <th>C</th>\n",
              "      <td>NaN</td>\n",
              "      <td>-1.037998</td>\n",
              "    </tr>\n",
              "  </tbody>\n",
              "</table>\n",
              "</div>"
            ],
            "text/plain": [
              "C             bar       foo\n",
              "A     B                    \n",
              "one   A  1.028623 -0.713789\n",
              "      B -0.688656 -2.088411\n",
              "      C  0.503639 -1.254126\n",
              "three A  1.656743       NaN\n",
              "      B       NaN -0.177621\n",
              "      C  0.686261       NaN\n",
              "two   A       NaN  2.235146\n",
              "      B -2.723264       NaN\n",
              "      C       NaN -1.037998"
            ]
          },
          "metadata": {
            "tags": []
          },
          "execution_count": 77
        }
      ]
    },
    {
      "cell_type": "markdown",
      "metadata": {
        "_cell_guid": "8f173711-84cf-405d-a974-8f3d467a1699",
        "_uuid": "6707cccfbd1da29773303b644ad02a47e917e182",
        "id": "I95_2to4-sem"
      },
      "source": [
        "# Getting Data In/Out\n",
        "### CSV\n",
        "[Writing to a csv file](https://pandas.pydata.org/pandas-docs/stable/io.html#io-store-in-csv)."
      ]
    },
    {
      "cell_type": "code",
      "metadata": {
        "_cell_guid": "c2854c44-5039-4c4f-9333-f4b0f33edc5b",
        "_uuid": "f321aa65d66246497c509d32969d3e1a3d717391",
        "id": "WxE2u_cb-seo"
      },
      "source": [
        "df.to_csv('foo.csv')"
      ],
      "execution_count": null,
      "outputs": []
    },
    {
      "cell_type": "code",
      "metadata": {
        "_cell_guid": "746340a9-c552-4995-8cbd-067f7dd62e35",
        "_uuid": "c0daece574ad9366f247716b0bfe7f3fd0c9351e",
        "collapsed": true,
        "id": "1SdlCCCn-sep",
        "outputId": "48369a10-8403-493e-b5fe-11907bbd8c35"
      },
      "source": [
        "pd.read_csv('foo.csv')"
      ],
      "execution_count": null,
      "outputs": [
        {
          "output_type": "execute_result",
          "data": {
            "text/html": [
              "<div>\n",
              "<style>\n",
              "    .dataframe thead tr:only-child th {\n",
              "        text-align: right;\n",
              "    }\n",
              "\n",
              "    .dataframe thead th {\n",
              "        text-align: left;\n",
              "    }\n",
              "\n",
              "    .dataframe tbody tr th {\n",
              "        vertical-align: top;\n",
              "    }\n",
              "</style>\n",
              "<table border=\"1\" class=\"dataframe\">\n",
              "  <thead>\n",
              "    <tr style=\"text-align: right;\">\n",
              "      <th></th>\n",
              "      <th>Unnamed: 0</th>\n",
              "      <th>A</th>\n",
              "      <th>B</th>\n",
              "      <th>C</th>\n",
              "      <th>D</th>\n",
              "    </tr>\n",
              "  </thead>\n",
              "  <tbody>\n",
              "    <tr>\n",
              "      <th>0</th>\n",
              "      <td>2000-01-01</td>\n",
              "      <td>-0.165439</td>\n",
              "      <td>-1.241892</td>\n",
              "      <td>-0.342680</td>\n",
              "      <td>0.106041</td>\n",
              "    </tr>\n",
              "    <tr>\n",
              "      <th>1</th>\n",
              "      <td>2000-01-02</td>\n",
              "      <td>-1.298616</td>\n",
              "      <td>-1.023435</td>\n",
              "      <td>-0.944371</td>\n",
              "      <td>0.586668</td>\n",
              "    </tr>\n",
              "    <tr>\n",
              "      <th>2</th>\n",
              "      <td>2000-01-03</td>\n",
              "      <td>-0.714936</td>\n",
              "      <td>-1.392907</td>\n",
              "      <td>-0.323638</td>\n",
              "      <td>1.589524</td>\n",
              "    </tr>\n",
              "    <tr>\n",
              "      <th>3</th>\n",
              "      <td>2000-01-04</td>\n",
              "      <td>0.202948</td>\n",
              "      <td>-0.704013</td>\n",
              "      <td>-0.162558</td>\n",
              "      <td>1.615731</td>\n",
              "    </tr>\n",
              "    <tr>\n",
              "      <th>4</th>\n",
              "      <td>2000-01-05</td>\n",
              "      <td>-1.143432</td>\n",
              "      <td>-0.318759</td>\n",
              "      <td>-1.912439</td>\n",
              "      <td>2.029570</td>\n",
              "    </tr>\n",
              "    <tr>\n",
              "      <th>5</th>\n",
              "      <td>2000-01-06</td>\n",
              "      <td>-0.641053</td>\n",
              "      <td>-0.928672</td>\n",
              "      <td>-1.370465</td>\n",
              "      <td>1.346422</td>\n",
              "    </tr>\n",
              "    <tr>\n",
              "      <th>6</th>\n",
              "      <td>2000-01-07</td>\n",
              "      <td>0.133213</td>\n",
              "      <td>-1.686737</td>\n",
              "      <td>-2.174208</td>\n",
              "      <td>1.097845</td>\n",
              "    </tr>\n",
              "    <tr>\n",
              "      <th>7</th>\n",
              "      <td>2000-01-08</td>\n",
              "      <td>0.281839</td>\n",
              "      <td>-1.026250</td>\n",
              "      <td>-3.980469</td>\n",
              "      <td>1.487319</td>\n",
              "    </tr>\n",
              "    <tr>\n",
              "      <th>8</th>\n",
              "      <td>2000-01-09</td>\n",
              "      <td>0.221473</td>\n",
              "      <td>-2.580209</td>\n",
              "      <td>-4.595592</td>\n",
              "      <td>1.661385</td>\n",
              "    </tr>\n",
              "    <tr>\n",
              "      <th>9</th>\n",
              "      <td>2000-01-10</td>\n",
              "      <td>-0.146512</td>\n",
              "      <td>-3.149283</td>\n",
              "      <td>-3.549284</td>\n",
              "      <td>1.125317</td>\n",
              "    </tr>\n",
              "    <tr>\n",
              "      <th>10</th>\n",
              "      <td>2000-01-11</td>\n",
              "      <td>0.514869</td>\n",
              "      <td>-4.022301</td>\n",
              "      <td>-2.768194</td>\n",
              "      <td>1.446292</td>\n",
              "    </tr>\n",
              "    <tr>\n",
              "      <th>11</th>\n",
              "      <td>2000-01-12</td>\n",
              "      <td>-0.104987</td>\n",
              "      <td>-3.493369</td>\n",
              "      <td>-4.076654</td>\n",
              "      <td>2.125191</td>\n",
              "    </tr>\n",
              "    <tr>\n",
              "      <th>12</th>\n",
              "      <td>2000-01-13</td>\n",
              "      <td>0.978066</td>\n",
              "      <td>-3.475903</td>\n",
              "      <td>-3.835260</td>\n",
              "      <td>3.059128</td>\n",
              "    </tr>\n",
              "    <tr>\n",
              "      <th>13</th>\n",
              "      <td>2000-01-14</td>\n",
              "      <td>1.116126</td>\n",
              "      <td>-2.797326</td>\n",
              "      <td>-2.255736</td>\n",
              "      <td>2.763711</td>\n",
              "    </tr>\n",
              "    <tr>\n",
              "      <th>14</th>\n",
              "      <td>2000-01-15</td>\n",
              "      <td>1.039718</td>\n",
              "      <td>-1.324396</td>\n",
              "      <td>-3.059282</td>\n",
              "      <td>3.110216</td>\n",
              "    </tr>\n",
              "    <tr>\n",
              "      <th>15</th>\n",
              "      <td>2000-01-16</td>\n",
              "      <td>0.116109</td>\n",
              "      <td>-2.185032</td>\n",
              "      <td>-4.550271</td>\n",
              "      <td>1.112215</td>\n",
              "    </tr>\n",
              "    <tr>\n",
              "      <th>16</th>\n",
              "      <td>2000-01-17</td>\n",
              "      <td>0.920563</td>\n",
              "      <td>-3.287660</td>\n",
              "      <td>-4.124656</td>\n",
              "      <td>0.563663</td>\n",
              "    </tr>\n",
              "    <tr>\n",
              "      <th>17</th>\n",
              "      <td>2000-01-18</td>\n",
              "      <td>0.394087</td>\n",
              "      <td>-2.860464</td>\n",
              "      <td>-3.431849</td>\n",
              "      <td>1.494053</td>\n",
              "    </tr>\n",
              "    <tr>\n",
              "      <th>18</th>\n",
              "      <td>2000-01-19</td>\n",
              "      <td>2.133781</td>\n",
              "      <td>-1.701251</td>\n",
              "      <td>-3.878129</td>\n",
              "      <td>1.981117</td>\n",
              "    </tr>\n",
              "    <tr>\n",
              "      <th>19</th>\n",
              "      <td>2000-01-20</td>\n",
              "      <td>1.380864</td>\n",
              "      <td>-2.028198</td>\n",
              "      <td>-5.349861</td>\n",
              "      <td>1.759223</td>\n",
              "    </tr>\n",
              "    <tr>\n",
              "      <th>20</th>\n",
              "      <td>2000-01-21</td>\n",
              "      <td>1.787964</td>\n",
              "      <td>-1.835131</td>\n",
              "      <td>-5.951531</td>\n",
              "      <td>1.855332</td>\n",
              "    </tr>\n",
              "    <tr>\n",
              "      <th>21</th>\n",
              "      <td>2000-01-22</td>\n",
              "      <td>1.159440</td>\n",
              "      <td>-3.579943</td>\n",
              "      <td>-6.824187</td>\n",
              "      <td>2.528383</td>\n",
              "    </tr>\n",
              "    <tr>\n",
              "      <th>22</th>\n",
              "      <td>2000-01-23</td>\n",
              "      <td>1.659971</td>\n",
              "      <td>-3.561345</td>\n",
              "      <td>-5.747614</td>\n",
              "      <td>3.150220</td>\n",
              "    </tr>\n",
              "    <tr>\n",
              "      <th>23</th>\n",
              "      <td>2000-01-24</td>\n",
              "      <td>1.459270</td>\n",
              "      <td>-3.092126</td>\n",
              "      <td>-5.337020</td>\n",
              "      <td>4.048097</td>\n",
              "    </tr>\n",
              "    <tr>\n",
              "      <th>24</th>\n",
              "      <td>2000-01-25</td>\n",
              "      <td>2.199406</td>\n",
              "      <td>-4.002160</td>\n",
              "      <td>-4.287942</td>\n",
              "      <td>4.292009</td>\n",
              "    </tr>\n",
              "    <tr>\n",
              "      <th>25</th>\n",
              "      <td>2000-01-26</td>\n",
              "      <td>3.640403</td>\n",
              "      <td>-2.616529</td>\n",
              "      <td>-3.849604</td>\n",
              "      <td>4.566062</td>\n",
              "    </tr>\n",
              "    <tr>\n",
              "      <th>26</th>\n",
              "      <td>2000-01-27</td>\n",
              "      <td>5.672637</td>\n",
              "      <td>-1.289733</td>\n",
              "      <td>-4.526165</td>\n",
              "      <td>4.850854</td>\n",
              "    </tr>\n",
              "    <tr>\n",
              "      <th>27</th>\n",
              "      <td>2000-01-28</td>\n",
              "      <td>6.343960</td>\n",
              "      <td>-1.790023</td>\n",
              "      <td>-7.023424</td>\n",
              "      <td>5.369450</td>\n",
              "    </tr>\n",
              "    <tr>\n",
              "      <th>28</th>\n",
              "      <td>2000-01-29</td>\n",
              "      <td>4.637036</td>\n",
              "      <td>-2.715463</td>\n",
              "      <td>-6.508805</td>\n",
              "      <td>5.646366</td>\n",
              "    </tr>\n",
              "    <tr>\n",
              "      <th>29</th>\n",
              "      <td>2000-01-30</td>\n",
              "      <td>3.660189</td>\n",
              "      <td>-3.525145</td>\n",
              "      <td>-6.281121</td>\n",
              "      <td>6.730217</td>\n",
              "    </tr>\n",
              "    <tr>\n",
              "      <th>...</th>\n",
              "      <td>...</td>\n",
              "      <td>...</td>\n",
              "      <td>...</td>\n",
              "      <td>...</td>\n",
              "      <td>...</td>\n",
              "    </tr>\n",
              "    <tr>\n",
              "      <th>970</th>\n",
              "      <td>2002-08-28</td>\n",
              "      <td>9.469093</td>\n",
              "      <td>-4.992221</td>\n",
              "      <td>-28.638227</td>\n",
              "      <td>-11.587743</td>\n",
              "    </tr>\n",
              "    <tr>\n",
              "      <th>971</th>\n",
              "      <td>2002-08-29</td>\n",
              "      <td>9.821526</td>\n",
              "      <td>-4.469792</td>\n",
              "      <td>-28.074909</td>\n",
              "      <td>-11.036200</td>\n",
              "    </tr>\n",
              "    <tr>\n",
              "      <th>972</th>\n",
              "      <td>2002-08-30</td>\n",
              "      <td>10.068815</td>\n",
              "      <td>-3.832841</td>\n",
              "      <td>-29.561092</td>\n",
              "      <td>-10.526491</td>\n",
              "    </tr>\n",
              "    <tr>\n",
              "      <th>973</th>\n",
              "      <td>2002-08-31</td>\n",
              "      <td>9.323920</td>\n",
              "      <td>-4.548075</td>\n",
              "      <td>-29.192959</td>\n",
              "      <td>-12.557164</td>\n",
              "    </tr>\n",
              "    <tr>\n",
              "      <th>974</th>\n",
              "      <td>2002-09-01</td>\n",
              "      <td>6.950864</td>\n",
              "      <td>-4.787274</td>\n",
              "      <td>-26.883097</td>\n",
              "      <td>-12.624429</td>\n",
              "    </tr>\n",
              "    <tr>\n",
              "      <th>975</th>\n",
              "      <td>2002-09-02</td>\n",
              "      <td>6.846803</td>\n",
              "      <td>-5.235593</td>\n",
              "      <td>-26.833349</td>\n",
              "      <td>-13.542963</td>\n",
              "    </tr>\n",
              "    <tr>\n",
              "      <th>976</th>\n",
              "      <td>2002-09-03</td>\n",
              "      <td>6.667062</td>\n",
              "      <td>-5.059516</td>\n",
              "      <td>-28.155307</td>\n",
              "      <td>-13.254016</td>\n",
              "    </tr>\n",
              "    <tr>\n",
              "      <th>977</th>\n",
              "      <td>2002-09-04</td>\n",
              "      <td>6.298975</td>\n",
              "      <td>-5.485590</td>\n",
              "      <td>-28.053691</td>\n",
              "      <td>-12.700793</td>\n",
              "    </tr>\n",
              "    <tr>\n",
              "      <th>978</th>\n",
              "      <td>2002-09-05</td>\n",
              "      <td>5.366252</td>\n",
              "      <td>-6.737480</td>\n",
              "      <td>-28.153503</td>\n",
              "      <td>-12.465665</td>\n",
              "    </tr>\n",
              "    <tr>\n",
              "      <th>979</th>\n",
              "      <td>2002-09-06</td>\n",
              "      <td>5.509072</td>\n",
              "      <td>-5.853635</td>\n",
              "      <td>-30.543992</td>\n",
              "      <td>-13.024947</td>\n",
              "    </tr>\n",
              "    <tr>\n",
              "      <th>980</th>\n",
              "      <td>2002-09-07</td>\n",
              "      <td>6.444464</td>\n",
              "      <td>-5.587841</td>\n",
              "      <td>-30.385368</td>\n",
              "      <td>-12.371840</td>\n",
              "    </tr>\n",
              "    <tr>\n",
              "      <th>981</th>\n",
              "      <td>2002-09-08</td>\n",
              "      <td>5.360427</td>\n",
              "      <td>-6.239088</td>\n",
              "      <td>-30.947826</td>\n",
              "      <td>-12.350999</td>\n",
              "    </tr>\n",
              "    <tr>\n",
              "      <th>982</th>\n",
              "      <td>2002-09-09</td>\n",
              "      <td>6.102599</td>\n",
              "      <td>-6.966094</td>\n",
              "      <td>-32.770292</td>\n",
              "      <td>-13.189024</td>\n",
              "    </tr>\n",
              "    <tr>\n",
              "      <th>983</th>\n",
              "      <td>2002-09-10</td>\n",
              "      <td>5.133590</td>\n",
              "      <td>-7.309252</td>\n",
              "      <td>-31.912150</td>\n",
              "      <td>-14.124116</td>\n",
              "    </tr>\n",
              "    <tr>\n",
              "      <th>984</th>\n",
              "      <td>2002-09-11</td>\n",
              "      <td>3.610601</td>\n",
              "      <td>-6.932118</td>\n",
              "      <td>-30.153711</td>\n",
              "      <td>-14.557608</td>\n",
              "    </tr>\n",
              "    <tr>\n",
              "      <th>985</th>\n",
              "      <td>2002-09-12</td>\n",
              "      <td>3.463178</td>\n",
              "      <td>-6.437623</td>\n",
              "      <td>-28.860936</td>\n",
              "      <td>-16.446850</td>\n",
              "    </tr>\n",
              "    <tr>\n",
              "      <th>986</th>\n",
              "      <td>2002-09-13</td>\n",
              "      <td>3.738684</td>\n",
              "      <td>-5.711190</td>\n",
              "      <td>-30.617586</td>\n",
              "      <td>-18.253673</td>\n",
              "    </tr>\n",
              "    <tr>\n",
              "      <th>987</th>\n",
              "      <td>2002-09-14</td>\n",
              "      <td>2.101444</td>\n",
              "      <td>-3.126954</td>\n",
              "      <td>-30.272345</td>\n",
              "      <td>-18.420285</td>\n",
              "    </tr>\n",
              "    <tr>\n",
              "      <th>988</th>\n",
              "      <td>2002-09-15</td>\n",
              "      <td>2.186508</td>\n",
              "      <td>-1.863179</td>\n",
              "      <td>-29.196949</td>\n",
              "      <td>-17.554745</td>\n",
              "    </tr>\n",
              "    <tr>\n",
              "      <th>989</th>\n",
              "      <td>2002-09-16</td>\n",
              "      <td>1.007592</td>\n",
              "      <td>-0.972601</td>\n",
              "      <td>-29.340069</td>\n",
              "      <td>-17.038153</td>\n",
              "    </tr>\n",
              "    <tr>\n",
              "      <th>990</th>\n",
              "      <td>2002-09-17</td>\n",
              "      <td>0.898140</td>\n",
              "      <td>-1.518578</td>\n",
              "      <td>-28.219815</td>\n",
              "      <td>-17.687190</td>\n",
              "    </tr>\n",
              "    <tr>\n",
              "      <th>991</th>\n",
              "      <td>2002-09-18</td>\n",
              "      <td>-0.426689</td>\n",
              "      <td>-1.445230</td>\n",
              "      <td>-27.705361</td>\n",
              "      <td>-17.168442</td>\n",
              "    </tr>\n",
              "    <tr>\n",
              "      <th>992</th>\n",
              "      <td>2002-09-19</td>\n",
              "      <td>0.028842</td>\n",
              "      <td>-0.404111</td>\n",
              "      <td>-29.834897</td>\n",
              "      <td>-16.507815</td>\n",
              "    </tr>\n",
              "    <tr>\n",
              "      <th>993</th>\n",
              "      <td>2002-09-20</td>\n",
              "      <td>1.980734</td>\n",
              "      <td>1.093095</td>\n",
              "      <td>-28.867127</td>\n",
              "      <td>-17.254193</td>\n",
              "    </tr>\n",
              "    <tr>\n",
              "      <th>994</th>\n",
              "      <td>2002-09-21</td>\n",
              "      <td>1.459866</td>\n",
              "      <td>0.377640</td>\n",
              "      <td>-29.285711</td>\n",
              "      <td>-18.649799</td>\n",
              "    </tr>\n",
              "    <tr>\n",
              "      <th>995</th>\n",
              "      <td>2002-09-22</td>\n",
              "      <td>2.322038</td>\n",
              "      <td>0.098393</td>\n",
              "      <td>-28.750717</td>\n",
              "      <td>-16.201329</td>\n",
              "    </tr>\n",
              "    <tr>\n",
              "      <th>996</th>\n",
              "      <td>2002-09-23</td>\n",
              "      <td>2.417480</td>\n",
              "      <td>-1.706039</td>\n",
              "      <td>-30.009441</td>\n",
              "      <td>-15.682765</td>\n",
              "    </tr>\n",
              "    <tr>\n",
              "      <th>997</th>\n",
              "      <td>2002-09-24</td>\n",
              "      <td>1.254112</td>\n",
              "      <td>-1.391825</td>\n",
              "      <td>-30.832163</td>\n",
              "      <td>-15.530378</td>\n",
              "    </tr>\n",
              "    <tr>\n",
              "      <th>998</th>\n",
              "      <td>2002-09-25</td>\n",
              "      <td>1.090618</td>\n",
              "      <td>-1.138936</td>\n",
              "      <td>-30.554229</td>\n",
              "      <td>-15.262121</td>\n",
              "    </tr>\n",
              "    <tr>\n",
              "      <th>999</th>\n",
              "      <td>2002-09-26</td>\n",
              "      <td>0.108832</td>\n",
              "      <td>-2.789369</td>\n",
              "      <td>-30.090637</td>\n",
              "      <td>-14.773398</td>\n",
              "    </tr>\n",
              "  </tbody>\n",
              "</table>\n",
              "<p>1000 rows × 5 columns</p>\n",
              "</div>"
            ],
            "text/plain": [
              "     Unnamed: 0          A         B          C          D\n",
              "0    2000-01-01  -0.165439 -1.241892  -0.342680   0.106041\n",
              "1    2000-01-02  -1.298616 -1.023435  -0.944371   0.586668\n",
              "2    2000-01-03  -0.714936 -1.392907  -0.323638   1.589524\n",
              "3    2000-01-04   0.202948 -0.704013  -0.162558   1.615731\n",
              "4    2000-01-05  -1.143432 -0.318759  -1.912439   2.029570\n",
              "5    2000-01-06  -0.641053 -0.928672  -1.370465   1.346422\n",
              "6    2000-01-07   0.133213 -1.686737  -2.174208   1.097845\n",
              "7    2000-01-08   0.281839 -1.026250  -3.980469   1.487319\n",
              "8    2000-01-09   0.221473 -2.580209  -4.595592   1.661385\n",
              "9    2000-01-10  -0.146512 -3.149283  -3.549284   1.125317\n",
              "10   2000-01-11   0.514869 -4.022301  -2.768194   1.446292\n",
              "11   2000-01-12  -0.104987 -3.493369  -4.076654   2.125191\n",
              "12   2000-01-13   0.978066 -3.475903  -3.835260   3.059128\n",
              "13   2000-01-14   1.116126 -2.797326  -2.255736   2.763711\n",
              "14   2000-01-15   1.039718 -1.324396  -3.059282   3.110216\n",
              "15   2000-01-16   0.116109 -2.185032  -4.550271   1.112215\n",
              "16   2000-01-17   0.920563 -3.287660  -4.124656   0.563663\n",
              "17   2000-01-18   0.394087 -2.860464  -3.431849   1.494053\n",
              "18   2000-01-19   2.133781 -1.701251  -3.878129   1.981117\n",
              "19   2000-01-20   1.380864 -2.028198  -5.349861   1.759223\n",
              "20   2000-01-21   1.787964 -1.835131  -5.951531   1.855332\n",
              "21   2000-01-22   1.159440 -3.579943  -6.824187   2.528383\n",
              "22   2000-01-23   1.659971 -3.561345  -5.747614   3.150220\n",
              "23   2000-01-24   1.459270 -3.092126  -5.337020   4.048097\n",
              "24   2000-01-25   2.199406 -4.002160  -4.287942   4.292009\n",
              "25   2000-01-26   3.640403 -2.616529  -3.849604   4.566062\n",
              "26   2000-01-27   5.672637 -1.289733  -4.526165   4.850854\n",
              "27   2000-01-28   6.343960 -1.790023  -7.023424   5.369450\n",
              "28   2000-01-29   4.637036 -2.715463  -6.508805   5.646366\n",
              "29   2000-01-30   3.660189 -3.525145  -6.281121   6.730217\n",
              "..          ...        ...       ...        ...        ...\n",
              "970  2002-08-28   9.469093 -4.992221 -28.638227 -11.587743\n",
              "971  2002-08-29   9.821526 -4.469792 -28.074909 -11.036200\n",
              "972  2002-08-30  10.068815 -3.832841 -29.561092 -10.526491\n",
              "973  2002-08-31   9.323920 -4.548075 -29.192959 -12.557164\n",
              "974  2002-09-01   6.950864 -4.787274 -26.883097 -12.624429\n",
              "975  2002-09-02   6.846803 -5.235593 -26.833349 -13.542963\n",
              "976  2002-09-03   6.667062 -5.059516 -28.155307 -13.254016\n",
              "977  2002-09-04   6.298975 -5.485590 -28.053691 -12.700793\n",
              "978  2002-09-05   5.366252 -6.737480 -28.153503 -12.465665\n",
              "979  2002-09-06   5.509072 -5.853635 -30.543992 -13.024947\n",
              "980  2002-09-07   6.444464 -5.587841 -30.385368 -12.371840\n",
              "981  2002-09-08   5.360427 -6.239088 -30.947826 -12.350999\n",
              "982  2002-09-09   6.102599 -6.966094 -32.770292 -13.189024\n",
              "983  2002-09-10   5.133590 -7.309252 -31.912150 -14.124116\n",
              "984  2002-09-11   3.610601 -6.932118 -30.153711 -14.557608\n",
              "985  2002-09-12   3.463178 -6.437623 -28.860936 -16.446850\n",
              "986  2002-09-13   3.738684 -5.711190 -30.617586 -18.253673\n",
              "987  2002-09-14   2.101444 -3.126954 -30.272345 -18.420285\n",
              "988  2002-09-15   2.186508 -1.863179 -29.196949 -17.554745\n",
              "989  2002-09-16   1.007592 -0.972601 -29.340069 -17.038153\n",
              "990  2002-09-17   0.898140 -1.518578 -28.219815 -17.687190\n",
              "991  2002-09-18  -0.426689 -1.445230 -27.705361 -17.168442\n",
              "992  2002-09-19   0.028842 -0.404111 -29.834897 -16.507815\n",
              "993  2002-09-20   1.980734  1.093095 -28.867127 -17.254193\n",
              "994  2002-09-21   1.459866  0.377640 -29.285711 -18.649799\n",
              "995  2002-09-22   2.322038  0.098393 -28.750717 -16.201329\n",
              "996  2002-09-23   2.417480 -1.706039 -30.009441 -15.682765\n",
              "997  2002-09-24   1.254112 -1.391825 -30.832163 -15.530378\n",
              "998  2002-09-25   1.090618 -1.138936 -30.554229 -15.262121\n",
              "999  2002-09-26   0.108832 -2.789369 -30.090637 -14.773398\n",
              "\n",
              "[1000 rows x 5 columns]"
            ]
          },
          "metadata": {
            "tags": []
          },
          "execution_count": 95
        }
      ]
    },
    {
      "cell_type": "markdown",
      "metadata": {
        "_cell_guid": "577ea484-5412-4e56-bce9-e7ac085f43e7",
        "_uuid": "1ed3197b98a526670ad2e5fc2fd3d783f4aa26df",
        "id": "C7ZIggm6-sew"
      },
      "source": [
        "### Excel\n",
        "Reading and writing to [MS Excel](https://pandas.pydata.org/pandas-docs/stable/io.html#io-excel).\n",
        "\n",
        "Writing to an excel file:"
      ]
    },
    {
      "cell_type": "code",
      "metadata": {
        "_cell_guid": "56ebcc49-1c6e-4fba-b0be-885bd38c8edd",
        "_uuid": "b4aa25c0d51d6981aefeb56d369f73892d89bf75",
        "id": "uLNWvE0--sew"
      },
      "source": [
        "df.to_excel('foo.xlsx', sheet_name='Sheet1')"
      ],
      "execution_count": null,
      "outputs": []
    },
    {
      "cell_type": "markdown",
      "metadata": {
        "_cell_guid": "516aeff5-882d-464f-a4a8-23c39a9faa78",
        "_uuid": "53c3b30580b3f53be31cf66c379f0a930b5ebe6d",
        "id": "lzJvHzEg-sez"
      },
      "source": [
        "Reading from an excel file:"
      ]
    },
    {
      "cell_type": "code",
      "metadata": {
        "_cell_guid": "7d1fb689-56d4-4ebf-bf7e-775f55268861",
        "_uuid": "80517bdf809673c3b298888c8b2e0835e1f862dc",
        "collapsed": true,
        "id": "7k5WrnFG-sez",
        "outputId": "f6f41a2e-8ca3-4a96-f898-54f5ced0ff2f"
      },
      "source": [
        "pd.read_excel('foo.xlsx', 'Sheet1', index_col=None, na_values=['NA'])"
      ],
      "execution_count": null,
      "outputs": [
        {
          "output_type": "execute_result",
          "data": {
            "text/html": [
              "<div>\n",
              "<style>\n",
              "    .dataframe thead tr:only-child th {\n",
              "        text-align: right;\n",
              "    }\n",
              "\n",
              "    .dataframe thead th {\n",
              "        text-align: left;\n",
              "    }\n",
              "\n",
              "    .dataframe tbody tr th {\n",
              "        vertical-align: top;\n",
              "    }\n",
              "</style>\n",
              "<table border=\"1\" class=\"dataframe\">\n",
              "  <thead>\n",
              "    <tr style=\"text-align: right;\">\n",
              "      <th></th>\n",
              "      <th>A</th>\n",
              "      <th>B</th>\n",
              "      <th>C</th>\n",
              "      <th>D</th>\n",
              "    </tr>\n",
              "  </thead>\n",
              "  <tbody>\n",
              "    <tr>\n",
              "      <th>2000-01-01</th>\n",
              "      <td>-0.165439</td>\n",
              "      <td>-1.241892</td>\n",
              "      <td>-0.342680</td>\n",
              "      <td>0.106041</td>\n",
              "    </tr>\n",
              "    <tr>\n",
              "      <th>2000-01-02</th>\n",
              "      <td>-1.298616</td>\n",
              "      <td>-1.023435</td>\n",
              "      <td>-0.944371</td>\n",
              "      <td>0.586668</td>\n",
              "    </tr>\n",
              "    <tr>\n",
              "      <th>2000-01-03</th>\n",
              "      <td>-0.714936</td>\n",
              "      <td>-1.392907</td>\n",
              "      <td>-0.323638</td>\n",
              "      <td>1.589524</td>\n",
              "    </tr>\n",
              "    <tr>\n",
              "      <th>2000-01-04</th>\n",
              "      <td>0.202948</td>\n",
              "      <td>-0.704013</td>\n",
              "      <td>-0.162558</td>\n",
              "      <td>1.615731</td>\n",
              "    </tr>\n",
              "    <tr>\n",
              "      <th>2000-01-05</th>\n",
              "      <td>-1.143432</td>\n",
              "      <td>-0.318759</td>\n",
              "      <td>-1.912439</td>\n",
              "      <td>2.029570</td>\n",
              "    </tr>\n",
              "    <tr>\n",
              "      <th>2000-01-06</th>\n",
              "      <td>-0.641053</td>\n",
              "      <td>-0.928672</td>\n",
              "      <td>-1.370465</td>\n",
              "      <td>1.346422</td>\n",
              "    </tr>\n",
              "    <tr>\n",
              "      <th>2000-01-07</th>\n",
              "      <td>0.133213</td>\n",
              "      <td>-1.686737</td>\n",
              "      <td>-2.174208</td>\n",
              "      <td>1.097845</td>\n",
              "    </tr>\n",
              "    <tr>\n",
              "      <th>2000-01-08</th>\n",
              "      <td>0.281839</td>\n",
              "      <td>-1.026250</td>\n",
              "      <td>-3.980469</td>\n",
              "      <td>1.487319</td>\n",
              "    </tr>\n",
              "    <tr>\n",
              "      <th>2000-01-09</th>\n",
              "      <td>0.221473</td>\n",
              "      <td>-2.580209</td>\n",
              "      <td>-4.595592</td>\n",
              "      <td>1.661385</td>\n",
              "    </tr>\n",
              "    <tr>\n",
              "      <th>2000-01-10</th>\n",
              "      <td>-0.146512</td>\n",
              "      <td>-3.149283</td>\n",
              "      <td>-3.549284</td>\n",
              "      <td>1.125317</td>\n",
              "    </tr>\n",
              "    <tr>\n",
              "      <th>2000-01-11</th>\n",
              "      <td>0.514869</td>\n",
              "      <td>-4.022301</td>\n",
              "      <td>-2.768194</td>\n",
              "      <td>1.446292</td>\n",
              "    </tr>\n",
              "    <tr>\n",
              "      <th>2000-01-12</th>\n",
              "      <td>-0.104987</td>\n",
              "      <td>-3.493369</td>\n",
              "      <td>-4.076654</td>\n",
              "      <td>2.125191</td>\n",
              "    </tr>\n",
              "    <tr>\n",
              "      <th>2000-01-13</th>\n",
              "      <td>0.978066</td>\n",
              "      <td>-3.475903</td>\n",
              "      <td>-3.835260</td>\n",
              "      <td>3.059128</td>\n",
              "    </tr>\n",
              "    <tr>\n",
              "      <th>2000-01-14</th>\n",
              "      <td>1.116126</td>\n",
              "      <td>-2.797326</td>\n",
              "      <td>-2.255736</td>\n",
              "      <td>2.763711</td>\n",
              "    </tr>\n",
              "    <tr>\n",
              "      <th>2000-01-15</th>\n",
              "      <td>1.039718</td>\n",
              "      <td>-1.324396</td>\n",
              "      <td>-3.059282</td>\n",
              "      <td>3.110216</td>\n",
              "    </tr>\n",
              "    <tr>\n",
              "      <th>2000-01-16</th>\n",
              "      <td>0.116109</td>\n",
              "      <td>-2.185032</td>\n",
              "      <td>-4.550271</td>\n",
              "      <td>1.112215</td>\n",
              "    </tr>\n",
              "    <tr>\n",
              "      <th>2000-01-17</th>\n",
              "      <td>0.920563</td>\n",
              "      <td>-3.287660</td>\n",
              "      <td>-4.124656</td>\n",
              "      <td>0.563663</td>\n",
              "    </tr>\n",
              "    <tr>\n",
              "      <th>2000-01-18</th>\n",
              "      <td>0.394087</td>\n",
              "      <td>-2.860464</td>\n",
              "      <td>-3.431849</td>\n",
              "      <td>1.494053</td>\n",
              "    </tr>\n",
              "    <tr>\n",
              "      <th>2000-01-19</th>\n",
              "      <td>2.133781</td>\n",
              "      <td>-1.701251</td>\n",
              "      <td>-3.878129</td>\n",
              "      <td>1.981117</td>\n",
              "    </tr>\n",
              "    <tr>\n",
              "      <th>2000-01-20</th>\n",
              "      <td>1.380864</td>\n",
              "      <td>-2.028198</td>\n",
              "      <td>-5.349861</td>\n",
              "      <td>1.759223</td>\n",
              "    </tr>\n",
              "    <tr>\n",
              "      <th>2000-01-21</th>\n",
              "      <td>1.787964</td>\n",
              "      <td>-1.835131</td>\n",
              "      <td>-5.951531</td>\n",
              "      <td>1.855332</td>\n",
              "    </tr>\n",
              "    <tr>\n",
              "      <th>2000-01-22</th>\n",
              "      <td>1.159440</td>\n",
              "      <td>-3.579943</td>\n",
              "      <td>-6.824187</td>\n",
              "      <td>2.528383</td>\n",
              "    </tr>\n",
              "    <tr>\n",
              "      <th>2000-01-23</th>\n",
              "      <td>1.659971</td>\n",
              "      <td>-3.561345</td>\n",
              "      <td>-5.747614</td>\n",
              "      <td>3.150220</td>\n",
              "    </tr>\n",
              "    <tr>\n",
              "      <th>2000-01-24</th>\n",
              "      <td>1.459270</td>\n",
              "      <td>-3.092126</td>\n",
              "      <td>-5.337020</td>\n",
              "      <td>4.048097</td>\n",
              "    </tr>\n",
              "    <tr>\n",
              "      <th>2000-01-25</th>\n",
              "      <td>2.199406</td>\n",
              "      <td>-4.002160</td>\n",
              "      <td>-4.287942</td>\n",
              "      <td>4.292009</td>\n",
              "    </tr>\n",
              "    <tr>\n",
              "      <th>2000-01-26</th>\n",
              "      <td>3.640403</td>\n",
              "      <td>-2.616529</td>\n",
              "      <td>-3.849604</td>\n",
              "      <td>4.566062</td>\n",
              "    </tr>\n",
              "    <tr>\n",
              "      <th>2000-01-27</th>\n",
              "      <td>5.672637</td>\n",
              "      <td>-1.289733</td>\n",
              "      <td>-4.526165</td>\n",
              "      <td>4.850854</td>\n",
              "    </tr>\n",
              "    <tr>\n",
              "      <th>2000-01-28</th>\n",
              "      <td>6.343960</td>\n",
              "      <td>-1.790023</td>\n",
              "      <td>-7.023424</td>\n",
              "      <td>5.369450</td>\n",
              "    </tr>\n",
              "    <tr>\n",
              "      <th>2000-01-29</th>\n",
              "      <td>4.637036</td>\n",
              "      <td>-2.715463</td>\n",
              "      <td>-6.508805</td>\n",
              "      <td>5.646366</td>\n",
              "    </tr>\n",
              "    <tr>\n",
              "      <th>2000-01-30</th>\n",
              "      <td>3.660189</td>\n",
              "      <td>-3.525145</td>\n",
              "      <td>-6.281121</td>\n",
              "      <td>6.730217</td>\n",
              "    </tr>\n",
              "    <tr>\n",
              "      <th>...</th>\n",
              "      <td>...</td>\n",
              "      <td>...</td>\n",
              "      <td>...</td>\n",
              "      <td>...</td>\n",
              "    </tr>\n",
              "    <tr>\n",
              "      <th>2002-08-28</th>\n",
              "      <td>9.469093</td>\n",
              "      <td>-4.992221</td>\n",
              "      <td>-28.638227</td>\n",
              "      <td>-11.587743</td>\n",
              "    </tr>\n",
              "    <tr>\n",
              "      <th>2002-08-29</th>\n",
              "      <td>9.821526</td>\n",
              "      <td>-4.469792</td>\n",
              "      <td>-28.074909</td>\n",
              "      <td>-11.036200</td>\n",
              "    </tr>\n",
              "    <tr>\n",
              "      <th>2002-08-30</th>\n",
              "      <td>10.068815</td>\n",
              "      <td>-3.832841</td>\n",
              "      <td>-29.561092</td>\n",
              "      <td>-10.526491</td>\n",
              "    </tr>\n",
              "    <tr>\n",
              "      <th>2002-08-31</th>\n",
              "      <td>9.323920</td>\n",
              "      <td>-4.548075</td>\n",
              "      <td>-29.192959</td>\n",
              "      <td>-12.557164</td>\n",
              "    </tr>\n",
              "    <tr>\n",
              "      <th>2002-09-01</th>\n",
              "      <td>6.950864</td>\n",
              "      <td>-4.787274</td>\n",
              "      <td>-26.883097</td>\n",
              "      <td>-12.624429</td>\n",
              "    </tr>\n",
              "    <tr>\n",
              "      <th>2002-09-02</th>\n",
              "      <td>6.846803</td>\n",
              "      <td>-5.235593</td>\n",
              "      <td>-26.833349</td>\n",
              "      <td>-13.542963</td>\n",
              "    </tr>\n",
              "    <tr>\n",
              "      <th>2002-09-03</th>\n",
              "      <td>6.667062</td>\n",
              "      <td>-5.059516</td>\n",
              "      <td>-28.155307</td>\n",
              "      <td>-13.254016</td>\n",
              "    </tr>\n",
              "    <tr>\n",
              "      <th>2002-09-04</th>\n",
              "      <td>6.298975</td>\n",
              "      <td>-5.485590</td>\n",
              "      <td>-28.053691</td>\n",
              "      <td>-12.700793</td>\n",
              "    </tr>\n",
              "    <tr>\n",
              "      <th>2002-09-05</th>\n",
              "      <td>5.366252</td>\n",
              "      <td>-6.737480</td>\n",
              "      <td>-28.153503</td>\n",
              "      <td>-12.465665</td>\n",
              "    </tr>\n",
              "    <tr>\n",
              "      <th>2002-09-06</th>\n",
              "      <td>5.509072</td>\n",
              "      <td>-5.853635</td>\n",
              "      <td>-30.543992</td>\n",
              "      <td>-13.024947</td>\n",
              "    </tr>\n",
              "    <tr>\n",
              "      <th>2002-09-07</th>\n",
              "      <td>6.444464</td>\n",
              "      <td>-5.587841</td>\n",
              "      <td>-30.385368</td>\n",
              "      <td>-12.371840</td>\n",
              "    </tr>\n",
              "    <tr>\n",
              "      <th>2002-09-08</th>\n",
              "      <td>5.360427</td>\n",
              "      <td>-6.239088</td>\n",
              "      <td>-30.947826</td>\n",
              "      <td>-12.350999</td>\n",
              "    </tr>\n",
              "    <tr>\n",
              "      <th>2002-09-09</th>\n",
              "      <td>6.102599</td>\n",
              "      <td>-6.966094</td>\n",
              "      <td>-32.770292</td>\n",
              "      <td>-13.189024</td>\n",
              "    </tr>\n",
              "    <tr>\n",
              "      <th>2002-09-10</th>\n",
              "      <td>5.133590</td>\n",
              "      <td>-7.309252</td>\n",
              "      <td>-31.912150</td>\n",
              "      <td>-14.124116</td>\n",
              "    </tr>\n",
              "    <tr>\n",
              "      <th>2002-09-11</th>\n",
              "      <td>3.610601</td>\n",
              "      <td>-6.932118</td>\n",
              "      <td>-30.153711</td>\n",
              "      <td>-14.557608</td>\n",
              "    </tr>\n",
              "    <tr>\n",
              "      <th>2002-09-12</th>\n",
              "      <td>3.463178</td>\n",
              "      <td>-6.437623</td>\n",
              "      <td>-28.860936</td>\n",
              "      <td>-16.446850</td>\n",
              "    </tr>\n",
              "    <tr>\n",
              "      <th>2002-09-13</th>\n",
              "      <td>3.738684</td>\n",
              "      <td>-5.711190</td>\n",
              "      <td>-30.617586</td>\n",
              "      <td>-18.253673</td>\n",
              "    </tr>\n",
              "    <tr>\n",
              "      <th>2002-09-14</th>\n",
              "      <td>2.101444</td>\n",
              "      <td>-3.126954</td>\n",
              "      <td>-30.272345</td>\n",
              "      <td>-18.420285</td>\n",
              "    </tr>\n",
              "    <tr>\n",
              "      <th>2002-09-15</th>\n",
              "      <td>2.186508</td>\n",
              "      <td>-1.863179</td>\n",
              "      <td>-29.196949</td>\n",
              "      <td>-17.554745</td>\n",
              "    </tr>\n",
              "    <tr>\n",
              "      <th>2002-09-16</th>\n",
              "      <td>1.007592</td>\n",
              "      <td>-0.972601</td>\n",
              "      <td>-29.340069</td>\n",
              "      <td>-17.038153</td>\n",
              "    </tr>\n",
              "    <tr>\n",
              "      <th>2002-09-17</th>\n",
              "      <td>0.898140</td>\n",
              "      <td>-1.518578</td>\n",
              "      <td>-28.219815</td>\n",
              "      <td>-17.687190</td>\n",
              "    </tr>\n",
              "    <tr>\n",
              "      <th>2002-09-18</th>\n",
              "      <td>-0.426689</td>\n",
              "      <td>-1.445230</td>\n",
              "      <td>-27.705361</td>\n",
              "      <td>-17.168442</td>\n",
              "    </tr>\n",
              "    <tr>\n",
              "      <th>2002-09-19</th>\n",
              "      <td>0.028842</td>\n",
              "      <td>-0.404111</td>\n",
              "      <td>-29.834897</td>\n",
              "      <td>-16.507815</td>\n",
              "    </tr>\n",
              "    <tr>\n",
              "      <th>2002-09-20</th>\n",
              "      <td>1.980734</td>\n",
              "      <td>1.093095</td>\n",
              "      <td>-28.867127</td>\n",
              "      <td>-17.254193</td>\n",
              "    </tr>\n",
              "    <tr>\n",
              "      <th>2002-09-21</th>\n",
              "      <td>1.459866</td>\n",
              "      <td>0.377640</td>\n",
              "      <td>-29.285711</td>\n",
              "      <td>-18.649799</td>\n",
              "    </tr>\n",
              "    <tr>\n",
              "      <th>2002-09-22</th>\n",
              "      <td>2.322038</td>\n",
              "      <td>0.098393</td>\n",
              "      <td>-28.750717</td>\n",
              "      <td>-16.201329</td>\n",
              "    </tr>\n",
              "    <tr>\n",
              "      <th>2002-09-23</th>\n",
              "      <td>2.417480</td>\n",
              "      <td>-1.706039</td>\n",
              "      <td>-30.009441</td>\n",
              "      <td>-15.682765</td>\n",
              "    </tr>\n",
              "    <tr>\n",
              "      <th>2002-09-24</th>\n",
              "      <td>1.254112</td>\n",
              "      <td>-1.391825</td>\n",
              "      <td>-30.832163</td>\n",
              "      <td>-15.530378</td>\n",
              "    </tr>\n",
              "    <tr>\n",
              "      <th>2002-09-25</th>\n",
              "      <td>1.090618</td>\n",
              "      <td>-1.138936</td>\n",
              "      <td>-30.554229</td>\n",
              "      <td>-15.262121</td>\n",
              "    </tr>\n",
              "    <tr>\n",
              "      <th>2002-09-26</th>\n",
              "      <td>0.108832</td>\n",
              "      <td>-2.789369</td>\n",
              "      <td>-30.090637</td>\n",
              "      <td>-14.773398</td>\n",
              "    </tr>\n",
              "  </tbody>\n",
              "</table>\n",
              "<p>1000 rows × 4 columns</p>\n",
              "</div>"
            ],
            "text/plain": [
              "                    A         B          C          D\n",
              "2000-01-01  -0.165439 -1.241892  -0.342680   0.106041\n",
              "2000-01-02  -1.298616 -1.023435  -0.944371   0.586668\n",
              "2000-01-03  -0.714936 -1.392907  -0.323638   1.589524\n",
              "2000-01-04   0.202948 -0.704013  -0.162558   1.615731\n",
              "2000-01-05  -1.143432 -0.318759  -1.912439   2.029570\n",
              "2000-01-06  -0.641053 -0.928672  -1.370465   1.346422\n",
              "2000-01-07   0.133213 -1.686737  -2.174208   1.097845\n",
              "2000-01-08   0.281839 -1.026250  -3.980469   1.487319\n",
              "2000-01-09   0.221473 -2.580209  -4.595592   1.661385\n",
              "2000-01-10  -0.146512 -3.149283  -3.549284   1.125317\n",
              "2000-01-11   0.514869 -4.022301  -2.768194   1.446292\n",
              "2000-01-12  -0.104987 -3.493369  -4.076654   2.125191\n",
              "2000-01-13   0.978066 -3.475903  -3.835260   3.059128\n",
              "2000-01-14   1.116126 -2.797326  -2.255736   2.763711\n",
              "2000-01-15   1.039718 -1.324396  -3.059282   3.110216\n",
              "2000-01-16   0.116109 -2.185032  -4.550271   1.112215\n",
              "2000-01-17   0.920563 -3.287660  -4.124656   0.563663\n",
              "2000-01-18   0.394087 -2.860464  -3.431849   1.494053\n",
              "2000-01-19   2.133781 -1.701251  -3.878129   1.981117\n",
              "2000-01-20   1.380864 -2.028198  -5.349861   1.759223\n",
              "2000-01-21   1.787964 -1.835131  -5.951531   1.855332\n",
              "2000-01-22   1.159440 -3.579943  -6.824187   2.528383\n",
              "2000-01-23   1.659971 -3.561345  -5.747614   3.150220\n",
              "2000-01-24   1.459270 -3.092126  -5.337020   4.048097\n",
              "2000-01-25   2.199406 -4.002160  -4.287942   4.292009\n",
              "2000-01-26   3.640403 -2.616529  -3.849604   4.566062\n",
              "2000-01-27   5.672637 -1.289733  -4.526165   4.850854\n",
              "2000-01-28   6.343960 -1.790023  -7.023424   5.369450\n",
              "2000-01-29   4.637036 -2.715463  -6.508805   5.646366\n",
              "2000-01-30   3.660189 -3.525145  -6.281121   6.730217\n",
              "...               ...       ...        ...        ...\n",
              "2002-08-28   9.469093 -4.992221 -28.638227 -11.587743\n",
              "2002-08-29   9.821526 -4.469792 -28.074909 -11.036200\n",
              "2002-08-30  10.068815 -3.832841 -29.561092 -10.526491\n",
              "2002-08-31   9.323920 -4.548075 -29.192959 -12.557164\n",
              "2002-09-01   6.950864 -4.787274 -26.883097 -12.624429\n",
              "2002-09-02   6.846803 -5.235593 -26.833349 -13.542963\n",
              "2002-09-03   6.667062 -5.059516 -28.155307 -13.254016\n",
              "2002-09-04   6.298975 -5.485590 -28.053691 -12.700793\n",
              "2002-09-05   5.366252 -6.737480 -28.153503 -12.465665\n",
              "2002-09-06   5.509072 -5.853635 -30.543992 -13.024947\n",
              "2002-09-07   6.444464 -5.587841 -30.385368 -12.371840\n",
              "2002-09-08   5.360427 -6.239088 -30.947826 -12.350999\n",
              "2002-09-09   6.102599 -6.966094 -32.770292 -13.189024\n",
              "2002-09-10   5.133590 -7.309252 -31.912150 -14.124116\n",
              "2002-09-11   3.610601 -6.932118 -30.153711 -14.557608\n",
              "2002-09-12   3.463178 -6.437623 -28.860936 -16.446850\n",
              "2002-09-13   3.738684 -5.711190 -30.617586 -18.253673\n",
              "2002-09-14   2.101444 -3.126954 -30.272345 -18.420285\n",
              "2002-09-15   2.186508 -1.863179 -29.196949 -17.554745\n",
              "2002-09-16   1.007592 -0.972601 -29.340069 -17.038153\n",
              "2002-09-17   0.898140 -1.518578 -28.219815 -17.687190\n",
              "2002-09-18  -0.426689 -1.445230 -27.705361 -17.168442\n",
              "2002-09-19   0.028842 -0.404111 -29.834897 -16.507815\n",
              "2002-09-20   1.980734  1.093095 -28.867127 -17.254193\n",
              "2002-09-21   1.459866  0.377640 -29.285711 -18.649799\n",
              "2002-09-22   2.322038  0.098393 -28.750717 -16.201329\n",
              "2002-09-23   2.417480 -1.706039 -30.009441 -15.682765\n",
              "2002-09-24   1.254112 -1.391825 -30.832163 -15.530378\n",
              "2002-09-25   1.090618 -1.138936 -30.554229 -15.262121\n",
              "2002-09-26   0.108832 -2.789369 -30.090637 -14.773398\n",
              "\n",
              "[1000 rows x 4 columns]"
            ]
          },
          "metadata": {
            "tags": []
          },
          "execution_count": 99
        }
      ]
    }
  ]
}