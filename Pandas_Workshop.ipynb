{
  "nbformat": 4,
  "nbformat_minor": 0,
  "metadata": {
    "kernelspec": {
      "display_name": "Python 3",
      "language": "python",
      "name": "python3"
    },
    "language_info": {
      "codemirror_mode": {
        "name": "ipython",
        "version": 3
      },
      "file_extension": ".py",
      "mimetype": "text/x-python",
      "name": "python",
      "nbconvert_exporter": "python",
      "pygments_lexer": "ipython3",
      "version": "3.6.3"
    },
    "colab": {
      "name": "Pandas Workshop.ipynb",
      "provenance": [],
      "collapsed_sections": [
        "6-N6e8PW-saR",
        "6UUb6xm5-sai",
        "GWPV0y4u-sbE",
        "mp0jJPyh-sbh",
        "R69GQcRv-sb1",
        "fDW6qtyh-scM",
        "Vh940lVR-scX",
        "5fbAhv_3-scX",
        "QUBaPkot-sci",
        "bTBUlQzy-sck",
        "UPTzl3ZA-scp",
        "OrU0PrBW-scv",
        "JO_Alg2Y-sc3",
        "5NrqrBpq-sdH",
        "DIv9NW5f-sdW",
        "wHMitNQr-sdf",
        "a68EuUef-sdy",
        "I95_2to4-sem",
        "C7ZIggm6-sew"
      ],
      "toc_visible": true
    }
  },
  "cells": [
    {
      "cell_type": "markdown",
      "metadata": {
        "_cell_guid": "da21b90d-98fc-483f-bf58-bd1dacf7027c",
        "_kg_hide-input": true,
        "_uuid": "90fb4599b093efccc95cacb6db2da95bcd695545",
        "id": "Qdn4K1mI-sXr"
      },
      "source": [
        "### This is a short introduction to pandas, geared mainly for new users. You can see more complex recipes in the [Cookbook](https://pandas.pydata.org/pandas-docs/stable/cookbook.html#cookbook)"
      ]
    },
    {
      "cell_type": "code",
      "metadata": {
        "_cell_guid": "f26dff57-ef68-4cbf-86f1-b027cc75d6c1",
        "_uuid": "e0a227d03ea6a2d1995268f8cea078357eb596d4",
        "id": "l3r0esRR-sXt"
      },
      "source": [
        "import pandas as pd\n",
        "import numpy as np"
      ],
      "execution_count": 6,
      "outputs": []
    },
    {
      "cell_type": "markdown",
      "metadata": {
        "_cell_guid": "0c4de500-e940-428a-a624-d72cf69055ae",
        "_uuid": "666bd202e06457942b464ff348f49256eb40cb10",
        "id": "DaqZnWff-sYA"
      },
      "source": [
        "# Object Creation\n",
        "Creating a Series by passing a list of values, letting pandas create a default integer index.\n",
        "Series is one dimensional(1-D) array defined in pandas that can be used to store any data type."
      ]
    },
    {
      "cell_type": "code",
      "metadata": {
        "_cell_guid": "684d2ff9-f491-4384-b51d-d89a545f40a6",
        "_uuid": "3d527ebba36697ffcf0b5d46ef717172edcb0539",
        "collapsed": true,
        "id": "2g9Oym48-sYE",
        "outputId": "d515e63e-f774-4015-813f-3a63316c29ee",
        "colab": {
          "base_uri": "https://localhost:8080/",
          "height": 144
        }
      },
      "source": [
        "s = pd.Series([1,3,5,np.nan,6,8])\n",
        "s"
      ],
      "execution_count": 7,
      "outputs": [
        {
          "output_type": "execute_result",
          "data": {
            "text/plain": [
              "0    1.0\n",
              "1    3.0\n",
              "2    5.0\n",
              "3    NaN\n",
              "4    6.0\n",
              "5    8.0\n",
              "dtype: float64"
            ]
          },
          "metadata": {
            "tags": []
          },
          "execution_count": 7
        }
      ]
    },
    {
      "cell_type": "code",
      "metadata": {
        "id": "3CpXVkobM2JW",
        "outputId": "c943bfbd-e83e-4277-a082-a27a7c788016",
        "colab": {
          "base_uri": "https://localhost:8080/",
          "height": 126
        }
      },
      "source": [
        "# Creating series of Dictionary type\n",
        "dictionary ={'a':1, 'b':2, 'c':3, 'd':4, 'e':5}  \n",
        "s = pd.Series(dictionary)\n",
        "s"
      ],
      "execution_count": 8,
      "outputs": [
        {
          "output_type": "execute_result",
          "data": {
            "text/plain": [
              "a    1\n",
              "b    2\n",
              "c    3\n",
              "d    4\n",
              "e    5\n",
              "dtype: int64"
            ]
          },
          "metadata": {
            "tags": []
          },
          "execution_count": 8
        }
      ]
    },
    {
      "cell_type": "code",
      "metadata": {
        "id": "7WAfJs-MNL7H",
        "outputId": "28bc969f-d21a-46d6-90a7-c6dbe3fca1ed",
        "colab": {
          "base_uri": "https://localhost:8080/",
          "height": 72
        }
      },
      "source": [
        "# Creating series of 2darray \n",
        "Data =[[2, 3, 4], [5, 6, 7]]  # Defining 2darray \n",
        "s = pd.Series(Data)\n",
        "s"
      ],
      "execution_count": 9,
      "outputs": [
        {
          "output_type": "execute_result",
          "data": {
            "text/plain": [
              "0    [2, 3, 4]\n",
              "1    [5, 6, 7]\n",
              "dtype: object"
            ]
          },
          "metadata": {
            "tags": []
          },
          "execution_count": 9
        }
      ]
    },
    {
      "cell_type": "markdown",
      "metadata": {
        "_cell_guid": "a34354da-ed7a-4b6c-b29a-371b98778256",
        "_uuid": "762a9ec540f47f1aeba21b5a7deb1cf51a0994eb",
        "id": "xbopGMm7-sYW"
      },
      "source": [
        "Creating a [DataFrame](https://pandas.pydata.org/pandas-docs/stable/generated/pandas.DataFrame.html#pandas.DataFrame) by passing a numpy array, with a datetime index and labeled columns.\n",
        "DataFrames is two-dimensional(2-D) data structure defined in pandas which consists of rows and columns."
      ]
    },
    {
      "cell_type": "code",
      "metadata": {
        "_cell_guid": "1f57494c-5ec2-49a4-adb4-4843d5c39c62",
        "_uuid": "50b786a38ed5b11ec29c308d29599623c26f0f23",
        "collapsed": true,
        "id": "nADQfnIX-sYZ",
        "outputId": "8a46189a-74a7-4daf-9d93-2322e2e8d536",
        "colab": {
          "base_uri": "https://localhost:8080/",
          "height": 72
        }
      },
      "source": [
        "dates = pd.date_range('20141101', periods=6) #Return a fixed frequency DatetimeIndex.\n",
        "dates"
      ],
      "execution_count": 10,
      "outputs": [
        {
          "output_type": "execute_result",
          "data": {
            "text/plain": [
              "DatetimeIndex(['2014-11-01', '2014-11-02', '2014-11-03', '2014-11-04',\n",
              "               '2014-11-05', '2014-11-06'],\n",
              "              dtype='datetime64[ns]', freq='D')"
            ]
          },
          "metadata": {
            "tags": []
          },
          "execution_count": 10
        }
      ]
    },
    {
      "cell_type": "code",
      "metadata": {
        "_cell_guid": "e29399aa-3818-4dd8-bc3b-634aa5c3fe78",
        "_uuid": "b21c8f9e3992c18eb839851aaa6ad057654e9082",
        "id": "wxhiS8mn-sYy",
        "outputId": "230ff8b6-9b7d-4fbb-9653-2cc48edc16f9",
        "colab": {
          "base_uri": "https://localhost:8080/",
          "height": 237
        }
      },
      "source": [
        "df = pd.DataFrame(np.random.randn(6,4), index=dates,columns=['one','two','three','four'])\n",
        "df"
      ],
      "execution_count": 11,
      "outputs": [
        {
          "output_type": "execute_result",
          "data": {
            "text/html": [
              "<div>\n",
              "<style scoped>\n",
              "    .dataframe tbody tr th:only-of-type {\n",
              "        vertical-align: middle;\n",
              "    }\n",
              "\n",
              "    .dataframe tbody tr th {\n",
              "        vertical-align: top;\n",
              "    }\n",
              "\n",
              "    .dataframe thead th {\n",
              "        text-align: right;\n",
              "    }\n",
              "</style>\n",
              "<table border=\"1\" class=\"dataframe\">\n",
              "  <thead>\n",
              "    <tr style=\"text-align: right;\">\n",
              "      <th></th>\n",
              "      <th>one</th>\n",
              "      <th>two</th>\n",
              "      <th>three</th>\n",
              "      <th>four</th>\n",
              "    </tr>\n",
              "  </thead>\n",
              "  <tbody>\n",
              "    <tr>\n",
              "      <th>2014-11-01</th>\n",
              "      <td>-0.126729</td>\n",
              "      <td>1.288714</td>\n",
              "      <td>-0.141705</td>\n",
              "      <td>0.610377</td>\n",
              "    </tr>\n",
              "    <tr>\n",
              "      <th>2014-11-02</th>\n",
              "      <td>0.310537</td>\n",
              "      <td>-0.304567</td>\n",
              "      <td>1.709351</td>\n",
              "      <td>-2.750355</td>\n",
              "    </tr>\n",
              "    <tr>\n",
              "      <th>2014-11-03</th>\n",
              "      <td>-1.446366</td>\n",
              "      <td>0.324799</td>\n",
              "      <td>-0.517455</td>\n",
              "      <td>0.978525</td>\n",
              "    </tr>\n",
              "    <tr>\n",
              "      <th>2014-11-04</th>\n",
              "      <td>0.275913</td>\n",
              "      <td>0.374747</td>\n",
              "      <td>-0.361571</td>\n",
              "      <td>1.417826</td>\n",
              "    </tr>\n",
              "    <tr>\n",
              "      <th>2014-11-05</th>\n",
              "      <td>0.103780</td>\n",
              "      <td>-0.604365</td>\n",
              "      <td>-2.350051</td>\n",
              "      <td>-0.244856</td>\n",
              "    </tr>\n",
              "    <tr>\n",
              "      <th>2014-11-06</th>\n",
              "      <td>0.034238</td>\n",
              "      <td>0.264443</td>\n",
              "      <td>2.189610</td>\n",
              "      <td>-0.425859</td>\n",
              "    </tr>\n",
              "  </tbody>\n",
              "</table>\n",
              "</div>"
            ],
            "text/plain": [
              "                 one       two     three      four\n",
              "2014-11-01 -0.126729  1.288714 -0.141705  0.610377\n",
              "2014-11-02  0.310537 -0.304567  1.709351 -2.750355\n",
              "2014-11-03 -1.446366  0.324799 -0.517455  0.978525\n",
              "2014-11-04  0.275913  0.374747 -0.361571  1.417826\n",
              "2014-11-05  0.103780 -0.604365 -2.350051 -0.244856\n",
              "2014-11-06  0.034238  0.264443  2.189610 -0.425859"
            ]
          },
          "metadata": {
            "tags": []
          },
          "execution_count": 11
        }
      ]
    },
    {
      "cell_type": "markdown",
      "metadata": {
        "id": "LWZKRS6tEO2u"
      },
      "source": [
        "Here, Data can be:\n",
        "\n",
        "*  One or more dictionaries\n",
        "*  One or more Series\n",
        "*  2D-numpy Ndarray\n",
        "\n",
        "\n"
      ]
    },
    {
      "cell_type": "code",
      "metadata": {
        "id": "0RH8PyjoEttS",
        "outputId": "a77afaef-a4ed-4ba2-cbe0-f4945a7b0794",
        "colab": {
          "base_uri": "https://localhost:8080/",
          "height": 206
        }
      },
      "source": [
        "#When Data is Dictionaries\n",
        "# Program to Create Data Frame with two dictionaries \n",
        "dict1 ={'a':1, 'b':2, 'c':3, 'd':4}        # Define Dictionary 1 \n",
        "dict2 ={'a':5, 'b':6, 'c':7, 'd':8, 'e':9} # Define Dictionary 2 \n",
        "Data = {'first':dict1, 'second':dict2}  # Define Data with dict1 and dict2 \n",
        "dfd = pd.DataFrame(Data)  # Create DataFrame \n",
        "dfd"
      ],
      "execution_count": 12,
      "outputs": [
        {
          "output_type": "execute_result",
          "data": {
            "text/html": [
              "<div>\n",
              "<style scoped>\n",
              "    .dataframe tbody tr th:only-of-type {\n",
              "        vertical-align: middle;\n",
              "    }\n",
              "\n",
              "    .dataframe tbody tr th {\n",
              "        vertical-align: top;\n",
              "    }\n",
              "\n",
              "    .dataframe thead th {\n",
              "        text-align: right;\n",
              "    }\n",
              "</style>\n",
              "<table border=\"1\" class=\"dataframe\">\n",
              "  <thead>\n",
              "    <tr style=\"text-align: right;\">\n",
              "      <th></th>\n",
              "      <th>first</th>\n",
              "      <th>second</th>\n",
              "    </tr>\n",
              "  </thead>\n",
              "  <tbody>\n",
              "    <tr>\n",
              "      <th>a</th>\n",
              "      <td>1.0</td>\n",
              "      <td>5</td>\n",
              "    </tr>\n",
              "    <tr>\n",
              "      <th>b</th>\n",
              "      <td>2.0</td>\n",
              "      <td>6</td>\n",
              "    </tr>\n",
              "    <tr>\n",
              "      <th>c</th>\n",
              "      <td>3.0</td>\n",
              "      <td>7</td>\n",
              "    </tr>\n",
              "    <tr>\n",
              "      <th>d</th>\n",
              "      <td>4.0</td>\n",
              "      <td>8</td>\n",
              "    </tr>\n",
              "    <tr>\n",
              "      <th>e</th>\n",
              "      <td>NaN</td>\n",
              "      <td>9</td>\n",
              "    </tr>\n",
              "  </tbody>\n",
              "</table>\n",
              "</div>"
            ],
            "text/plain": [
              "   first  second\n",
              "a    1.0       5\n",
              "b    2.0       6\n",
              "c    3.0       7\n",
              "d    4.0       8\n",
              "e    NaN       9"
            ]
          },
          "metadata": {
            "tags": []
          },
          "execution_count": 12
        }
      ]
    },
    {
      "cell_type": "code",
      "metadata": {
        "id": "FJfuBtG3E2UE",
        "outputId": "1852a4b8-954b-4cc2-ace8-35087c2e601e",
        "colab": {
          "base_uri": "https://localhost:8080/",
          "height": 269
        }
      },
      "source": [
        "# When Data is Series\n",
        "# Program to create Dataframe of three series  \n",
        "import pandas as pd \n",
        "  \n",
        "s1 = pd.Series([1, 3, 4, 5, 6, 2, 9])           # Define series 1 \n",
        "s2 = pd.Series([1.1, 3.5, 4.7, 5.8, 2.9, 9.3]) # Define series 2 \n",
        "s3 = pd.Series(['a', 'b', 'c', 'd', 'e'])     # Define series 3 \n",
        "  \n",
        "  \n",
        "Data ={'first':s1, 'second':s2, 'third':s3} # Define Data \n",
        "dfseries = pd.DataFrame(Data)              # Create DataFrame \n",
        "dfseries"
      ],
      "execution_count": 13,
      "outputs": [
        {
          "output_type": "execute_result",
          "data": {
            "text/html": [
              "<div>\n",
              "<style scoped>\n",
              "    .dataframe tbody tr th:only-of-type {\n",
              "        vertical-align: middle;\n",
              "    }\n",
              "\n",
              "    .dataframe tbody tr th {\n",
              "        vertical-align: top;\n",
              "    }\n",
              "\n",
              "    .dataframe thead th {\n",
              "        text-align: right;\n",
              "    }\n",
              "</style>\n",
              "<table border=\"1\" class=\"dataframe\">\n",
              "  <thead>\n",
              "    <tr style=\"text-align: right;\">\n",
              "      <th></th>\n",
              "      <th>first</th>\n",
              "      <th>second</th>\n",
              "      <th>third</th>\n",
              "    </tr>\n",
              "  </thead>\n",
              "  <tbody>\n",
              "    <tr>\n",
              "      <th>0</th>\n",
              "      <td>1</td>\n",
              "      <td>1.1</td>\n",
              "      <td>a</td>\n",
              "    </tr>\n",
              "    <tr>\n",
              "      <th>1</th>\n",
              "      <td>3</td>\n",
              "      <td>3.5</td>\n",
              "      <td>b</td>\n",
              "    </tr>\n",
              "    <tr>\n",
              "      <th>2</th>\n",
              "      <td>4</td>\n",
              "      <td>4.7</td>\n",
              "      <td>c</td>\n",
              "    </tr>\n",
              "    <tr>\n",
              "      <th>3</th>\n",
              "      <td>5</td>\n",
              "      <td>5.8</td>\n",
              "      <td>d</td>\n",
              "    </tr>\n",
              "    <tr>\n",
              "      <th>4</th>\n",
              "      <td>6</td>\n",
              "      <td>2.9</td>\n",
              "      <td>e</td>\n",
              "    </tr>\n",
              "    <tr>\n",
              "      <th>5</th>\n",
              "      <td>2</td>\n",
              "      <td>9.3</td>\n",
              "      <td>NaN</td>\n",
              "    </tr>\n",
              "    <tr>\n",
              "      <th>6</th>\n",
              "      <td>9</td>\n",
              "      <td>NaN</td>\n",
              "      <td>NaN</td>\n",
              "    </tr>\n",
              "  </tbody>\n",
              "</table>\n",
              "</div>"
            ],
            "text/plain": [
              "   first  second third\n",
              "0      1     1.1     a\n",
              "1      3     3.5     b\n",
              "2      4     4.7     c\n",
              "3      5     5.8     d\n",
              "4      6     2.9     e\n",
              "5      2     9.3   NaN\n",
              "6      9     NaN   NaN"
            ]
          },
          "metadata": {
            "tags": []
          },
          "execution_count": 13
        }
      ]
    },
    {
      "cell_type": "code",
      "metadata": {
        "id": "svgoPoc7FDwr",
        "outputId": "1107474f-3c73-48ec-ed52-4c20c2f5c9d9",
        "colab": {
          "base_uri": "https://localhost:8080/",
          "height": 112
        }
      },
      "source": [
        "# When Data is 2D-numpy ndarray\n",
        "# Program to create DataFrame from 2D array \n",
        "import pandas as pd # Import Library \n",
        "d1 =[[2, 3, 4], [5, 6, 7]] # Define 2d array 1 \n",
        "d2 =[[2, 4, 8], [1, 3, 9]] # Define 2d array 2 \n",
        "Data ={'first': d1, 'second': d2} # Define Data  \n",
        "df2d = pd.DataFrame(Data)    # Create DataFrame \n",
        "df2d"
      ],
      "execution_count": 14,
      "outputs": [
        {
          "output_type": "execute_result",
          "data": {
            "text/html": [
              "<div>\n",
              "<style scoped>\n",
              "    .dataframe tbody tr th:only-of-type {\n",
              "        vertical-align: middle;\n",
              "    }\n",
              "\n",
              "    .dataframe tbody tr th {\n",
              "        vertical-align: top;\n",
              "    }\n",
              "\n",
              "    .dataframe thead th {\n",
              "        text-align: right;\n",
              "    }\n",
              "</style>\n",
              "<table border=\"1\" class=\"dataframe\">\n",
              "  <thead>\n",
              "    <tr style=\"text-align: right;\">\n",
              "      <th></th>\n",
              "      <th>first</th>\n",
              "      <th>second</th>\n",
              "    </tr>\n",
              "  </thead>\n",
              "  <tbody>\n",
              "    <tr>\n",
              "      <th>0</th>\n",
              "      <td>[2, 3, 4]</td>\n",
              "      <td>[2, 4, 8]</td>\n",
              "    </tr>\n",
              "    <tr>\n",
              "      <th>1</th>\n",
              "      <td>[5, 6, 7]</td>\n",
              "      <td>[1, 3, 9]</td>\n",
              "    </tr>\n",
              "  </tbody>\n",
              "</table>\n",
              "</div>"
            ],
            "text/plain": [
              "       first     second\n",
              "0  [2, 3, 4]  [2, 4, 8]\n",
              "1  [5, 6, 7]  [1, 3, 9]"
            ]
          },
          "metadata": {
            "tags": []
          },
          "execution_count": 14
        }
      ]
    },
    {
      "cell_type": "markdown",
      "metadata": {
        "_cell_guid": "6622566b-e889-4589-88db-9e6ac53bda43",
        "_uuid": "886f7623a8e6ef893a83174796656aa7417c72be",
        "id": "vhlyXWWm-sY7"
      },
      "source": [
        "Creating a DataFrame by passing a dict of objects that can be converted to series-like."
      ]
    },
    {
      "cell_type": "code",
      "metadata": {
        "_cell_guid": "a36d23bb-aa78-4964-984f-1c0fef73c85b",
        "_uuid": "91c969a5e0dede5ed222df08fda0a19e7ecb6ba9",
        "id": "KBXqL5sx-sY8",
        "outputId": "2aa49668-8422-4403-ae92-f89e06a0ba0b",
        "colab": {
          "base_uri": "https://localhost:8080/",
          "height": 175
        }
      },
      "source": [
        "df2 = pd.DataFrame({ 'A' : 1.,\n",
        "   ....:                      'B' : pd.Timestamp('20130102'),\n",
        "   ....:                      'C' : pd.Series(1,index=list(range(4)),dtype='float32'),\n",
        "   ....:                      'D' : np.array([3] * 4,dtype='int32'),     \n",
        "   ....:                      'E' : 'foo' })\n",
        "   ....: \n",
        "df2"
      ],
      "execution_count": 15,
      "outputs": [
        {
          "output_type": "execute_result",
          "data": {
            "text/html": [
              "<div>\n",
              "<style scoped>\n",
              "    .dataframe tbody tr th:only-of-type {\n",
              "        vertical-align: middle;\n",
              "    }\n",
              "\n",
              "    .dataframe tbody tr th {\n",
              "        vertical-align: top;\n",
              "    }\n",
              "\n",
              "    .dataframe thead th {\n",
              "        text-align: right;\n",
              "    }\n",
              "</style>\n",
              "<table border=\"1\" class=\"dataframe\">\n",
              "  <thead>\n",
              "    <tr style=\"text-align: right;\">\n",
              "      <th></th>\n",
              "      <th>A</th>\n",
              "      <th>B</th>\n",
              "      <th>C</th>\n",
              "      <th>D</th>\n",
              "      <th>E</th>\n",
              "    </tr>\n",
              "  </thead>\n",
              "  <tbody>\n",
              "    <tr>\n",
              "      <th>0</th>\n",
              "      <td>1.0</td>\n",
              "      <td>2013-01-02</td>\n",
              "      <td>1.0</td>\n",
              "      <td>3</td>\n",
              "      <td>foo</td>\n",
              "    </tr>\n",
              "    <tr>\n",
              "      <th>1</th>\n",
              "      <td>1.0</td>\n",
              "      <td>2013-01-02</td>\n",
              "      <td>1.0</td>\n",
              "      <td>3</td>\n",
              "      <td>foo</td>\n",
              "    </tr>\n",
              "    <tr>\n",
              "      <th>2</th>\n",
              "      <td>1.0</td>\n",
              "      <td>2013-01-02</td>\n",
              "      <td>1.0</td>\n",
              "      <td>3</td>\n",
              "      <td>foo</td>\n",
              "    </tr>\n",
              "    <tr>\n",
              "      <th>3</th>\n",
              "      <td>1.0</td>\n",
              "      <td>2013-01-02</td>\n",
              "      <td>1.0</td>\n",
              "      <td>3</td>\n",
              "      <td>foo</td>\n",
              "    </tr>\n",
              "  </tbody>\n",
              "</table>\n",
              "</div>"
            ],
            "text/plain": [
              "     A          B    C  D    E\n",
              "0  1.0 2013-01-02  1.0  3  foo\n",
              "1  1.0 2013-01-02  1.0  3  foo\n",
              "2  1.0 2013-01-02  1.0  3  foo\n",
              "3  1.0 2013-01-02  1.0  3  foo"
            ]
          },
          "metadata": {
            "tags": []
          },
          "execution_count": 15
        }
      ]
    },
    {
      "cell_type": "markdown",
      "metadata": {
        "_cell_guid": "10d03951-7cbd-4ee0-9302-1a77697a74f2",
        "_uuid": "05e30726935db33f49e624f496fc8c953be46383",
        "id": "4AlE-PYR-sZB"
      },
      "source": [
        "Having specific [dtypes](https://pandas.pydata.org/pandas-docs/stable/basics.html#basics-dtypes):"
      ]
    },
    {
      "cell_type": "code",
      "metadata": {
        "_cell_guid": "e862ec95-5893-4f46-ac7d-4d8a638ffc1f",
        "_uuid": "9e7f0e3693cf1f63718fce13feed81c93ed22d58",
        "id": "dALuqT9K-sZC",
        "outputId": "e52c97d9-c330-45a2-cd9f-16fc764e464e",
        "colab": {
          "base_uri": "https://localhost:8080/",
          "height": 126
        }
      },
      "source": [
        "df2.dtypes"
      ],
      "execution_count": 16,
      "outputs": [
        {
          "output_type": "execute_result",
          "data": {
            "text/plain": [
              "A           float64\n",
              "B    datetime64[ns]\n",
              "C           float32\n",
              "D             int32\n",
              "E            object\n",
              "dtype: object"
            ]
          },
          "metadata": {
            "tags": []
          },
          "execution_count": 16
        }
      ]
    },
    {
      "cell_type": "markdown",
      "metadata": {
        "_cell_guid": "860dc5f5-ce12-47b0-b0b1-09cc4aba5f73",
        "_uuid": "886b98db6af991c2ec742c18085b0b8a7b88d31f",
        "id": "FudxnosG-sZH"
      },
      "source": [
        "\n",
        "# Viewing Data\n",
        "See the [Basics section](https://pandas.pydata.org/pandas-docs/stable/basics.html#basics)\n",
        "See the top & bottom rows of the frame"
      ]
    },
    {
      "cell_type": "code",
      "metadata": {
        "_cell_guid": "b1b5ca0e-4b43-4ec9-80ee-65b807d234d2",
        "_uuid": "c1d9e77ee2cfdc5b81af10b29565a9166ca01994",
        "collapsed": true,
        "id": "Ft_f4XQ1-sZH",
        "outputId": "3f5e9de4-3698-413c-c0e4-5f7bd4112e9b",
        "colab": {
          "base_uri": "https://localhost:8080/",
          "height": 206
        }
      },
      "source": [
        "df.head()"
      ],
      "execution_count": 17,
      "outputs": [
        {
          "output_type": "execute_result",
          "data": {
            "text/html": [
              "<div>\n",
              "<style scoped>\n",
              "    .dataframe tbody tr th:only-of-type {\n",
              "        vertical-align: middle;\n",
              "    }\n",
              "\n",
              "    .dataframe tbody tr th {\n",
              "        vertical-align: top;\n",
              "    }\n",
              "\n",
              "    .dataframe thead th {\n",
              "        text-align: right;\n",
              "    }\n",
              "</style>\n",
              "<table border=\"1\" class=\"dataframe\">\n",
              "  <thead>\n",
              "    <tr style=\"text-align: right;\">\n",
              "      <th></th>\n",
              "      <th>one</th>\n",
              "      <th>two</th>\n",
              "      <th>three</th>\n",
              "      <th>four</th>\n",
              "    </tr>\n",
              "  </thead>\n",
              "  <tbody>\n",
              "    <tr>\n",
              "      <th>2014-11-01</th>\n",
              "      <td>-0.126729</td>\n",
              "      <td>1.288714</td>\n",
              "      <td>-0.141705</td>\n",
              "      <td>0.610377</td>\n",
              "    </tr>\n",
              "    <tr>\n",
              "      <th>2014-11-02</th>\n",
              "      <td>0.310537</td>\n",
              "      <td>-0.304567</td>\n",
              "      <td>1.709351</td>\n",
              "      <td>-2.750355</td>\n",
              "    </tr>\n",
              "    <tr>\n",
              "      <th>2014-11-03</th>\n",
              "      <td>-1.446366</td>\n",
              "      <td>0.324799</td>\n",
              "      <td>-0.517455</td>\n",
              "      <td>0.978525</td>\n",
              "    </tr>\n",
              "    <tr>\n",
              "      <th>2014-11-04</th>\n",
              "      <td>0.275913</td>\n",
              "      <td>0.374747</td>\n",
              "      <td>-0.361571</td>\n",
              "      <td>1.417826</td>\n",
              "    </tr>\n",
              "    <tr>\n",
              "      <th>2014-11-05</th>\n",
              "      <td>0.103780</td>\n",
              "      <td>-0.604365</td>\n",
              "      <td>-2.350051</td>\n",
              "      <td>-0.244856</td>\n",
              "    </tr>\n",
              "  </tbody>\n",
              "</table>\n",
              "</div>"
            ],
            "text/plain": [
              "                 one       two     three      four\n",
              "2014-11-01 -0.126729  1.288714 -0.141705  0.610377\n",
              "2014-11-02  0.310537 -0.304567  1.709351 -2.750355\n",
              "2014-11-03 -1.446366  0.324799 -0.517455  0.978525\n",
              "2014-11-04  0.275913  0.374747 -0.361571  1.417826\n",
              "2014-11-05  0.103780 -0.604365 -2.350051 -0.244856"
            ]
          },
          "metadata": {
            "tags": []
          },
          "execution_count": 17
        }
      ]
    },
    {
      "cell_type": "code",
      "metadata": {
        "_cell_guid": "3428b24c-520e-4d23-b439-9c9e2b8d353d",
        "_uuid": "74c7c24d7adc0382cdc6055a88643ea7cbe2c111",
        "collapsed": true,
        "id": "UfFrGsE_-sZN",
        "outputId": "35c5a402-d7ec-4349-950f-b1d7a7868b05",
        "colab": {
          "base_uri": "https://localhost:8080/",
          "height": 143
        }
      },
      "source": [
        "df.tail(3)"
      ],
      "execution_count": 18,
      "outputs": [
        {
          "output_type": "execute_result",
          "data": {
            "text/html": [
              "<div>\n",
              "<style scoped>\n",
              "    .dataframe tbody tr th:only-of-type {\n",
              "        vertical-align: middle;\n",
              "    }\n",
              "\n",
              "    .dataframe tbody tr th {\n",
              "        vertical-align: top;\n",
              "    }\n",
              "\n",
              "    .dataframe thead th {\n",
              "        text-align: right;\n",
              "    }\n",
              "</style>\n",
              "<table border=\"1\" class=\"dataframe\">\n",
              "  <thead>\n",
              "    <tr style=\"text-align: right;\">\n",
              "      <th></th>\n",
              "      <th>one</th>\n",
              "      <th>two</th>\n",
              "      <th>three</th>\n",
              "      <th>four</th>\n",
              "    </tr>\n",
              "  </thead>\n",
              "  <tbody>\n",
              "    <tr>\n",
              "      <th>2014-11-04</th>\n",
              "      <td>0.275913</td>\n",
              "      <td>0.374747</td>\n",
              "      <td>-0.361571</td>\n",
              "      <td>1.417826</td>\n",
              "    </tr>\n",
              "    <tr>\n",
              "      <th>2014-11-05</th>\n",
              "      <td>0.103780</td>\n",
              "      <td>-0.604365</td>\n",
              "      <td>-2.350051</td>\n",
              "      <td>-0.244856</td>\n",
              "    </tr>\n",
              "    <tr>\n",
              "      <th>2014-11-06</th>\n",
              "      <td>0.034238</td>\n",
              "      <td>0.264443</td>\n",
              "      <td>2.189610</td>\n",
              "      <td>-0.425859</td>\n",
              "    </tr>\n",
              "  </tbody>\n",
              "</table>\n",
              "</div>"
            ],
            "text/plain": [
              "                 one       two     three      four\n",
              "2014-11-04  0.275913  0.374747 -0.361571  1.417826\n",
              "2014-11-05  0.103780 -0.604365 -2.350051 -0.244856\n",
              "2014-11-06  0.034238  0.264443  2.189610 -0.425859"
            ]
          },
          "metadata": {
            "tags": []
          },
          "execution_count": 18
        }
      ]
    },
    {
      "cell_type": "markdown",
      "metadata": {
        "_cell_guid": "efec648c-6c39-4b09-a87e-cf3dc723ff0b",
        "_uuid": "5c4372dac3fba6ebf7fc16e222ab135529dfb3fe",
        "id": "aGZP7bhT-sZW"
      },
      "source": [
        "Display the index, columns, and the underlying numpy data"
      ]
    },
    {
      "cell_type": "code",
      "metadata": {
        "_cell_guid": "53a240a3-ecb2-4f38-8862-da1d00aedf7c",
        "_uuid": "056ab69a40592e47b9e07cb2514784eb50d81ade",
        "id": "W8zs5Bx3-sZa",
        "outputId": "43f8536e-5f17-477d-a8a2-bc49dc3d88b4",
        "colab": {
          "base_uri": "https://localhost:8080/",
          "height": 72
        }
      },
      "source": [
        "df.index"
      ],
      "execution_count": 19,
      "outputs": [
        {
          "output_type": "execute_result",
          "data": {
            "text/plain": [
              "DatetimeIndex(['2014-11-01', '2014-11-02', '2014-11-03', '2014-11-04',\n",
              "               '2014-11-05', '2014-11-06'],\n",
              "              dtype='datetime64[ns]', freq='D')"
            ]
          },
          "metadata": {
            "tags": []
          },
          "execution_count": 19
        }
      ]
    },
    {
      "cell_type": "code",
      "metadata": {
        "_cell_guid": "a9cae030-681e-4b3d-993f-0e2cbaaa10a9",
        "_uuid": "b86456edbcc2249100502525c1fd38dd4235d0f3",
        "id": "YLKf1d7j-sZg",
        "outputId": "cceece4c-7d71-46eb-e1e8-abd3720cee08",
        "colab": {
          "base_uri": "https://localhost:8080/",
          "height": 35
        }
      },
      "source": [
        "df.columns"
      ],
      "execution_count": 20,
      "outputs": [
        {
          "output_type": "execute_result",
          "data": {
            "text/plain": [
              "Index(['one', 'two', 'three', 'four'], dtype='object')"
            ]
          },
          "metadata": {
            "tags": []
          },
          "execution_count": 20
        }
      ]
    },
    {
      "cell_type": "code",
      "metadata": {
        "_cell_guid": "0d442ada-0d41-4fe4-a843-48592068306d",
        "_uuid": "842fe1b27b0714ee2155a657e3eec4f3719a40b0",
        "id": "vMoeduVH-sZl",
        "outputId": "1374480b-6156-4606-8364-e439b1020431",
        "colab": {
          "base_uri": "https://localhost:8080/",
          "height": 126
        }
      },
      "source": [
        "df.values"
      ],
      "execution_count": 21,
      "outputs": [
        {
          "output_type": "execute_result",
          "data": {
            "text/plain": [
              "array([[-0.12672853,  1.28871435, -0.14170486,  0.6103766 ],\n",
              "       [ 0.31053685, -0.30456687,  1.70935097, -2.75035517],\n",
              "       [-1.44636645,  0.32479924, -0.51745543,  0.97852541],\n",
              "       [ 0.27591276,  0.37474736, -0.36157128,  1.41782642],\n",
              "       [ 0.10377975, -0.60436485, -2.35005082, -0.24485613],\n",
              "       [ 0.0342383 ,  0.26444279,  2.18961031, -0.42585929]])"
            ]
          },
          "metadata": {
            "tags": []
          },
          "execution_count": 21
        }
      ]
    },
    {
      "cell_type": "markdown",
      "metadata": {
        "_cell_guid": "ab9e7b9e-f32b-4c0f-9df6-32d4464a4cb2",
        "_uuid": "7ef425f14c048accd98f18f3a5e0974fa9fe8a78",
        "id": "tuTJPIsd-sZr"
      },
      "source": [
        "Describe shows a quick statistic summary of your data"
      ]
    },
    {
      "cell_type": "code",
      "metadata": {
        "_cell_guid": "43393dfd-989c-43a6-834e-550c8d3ccbd4",
        "_uuid": "1f1dbb5dd09ffa4c2ee0c3c289328de4c070ad2b",
        "collapsed": true,
        "id": "yxQcckS7-sZr",
        "outputId": "25dc3c16-00de-4b7a-eaeb-2a75c9d3b9fa",
        "colab": {
          "base_uri": "https://localhost:8080/",
          "height": 300
        }
      },
      "source": [
        "df.describe()"
      ],
      "execution_count": 22,
      "outputs": [
        {
          "output_type": "execute_result",
          "data": {
            "text/html": [
              "<div>\n",
              "<style scoped>\n",
              "    .dataframe tbody tr th:only-of-type {\n",
              "        vertical-align: middle;\n",
              "    }\n",
              "\n",
              "    .dataframe tbody tr th {\n",
              "        vertical-align: top;\n",
              "    }\n",
              "\n",
              "    .dataframe thead th {\n",
              "        text-align: right;\n",
              "    }\n",
              "</style>\n",
              "<table border=\"1\" class=\"dataframe\">\n",
              "  <thead>\n",
              "    <tr style=\"text-align: right;\">\n",
              "      <th></th>\n",
              "      <th>one</th>\n",
              "      <th>two</th>\n",
              "      <th>three</th>\n",
              "      <th>four</th>\n",
              "    </tr>\n",
              "  </thead>\n",
              "  <tbody>\n",
              "    <tr>\n",
              "      <th>count</th>\n",
              "      <td>6.000000</td>\n",
              "      <td>6.000000</td>\n",
              "      <td>6.000000</td>\n",
              "      <td>6.000000</td>\n",
              "    </tr>\n",
              "    <tr>\n",
              "      <th>mean</th>\n",
              "      <td>-0.141438</td>\n",
              "      <td>0.223962</td>\n",
              "      <td>0.088030</td>\n",
              "      <td>-0.069057</td>\n",
              "    </tr>\n",
              "    <tr>\n",
              "      <th>std</th>\n",
              "      <td>0.659168</td>\n",
              "      <td>0.653255</td>\n",
              "      <td>1.649915</td>\n",
              "      <td>1.491137</td>\n",
              "    </tr>\n",
              "    <tr>\n",
              "      <th>min</th>\n",
              "      <td>-1.446366</td>\n",
              "      <td>-0.604365</td>\n",
              "      <td>-2.350051</td>\n",
              "      <td>-2.750355</td>\n",
              "    </tr>\n",
              "    <tr>\n",
              "      <th>25%</th>\n",
              "      <td>-0.086487</td>\n",
              "      <td>-0.162314</td>\n",
              "      <td>-0.478484</td>\n",
              "      <td>-0.380609</td>\n",
              "    </tr>\n",
              "    <tr>\n",
              "      <th>50%</th>\n",
              "      <td>0.069009</td>\n",
              "      <td>0.294621</td>\n",
              "      <td>-0.251638</td>\n",
              "      <td>0.182760</td>\n",
              "    </tr>\n",
              "    <tr>\n",
              "      <th>75%</th>\n",
              "      <td>0.232880</td>\n",
              "      <td>0.362260</td>\n",
              "      <td>1.246587</td>\n",
              "      <td>0.886488</td>\n",
              "    </tr>\n",
              "    <tr>\n",
              "      <th>max</th>\n",
              "      <td>0.310537</td>\n",
              "      <td>1.288714</td>\n",
              "      <td>2.189610</td>\n",
              "      <td>1.417826</td>\n",
              "    </tr>\n",
              "  </tbody>\n",
              "</table>\n",
              "</div>"
            ],
            "text/plain": [
              "            one       two     three      four\n",
              "count  6.000000  6.000000  6.000000  6.000000\n",
              "mean  -0.141438  0.223962  0.088030 -0.069057\n",
              "std    0.659168  0.653255  1.649915  1.491137\n",
              "min   -1.446366 -0.604365 -2.350051 -2.750355\n",
              "25%   -0.086487 -0.162314 -0.478484 -0.380609\n",
              "50%    0.069009  0.294621 -0.251638  0.182760\n",
              "75%    0.232880  0.362260  1.246587  0.886488\n",
              "max    0.310537  1.288714  2.189610  1.417826"
            ]
          },
          "metadata": {
            "tags": []
          },
          "execution_count": 22
        }
      ]
    },
    {
      "cell_type": "markdown",
      "metadata": {
        "_cell_guid": "21ba544f-8736-4382-8462-20f02c353328",
        "_uuid": "e5fb874c26019da50f1b68fbea8bcf0e7940809f",
        "id": "6JEdmpju-sZx"
      },
      "source": [
        "Transposing your data"
      ]
    },
    {
      "cell_type": "code",
      "metadata": {
        "_cell_guid": "13e0e285-eac4-48fc-8a82-23491e8ebaf0",
        "_uuid": "ee5d4078cd8d5a545be55483208e73b9c9e939f4",
        "id": "DVThppvY-sZy",
        "outputId": "4657de37-9f64-4c4c-ecd1-5131e7a39550",
        "colab": {
          "base_uri": "https://localhost:8080/",
          "height": 175
        }
      },
      "source": [
        "df.T"
      ],
      "execution_count": 23,
      "outputs": [
        {
          "output_type": "execute_result",
          "data": {
            "text/html": [
              "<div>\n",
              "<style scoped>\n",
              "    .dataframe tbody tr th:only-of-type {\n",
              "        vertical-align: middle;\n",
              "    }\n",
              "\n",
              "    .dataframe tbody tr th {\n",
              "        vertical-align: top;\n",
              "    }\n",
              "\n",
              "    .dataframe thead th {\n",
              "        text-align: right;\n",
              "    }\n",
              "</style>\n",
              "<table border=\"1\" class=\"dataframe\">\n",
              "  <thead>\n",
              "    <tr style=\"text-align: right;\">\n",
              "      <th></th>\n",
              "      <th>2014-11-01</th>\n",
              "      <th>2014-11-02</th>\n",
              "      <th>2014-11-03</th>\n",
              "      <th>2014-11-04</th>\n",
              "      <th>2014-11-05</th>\n",
              "      <th>2014-11-06</th>\n",
              "    </tr>\n",
              "  </thead>\n",
              "  <tbody>\n",
              "    <tr>\n",
              "      <th>one</th>\n",
              "      <td>-0.126729</td>\n",
              "      <td>0.310537</td>\n",
              "      <td>-1.446366</td>\n",
              "      <td>0.275913</td>\n",
              "      <td>0.103780</td>\n",
              "      <td>0.034238</td>\n",
              "    </tr>\n",
              "    <tr>\n",
              "      <th>two</th>\n",
              "      <td>1.288714</td>\n",
              "      <td>-0.304567</td>\n",
              "      <td>0.324799</td>\n",
              "      <td>0.374747</td>\n",
              "      <td>-0.604365</td>\n",
              "      <td>0.264443</td>\n",
              "    </tr>\n",
              "    <tr>\n",
              "      <th>three</th>\n",
              "      <td>-0.141705</td>\n",
              "      <td>1.709351</td>\n",
              "      <td>-0.517455</td>\n",
              "      <td>-0.361571</td>\n",
              "      <td>-2.350051</td>\n",
              "      <td>2.189610</td>\n",
              "    </tr>\n",
              "    <tr>\n",
              "      <th>four</th>\n",
              "      <td>0.610377</td>\n",
              "      <td>-2.750355</td>\n",
              "      <td>0.978525</td>\n",
              "      <td>1.417826</td>\n",
              "      <td>-0.244856</td>\n",
              "      <td>-0.425859</td>\n",
              "    </tr>\n",
              "  </tbody>\n",
              "</table>\n",
              "</div>"
            ],
            "text/plain": [
              "       2014-11-01  2014-11-02  2014-11-03  2014-11-04  2014-11-05  2014-11-06\n",
              "one     -0.126729    0.310537   -1.446366    0.275913    0.103780    0.034238\n",
              "two      1.288714   -0.304567    0.324799    0.374747   -0.604365    0.264443\n",
              "three   -0.141705    1.709351   -0.517455   -0.361571   -2.350051    2.189610\n",
              "four     0.610377   -2.750355    0.978525    1.417826   -0.244856   -0.425859"
            ]
          },
          "metadata": {
            "tags": []
          },
          "execution_count": 23
        }
      ]
    },
    {
      "cell_type": "markdown",
      "metadata": {
        "_cell_guid": "d92b9eac-9dc6-446e-b87e-d50ef52630a8",
        "_uuid": "b526362d5e5f451a460ca3add042b633538055dc",
        "id": "b-O6NV32-sZ6"
      },
      "source": [
        "Sorting by an axis (In this case, sorting the columns in reverse alphabetical order):"
      ]
    },
    {
      "cell_type": "code",
      "metadata": {
        "_cell_guid": "1dfd42f4-5231-4508-900f-1ddc37cdd250",
        "_uuid": "397ac00b05aa5867ba188f537ae7ac814275352c",
        "id": "zo3-XDSa-saG",
        "outputId": "9003a807-c5ca-4731-fbf7-ac5a671236f5",
        "colab": {
          "base_uri": "https://localhost:8080/",
          "height": 237
        }
      },
      "source": [
        "df.sort_index(axis=1, ascending=False)"
      ],
      "execution_count": 24,
      "outputs": [
        {
          "output_type": "execute_result",
          "data": {
            "text/html": [
              "<div>\n",
              "<style scoped>\n",
              "    .dataframe tbody tr th:only-of-type {\n",
              "        vertical-align: middle;\n",
              "    }\n",
              "\n",
              "    .dataframe tbody tr th {\n",
              "        vertical-align: top;\n",
              "    }\n",
              "\n",
              "    .dataframe thead th {\n",
              "        text-align: right;\n",
              "    }\n",
              "</style>\n",
              "<table border=\"1\" class=\"dataframe\">\n",
              "  <thead>\n",
              "    <tr style=\"text-align: right;\">\n",
              "      <th></th>\n",
              "      <th>two</th>\n",
              "      <th>three</th>\n",
              "      <th>one</th>\n",
              "      <th>four</th>\n",
              "    </tr>\n",
              "  </thead>\n",
              "  <tbody>\n",
              "    <tr>\n",
              "      <th>2014-11-01</th>\n",
              "      <td>1.288714</td>\n",
              "      <td>-0.141705</td>\n",
              "      <td>-0.126729</td>\n",
              "      <td>0.610377</td>\n",
              "    </tr>\n",
              "    <tr>\n",
              "      <th>2014-11-02</th>\n",
              "      <td>-0.304567</td>\n",
              "      <td>1.709351</td>\n",
              "      <td>0.310537</td>\n",
              "      <td>-2.750355</td>\n",
              "    </tr>\n",
              "    <tr>\n",
              "      <th>2014-11-03</th>\n",
              "      <td>0.324799</td>\n",
              "      <td>-0.517455</td>\n",
              "      <td>-1.446366</td>\n",
              "      <td>0.978525</td>\n",
              "    </tr>\n",
              "    <tr>\n",
              "      <th>2014-11-04</th>\n",
              "      <td>0.374747</td>\n",
              "      <td>-0.361571</td>\n",
              "      <td>0.275913</td>\n",
              "      <td>1.417826</td>\n",
              "    </tr>\n",
              "    <tr>\n",
              "      <th>2014-11-05</th>\n",
              "      <td>-0.604365</td>\n",
              "      <td>-2.350051</td>\n",
              "      <td>0.103780</td>\n",
              "      <td>-0.244856</td>\n",
              "    </tr>\n",
              "    <tr>\n",
              "      <th>2014-11-06</th>\n",
              "      <td>0.264443</td>\n",
              "      <td>2.189610</td>\n",
              "      <td>0.034238</td>\n",
              "      <td>-0.425859</td>\n",
              "    </tr>\n",
              "  </tbody>\n",
              "</table>\n",
              "</div>"
            ],
            "text/plain": [
              "                 two     three       one      four\n",
              "2014-11-01  1.288714 -0.141705 -0.126729  0.610377\n",
              "2014-11-02 -0.304567  1.709351  0.310537 -2.750355\n",
              "2014-11-03  0.324799 -0.517455 -1.446366  0.978525\n",
              "2014-11-04  0.374747 -0.361571  0.275913  1.417826\n",
              "2014-11-05 -0.604365 -2.350051  0.103780 -0.244856\n",
              "2014-11-06  0.264443  2.189610  0.034238 -0.425859"
            ]
          },
          "metadata": {
            "tags": []
          },
          "execution_count": 24
        }
      ]
    },
    {
      "cell_type": "markdown",
      "metadata": {
        "_cell_guid": "9898c02b-57bd-48d6-884f-3fe8eb53b34a",
        "_uuid": "e3c6b93d9352a0660f989b63e09f03e05c9e1feb",
        "id": "XfcE6C06-saN"
      },
      "source": [
        "Sorting by values"
      ]
    },
    {
      "cell_type": "code",
      "metadata": {
        "_cell_guid": "389c1344-4f60-4628-b6c1-de736d429d3a",
        "_uuid": "df1ac4e8bc643bbcc49f0769c52778ca19761a9e",
        "id": "fwPKV9-o-saO",
        "outputId": "34ff4983-3a83-42cf-9ff0-8871630379c8",
        "colab": {
          "base_uri": "https://localhost:8080/",
          "height": 237
        }
      },
      "source": [
        "df.sort_values(by='two')"
      ],
      "execution_count": 25,
      "outputs": [
        {
          "output_type": "execute_result",
          "data": {
            "text/html": [
              "<div>\n",
              "<style scoped>\n",
              "    .dataframe tbody tr th:only-of-type {\n",
              "        vertical-align: middle;\n",
              "    }\n",
              "\n",
              "    .dataframe tbody tr th {\n",
              "        vertical-align: top;\n",
              "    }\n",
              "\n",
              "    .dataframe thead th {\n",
              "        text-align: right;\n",
              "    }\n",
              "</style>\n",
              "<table border=\"1\" class=\"dataframe\">\n",
              "  <thead>\n",
              "    <tr style=\"text-align: right;\">\n",
              "      <th></th>\n",
              "      <th>one</th>\n",
              "      <th>two</th>\n",
              "      <th>three</th>\n",
              "      <th>four</th>\n",
              "    </tr>\n",
              "  </thead>\n",
              "  <tbody>\n",
              "    <tr>\n",
              "      <th>2014-11-05</th>\n",
              "      <td>0.103780</td>\n",
              "      <td>-0.604365</td>\n",
              "      <td>-2.350051</td>\n",
              "      <td>-0.244856</td>\n",
              "    </tr>\n",
              "    <tr>\n",
              "      <th>2014-11-02</th>\n",
              "      <td>0.310537</td>\n",
              "      <td>-0.304567</td>\n",
              "      <td>1.709351</td>\n",
              "      <td>-2.750355</td>\n",
              "    </tr>\n",
              "    <tr>\n",
              "      <th>2014-11-06</th>\n",
              "      <td>0.034238</td>\n",
              "      <td>0.264443</td>\n",
              "      <td>2.189610</td>\n",
              "      <td>-0.425859</td>\n",
              "    </tr>\n",
              "    <tr>\n",
              "      <th>2014-11-03</th>\n",
              "      <td>-1.446366</td>\n",
              "      <td>0.324799</td>\n",
              "      <td>-0.517455</td>\n",
              "      <td>0.978525</td>\n",
              "    </tr>\n",
              "    <tr>\n",
              "      <th>2014-11-04</th>\n",
              "      <td>0.275913</td>\n",
              "      <td>0.374747</td>\n",
              "      <td>-0.361571</td>\n",
              "      <td>1.417826</td>\n",
              "    </tr>\n",
              "    <tr>\n",
              "      <th>2014-11-01</th>\n",
              "      <td>-0.126729</td>\n",
              "      <td>1.288714</td>\n",
              "      <td>-0.141705</td>\n",
              "      <td>0.610377</td>\n",
              "    </tr>\n",
              "  </tbody>\n",
              "</table>\n",
              "</div>"
            ],
            "text/plain": [
              "                 one       two     three      four\n",
              "2014-11-05  0.103780 -0.604365 -2.350051 -0.244856\n",
              "2014-11-02  0.310537 -0.304567  1.709351 -2.750355\n",
              "2014-11-06  0.034238  0.264443  2.189610 -0.425859\n",
              "2014-11-03 -1.446366  0.324799 -0.517455  0.978525\n",
              "2014-11-04  0.275913  0.374747 -0.361571  1.417826\n",
              "2014-11-01 -0.126729  1.288714 -0.141705  0.610377"
            ]
          },
          "metadata": {
            "tags": []
          },
          "execution_count": 25
        }
      ]
    },
    {
      "cell_type": "markdown",
      "metadata": {
        "id": "hZSphjR-DFqA"
      },
      "source": [
        "# Reading and Viewing CSV dataframes\n"
      ]
    },
    {
      "cell_type": "code",
      "metadata": {
        "id": "cdc0k4f1DfYI"
      },
      "source": [
        "# from google.colab import drive\n",
        "# drive.mount('/content/drive')"
      ],
      "execution_count": 26,
      "outputs": []
    },
    {
      "cell_type": "code",
      "metadata": {
        "id": "UPIVdiebDshQ"
      },
      "source": [
        "# dfcsv = pd.read_csv('/content/drive/My Drive/melb_data.csv')\n",
        "# dfcsv"
      ],
      "execution_count": 27,
      "outputs": []
    },
    {
      "cell_type": "code",
      "metadata": {
        "id": "0jrtOL5dETuY"
      },
      "source": [
        "# dfcsv.head(10)"
      ],
      "execution_count": 28,
      "outputs": []
    },
    {
      "cell_type": "code",
      "metadata": {
        "id": "zjlmSadUEX36"
      },
      "source": [
        "# dfcsv.tail(10)"
      ],
      "execution_count": 29,
      "outputs": []
    },
    {
      "cell_type": "code",
      "metadata": {
        "id": "4peL83fIEhHs"
      },
      "source": [
        "# dfcsv.describe()"
      ],
      "execution_count": 30,
      "outputs": []
    },
    {
      "cell_type": "markdown",
      "metadata": {
        "_cell_guid": "6e80dc85-7f33-4803-928c-8f327da5c15a",
        "_uuid": "5202ddc8b46f9ce7333977c7dc4c919304fbfd4b",
        "id": "889iN3od-saQ"
      },
      "source": [
        "# Selection"
      ]
    },
    {
      "cell_type": "markdown",
      "metadata": {
        "_cell_guid": "cbf1a871-cf24-46ae-8384-72d99f6b3c9a",
        "_uuid": "dd007c4689288bd481c99133d13cb05e204ca1a8",
        "id": "s0g7F2QT-saR"
      },
      "source": [
        "Note While standard Python / Numpy expressions for selecting and setting are intuitive and come in handy for interactive work, for production code, we recommend the optimized pandas data access methods, .at, .iat, .loc, .iloc and .ix.\n",
        "See the indexing documentation [Indexing and Selecting Data](https://pandas.pydata.org/pandas-docs/stable/indexing.html#indexing) and [MultiIndex / Advanced Indexing](https://pandas.pydata.org/pandas-docs/stable/advanced.html#advanced)"
      ]
    },
    {
      "cell_type": "markdown",
      "metadata": {
        "_cell_guid": "002668d8-3da6-4f78-bb84-0c1d3d42c81c",
        "_uuid": "446149fabdb526d11b6d42aa58a7219043a63210",
        "id": "6-N6e8PW-saR"
      },
      "source": [
        "## Getting"
      ]
    },
    {
      "cell_type": "markdown",
      "metadata": {
        "_cell_guid": "04f82f76-6390-4f0e-9a64-67619cc85e42",
        "_uuid": "8f34cc17657fc7f8b77f35c5beefdca76343994e",
        "id": "sYPbOlYC-saS"
      },
      "source": [
        "Selecting a single column, which yields a Series, equivalent to df.one"
      ]
    },
    {
      "cell_type": "code",
      "metadata": {
        "_cell_guid": "4be8e75e-64f3-453e-b3e5-b788b1c967a5",
        "_uuid": "9bd8927534a077d8d9c3d74747ea6ab3f5070d68",
        "collapsed": true,
        "id": "Pg2HbPxk-saS",
        "outputId": "bfddf5c5-918f-413f-f9d8-95571d87fba8",
        "colab": {
          "base_uri": "https://localhost:8080/",
          "height": 0
        }
      },
      "source": [
        "df['one']"
      ],
      "execution_count": 31,
      "outputs": [
        {
          "output_type": "execute_result",
          "data": {
            "text/plain": [
              "2014-11-01   -0.126729\n",
              "2014-11-02    0.310537\n",
              "2014-11-03   -1.446366\n",
              "2014-11-04    0.275913\n",
              "2014-11-05    0.103780\n",
              "2014-11-06    0.034238\n",
              "Freq: D, Name: one, dtype: float64"
            ]
          },
          "metadata": {
            "tags": []
          },
          "execution_count": 31
        }
      ]
    },
    {
      "cell_type": "code",
      "metadata": {
        "_cell_guid": "c0092d95-8fd7-4059-8938-580a05c70f6b",
        "_uuid": "9678ff7f4faaffc358ad10bb176d96c7d45ac236",
        "id": "NQxOjLE_-saV",
        "outputId": "8b14aca9-e82c-4f51-b429-ad99b57129ef",
        "colab": {
          "base_uri": "https://localhost:8080/",
          "height": 0
        }
      },
      "source": [
        "df.one"
      ],
      "execution_count": 32,
      "outputs": [
        {
          "output_type": "execute_result",
          "data": {
            "text/plain": [
              "2014-11-01   -0.126729\n",
              "2014-11-02    0.310537\n",
              "2014-11-03   -1.446366\n",
              "2014-11-04    0.275913\n",
              "2014-11-05    0.103780\n",
              "2014-11-06    0.034238\n",
              "Freq: D, Name: one, dtype: float64"
            ]
          },
          "metadata": {
            "tags": []
          },
          "execution_count": 32
        }
      ]
    },
    {
      "cell_type": "markdown",
      "metadata": {
        "_cell_guid": "a9160b5a-2a8d-42f7-a1a0-cf59481bbbe5",
        "_uuid": "724ce079707e2d58e3e6ec122a128fb280f85010",
        "id": "fx1EajLQ-saY"
      },
      "source": [
        "Selecting via [], which slices the rows."
      ]
    },
    {
      "cell_type": "code",
      "metadata": {
        "_cell_guid": "f5909120-c5ee-498a-8ed1-b4316b51226e",
        "_uuid": "dbcd1c56866336f25d10ebfb1dbd457b1c5c415e",
        "collapsed": true,
        "id": "b4SImuvr-saZ",
        "outputId": "4562f375-2115-493c-cc94-621c49639c7b",
        "colab": {
          "base_uri": "https://localhost:8080/",
          "height": 0
        }
      },
      "source": [
        "df[0:3]"
      ],
      "execution_count": 33,
      "outputs": [
        {
          "output_type": "execute_result",
          "data": {
            "text/html": [
              "<div>\n",
              "<style scoped>\n",
              "    .dataframe tbody tr th:only-of-type {\n",
              "        vertical-align: middle;\n",
              "    }\n",
              "\n",
              "    .dataframe tbody tr th {\n",
              "        vertical-align: top;\n",
              "    }\n",
              "\n",
              "    .dataframe thead th {\n",
              "        text-align: right;\n",
              "    }\n",
              "</style>\n",
              "<table border=\"1\" class=\"dataframe\">\n",
              "  <thead>\n",
              "    <tr style=\"text-align: right;\">\n",
              "      <th></th>\n",
              "      <th>one</th>\n",
              "      <th>two</th>\n",
              "      <th>three</th>\n",
              "      <th>four</th>\n",
              "    </tr>\n",
              "  </thead>\n",
              "  <tbody>\n",
              "    <tr>\n",
              "      <th>2014-11-01</th>\n",
              "      <td>-0.126729</td>\n",
              "      <td>1.288714</td>\n",
              "      <td>-0.141705</td>\n",
              "      <td>0.610377</td>\n",
              "    </tr>\n",
              "    <tr>\n",
              "      <th>2014-11-02</th>\n",
              "      <td>0.310537</td>\n",
              "      <td>-0.304567</td>\n",
              "      <td>1.709351</td>\n",
              "      <td>-2.750355</td>\n",
              "    </tr>\n",
              "    <tr>\n",
              "      <th>2014-11-03</th>\n",
              "      <td>-1.446366</td>\n",
              "      <td>0.324799</td>\n",
              "      <td>-0.517455</td>\n",
              "      <td>0.978525</td>\n",
              "    </tr>\n",
              "  </tbody>\n",
              "</table>\n",
              "</div>"
            ],
            "text/plain": [
              "                 one       two     three      four\n",
              "2014-11-01 -0.126729  1.288714 -0.141705  0.610377\n",
              "2014-11-02  0.310537 -0.304567  1.709351 -2.750355\n",
              "2014-11-03 -1.446366  0.324799 -0.517455  0.978525"
            ]
          },
          "metadata": {
            "tags": []
          },
          "execution_count": 33
        }
      ]
    },
    {
      "cell_type": "code",
      "metadata": {
        "_cell_guid": "0b5c50db-08a3-487e-8f9b-3fac98f0c336",
        "_uuid": "1bc96862bd0c4fde57487e71bce38dc272763a36",
        "id": "7TXnp3Yy-sad",
        "outputId": "0bcae366-1476-4185-8976-a6ee849b7c31",
        "colab": {
          "base_uri": "https://localhost:8080/",
          "height": 0
        }
      },
      "source": [
        "df['20141102':'20141104']"
      ],
      "execution_count": 34,
      "outputs": [
        {
          "output_type": "execute_result",
          "data": {
            "text/html": [
              "<div>\n",
              "<style scoped>\n",
              "    .dataframe tbody tr th:only-of-type {\n",
              "        vertical-align: middle;\n",
              "    }\n",
              "\n",
              "    .dataframe tbody tr th {\n",
              "        vertical-align: top;\n",
              "    }\n",
              "\n",
              "    .dataframe thead th {\n",
              "        text-align: right;\n",
              "    }\n",
              "</style>\n",
              "<table border=\"1\" class=\"dataframe\">\n",
              "  <thead>\n",
              "    <tr style=\"text-align: right;\">\n",
              "      <th></th>\n",
              "      <th>one</th>\n",
              "      <th>two</th>\n",
              "      <th>three</th>\n",
              "      <th>four</th>\n",
              "    </tr>\n",
              "  </thead>\n",
              "  <tbody>\n",
              "    <tr>\n",
              "      <th>2014-11-02</th>\n",
              "      <td>0.310537</td>\n",
              "      <td>-0.304567</td>\n",
              "      <td>1.709351</td>\n",
              "      <td>-2.750355</td>\n",
              "    </tr>\n",
              "    <tr>\n",
              "      <th>2014-11-03</th>\n",
              "      <td>-1.446366</td>\n",
              "      <td>0.324799</td>\n",
              "      <td>-0.517455</td>\n",
              "      <td>0.978525</td>\n",
              "    </tr>\n",
              "    <tr>\n",
              "      <th>2014-11-04</th>\n",
              "      <td>0.275913</td>\n",
              "      <td>0.374747</td>\n",
              "      <td>-0.361571</td>\n",
              "      <td>1.417826</td>\n",
              "    </tr>\n",
              "  </tbody>\n",
              "</table>\n",
              "</div>"
            ],
            "text/plain": [
              "                 one       two     three      four\n",
              "2014-11-02  0.310537 -0.304567  1.709351 -2.750355\n",
              "2014-11-03 -1.446366  0.324799 -0.517455  0.978525\n",
              "2014-11-04  0.275913  0.374747 -0.361571  1.417826"
            ]
          },
          "metadata": {
            "tags": []
          },
          "execution_count": 34
        }
      ]
    },
    {
      "cell_type": "markdown",
      "metadata": {
        "_cell_guid": "47120656-c870-4ccb-87d6-cdf0cb10628b",
        "_uuid": "50e9f44238b630e0f854dffa849f4a26f2b7abfd",
        "id": "6UUb6xm5-sai"
      },
      "source": [
        "## Selecting by Label"
      ]
    },
    {
      "cell_type": "markdown",
      "metadata": {
        "_cell_guid": "5eb8a10b-100c-4949-bf57-fc1b0b709023",
        "_uuid": "6c5b006e3dabd7dc506fb4c840b003667cdcb019",
        "id": "E99RziLk-sak"
      },
      "source": [
        "See more in[ Selection by Label](https://pandas.pydata.org/pandas-docs/stable/indexing.html#indexing-label)\n",
        "\n",
        "For getting a cross section using a label"
      ]
    },
    {
      "cell_type": "code",
      "metadata": {
        "_cell_guid": "07d52142-94b9-42fb-a649-63f2f56bd3af",
        "_uuid": "34c5205092732b67a2de0667418af4f3e73fa18f",
        "id": "x_WEW0mC-sak",
        "outputId": "9d9c6fa5-2358-495e-8a77-187aaf7e21be",
        "colab": {
          "base_uri": "https://localhost:8080/",
          "height": 0
        }
      },
      "source": [
        "df.loc[dates[0]]"
      ],
      "execution_count": 35,
      "outputs": [
        {
          "output_type": "execute_result",
          "data": {
            "text/plain": [
              "one     -0.126729\n",
              "two      1.288714\n",
              "three   -0.141705\n",
              "four     0.610377\n",
              "Name: 2014-11-01 00:00:00, dtype: float64"
            ]
          },
          "metadata": {
            "tags": []
          },
          "execution_count": 35
        }
      ]
    },
    {
      "cell_type": "markdown",
      "metadata": {
        "_cell_guid": "6a647eb5-c61b-4a01-a9a9-cc9de6284338",
        "_uuid": "847a4c224d66434bc572cdd3106c99bce8925607",
        "id": "CS4bt91l-sao"
      },
      "source": [
        "Selecting on a multi-axis by label"
      ]
    },
    {
      "cell_type": "code",
      "metadata": {
        "_cell_guid": "7001a024-168a-4c7f-bf36-d813fb798bfb",
        "_uuid": "f46aa94ce3199632c14f66aea3f9155fc57c8d3e",
        "id": "KwMdVbCi-sap",
        "outputId": "e7505fa5-4d04-4647-cbdc-c35473c4b51a",
        "colab": {
          "base_uri": "https://localhost:8080/",
          "height": 0
        }
      },
      "source": [
        "df.loc[:,['one','two']]"
      ],
      "execution_count": 36,
      "outputs": [
        {
          "output_type": "execute_result",
          "data": {
            "text/html": [
              "<div>\n",
              "<style scoped>\n",
              "    .dataframe tbody tr th:only-of-type {\n",
              "        vertical-align: middle;\n",
              "    }\n",
              "\n",
              "    .dataframe tbody tr th {\n",
              "        vertical-align: top;\n",
              "    }\n",
              "\n",
              "    .dataframe thead th {\n",
              "        text-align: right;\n",
              "    }\n",
              "</style>\n",
              "<table border=\"1\" class=\"dataframe\">\n",
              "  <thead>\n",
              "    <tr style=\"text-align: right;\">\n",
              "      <th></th>\n",
              "      <th>one</th>\n",
              "      <th>two</th>\n",
              "    </tr>\n",
              "  </thead>\n",
              "  <tbody>\n",
              "    <tr>\n",
              "      <th>2014-11-01</th>\n",
              "      <td>-0.126729</td>\n",
              "      <td>1.288714</td>\n",
              "    </tr>\n",
              "    <tr>\n",
              "      <th>2014-11-02</th>\n",
              "      <td>0.310537</td>\n",
              "      <td>-0.304567</td>\n",
              "    </tr>\n",
              "    <tr>\n",
              "      <th>2014-11-03</th>\n",
              "      <td>-1.446366</td>\n",
              "      <td>0.324799</td>\n",
              "    </tr>\n",
              "    <tr>\n",
              "      <th>2014-11-04</th>\n",
              "      <td>0.275913</td>\n",
              "      <td>0.374747</td>\n",
              "    </tr>\n",
              "    <tr>\n",
              "      <th>2014-11-05</th>\n",
              "      <td>0.103780</td>\n",
              "      <td>-0.604365</td>\n",
              "    </tr>\n",
              "    <tr>\n",
              "      <th>2014-11-06</th>\n",
              "      <td>0.034238</td>\n",
              "      <td>0.264443</td>\n",
              "    </tr>\n",
              "  </tbody>\n",
              "</table>\n",
              "</div>"
            ],
            "text/plain": [
              "                 one       two\n",
              "2014-11-01 -0.126729  1.288714\n",
              "2014-11-02  0.310537 -0.304567\n",
              "2014-11-03 -1.446366  0.324799\n",
              "2014-11-04  0.275913  0.374747\n",
              "2014-11-05  0.103780 -0.604365\n",
              "2014-11-06  0.034238  0.264443"
            ]
          },
          "metadata": {
            "tags": []
          },
          "execution_count": 36
        }
      ]
    },
    {
      "cell_type": "markdown",
      "metadata": {
        "_cell_guid": "e28a81bd-14eb-4931-a839-98d0ecaecd3c",
        "_uuid": "9a6ae941b46b104db1cd8def0545981d4733bfe9",
        "id": "jbuFJ9aH-sau"
      },
      "source": [
        "Showing label slicing, both endpoints are included"
      ]
    },
    {
      "cell_type": "code",
      "metadata": {
        "_cell_guid": "96ab0649-01d3-48f2-b519-dd78c2186336",
        "_uuid": "e02bd76d6a3169255570d96c2cb84d1d19baafe9",
        "collapsed": true,
        "id": "XTMK69Zc-sav",
        "outputId": "ecdc21fd-96cb-49a2-fdac-52f18fea8485",
        "colab": {
          "base_uri": "https://localhost:8080/",
          "height": 0
        }
      },
      "source": [
        "df.loc['20141102':'20141104',['one','two']]"
      ],
      "execution_count": 37,
      "outputs": [
        {
          "output_type": "execute_result",
          "data": {
            "text/html": [
              "<div>\n",
              "<style scoped>\n",
              "    .dataframe tbody tr th:only-of-type {\n",
              "        vertical-align: middle;\n",
              "    }\n",
              "\n",
              "    .dataframe tbody tr th {\n",
              "        vertical-align: top;\n",
              "    }\n",
              "\n",
              "    .dataframe thead th {\n",
              "        text-align: right;\n",
              "    }\n",
              "</style>\n",
              "<table border=\"1\" class=\"dataframe\">\n",
              "  <thead>\n",
              "    <tr style=\"text-align: right;\">\n",
              "      <th></th>\n",
              "      <th>one</th>\n",
              "      <th>two</th>\n",
              "    </tr>\n",
              "  </thead>\n",
              "  <tbody>\n",
              "    <tr>\n",
              "      <th>2014-11-02</th>\n",
              "      <td>0.310537</td>\n",
              "      <td>-0.304567</td>\n",
              "    </tr>\n",
              "    <tr>\n",
              "      <th>2014-11-03</th>\n",
              "      <td>-1.446366</td>\n",
              "      <td>0.324799</td>\n",
              "    </tr>\n",
              "    <tr>\n",
              "      <th>2014-11-04</th>\n",
              "      <td>0.275913</td>\n",
              "      <td>0.374747</td>\n",
              "    </tr>\n",
              "  </tbody>\n",
              "</table>\n",
              "</div>"
            ],
            "text/plain": [
              "                 one       two\n",
              "2014-11-02  0.310537 -0.304567\n",
              "2014-11-03 -1.446366  0.324799\n",
              "2014-11-04  0.275913  0.374747"
            ]
          },
          "metadata": {
            "tags": []
          },
          "execution_count": 37
        }
      ]
    },
    {
      "cell_type": "markdown",
      "metadata": {
        "_cell_guid": "1da0f850-8b42-4221-ae51-223924b40266",
        "_uuid": "74e06e2a77ac27d580b88b90068a795052f00e8e",
        "id": "gQkBd0XB-saz"
      },
      "source": [
        "Reduction in the dimensions of the returned object"
      ]
    },
    {
      "cell_type": "code",
      "metadata": {
        "_cell_guid": "e7b0cb7d-70cc-41f6-8b55-32824b804241",
        "_uuid": "6477a1db5cf42f8260bc8c2cee54c2745fb255a1",
        "collapsed": true,
        "id": "w0OR4NZQ-sa0",
        "outputId": "abbd4316-2273-4c6d-e7fa-8a9cc0ca822b",
        "colab": {
          "base_uri": "https://localhost:8080/",
          "height": 0
        }
      },
      "source": [
        "df.loc['20141102',['one','two']]"
      ],
      "execution_count": 38,
      "outputs": [
        {
          "output_type": "execute_result",
          "data": {
            "text/plain": [
              "one    0.310537\n",
              "two   -0.304567\n",
              "Name: 2014-11-02 00:00:00, dtype: float64"
            ]
          },
          "metadata": {
            "tags": []
          },
          "execution_count": 38
        }
      ]
    },
    {
      "cell_type": "markdown",
      "metadata": {
        "_cell_guid": "3d623580-97fc-456e-924f-5bab3121d87d",
        "_uuid": "9f4dd3322a60f1b105d9a21783287edb27c8ea0c",
        "id": "xUy8DOHN-sa3"
      },
      "source": [
        "For getting a scalar value"
      ]
    },
    {
      "cell_type": "code",
      "metadata": {
        "_cell_guid": "5097b9ad-5170-41d8-857f-97142be556f5",
        "_uuid": "9f1d7120553ca8bb9a6b658c2f04e3bfe67f97a6",
        "collapsed": true,
        "id": "vURH88Td-sa3",
        "outputId": "787f3e61-120d-45e1-87ce-7b08ad15b1bc",
        "colab": {
          "base_uri": "https://localhost:8080/",
          "height": 0
        }
      },
      "source": [
        "df.loc[dates[0],'one']"
      ],
      "execution_count": 39,
      "outputs": [
        {
          "output_type": "execute_result",
          "data": {
            "text/plain": [
              "-0.1267285265495102"
            ]
          },
          "metadata": {
            "tags": []
          },
          "execution_count": 39
        }
      ]
    },
    {
      "cell_type": "markdown",
      "metadata": {
        "_cell_guid": "68f229fd-5117-4207-856e-5c6e4b58c135",
        "_uuid": "3586bfb5875d760a36ecf78e62dd0ca38a67b54b",
        "id": "88rPz1Ws-sa-"
      },
      "source": [
        "For getting fast access to a scalar (equiv to the prior method)"
      ]
    },
    {
      "cell_type": "code",
      "metadata": {
        "_cell_guid": "39271947-9c6d-456a-aaf3-307e55d24442",
        "_uuid": "c30b411195fff3849b54bcdc3b658fbcc96cecbb",
        "collapsed": true,
        "id": "Lq5L5eMa-sa_",
        "outputId": "7fc168ce-65de-4726-8578-8c9de4c4c7f0",
        "colab": {
          "base_uri": "https://localhost:8080/",
          "height": 0
        }
      },
      "source": [
        "df.at[dates[0],'one']"
      ],
      "execution_count": 40,
      "outputs": [
        {
          "output_type": "execute_result",
          "data": {
            "text/plain": [
              "-0.1267285265495102"
            ]
          },
          "metadata": {
            "tags": []
          },
          "execution_count": 40
        }
      ]
    },
    {
      "cell_type": "markdown",
      "metadata": {
        "_cell_guid": "7dd7fef8-149a-420f-a45b-af912c3f2369",
        "_uuid": "16f6dc5101bf7f1cef79a016c9b557ee910930ad",
        "id": "GWPV0y4u-sbE"
      },
      "source": [
        "## Selection by Position"
      ]
    },
    {
      "cell_type": "markdown",
      "metadata": {
        "_cell_guid": "428d1a82-86e1-41d0-a416-52906afc8995",
        "_uuid": "a789524d4da761f0fa9b77b459acf52e8a6291b6",
        "id": "ClsgFVC1-sbF"
      },
      "source": [
        "See more in [Selection by Position](Selection by Position)\n",
        "\n",
        "Select via the position of the passed integers"
      ]
    },
    {
      "cell_type": "code",
      "metadata": {
        "_cell_guid": "fe438107-8d37-4714-8da7-d1c5b3afc846",
        "_uuid": "62558a81897d581168ee6c2b41f76267b9c91124",
        "id": "9WBFqITl-sbG",
        "outputId": "83618af3-1d20-4c30-a5e0-b3faebd82cff",
        "colab": {
          "base_uri": "https://localhost:8080/",
          "height": 0
        }
      },
      "source": [
        "df.iloc[3]"
      ],
      "execution_count": 41,
      "outputs": [
        {
          "output_type": "execute_result",
          "data": {
            "text/plain": [
              "one      0.275913\n",
              "two      0.374747\n",
              "three   -0.361571\n",
              "four     1.417826\n",
              "Name: 2014-11-04 00:00:00, dtype: float64"
            ]
          },
          "metadata": {
            "tags": []
          },
          "execution_count": 41
        }
      ]
    },
    {
      "cell_type": "markdown",
      "metadata": {
        "_cell_guid": "cd04525c-ada2-4260-b5f7-747d4e5df884",
        "_uuid": "4709ff3e512e7d238ed456980113d4934499b5d6",
        "id": "LFMUXH2V-sbK"
      },
      "source": [
        "By integer slices, acting similar to numpy/python"
      ]
    },
    {
      "cell_type": "markdown",
      "metadata": {
        "_cell_guid": "728cc20e-ba9d-413d-9ee5-e76eb2735c8a",
        "_uuid": "602b716b2b8d28bede8043ce95f3247233d3b94c",
        "id": "HdV2wM7Z-sbK"
      },
      "source": [
        "By lists of integer position locations, similar to the numpy/python style"
      ]
    },
    {
      "cell_type": "code",
      "metadata": {
        "_cell_guid": "0af7f46d-7da7-4b36-bcfd-02a9fdb8dbe5",
        "_uuid": "83f0a59d8beabd0bb6192467ebe9b287a3216776",
        "id": "dHJhoCJF-sbL",
        "outputId": "392379db-25ed-416a-a5dd-94f6a0e5f383",
        "colab": {
          "base_uri": "https://localhost:8080/",
          "height": 0
        }
      },
      "source": [
        "df.iloc[[1,2,4],[0,2]]"
      ],
      "execution_count": 42,
      "outputs": [
        {
          "output_type": "execute_result",
          "data": {
            "text/html": [
              "<div>\n",
              "<style scoped>\n",
              "    .dataframe tbody tr th:only-of-type {\n",
              "        vertical-align: middle;\n",
              "    }\n",
              "\n",
              "    .dataframe tbody tr th {\n",
              "        vertical-align: top;\n",
              "    }\n",
              "\n",
              "    .dataframe thead th {\n",
              "        text-align: right;\n",
              "    }\n",
              "</style>\n",
              "<table border=\"1\" class=\"dataframe\">\n",
              "  <thead>\n",
              "    <tr style=\"text-align: right;\">\n",
              "      <th></th>\n",
              "      <th>one</th>\n",
              "      <th>three</th>\n",
              "    </tr>\n",
              "  </thead>\n",
              "  <tbody>\n",
              "    <tr>\n",
              "      <th>2014-11-02</th>\n",
              "      <td>0.310537</td>\n",
              "      <td>1.709351</td>\n",
              "    </tr>\n",
              "    <tr>\n",
              "      <th>2014-11-03</th>\n",
              "      <td>-1.446366</td>\n",
              "      <td>-0.517455</td>\n",
              "    </tr>\n",
              "    <tr>\n",
              "      <th>2014-11-05</th>\n",
              "      <td>0.103780</td>\n",
              "      <td>-2.350051</td>\n",
              "    </tr>\n",
              "  </tbody>\n",
              "</table>\n",
              "</div>"
            ],
            "text/plain": [
              "                 one     three\n",
              "2014-11-02  0.310537  1.709351\n",
              "2014-11-03 -1.446366 -0.517455\n",
              "2014-11-05  0.103780 -2.350051"
            ]
          },
          "metadata": {
            "tags": []
          },
          "execution_count": 42
        }
      ]
    },
    {
      "cell_type": "markdown",
      "metadata": {
        "_cell_guid": "e9f6b749-ad67-4d89-aaed-4024b8530936",
        "_uuid": "61639e9a7523b05fb1a03d464ffa1f1eb1688efb",
        "id": "zQRlg3wa-sbP"
      },
      "source": [
        "For slicing rows explicitly"
      ]
    },
    {
      "cell_type": "code",
      "metadata": {
        "_cell_guid": "467719ff-d23e-45c2-9657-0b7bcaff6655",
        "_uuid": "8d69d0090825b1644d037ecb051afdb9633628d3",
        "id": "0oFpgh3n-sbP",
        "outputId": "2d91b5b2-011f-4dfe-af30-a928934aa939",
        "colab": {
          "base_uri": "https://localhost:8080/",
          "height": 0
        }
      },
      "source": [
        "df.iloc[1:3,:] #note here 3rd index in not included in this slicing "
      ],
      "execution_count": 43,
      "outputs": [
        {
          "output_type": "execute_result",
          "data": {
            "text/html": [
              "<div>\n",
              "<style scoped>\n",
              "    .dataframe tbody tr th:only-of-type {\n",
              "        vertical-align: middle;\n",
              "    }\n",
              "\n",
              "    .dataframe tbody tr th {\n",
              "        vertical-align: top;\n",
              "    }\n",
              "\n",
              "    .dataframe thead th {\n",
              "        text-align: right;\n",
              "    }\n",
              "</style>\n",
              "<table border=\"1\" class=\"dataframe\">\n",
              "  <thead>\n",
              "    <tr style=\"text-align: right;\">\n",
              "      <th></th>\n",
              "      <th>one</th>\n",
              "      <th>two</th>\n",
              "      <th>three</th>\n",
              "      <th>four</th>\n",
              "    </tr>\n",
              "  </thead>\n",
              "  <tbody>\n",
              "    <tr>\n",
              "      <th>2014-11-02</th>\n",
              "      <td>0.310537</td>\n",
              "      <td>-0.304567</td>\n",
              "      <td>1.709351</td>\n",
              "      <td>-2.750355</td>\n",
              "    </tr>\n",
              "    <tr>\n",
              "      <th>2014-11-03</th>\n",
              "      <td>-1.446366</td>\n",
              "      <td>0.324799</td>\n",
              "      <td>-0.517455</td>\n",
              "      <td>0.978525</td>\n",
              "    </tr>\n",
              "  </tbody>\n",
              "</table>\n",
              "</div>"
            ],
            "text/plain": [
              "                 one       two     three      four\n",
              "2014-11-02  0.310537 -0.304567  1.709351 -2.750355\n",
              "2014-11-03 -1.446366  0.324799 -0.517455  0.978525"
            ]
          },
          "metadata": {
            "tags": []
          },
          "execution_count": 43
        }
      ]
    },
    {
      "cell_type": "markdown",
      "metadata": {
        "_cell_guid": "38c01dfe-f13a-4cef-bfed-b49e77eef480",
        "_uuid": "aa3ccb6ed055424381bdb3e41b97ea2f881d19db",
        "id": "bsZLJD_V-sbT"
      },
      "source": [
        "For slicing columns explicitly"
      ]
    },
    {
      "cell_type": "code",
      "metadata": {
        "_cell_guid": "7a0bdd04-6670-4821-8328-3090827a13ed",
        "_uuid": "c14695bf9699073d68e0aeb63973a58bee51c57c",
        "id": "QLh-EiFa-sbU",
        "outputId": "718154e0-a79f-494c-ff9b-3b67ff6c7a38",
        "colab": {
          "base_uri": "https://localhost:8080/",
          "height": 0
        }
      },
      "source": [
        "df.iloc[:,1:3]"
      ],
      "execution_count": 44,
      "outputs": [
        {
          "output_type": "execute_result",
          "data": {
            "text/html": [
              "<div>\n",
              "<style scoped>\n",
              "    .dataframe tbody tr th:only-of-type {\n",
              "        vertical-align: middle;\n",
              "    }\n",
              "\n",
              "    .dataframe tbody tr th {\n",
              "        vertical-align: top;\n",
              "    }\n",
              "\n",
              "    .dataframe thead th {\n",
              "        text-align: right;\n",
              "    }\n",
              "</style>\n",
              "<table border=\"1\" class=\"dataframe\">\n",
              "  <thead>\n",
              "    <tr style=\"text-align: right;\">\n",
              "      <th></th>\n",
              "      <th>two</th>\n",
              "      <th>three</th>\n",
              "    </tr>\n",
              "  </thead>\n",
              "  <tbody>\n",
              "    <tr>\n",
              "      <th>2014-11-01</th>\n",
              "      <td>1.288714</td>\n",
              "      <td>-0.141705</td>\n",
              "    </tr>\n",
              "    <tr>\n",
              "      <th>2014-11-02</th>\n",
              "      <td>-0.304567</td>\n",
              "      <td>1.709351</td>\n",
              "    </tr>\n",
              "    <tr>\n",
              "      <th>2014-11-03</th>\n",
              "      <td>0.324799</td>\n",
              "      <td>-0.517455</td>\n",
              "    </tr>\n",
              "    <tr>\n",
              "      <th>2014-11-04</th>\n",
              "      <td>0.374747</td>\n",
              "      <td>-0.361571</td>\n",
              "    </tr>\n",
              "    <tr>\n",
              "      <th>2014-11-05</th>\n",
              "      <td>-0.604365</td>\n",
              "      <td>-2.350051</td>\n",
              "    </tr>\n",
              "    <tr>\n",
              "      <th>2014-11-06</th>\n",
              "      <td>0.264443</td>\n",
              "      <td>2.189610</td>\n",
              "    </tr>\n",
              "  </tbody>\n",
              "</table>\n",
              "</div>"
            ],
            "text/plain": [
              "                 two     three\n",
              "2014-11-01  1.288714 -0.141705\n",
              "2014-11-02 -0.304567  1.709351\n",
              "2014-11-03  0.324799 -0.517455\n",
              "2014-11-04  0.374747 -0.361571\n",
              "2014-11-05 -0.604365 -2.350051\n",
              "2014-11-06  0.264443  2.189610"
            ]
          },
          "metadata": {
            "tags": []
          },
          "execution_count": 44
        }
      ]
    },
    {
      "cell_type": "markdown",
      "metadata": {
        "_cell_guid": "c7526fcd-5d0f-41c0-946f-726fadd3d8cf",
        "_uuid": "728d45f365a6e58c4fe60caaec27170c956b47e5",
        "id": "z418QlkA-sba"
      },
      "source": [
        "For getting a value explicitly"
      ]
    },
    {
      "cell_type": "code",
      "metadata": {
        "_cell_guid": "32c6bb98-903a-45b1-b430-08d1b898e813",
        "_uuid": "8c824f1f3d44d8ed41b7b1328354863861ee9ef2",
        "id": "zFwA84Hp-sbb",
        "outputId": "40eeca3f-23de-46f4-e68a-70244392a4fe",
        "colab": {
          "base_uri": "https://localhost:8080/",
          "height": 0
        }
      },
      "source": [
        "df.iloc[1,1]"
      ],
      "execution_count": 45,
      "outputs": [
        {
          "output_type": "execute_result",
          "data": {
            "text/plain": [
              "-0.30456687131137306"
            ]
          },
          "metadata": {
            "tags": []
          },
          "execution_count": 45
        }
      ]
    },
    {
      "cell_type": "markdown",
      "metadata": {
        "_cell_guid": "24a9bd7b-8362-4722-8aa2-0c2484163586",
        "_uuid": "9cc662005289530c6cf43b87dabd314a313ffde1",
        "id": "-JEO05pW-sbd"
      },
      "source": [
        "For getting fast access to a scalar (equiv to the prior method)"
      ]
    },
    {
      "cell_type": "code",
      "metadata": {
        "_cell_guid": "2080b00d-b540-4bba-b8bc-682b80356290",
        "_uuid": "dfedfb75ff53703c78c0558f2822b01a0b8af49e",
        "collapsed": true,
        "id": "IglsDvc8-sbd",
        "outputId": "48b2424e-d693-4746-e021-9a3889e05d83",
        "colab": {
          "base_uri": "https://localhost:8080/",
          "height": 0
        }
      },
      "source": [
        "df.iat[0,0]"
      ],
      "execution_count": 46,
      "outputs": [
        {
          "output_type": "execute_result",
          "data": {
            "text/plain": [
              "-0.1267285265495102"
            ]
          },
          "metadata": {
            "tags": []
          },
          "execution_count": 46
        }
      ]
    },
    {
      "cell_type": "markdown",
      "metadata": {
        "_cell_guid": "4205069b-9b81-4015-8113-80e5997ed02a",
        "_uuid": "1f65376861105ccf80d8230b7518ec631e869383",
        "id": "mp0jJPyh-sbh"
      },
      "source": [
        "## Boolean Indexing\n",
        "Using a single column’s values to select data."
      ]
    },
    {
      "cell_type": "code",
      "metadata": {
        "_cell_guid": "b7d6f231-8fca-4b94-b4da-7e1077bfc1c6",
        "_uuid": "0897ab764824072dc3d6d45bc03c70f1f29c6833",
        "id": "qJg-Y2ve-sbj",
        "outputId": "d03724cb-7b4a-455f-e18e-2227c45b5c3d",
        "colab": {
          "base_uri": "https://localhost:8080/",
          "height": 49
        }
      },
      "source": [
        "df[df.one > 0.5]"
      ],
      "execution_count": 47,
      "outputs": [
        {
          "output_type": "execute_result",
          "data": {
            "text/html": [
              "<div>\n",
              "<style scoped>\n",
              "    .dataframe tbody tr th:only-of-type {\n",
              "        vertical-align: middle;\n",
              "    }\n",
              "\n",
              "    .dataframe tbody tr th {\n",
              "        vertical-align: top;\n",
              "    }\n",
              "\n",
              "    .dataframe thead th {\n",
              "        text-align: right;\n",
              "    }\n",
              "</style>\n",
              "<table border=\"1\" class=\"dataframe\">\n",
              "  <thead>\n",
              "    <tr style=\"text-align: right;\">\n",
              "      <th></th>\n",
              "      <th>one</th>\n",
              "      <th>two</th>\n",
              "      <th>three</th>\n",
              "      <th>four</th>\n",
              "    </tr>\n",
              "  </thead>\n",
              "  <tbody>\n",
              "  </tbody>\n",
              "</table>\n",
              "</div>"
            ],
            "text/plain": [
              "Empty DataFrame\n",
              "Columns: [one, two, three, four]\n",
              "Index: []"
            ]
          },
          "metadata": {
            "tags": []
          },
          "execution_count": 47
        }
      ]
    },
    {
      "cell_type": "markdown",
      "metadata": {
        "_cell_guid": "001075c2-f7be-4218-9683-ffa1f5d9240e",
        "_uuid": "4b70f057a80db995d082b8d30c54ba603fe2cb62",
        "id": "LFlOShZX-sbm"
      },
      "source": [
        "Selecting values from a DataFrame where a boolean condition is met."
      ]
    },
    {
      "cell_type": "code",
      "metadata": {
        "_cell_guid": "01955ea3-17c6-4b0d-8d2e-cc5d654bb6cf",
        "_uuid": "8a6a6d699089df278c1436c28b9ff50c18e424ec",
        "id": "Sy1JOqT7-sbo",
        "outputId": "3b08d2c8-a2c8-4fa8-8a69-9807b240d771",
        "colab": {
          "base_uri": "https://localhost:8080/",
          "height": 237
        }
      },
      "source": [
        "df[df>0]"
      ],
      "execution_count": 48,
      "outputs": [
        {
          "output_type": "execute_result",
          "data": {
            "text/html": [
              "<div>\n",
              "<style scoped>\n",
              "    .dataframe tbody tr th:only-of-type {\n",
              "        vertical-align: middle;\n",
              "    }\n",
              "\n",
              "    .dataframe tbody tr th {\n",
              "        vertical-align: top;\n",
              "    }\n",
              "\n",
              "    .dataframe thead th {\n",
              "        text-align: right;\n",
              "    }\n",
              "</style>\n",
              "<table border=\"1\" class=\"dataframe\">\n",
              "  <thead>\n",
              "    <tr style=\"text-align: right;\">\n",
              "      <th></th>\n",
              "      <th>one</th>\n",
              "      <th>two</th>\n",
              "      <th>three</th>\n",
              "      <th>four</th>\n",
              "    </tr>\n",
              "  </thead>\n",
              "  <tbody>\n",
              "    <tr>\n",
              "      <th>2014-11-01</th>\n",
              "      <td>NaN</td>\n",
              "      <td>1.288714</td>\n",
              "      <td>NaN</td>\n",
              "      <td>0.610377</td>\n",
              "    </tr>\n",
              "    <tr>\n",
              "      <th>2014-11-02</th>\n",
              "      <td>0.310537</td>\n",
              "      <td>NaN</td>\n",
              "      <td>1.709351</td>\n",
              "      <td>NaN</td>\n",
              "    </tr>\n",
              "    <tr>\n",
              "      <th>2014-11-03</th>\n",
              "      <td>NaN</td>\n",
              "      <td>0.324799</td>\n",
              "      <td>NaN</td>\n",
              "      <td>0.978525</td>\n",
              "    </tr>\n",
              "    <tr>\n",
              "      <th>2014-11-04</th>\n",
              "      <td>0.275913</td>\n",
              "      <td>0.374747</td>\n",
              "      <td>NaN</td>\n",
              "      <td>1.417826</td>\n",
              "    </tr>\n",
              "    <tr>\n",
              "      <th>2014-11-05</th>\n",
              "      <td>0.103780</td>\n",
              "      <td>NaN</td>\n",
              "      <td>NaN</td>\n",
              "      <td>NaN</td>\n",
              "    </tr>\n",
              "    <tr>\n",
              "      <th>2014-11-06</th>\n",
              "      <td>0.034238</td>\n",
              "      <td>0.264443</td>\n",
              "      <td>2.189610</td>\n",
              "      <td>NaN</td>\n",
              "    </tr>\n",
              "  </tbody>\n",
              "</table>\n",
              "</div>"
            ],
            "text/plain": [
              "                 one       two     three      four\n",
              "2014-11-01       NaN  1.288714       NaN  0.610377\n",
              "2014-11-02  0.310537       NaN  1.709351       NaN\n",
              "2014-11-03       NaN  0.324799       NaN  0.978525\n",
              "2014-11-04  0.275913  0.374747       NaN  1.417826\n",
              "2014-11-05  0.103780       NaN       NaN       NaN\n",
              "2014-11-06  0.034238  0.264443  2.189610       NaN"
            ]
          },
          "metadata": {
            "tags": []
          },
          "execution_count": 48
        }
      ]
    },
    {
      "cell_type": "markdown",
      "metadata": {
        "_cell_guid": "0d9b0104-071e-4b67-a28c-af0a3b5298c5",
        "_uuid": "152e38c5f8c9b1623f719b3d733d4a7dd83d37bd",
        "id": "Mm_sjeIx-sbu"
      },
      "source": [
        "Using the isin method for filtering:"
      ]
    },
    {
      "cell_type": "code",
      "metadata": {
        "_cell_guid": "81efdb26-8d6d-4d30-8095-0212e2068bd7",
        "_uuid": "ac6deb8efac6fea270befc2c5a444825de86a270",
        "id": "aRavkkRd-sbv",
        "outputId": "3e25153d-c08c-4e73-8b12-c812a8387724",
        "colab": {
          "base_uri": "https://localhost:8080/",
          "height": 237
        }
      },
      "source": [
        "df2 = df.copy()\n",
        "df2['five'] = ['one', 'one','two','three','four','three']\n",
        "df2"
      ],
      "execution_count": 49,
      "outputs": [
        {
          "output_type": "execute_result",
          "data": {
            "text/html": [
              "<div>\n",
              "<style scoped>\n",
              "    .dataframe tbody tr th:only-of-type {\n",
              "        vertical-align: middle;\n",
              "    }\n",
              "\n",
              "    .dataframe tbody tr th {\n",
              "        vertical-align: top;\n",
              "    }\n",
              "\n",
              "    .dataframe thead th {\n",
              "        text-align: right;\n",
              "    }\n",
              "</style>\n",
              "<table border=\"1\" class=\"dataframe\">\n",
              "  <thead>\n",
              "    <tr style=\"text-align: right;\">\n",
              "      <th></th>\n",
              "      <th>one</th>\n",
              "      <th>two</th>\n",
              "      <th>three</th>\n",
              "      <th>four</th>\n",
              "      <th>five</th>\n",
              "    </tr>\n",
              "  </thead>\n",
              "  <tbody>\n",
              "    <tr>\n",
              "      <th>2014-11-01</th>\n",
              "      <td>-0.126729</td>\n",
              "      <td>1.288714</td>\n",
              "      <td>-0.141705</td>\n",
              "      <td>0.610377</td>\n",
              "      <td>one</td>\n",
              "    </tr>\n",
              "    <tr>\n",
              "      <th>2014-11-02</th>\n",
              "      <td>0.310537</td>\n",
              "      <td>-0.304567</td>\n",
              "      <td>1.709351</td>\n",
              "      <td>-2.750355</td>\n",
              "      <td>one</td>\n",
              "    </tr>\n",
              "    <tr>\n",
              "      <th>2014-11-03</th>\n",
              "      <td>-1.446366</td>\n",
              "      <td>0.324799</td>\n",
              "      <td>-0.517455</td>\n",
              "      <td>0.978525</td>\n",
              "      <td>two</td>\n",
              "    </tr>\n",
              "    <tr>\n",
              "      <th>2014-11-04</th>\n",
              "      <td>0.275913</td>\n",
              "      <td>0.374747</td>\n",
              "      <td>-0.361571</td>\n",
              "      <td>1.417826</td>\n",
              "      <td>three</td>\n",
              "    </tr>\n",
              "    <tr>\n",
              "      <th>2014-11-05</th>\n",
              "      <td>0.103780</td>\n",
              "      <td>-0.604365</td>\n",
              "      <td>-2.350051</td>\n",
              "      <td>-0.244856</td>\n",
              "      <td>four</td>\n",
              "    </tr>\n",
              "    <tr>\n",
              "      <th>2014-11-06</th>\n",
              "      <td>0.034238</td>\n",
              "      <td>0.264443</td>\n",
              "      <td>2.189610</td>\n",
              "      <td>-0.425859</td>\n",
              "      <td>three</td>\n",
              "    </tr>\n",
              "  </tbody>\n",
              "</table>\n",
              "</div>"
            ],
            "text/plain": [
              "                 one       two     three      four   five\n",
              "2014-11-01 -0.126729  1.288714 -0.141705  0.610377    one\n",
              "2014-11-02  0.310537 -0.304567  1.709351 -2.750355    one\n",
              "2014-11-03 -1.446366  0.324799 -0.517455  0.978525    two\n",
              "2014-11-04  0.275913  0.374747 -0.361571  1.417826  three\n",
              "2014-11-05  0.103780 -0.604365 -2.350051 -0.244856   four\n",
              "2014-11-06  0.034238  0.264443  2.189610 -0.425859  three"
            ]
          },
          "metadata": {
            "tags": []
          },
          "execution_count": 49
        }
      ]
    },
    {
      "cell_type": "code",
      "metadata": {
        "_cell_guid": "b8a6507a-ab97-4884-ad6b-86ce08b562b1",
        "_uuid": "1057b0c34eae282d8b234583497a6e9d53a254f5",
        "id": "viT0O0HU-sby",
        "outputId": "187ad3cb-2114-4c43-d821-074f00a1dd6f",
        "colab": {
          "base_uri": "https://localhost:8080/",
          "height": 112
        }
      },
      "source": [
        "df2[df2['five'].isin(['two','four'])]"
      ],
      "execution_count": 50,
      "outputs": [
        {
          "output_type": "execute_result",
          "data": {
            "text/html": [
              "<div>\n",
              "<style scoped>\n",
              "    .dataframe tbody tr th:only-of-type {\n",
              "        vertical-align: middle;\n",
              "    }\n",
              "\n",
              "    .dataframe tbody tr th {\n",
              "        vertical-align: top;\n",
              "    }\n",
              "\n",
              "    .dataframe thead th {\n",
              "        text-align: right;\n",
              "    }\n",
              "</style>\n",
              "<table border=\"1\" class=\"dataframe\">\n",
              "  <thead>\n",
              "    <tr style=\"text-align: right;\">\n",
              "      <th></th>\n",
              "      <th>one</th>\n",
              "      <th>two</th>\n",
              "      <th>three</th>\n",
              "      <th>four</th>\n",
              "      <th>five</th>\n",
              "    </tr>\n",
              "  </thead>\n",
              "  <tbody>\n",
              "    <tr>\n",
              "      <th>2014-11-03</th>\n",
              "      <td>-1.446366</td>\n",
              "      <td>0.324799</td>\n",
              "      <td>-0.517455</td>\n",
              "      <td>0.978525</td>\n",
              "      <td>two</td>\n",
              "    </tr>\n",
              "    <tr>\n",
              "      <th>2014-11-05</th>\n",
              "      <td>0.103780</td>\n",
              "      <td>-0.604365</td>\n",
              "      <td>-2.350051</td>\n",
              "      <td>-0.244856</td>\n",
              "      <td>four</td>\n",
              "    </tr>\n",
              "  </tbody>\n",
              "</table>\n",
              "</div>"
            ],
            "text/plain": [
              "                 one       two     three      four  five\n",
              "2014-11-03 -1.446366  0.324799 -0.517455  0.978525   two\n",
              "2014-11-05  0.103780 -0.604365 -2.350051 -0.244856  four"
            ]
          },
          "metadata": {
            "tags": []
          },
          "execution_count": 50
        }
      ]
    },
    {
      "cell_type": "markdown",
      "metadata": {
        "_cell_guid": "b6eff184-f774-4668-a5fa-2eb792a8ee19",
        "_uuid": "36dc62173e385467dca8e0b12398ce00cd3bc7c9",
        "id": "R69GQcRv-sb1"
      },
      "source": [
        "## Setting\n",
        "Setting a new column automatically aligns the data by the indexes"
      ]
    },
    {
      "cell_type": "code",
      "metadata": {
        "_cell_guid": "4d61f140-af66-4b4c-9296-17e243bf4991",
        "_uuid": "c0f9338b687ee3fb7b535f772955de1cb232e10e",
        "collapsed": true,
        "id": "rYU4HGg1-sb4",
        "outputId": "6104e146-ea9a-4561-8b78-9ebeabead61c",
        "colab": {
          "base_uri": "https://localhost:8080/",
          "height": 144
        }
      },
      "source": [
        "s1 = pd.Series([1,2,3,4,5,6], index=pd.date_range('20141101', periods=6))\n",
        "s1"
      ],
      "execution_count": 51,
      "outputs": [
        {
          "output_type": "execute_result",
          "data": {
            "text/plain": [
              "2014-11-01    1\n",
              "2014-11-02    2\n",
              "2014-11-03    3\n",
              "2014-11-04    4\n",
              "2014-11-05    5\n",
              "2014-11-06    6\n",
              "Freq: D, dtype: int64"
            ]
          },
          "metadata": {
            "tags": []
          },
          "execution_count": 51
        }
      ]
    },
    {
      "cell_type": "code",
      "metadata": {
        "_cell_guid": "ef2e599f-68db-48c8-b750-e8f5143fe407",
        "_uuid": "6f01ca50121e0d9289c675ea6de02a716ae66dfb",
        "id": "vfzzwghj-sb7",
        "outputId": "e8ddf269-cc34-47b5-cd63-5d065cacbb63",
        "colab": {
          "base_uri": "https://localhost:8080/",
          "height": 237
        }
      },
      "source": [
        "df['six'] = s1\n",
        "df"
      ],
      "execution_count": 52,
      "outputs": [
        {
          "output_type": "execute_result",
          "data": {
            "text/html": [
              "<div>\n",
              "<style scoped>\n",
              "    .dataframe tbody tr th:only-of-type {\n",
              "        vertical-align: middle;\n",
              "    }\n",
              "\n",
              "    .dataframe tbody tr th {\n",
              "        vertical-align: top;\n",
              "    }\n",
              "\n",
              "    .dataframe thead th {\n",
              "        text-align: right;\n",
              "    }\n",
              "</style>\n",
              "<table border=\"1\" class=\"dataframe\">\n",
              "  <thead>\n",
              "    <tr style=\"text-align: right;\">\n",
              "      <th></th>\n",
              "      <th>one</th>\n",
              "      <th>two</th>\n",
              "      <th>three</th>\n",
              "      <th>four</th>\n",
              "      <th>six</th>\n",
              "    </tr>\n",
              "  </thead>\n",
              "  <tbody>\n",
              "    <tr>\n",
              "      <th>2014-11-01</th>\n",
              "      <td>-0.126729</td>\n",
              "      <td>1.288714</td>\n",
              "      <td>-0.141705</td>\n",
              "      <td>0.610377</td>\n",
              "      <td>1</td>\n",
              "    </tr>\n",
              "    <tr>\n",
              "      <th>2014-11-02</th>\n",
              "      <td>0.310537</td>\n",
              "      <td>-0.304567</td>\n",
              "      <td>1.709351</td>\n",
              "      <td>-2.750355</td>\n",
              "      <td>2</td>\n",
              "    </tr>\n",
              "    <tr>\n",
              "      <th>2014-11-03</th>\n",
              "      <td>-1.446366</td>\n",
              "      <td>0.324799</td>\n",
              "      <td>-0.517455</td>\n",
              "      <td>0.978525</td>\n",
              "      <td>3</td>\n",
              "    </tr>\n",
              "    <tr>\n",
              "      <th>2014-11-04</th>\n",
              "      <td>0.275913</td>\n",
              "      <td>0.374747</td>\n",
              "      <td>-0.361571</td>\n",
              "      <td>1.417826</td>\n",
              "      <td>4</td>\n",
              "    </tr>\n",
              "    <tr>\n",
              "      <th>2014-11-05</th>\n",
              "      <td>0.103780</td>\n",
              "      <td>-0.604365</td>\n",
              "      <td>-2.350051</td>\n",
              "      <td>-0.244856</td>\n",
              "      <td>5</td>\n",
              "    </tr>\n",
              "    <tr>\n",
              "      <th>2014-11-06</th>\n",
              "      <td>0.034238</td>\n",
              "      <td>0.264443</td>\n",
              "      <td>2.189610</td>\n",
              "      <td>-0.425859</td>\n",
              "      <td>6</td>\n",
              "    </tr>\n",
              "  </tbody>\n",
              "</table>\n",
              "</div>"
            ],
            "text/plain": [
              "                 one       two     three      four  six\n",
              "2014-11-01 -0.126729  1.288714 -0.141705  0.610377    1\n",
              "2014-11-02  0.310537 -0.304567  1.709351 -2.750355    2\n",
              "2014-11-03 -1.446366  0.324799 -0.517455  0.978525    3\n",
              "2014-11-04  0.275913  0.374747 -0.361571  1.417826    4\n",
              "2014-11-05  0.103780 -0.604365 -2.350051 -0.244856    5\n",
              "2014-11-06  0.034238  0.264443  2.189610 -0.425859    6"
            ]
          },
          "metadata": {
            "tags": []
          },
          "execution_count": 52
        }
      ]
    },
    {
      "cell_type": "markdown",
      "metadata": {
        "_cell_guid": "360096be-309b-4cc7-8ecb-d23721cb14a2",
        "_uuid": "ae8946ddaffc0e88adab4a082e2ffd2252700078",
        "id": "k3p4Oic5-sb-"
      },
      "source": [
        "Setting values by label:"
      ]
    },
    {
      "cell_type": "code",
      "metadata": {
        "_cell_guid": "a3acd34a-8443-4d9a-83e7-8b98dc75ba63",
        "_uuid": "190aff49aae8c1396239b406e9909e62de82c0b3",
        "id": "ynWo3TxD-sb-",
        "outputId": "b30b5d68-d363-43a7-80df-95ac0eaaa080",
        "colab": {
          "base_uri": "https://localhost:8080/",
          "height": 237
        }
      },
      "source": [
        "df.at[dates[0],'one'] = 0\n",
        "df"
      ],
      "execution_count": 53,
      "outputs": [
        {
          "output_type": "execute_result",
          "data": {
            "text/html": [
              "<div>\n",
              "<style scoped>\n",
              "    .dataframe tbody tr th:only-of-type {\n",
              "        vertical-align: middle;\n",
              "    }\n",
              "\n",
              "    .dataframe tbody tr th {\n",
              "        vertical-align: top;\n",
              "    }\n",
              "\n",
              "    .dataframe thead th {\n",
              "        text-align: right;\n",
              "    }\n",
              "</style>\n",
              "<table border=\"1\" class=\"dataframe\">\n",
              "  <thead>\n",
              "    <tr style=\"text-align: right;\">\n",
              "      <th></th>\n",
              "      <th>one</th>\n",
              "      <th>two</th>\n",
              "      <th>three</th>\n",
              "      <th>four</th>\n",
              "      <th>six</th>\n",
              "    </tr>\n",
              "  </thead>\n",
              "  <tbody>\n",
              "    <tr>\n",
              "      <th>2014-11-01</th>\n",
              "      <td>0.000000</td>\n",
              "      <td>1.288714</td>\n",
              "      <td>-0.141705</td>\n",
              "      <td>0.610377</td>\n",
              "      <td>1</td>\n",
              "    </tr>\n",
              "    <tr>\n",
              "      <th>2014-11-02</th>\n",
              "      <td>0.310537</td>\n",
              "      <td>-0.304567</td>\n",
              "      <td>1.709351</td>\n",
              "      <td>-2.750355</td>\n",
              "      <td>2</td>\n",
              "    </tr>\n",
              "    <tr>\n",
              "      <th>2014-11-03</th>\n",
              "      <td>-1.446366</td>\n",
              "      <td>0.324799</td>\n",
              "      <td>-0.517455</td>\n",
              "      <td>0.978525</td>\n",
              "      <td>3</td>\n",
              "    </tr>\n",
              "    <tr>\n",
              "      <th>2014-11-04</th>\n",
              "      <td>0.275913</td>\n",
              "      <td>0.374747</td>\n",
              "      <td>-0.361571</td>\n",
              "      <td>1.417826</td>\n",
              "      <td>4</td>\n",
              "    </tr>\n",
              "    <tr>\n",
              "      <th>2014-11-05</th>\n",
              "      <td>0.103780</td>\n",
              "      <td>-0.604365</td>\n",
              "      <td>-2.350051</td>\n",
              "      <td>-0.244856</td>\n",
              "      <td>5</td>\n",
              "    </tr>\n",
              "    <tr>\n",
              "      <th>2014-11-06</th>\n",
              "      <td>0.034238</td>\n",
              "      <td>0.264443</td>\n",
              "      <td>2.189610</td>\n",
              "      <td>-0.425859</td>\n",
              "      <td>6</td>\n",
              "    </tr>\n",
              "  </tbody>\n",
              "</table>\n",
              "</div>"
            ],
            "text/plain": [
              "                 one       two     three      four  six\n",
              "2014-11-01  0.000000  1.288714 -0.141705  0.610377    1\n",
              "2014-11-02  0.310537 -0.304567  1.709351 -2.750355    2\n",
              "2014-11-03 -1.446366  0.324799 -0.517455  0.978525    3\n",
              "2014-11-04  0.275913  0.374747 -0.361571  1.417826    4\n",
              "2014-11-05  0.103780 -0.604365 -2.350051 -0.244856    5\n",
              "2014-11-06  0.034238  0.264443  2.189610 -0.425859    6"
            ]
          },
          "metadata": {
            "tags": []
          },
          "execution_count": 53
        }
      ]
    },
    {
      "cell_type": "markdown",
      "metadata": {
        "_cell_guid": "0da27b58-8d50-424c-85a5-a13606a93e8a",
        "_uuid": "2b4a495f12e347c3d5b6db4951766e7390dc516f",
        "id": "-XUpF-Mm-scB"
      },
      "source": [
        "Setting values by position:"
      ]
    },
    {
      "cell_type": "code",
      "metadata": {
        "_cell_guid": "a6891c06-b41e-440a-a15e-8e80bedef5fe",
        "_uuid": "1500650883a2caeaf0d0cb3c1895bb305fa58eb7",
        "id": "0mRJD1wB-scB",
        "outputId": "69624af1-e015-4e78-c3aa-545ffbddf4de",
        "colab": {
          "base_uri": "https://localhost:8080/",
          "height": 237
        }
      },
      "source": [
        "df.iat[0,1] = 0\n",
        "df"
      ],
      "execution_count": 54,
      "outputs": [
        {
          "output_type": "execute_result",
          "data": {
            "text/html": [
              "<div>\n",
              "<style scoped>\n",
              "    .dataframe tbody tr th:only-of-type {\n",
              "        vertical-align: middle;\n",
              "    }\n",
              "\n",
              "    .dataframe tbody tr th {\n",
              "        vertical-align: top;\n",
              "    }\n",
              "\n",
              "    .dataframe thead th {\n",
              "        text-align: right;\n",
              "    }\n",
              "</style>\n",
              "<table border=\"1\" class=\"dataframe\">\n",
              "  <thead>\n",
              "    <tr style=\"text-align: right;\">\n",
              "      <th></th>\n",
              "      <th>one</th>\n",
              "      <th>two</th>\n",
              "      <th>three</th>\n",
              "      <th>four</th>\n",
              "      <th>six</th>\n",
              "    </tr>\n",
              "  </thead>\n",
              "  <tbody>\n",
              "    <tr>\n",
              "      <th>2014-11-01</th>\n",
              "      <td>0.000000</td>\n",
              "      <td>0.000000</td>\n",
              "      <td>-0.141705</td>\n",
              "      <td>0.610377</td>\n",
              "      <td>1</td>\n",
              "    </tr>\n",
              "    <tr>\n",
              "      <th>2014-11-02</th>\n",
              "      <td>0.310537</td>\n",
              "      <td>-0.304567</td>\n",
              "      <td>1.709351</td>\n",
              "      <td>-2.750355</td>\n",
              "      <td>2</td>\n",
              "    </tr>\n",
              "    <tr>\n",
              "      <th>2014-11-03</th>\n",
              "      <td>-1.446366</td>\n",
              "      <td>0.324799</td>\n",
              "      <td>-0.517455</td>\n",
              "      <td>0.978525</td>\n",
              "      <td>3</td>\n",
              "    </tr>\n",
              "    <tr>\n",
              "      <th>2014-11-04</th>\n",
              "      <td>0.275913</td>\n",
              "      <td>0.374747</td>\n",
              "      <td>-0.361571</td>\n",
              "      <td>1.417826</td>\n",
              "      <td>4</td>\n",
              "    </tr>\n",
              "    <tr>\n",
              "      <th>2014-11-05</th>\n",
              "      <td>0.103780</td>\n",
              "      <td>-0.604365</td>\n",
              "      <td>-2.350051</td>\n",
              "      <td>-0.244856</td>\n",
              "      <td>5</td>\n",
              "    </tr>\n",
              "    <tr>\n",
              "      <th>2014-11-06</th>\n",
              "      <td>0.034238</td>\n",
              "      <td>0.264443</td>\n",
              "      <td>2.189610</td>\n",
              "      <td>-0.425859</td>\n",
              "      <td>6</td>\n",
              "    </tr>\n",
              "  </tbody>\n",
              "</table>\n",
              "</div>"
            ],
            "text/plain": [
              "                 one       two     three      four  six\n",
              "2014-11-01  0.000000  0.000000 -0.141705  0.610377    1\n",
              "2014-11-02  0.310537 -0.304567  1.709351 -2.750355    2\n",
              "2014-11-03 -1.446366  0.324799 -0.517455  0.978525    3\n",
              "2014-11-04  0.275913  0.374747 -0.361571  1.417826    4\n",
              "2014-11-05  0.103780 -0.604365 -2.350051 -0.244856    5\n",
              "2014-11-06  0.034238  0.264443  2.189610 -0.425859    6"
            ]
          },
          "metadata": {
            "tags": []
          },
          "execution_count": 54
        }
      ]
    },
    {
      "cell_type": "code",
      "metadata": {
        "_cell_guid": "1e8225cf-4459-4cb4-98ef-a32d09c382e2",
        "_uuid": "6993b6c151f135cc7a965730c4c572775cbd8a01",
        "id": "qfWjzrNj-scF",
        "outputId": "22dbc80f-b4ef-42a1-9db0-4309f97a99c3",
        "colab": {
          "base_uri": "https://localhost:8080/",
          "height": 237
        }
      },
      "source": [
        "df.loc[:,'four'] = np.array([5] * len(df))\n",
        "df"
      ],
      "execution_count": 55,
      "outputs": [
        {
          "output_type": "execute_result",
          "data": {
            "text/html": [
              "<div>\n",
              "<style scoped>\n",
              "    .dataframe tbody tr th:only-of-type {\n",
              "        vertical-align: middle;\n",
              "    }\n",
              "\n",
              "    .dataframe tbody tr th {\n",
              "        vertical-align: top;\n",
              "    }\n",
              "\n",
              "    .dataframe thead th {\n",
              "        text-align: right;\n",
              "    }\n",
              "</style>\n",
              "<table border=\"1\" class=\"dataframe\">\n",
              "  <thead>\n",
              "    <tr style=\"text-align: right;\">\n",
              "      <th></th>\n",
              "      <th>one</th>\n",
              "      <th>two</th>\n",
              "      <th>three</th>\n",
              "      <th>four</th>\n",
              "      <th>six</th>\n",
              "    </tr>\n",
              "  </thead>\n",
              "  <tbody>\n",
              "    <tr>\n",
              "      <th>2014-11-01</th>\n",
              "      <td>0.000000</td>\n",
              "      <td>0.000000</td>\n",
              "      <td>-0.141705</td>\n",
              "      <td>5</td>\n",
              "      <td>1</td>\n",
              "    </tr>\n",
              "    <tr>\n",
              "      <th>2014-11-02</th>\n",
              "      <td>0.310537</td>\n",
              "      <td>-0.304567</td>\n",
              "      <td>1.709351</td>\n",
              "      <td>5</td>\n",
              "      <td>2</td>\n",
              "    </tr>\n",
              "    <tr>\n",
              "      <th>2014-11-03</th>\n",
              "      <td>-1.446366</td>\n",
              "      <td>0.324799</td>\n",
              "      <td>-0.517455</td>\n",
              "      <td>5</td>\n",
              "      <td>3</td>\n",
              "    </tr>\n",
              "    <tr>\n",
              "      <th>2014-11-04</th>\n",
              "      <td>0.275913</td>\n",
              "      <td>0.374747</td>\n",
              "      <td>-0.361571</td>\n",
              "      <td>5</td>\n",
              "      <td>4</td>\n",
              "    </tr>\n",
              "    <tr>\n",
              "      <th>2014-11-05</th>\n",
              "      <td>0.103780</td>\n",
              "      <td>-0.604365</td>\n",
              "      <td>-2.350051</td>\n",
              "      <td>5</td>\n",
              "      <td>5</td>\n",
              "    </tr>\n",
              "    <tr>\n",
              "      <th>2014-11-06</th>\n",
              "      <td>0.034238</td>\n",
              "      <td>0.264443</td>\n",
              "      <td>2.189610</td>\n",
              "      <td>5</td>\n",
              "      <td>6</td>\n",
              "    </tr>\n",
              "  </tbody>\n",
              "</table>\n",
              "</div>"
            ],
            "text/plain": [
              "                 one       two     three  four  six\n",
              "2014-11-01  0.000000  0.000000 -0.141705     5    1\n",
              "2014-11-02  0.310537 -0.304567  1.709351     5    2\n",
              "2014-11-03 -1.446366  0.324799 -0.517455     5    3\n",
              "2014-11-04  0.275913  0.374747 -0.361571     5    4\n",
              "2014-11-05  0.103780 -0.604365 -2.350051     5    5\n",
              "2014-11-06  0.034238  0.264443  2.189610     5    6"
            ]
          },
          "metadata": {
            "tags": []
          },
          "execution_count": 55
        }
      ]
    },
    {
      "cell_type": "markdown",
      "metadata": {
        "_cell_guid": "5ac1ed59-30d2-41c3-883c-bb96634f4830",
        "_uuid": "1f0389c283d54453415ca78a3eafc8d127ba2893",
        "id": "9azNe8gd-scI"
      },
      "source": [
        "A where operation with setting."
      ]
    },
    {
      "cell_type": "code",
      "metadata": {
        "_cell_guid": "7108c375-08f9-4402-9f39-7e68f3ac929f",
        "_uuid": "783d37539e38075c324ebd1c29689211afb66a03",
        "id": "EVNkHoeb-scI",
        "outputId": "97057ed6-3e48-4c88-ae53-5c6bbdbe9a02",
        "colab": {
          "base_uri": "https://localhost:8080/",
          "height": 237
        }
      },
      "source": [
        "df2 = df.copy()\n",
        "df2[df2 > 0] = -df2\n",
        "df2"
      ],
      "execution_count": 56,
      "outputs": [
        {
          "output_type": "execute_result",
          "data": {
            "text/html": [
              "<div>\n",
              "<style scoped>\n",
              "    .dataframe tbody tr th:only-of-type {\n",
              "        vertical-align: middle;\n",
              "    }\n",
              "\n",
              "    .dataframe tbody tr th {\n",
              "        vertical-align: top;\n",
              "    }\n",
              "\n",
              "    .dataframe thead th {\n",
              "        text-align: right;\n",
              "    }\n",
              "</style>\n",
              "<table border=\"1\" class=\"dataframe\">\n",
              "  <thead>\n",
              "    <tr style=\"text-align: right;\">\n",
              "      <th></th>\n",
              "      <th>one</th>\n",
              "      <th>two</th>\n",
              "      <th>three</th>\n",
              "      <th>four</th>\n",
              "      <th>six</th>\n",
              "    </tr>\n",
              "  </thead>\n",
              "  <tbody>\n",
              "    <tr>\n",
              "      <th>2014-11-01</th>\n",
              "      <td>0.000000</td>\n",
              "      <td>0.000000</td>\n",
              "      <td>-0.141705</td>\n",
              "      <td>-5</td>\n",
              "      <td>-1</td>\n",
              "    </tr>\n",
              "    <tr>\n",
              "      <th>2014-11-02</th>\n",
              "      <td>-0.310537</td>\n",
              "      <td>-0.304567</td>\n",
              "      <td>-1.709351</td>\n",
              "      <td>-5</td>\n",
              "      <td>-2</td>\n",
              "    </tr>\n",
              "    <tr>\n",
              "      <th>2014-11-03</th>\n",
              "      <td>-1.446366</td>\n",
              "      <td>-0.324799</td>\n",
              "      <td>-0.517455</td>\n",
              "      <td>-5</td>\n",
              "      <td>-3</td>\n",
              "    </tr>\n",
              "    <tr>\n",
              "      <th>2014-11-04</th>\n",
              "      <td>-0.275913</td>\n",
              "      <td>-0.374747</td>\n",
              "      <td>-0.361571</td>\n",
              "      <td>-5</td>\n",
              "      <td>-4</td>\n",
              "    </tr>\n",
              "    <tr>\n",
              "      <th>2014-11-05</th>\n",
              "      <td>-0.103780</td>\n",
              "      <td>-0.604365</td>\n",
              "      <td>-2.350051</td>\n",
              "      <td>-5</td>\n",
              "      <td>-5</td>\n",
              "    </tr>\n",
              "    <tr>\n",
              "      <th>2014-11-06</th>\n",
              "      <td>-0.034238</td>\n",
              "      <td>-0.264443</td>\n",
              "      <td>-2.189610</td>\n",
              "      <td>-5</td>\n",
              "      <td>-6</td>\n",
              "    </tr>\n",
              "  </tbody>\n",
              "</table>\n",
              "</div>"
            ],
            "text/plain": [
              "                 one       two     three  four  six\n",
              "2014-11-01  0.000000  0.000000 -0.141705    -5   -1\n",
              "2014-11-02 -0.310537 -0.304567 -1.709351    -5   -2\n",
              "2014-11-03 -1.446366 -0.324799 -0.517455    -5   -3\n",
              "2014-11-04 -0.275913 -0.374747 -0.361571    -5   -4\n",
              "2014-11-05 -0.103780 -0.604365 -2.350051    -5   -5\n",
              "2014-11-06 -0.034238 -0.264443 -2.189610    -5   -6"
            ]
          },
          "metadata": {
            "tags": []
          },
          "execution_count": 56
        }
      ]
    },
    {
      "cell_type": "markdown",
      "metadata": {
        "_cell_guid": "4bab0a44-3ea1-4817-ae0e-233d159e74e5",
        "_uuid": "5481ab3311350209e065b43c612af4b85bee6a1d",
        "collapsed": true,
        "id": "fDW6qtyh-scM"
      },
      "source": [
        "# Missing Data\n",
        "pandas primarily uses the value np.nan to represent missing data. It is by default not included in computations. See the [Missing Data section](https://pandas.pydata.org/pandas-docs/stable/missing_data.html#missing-data)\n",
        "\n",
        "Reindexing allows you to change/add/delete the index on a specified axis. This returns a copy of the data."
      ]
    },
    {
      "cell_type": "code",
      "metadata": {
        "_cell_guid": "8ea992cf-a44c-48ba-8c29-772a76a62e25",
        "_uuid": "b34287e42a0e574b9ada0dd0660e7610bde2a4a2",
        "id": "-SmMxy_e-scM",
        "outputId": "c5ba9448-128a-4629-ad74-71e0a1c30b71",
        "colab": {
          "base_uri": "https://localhost:8080/",
          "height": 175
        }
      },
      "source": [
        "df1 = df.reindex(index=dates[0:4], columns=list(df.columns) + ['E'])\n",
        "df1.loc[dates[0]:dates[1],'E'] = 1\n",
        "df1"
      ],
      "execution_count": 57,
      "outputs": [
        {
          "output_type": "execute_result",
          "data": {
            "text/html": [
              "<div>\n",
              "<style scoped>\n",
              "    .dataframe tbody tr th:only-of-type {\n",
              "        vertical-align: middle;\n",
              "    }\n",
              "\n",
              "    .dataframe tbody tr th {\n",
              "        vertical-align: top;\n",
              "    }\n",
              "\n",
              "    .dataframe thead th {\n",
              "        text-align: right;\n",
              "    }\n",
              "</style>\n",
              "<table border=\"1\" class=\"dataframe\">\n",
              "  <thead>\n",
              "    <tr style=\"text-align: right;\">\n",
              "      <th></th>\n",
              "      <th>one</th>\n",
              "      <th>two</th>\n",
              "      <th>three</th>\n",
              "      <th>four</th>\n",
              "      <th>six</th>\n",
              "      <th>E</th>\n",
              "    </tr>\n",
              "  </thead>\n",
              "  <tbody>\n",
              "    <tr>\n",
              "      <th>2014-11-01</th>\n",
              "      <td>0.000000</td>\n",
              "      <td>0.000000</td>\n",
              "      <td>-0.141705</td>\n",
              "      <td>5</td>\n",
              "      <td>1</td>\n",
              "      <td>1.0</td>\n",
              "    </tr>\n",
              "    <tr>\n",
              "      <th>2014-11-02</th>\n",
              "      <td>0.310537</td>\n",
              "      <td>-0.304567</td>\n",
              "      <td>1.709351</td>\n",
              "      <td>5</td>\n",
              "      <td>2</td>\n",
              "      <td>1.0</td>\n",
              "    </tr>\n",
              "    <tr>\n",
              "      <th>2014-11-03</th>\n",
              "      <td>-1.446366</td>\n",
              "      <td>0.324799</td>\n",
              "      <td>-0.517455</td>\n",
              "      <td>5</td>\n",
              "      <td>3</td>\n",
              "      <td>NaN</td>\n",
              "    </tr>\n",
              "    <tr>\n",
              "      <th>2014-11-04</th>\n",
              "      <td>0.275913</td>\n",
              "      <td>0.374747</td>\n",
              "      <td>-0.361571</td>\n",
              "      <td>5</td>\n",
              "      <td>4</td>\n",
              "      <td>NaN</td>\n",
              "    </tr>\n",
              "  </tbody>\n",
              "</table>\n",
              "</div>"
            ],
            "text/plain": [
              "                 one       two     three  four  six    E\n",
              "2014-11-01  0.000000  0.000000 -0.141705     5    1  1.0\n",
              "2014-11-02  0.310537 -0.304567  1.709351     5    2  1.0\n",
              "2014-11-03 -1.446366  0.324799 -0.517455     5    3  NaN\n",
              "2014-11-04  0.275913  0.374747 -0.361571     5    4  NaN"
            ]
          },
          "metadata": {
            "tags": []
          },
          "execution_count": 57
        }
      ]
    },
    {
      "cell_type": "markdown",
      "metadata": {
        "_cell_guid": "7e0319e8-fc11-4556-a0e6-4bc520b2179f",
        "_uuid": "46eaf209fd3122be95d2ef0804dc8bd665794205",
        "id": "WkwyuTF--scP"
      },
      "source": [
        "To drop any rows that have missing data:"
      ]
    },
    {
      "cell_type": "code",
      "metadata": {
        "_cell_guid": "9c118c95-34b0-4a03-9ae6-4a4e2fb3ab52",
        "_uuid": "be778687edde438a54f9378d59f532c9fe9d87da",
        "id": "uoa6cfVt-scP",
        "outputId": "c99aa221-87a0-44c2-9d58-20b2c25aaa27",
        "colab": {
          "base_uri": "https://localhost:8080/",
          "height": 112
        }
      },
      "source": [
        "df1.dropna(how='any')"
      ],
      "execution_count": 58,
      "outputs": [
        {
          "output_type": "execute_result",
          "data": {
            "text/html": [
              "<div>\n",
              "<style scoped>\n",
              "    .dataframe tbody tr th:only-of-type {\n",
              "        vertical-align: middle;\n",
              "    }\n",
              "\n",
              "    .dataframe tbody tr th {\n",
              "        vertical-align: top;\n",
              "    }\n",
              "\n",
              "    .dataframe thead th {\n",
              "        text-align: right;\n",
              "    }\n",
              "</style>\n",
              "<table border=\"1\" class=\"dataframe\">\n",
              "  <thead>\n",
              "    <tr style=\"text-align: right;\">\n",
              "      <th></th>\n",
              "      <th>one</th>\n",
              "      <th>two</th>\n",
              "      <th>three</th>\n",
              "      <th>four</th>\n",
              "      <th>six</th>\n",
              "      <th>E</th>\n",
              "    </tr>\n",
              "  </thead>\n",
              "  <tbody>\n",
              "    <tr>\n",
              "      <th>2014-11-01</th>\n",
              "      <td>0.000000</td>\n",
              "      <td>0.000000</td>\n",
              "      <td>-0.141705</td>\n",
              "      <td>5</td>\n",
              "      <td>1</td>\n",
              "      <td>1.0</td>\n",
              "    </tr>\n",
              "    <tr>\n",
              "      <th>2014-11-02</th>\n",
              "      <td>0.310537</td>\n",
              "      <td>-0.304567</td>\n",
              "      <td>1.709351</td>\n",
              "      <td>5</td>\n",
              "      <td>2</td>\n",
              "      <td>1.0</td>\n",
              "    </tr>\n",
              "  </tbody>\n",
              "</table>\n",
              "</div>"
            ],
            "text/plain": [
              "                 one       two     three  four  six    E\n",
              "2014-11-01  0.000000  0.000000 -0.141705     5    1  1.0\n",
              "2014-11-02  0.310537 -0.304567  1.709351     5    2  1.0"
            ]
          },
          "metadata": {
            "tags": []
          },
          "execution_count": 58
        }
      ]
    },
    {
      "cell_type": "markdown",
      "metadata": {
        "_cell_guid": "b833f8bd-684d-42d6-babb-6a2d02257757",
        "_uuid": "8a107a35dfb6b1f888a3760b1ddc1a2fc8ef1eae",
        "id": "e1TFzvD2-scT"
      },
      "source": [
        "Filling missing data:"
      ]
    },
    {
      "cell_type": "code",
      "metadata": {
        "_cell_guid": "f2521f7e-c916-4de2-abb5-c9c5ebebc600",
        "_uuid": "a5089cfe6c94a390800d4ebc997f143f5c000e8e",
        "collapsed": true,
        "id": "K8cnA9Lr-scV",
        "outputId": "d86fd96f-812e-4f24-ba37-0e16d2b07529",
        "colab": {
          "base_uri": "https://localhost:8080/",
          "height": 175
        }
      },
      "source": [
        "df1.fillna(value=5)"
      ],
      "execution_count": 59,
      "outputs": [
        {
          "output_type": "execute_result",
          "data": {
            "text/html": [
              "<div>\n",
              "<style scoped>\n",
              "    .dataframe tbody tr th:only-of-type {\n",
              "        vertical-align: middle;\n",
              "    }\n",
              "\n",
              "    .dataframe tbody tr th {\n",
              "        vertical-align: top;\n",
              "    }\n",
              "\n",
              "    .dataframe thead th {\n",
              "        text-align: right;\n",
              "    }\n",
              "</style>\n",
              "<table border=\"1\" class=\"dataframe\">\n",
              "  <thead>\n",
              "    <tr style=\"text-align: right;\">\n",
              "      <th></th>\n",
              "      <th>one</th>\n",
              "      <th>two</th>\n",
              "      <th>three</th>\n",
              "      <th>four</th>\n",
              "      <th>six</th>\n",
              "      <th>E</th>\n",
              "    </tr>\n",
              "  </thead>\n",
              "  <tbody>\n",
              "    <tr>\n",
              "      <th>2014-11-01</th>\n",
              "      <td>0.000000</td>\n",
              "      <td>0.000000</td>\n",
              "      <td>-0.141705</td>\n",
              "      <td>5</td>\n",
              "      <td>1</td>\n",
              "      <td>1.0</td>\n",
              "    </tr>\n",
              "    <tr>\n",
              "      <th>2014-11-02</th>\n",
              "      <td>0.310537</td>\n",
              "      <td>-0.304567</td>\n",
              "      <td>1.709351</td>\n",
              "      <td>5</td>\n",
              "      <td>2</td>\n",
              "      <td>1.0</td>\n",
              "    </tr>\n",
              "    <tr>\n",
              "      <th>2014-11-03</th>\n",
              "      <td>-1.446366</td>\n",
              "      <td>0.324799</td>\n",
              "      <td>-0.517455</td>\n",
              "      <td>5</td>\n",
              "      <td>3</td>\n",
              "      <td>5.0</td>\n",
              "    </tr>\n",
              "    <tr>\n",
              "      <th>2014-11-04</th>\n",
              "      <td>0.275913</td>\n",
              "      <td>0.374747</td>\n",
              "      <td>-0.361571</td>\n",
              "      <td>5</td>\n",
              "      <td>4</td>\n",
              "      <td>5.0</td>\n",
              "    </tr>\n",
              "  </tbody>\n",
              "</table>\n",
              "</div>"
            ],
            "text/plain": [
              "                 one       two     three  four  six    E\n",
              "2014-11-01  0.000000  0.000000 -0.141705     5    1  1.0\n",
              "2014-11-02  0.310537 -0.304567  1.709351     5    2  1.0\n",
              "2014-11-03 -1.446366  0.324799 -0.517455     5    3  5.0\n",
              "2014-11-04  0.275913  0.374747 -0.361571     5    4  5.0"
            ]
          },
          "metadata": {
            "tags": []
          },
          "execution_count": 59
        }
      ]
    },
    {
      "cell_type": "markdown",
      "metadata": {
        "_cell_guid": "02f262f9-27dd-4e4e-9c6d-030c23123e90",
        "_uuid": "3f1f384adbd5d3081028c45a797f6ab1f0174490",
        "id": "Vh940lVR-scX"
      },
      "source": [
        "# Operations\n",
        "See the [Basic section on Binary Ops](https://pandas.pydata.org/pandas-docs/stable/basics.html#basics-binop)"
      ]
    },
    {
      "cell_type": "markdown",
      "metadata": {
        "_cell_guid": "a599044b-97a5-4ff1-ac07-d2205c9bd275",
        "_uuid": "7dd84063efa95105e26e900a85b3b593c5f79406",
        "id": "5fbAhv_3-scX"
      },
      "source": [
        "### Stats\n",
        "Operations in general *exclude* missing data.\n",
        "\n",
        "Performing a descriptive statistic:"
      ]
    },
    {
      "cell_type": "code",
      "metadata": {
        "_cell_guid": "873b0539-d75a-4d8f-81e2-42c1ee70f945",
        "_uuid": "18a53af2b3fcb793e6c52ddfabc3bf4b01edc3ae",
        "collapsed": true,
        "id": "quOwnriO-scY",
        "outputId": "b0676897-d2c2-49c7-fe77-671bad6de7ee",
        "colab": {
          "base_uri": "https://localhost:8080/",
          "height": 0
        }
      },
      "source": [
        "df.mean()"
      ],
      "execution_count": 60,
      "outputs": [
        {
          "output_type": "execute_result",
          "data": {
            "text/plain": [
              "one     -0.120316\n",
              "two      0.009176\n",
              "three    0.088030\n",
              "four     5.000000\n",
              "six      3.500000\n",
              "dtype: float64"
            ]
          },
          "metadata": {
            "tags": []
          },
          "execution_count": 60
        }
      ]
    },
    {
      "cell_type": "markdown",
      "metadata": {
        "_cell_guid": "20530588-c864-428f-aad0-4ad48a3df1e5",
        "_uuid": "f066371c33bd242c801bb35fb61caed24cff26f6",
        "id": "_BmDWFnr-sca"
      },
      "source": [
        "Same operation on the other axis:"
      ]
    },
    {
      "cell_type": "code",
      "metadata": {
        "_cell_guid": "88cdbfa8-728c-4803-a400-5b348828e03e",
        "_uuid": "25a698388c134cb27fc648f76ecef27c12471fce",
        "collapsed": true,
        "id": "0fszAky1-scb",
        "outputId": "4388a29b-b30d-4ecd-9a86-6e911f270c77",
        "colab": {
          "base_uri": "https://localhost:8080/",
          "height": 0
        }
      },
      "source": [
        "df.mean(1)"
      ],
      "execution_count": 61,
      "outputs": [
        {
          "output_type": "execute_result",
          "data": {
            "text/plain": [
              "2014-11-01    1.171659\n",
              "2014-11-02    1.743064\n",
              "2014-11-03    1.272195\n",
              "2014-11-04    1.857818\n",
              "2014-11-05    1.429873\n",
              "2014-11-06    2.697658\n",
              "Freq: D, dtype: float64"
            ]
          },
          "metadata": {
            "tags": []
          },
          "execution_count": 61
        }
      ]
    },
    {
      "cell_type": "markdown",
      "metadata": {
        "_cell_guid": "1fffe4d6-a49d-42e5-8b89-e44724ad03db",
        "_uuid": "a10e0ecc601023ea17c043b422ae7774a718e97e",
        "id": "aqInZ_bB-scd"
      },
      "source": [
        "Operating with objects that have different dimensionality and need alignment. In addition, pandas automatically broadcasts along the specified dimension. The following code also shifts the data vertically, leaving NaN values in the unoccupied spaces"
      ]
    },
    {
      "cell_type": "code",
      "metadata": {
        "_cell_guid": "e461e77a-cc2d-4186-9a6f-00f7b898328d",
        "_uuid": "7eda48639b578d0a9fb2e6e3a3f4ba76fbde780c",
        "collapsed": true,
        "id": "WmXNQSGd-scd",
        "outputId": "48117e68-0a82-4d9e-ca44-30d3e3c982ed",
        "colab": {
          "base_uri": "https://localhost:8080/",
          "height": 0
        }
      },
      "source": [
        "s = pd.Series([1,3,5,np.nan,6,8], index=dates).shift(2)\n",
        "s"
      ],
      "execution_count": 62,
      "outputs": [
        {
          "output_type": "execute_result",
          "data": {
            "text/plain": [
              "2014-11-01    NaN\n",
              "2014-11-02    NaN\n",
              "2014-11-03    1.0\n",
              "2014-11-04    3.0\n",
              "2014-11-05    5.0\n",
              "2014-11-06    NaN\n",
              "Freq: D, dtype: float64"
            ]
          },
          "metadata": {
            "tags": []
          },
          "execution_count": 62
        }
      ]
    },
    {
      "cell_type": "code",
      "metadata": {
        "_cell_guid": "950ca30f-af5b-4184-9556-f98187afe6d5",
        "_uuid": "b88c2ac00262f1176bc919dc4bfa9e37bafa3d07",
        "collapsed": true,
        "id": "Nrlj_g_z-scg",
        "outputId": "25a8bd82-89d2-48a5-c59a-aec4be0ad915",
        "colab": {
          "base_uri": "https://localhost:8080/",
          "height": 0
        }
      },
      "source": [
        "df.sub(s, axis='index')"
      ],
      "execution_count": 63,
      "outputs": [
        {
          "output_type": "execute_result",
          "data": {
            "text/html": [
              "<div>\n",
              "<style scoped>\n",
              "    .dataframe tbody tr th:only-of-type {\n",
              "        vertical-align: middle;\n",
              "    }\n",
              "\n",
              "    .dataframe tbody tr th {\n",
              "        vertical-align: top;\n",
              "    }\n",
              "\n",
              "    .dataframe thead th {\n",
              "        text-align: right;\n",
              "    }\n",
              "</style>\n",
              "<table border=\"1\" class=\"dataframe\">\n",
              "  <thead>\n",
              "    <tr style=\"text-align: right;\">\n",
              "      <th></th>\n",
              "      <th>one</th>\n",
              "      <th>two</th>\n",
              "      <th>three</th>\n",
              "      <th>four</th>\n",
              "      <th>six</th>\n",
              "    </tr>\n",
              "  </thead>\n",
              "  <tbody>\n",
              "    <tr>\n",
              "      <th>2014-11-01</th>\n",
              "      <td>NaN</td>\n",
              "      <td>NaN</td>\n",
              "      <td>NaN</td>\n",
              "      <td>NaN</td>\n",
              "      <td>NaN</td>\n",
              "    </tr>\n",
              "    <tr>\n",
              "      <th>2014-11-02</th>\n",
              "      <td>NaN</td>\n",
              "      <td>NaN</td>\n",
              "      <td>NaN</td>\n",
              "      <td>NaN</td>\n",
              "      <td>NaN</td>\n",
              "    </tr>\n",
              "    <tr>\n",
              "      <th>2014-11-03</th>\n",
              "      <td>-2.446366</td>\n",
              "      <td>-0.675201</td>\n",
              "      <td>-1.517455</td>\n",
              "      <td>4.0</td>\n",
              "      <td>2.0</td>\n",
              "    </tr>\n",
              "    <tr>\n",
              "      <th>2014-11-04</th>\n",
              "      <td>-2.724087</td>\n",
              "      <td>-2.625253</td>\n",
              "      <td>-3.361571</td>\n",
              "      <td>2.0</td>\n",
              "      <td>1.0</td>\n",
              "    </tr>\n",
              "    <tr>\n",
              "      <th>2014-11-05</th>\n",
              "      <td>-4.896220</td>\n",
              "      <td>-5.604365</td>\n",
              "      <td>-7.350051</td>\n",
              "      <td>0.0</td>\n",
              "      <td>0.0</td>\n",
              "    </tr>\n",
              "    <tr>\n",
              "      <th>2014-11-06</th>\n",
              "      <td>NaN</td>\n",
              "      <td>NaN</td>\n",
              "      <td>NaN</td>\n",
              "      <td>NaN</td>\n",
              "      <td>NaN</td>\n",
              "    </tr>\n",
              "  </tbody>\n",
              "</table>\n",
              "</div>"
            ],
            "text/plain": [
              "                 one       two     three  four  six\n",
              "2014-11-01       NaN       NaN       NaN   NaN  NaN\n",
              "2014-11-02       NaN       NaN       NaN   NaN  NaN\n",
              "2014-11-03 -2.446366 -0.675201 -1.517455   4.0  2.0\n",
              "2014-11-04 -2.724087 -2.625253 -3.361571   2.0  1.0\n",
              "2014-11-05 -4.896220 -5.604365 -7.350051   0.0  0.0\n",
              "2014-11-06       NaN       NaN       NaN   NaN  NaN"
            ]
          },
          "metadata": {
            "tags": []
          },
          "execution_count": 63
        }
      ]
    },
    {
      "cell_type": "markdown",
      "metadata": {
        "_cell_guid": "8a609a42-405f-4145-a258-2b2a1a836fa6",
        "_uuid": "a82c28ab38951a030fc5aaffc9229091af226cf8",
        "id": "QUBaPkot-sci"
      },
      "source": [
        "### Apply\n",
        "Applying functions to the data"
      ]
    },
    {
      "cell_type": "code",
      "metadata": {
        "_cell_guid": "ed25e76b-00c8-4f75-b8f2-a6b2669e264f",
        "_uuid": "0fdf92e9b753e997301f3d7c9e88941f87e086b1",
        "collapsed": true,
        "id": "QiasuN5p-sci",
        "outputId": "09896f4d-9500-4983-d79d-08104479fe98",
        "colab": {
          "base_uri": "https://localhost:8080/",
          "height": 0
        }
      },
      "source": [
        "df.apply(np.cumsum)"
      ],
      "execution_count": 64,
      "outputs": [
        {
          "output_type": "execute_result",
          "data": {
            "text/html": [
              "<div>\n",
              "<style scoped>\n",
              "    .dataframe tbody tr th:only-of-type {\n",
              "        vertical-align: middle;\n",
              "    }\n",
              "\n",
              "    .dataframe tbody tr th {\n",
              "        vertical-align: top;\n",
              "    }\n",
              "\n",
              "    .dataframe thead th {\n",
              "        text-align: right;\n",
              "    }\n",
              "</style>\n",
              "<table border=\"1\" class=\"dataframe\">\n",
              "  <thead>\n",
              "    <tr style=\"text-align: right;\">\n",
              "      <th></th>\n",
              "      <th>one</th>\n",
              "      <th>two</th>\n",
              "      <th>three</th>\n",
              "      <th>four</th>\n",
              "      <th>six</th>\n",
              "    </tr>\n",
              "  </thead>\n",
              "  <tbody>\n",
              "    <tr>\n",
              "      <th>2014-11-01</th>\n",
              "      <td>0.000000</td>\n",
              "      <td>0.000000</td>\n",
              "      <td>-0.141705</td>\n",
              "      <td>5</td>\n",
              "      <td>1</td>\n",
              "    </tr>\n",
              "    <tr>\n",
              "      <th>2014-11-02</th>\n",
              "      <td>0.310537</td>\n",
              "      <td>-0.304567</td>\n",
              "      <td>1.567646</td>\n",
              "      <td>10</td>\n",
              "      <td>3</td>\n",
              "    </tr>\n",
              "    <tr>\n",
              "      <th>2014-11-03</th>\n",
              "      <td>-1.135830</td>\n",
              "      <td>0.020232</td>\n",
              "      <td>1.050191</td>\n",
              "      <td>15</td>\n",
              "      <td>6</td>\n",
              "    </tr>\n",
              "    <tr>\n",
              "      <th>2014-11-04</th>\n",
              "      <td>-0.859917</td>\n",
              "      <td>0.394980</td>\n",
              "      <td>0.688619</td>\n",
              "      <td>20</td>\n",
              "      <td>10</td>\n",
              "    </tr>\n",
              "    <tr>\n",
              "      <th>2014-11-05</th>\n",
              "      <td>-0.756137</td>\n",
              "      <td>-0.209385</td>\n",
              "      <td>-1.661431</td>\n",
              "      <td>25</td>\n",
              "      <td>15</td>\n",
              "    </tr>\n",
              "    <tr>\n",
              "      <th>2014-11-06</th>\n",
              "      <td>-0.721899</td>\n",
              "      <td>0.055058</td>\n",
              "      <td>0.528179</td>\n",
              "      <td>30</td>\n",
              "      <td>21</td>\n",
              "    </tr>\n",
              "  </tbody>\n",
              "</table>\n",
              "</div>"
            ],
            "text/plain": [
              "                 one       two     three  four  six\n",
              "2014-11-01  0.000000  0.000000 -0.141705     5    1\n",
              "2014-11-02  0.310537 -0.304567  1.567646    10    3\n",
              "2014-11-03 -1.135830  0.020232  1.050191    15    6\n",
              "2014-11-04 -0.859917  0.394980  0.688619    20   10\n",
              "2014-11-05 -0.756137 -0.209385 -1.661431    25   15\n",
              "2014-11-06 -0.721899  0.055058  0.528179    30   21"
            ]
          },
          "metadata": {
            "tags": []
          },
          "execution_count": 64
        }
      ]
    },
    {
      "cell_type": "markdown",
      "metadata": {
        "_cell_guid": "c29ce7af-9539-4857-9f41-0453d788992f",
        "_uuid": "f016b295830e32f680784dbe2f41b568215d9efb",
        "id": "bTBUlQzy-sck"
      },
      "source": [
        "### Histogramming \n",
        "See more at [Histogramming and Discretization](https://pandas.pydata.org/pandas-docs/stable/basics.html#basics-discretization)"
      ]
    },
    {
      "cell_type": "code",
      "metadata": {
        "_cell_guid": "765ec7fe-83b0-4180-acdc-540a28422a85",
        "_uuid": "8cc61eeda690d11eefecf2116e28136020ca0003",
        "collapsed": true,
        "id": "f3-6W33t-sck",
        "outputId": "4266dc5c-eedd-46db-c9df-ff78925fea2c",
        "colab": {
          "base_uri": "https://localhost:8080/",
          "height": 0
        }
      },
      "source": [
        "s = pd.Series(np.random.randint(0, 7, size=10))\n",
        "s"
      ],
      "execution_count": 65,
      "outputs": [
        {
          "output_type": "execute_result",
          "data": {
            "text/plain": [
              "0    6\n",
              "1    2\n",
              "2    6\n",
              "3    2\n",
              "4    5\n",
              "5    2\n",
              "6    0\n",
              "7    3\n",
              "8    5\n",
              "9    5\n",
              "dtype: int64"
            ]
          },
          "metadata": {
            "tags": []
          },
          "execution_count": 65
        }
      ]
    },
    {
      "cell_type": "code",
      "metadata": {
        "_cell_guid": "cd3bda59-12a7-434c-9195-23c4dcba5b8b",
        "_uuid": "77963d7b3d63b8e939652cc2c114a0731baa359e",
        "collapsed": true,
        "id": "8OCWlV-O-scn",
        "outputId": "e830b71b-c731-49bd-ee71-8eddeda8bf81",
        "colab": {
          "base_uri": "https://localhost:8080/",
          "height": 0
        }
      },
      "source": [
        "s.value_counts()"
      ],
      "execution_count": 66,
      "outputs": [
        {
          "output_type": "execute_result",
          "data": {
            "text/plain": [
              "5    3\n",
              "2    3\n",
              "6    2\n",
              "3    1\n",
              "0    1\n",
              "dtype: int64"
            ]
          },
          "metadata": {
            "tags": []
          },
          "execution_count": 66
        }
      ]
    },
    {
      "cell_type": "markdown",
      "metadata": {
        "_cell_guid": "cb8c8038-acc7-4b09-8e70-3354521439e6",
        "_uuid": "e74ee3f403a6358e6658dcfae2f2909128d64130",
        "id": "UPTzl3ZA-scp"
      },
      "source": [
        "### String Methods\n",
        "Series is equipped with a set of string processing methods in the str attribute that make it easy to operate on each element of the array, as in the code snippet below. Note that pattern-matching in str generally uses [regular expressions](https://docs.python.org/2/library/re.html) by default (and in some cases always uses them). See more at [Vectorized String Methods](https://pandas.pydata.org/pandas-docs/stable/text.html#text-string-methods)."
      ]
    },
    {
      "cell_type": "code",
      "metadata": {
        "_cell_guid": "d6eb8ddf-f32a-406d-8d9e-bd0c0a76bdc9",
        "_uuid": "b74596be6dc4925c11bbc9552f52e0ab8a401b19",
        "id": "O6eihWSz-scp"
      },
      "source": [
        "s = pd.Series(['A', 'B', 'C', 'Aaba', 'Baca', np.nan, 'CABA', 'dog', 'cat'])\n"
      ],
      "execution_count": 67,
      "outputs": []
    },
    {
      "cell_type": "code",
      "metadata": {
        "_cell_guid": "ea018f68-1d1e-487a-9d8d-e985f2c1d08f",
        "_uuid": "fb5a35db50d449608f76c79aaacf3c27f79ac398",
        "collapsed": true,
        "id": "McouGd13-scr",
        "outputId": "95aa72a5-304b-462b-9da7-5cb40825840a",
        "colab": {
          "base_uri": "https://localhost:8080/",
          "height": 0
        }
      },
      "source": [
        "s.str.lower()"
      ],
      "execution_count": 68,
      "outputs": [
        {
          "output_type": "execute_result",
          "data": {
            "text/plain": [
              "0       a\n",
              "1       b\n",
              "2       c\n",
              "3    aaba\n",
              "4    baca\n",
              "5     NaN\n",
              "6    caba\n",
              "7     dog\n",
              "8     cat\n",
              "dtype: object"
            ]
          },
          "metadata": {
            "tags": []
          },
          "execution_count": 68
        }
      ]
    },
    {
      "cell_type": "markdown",
      "metadata": {
        "_cell_guid": "bbeb9a06-d07c-4d38-96f6-fd96f8109a36",
        "_uuid": "9ecce4d43cdb73c250c231bd1f6ced47238ee848",
        "id": "OrU0PrBW-scv"
      },
      "source": [
        "# Merge\n",
        "### Concat\n",
        "pandas provides various facilities for easily combining together Series, DataFrame, and Panel objects with various kinds of set logic for the indexes and relational algebra functionality in the case of join / merge-type operations.\n",
        "\n",
        "See the [Merging section](https://pandas.pydata.org/pandas-docs/stable/merging.html#merging)\n",
        "\n",
        "Concatenating pandas objects together with [concat()](https://pandas.pydata.org/pandas-docs/stable/generated/pandas.concat.html#pandas.concat):"
      ]
    },
    {
      "cell_type": "code",
      "metadata": {
        "_cell_guid": "35b5371c-d03f-4014-b43e-0ea171cc2af5",
        "_uuid": "0e198af891bd5bd91c825d3e3f825211106140a6",
        "collapsed": true,
        "id": "qHl9ytAA-scv",
        "outputId": "ed933b4d-7407-4779-bb05-0adc3cf9cf33",
        "colab": {
          "base_uri": "https://localhost:8080/",
          "height": 0
        }
      },
      "source": [
        "df = pd.DataFrame(np.random.randn(10, 4))\n",
        "df"
      ],
      "execution_count": 69,
      "outputs": [
        {
          "output_type": "execute_result",
          "data": {
            "text/html": [
              "<div>\n",
              "<style scoped>\n",
              "    .dataframe tbody tr th:only-of-type {\n",
              "        vertical-align: middle;\n",
              "    }\n",
              "\n",
              "    .dataframe tbody tr th {\n",
              "        vertical-align: top;\n",
              "    }\n",
              "\n",
              "    .dataframe thead th {\n",
              "        text-align: right;\n",
              "    }\n",
              "</style>\n",
              "<table border=\"1\" class=\"dataframe\">\n",
              "  <thead>\n",
              "    <tr style=\"text-align: right;\">\n",
              "      <th></th>\n",
              "      <th>0</th>\n",
              "      <th>1</th>\n",
              "      <th>2</th>\n",
              "      <th>3</th>\n",
              "    </tr>\n",
              "  </thead>\n",
              "  <tbody>\n",
              "    <tr>\n",
              "      <th>0</th>\n",
              "      <td>0.780514</td>\n",
              "      <td>-0.355932</td>\n",
              "      <td>-0.141033</td>\n",
              "      <td>1.078374</td>\n",
              "    </tr>\n",
              "    <tr>\n",
              "      <th>1</th>\n",
              "      <td>0.842607</td>\n",
              "      <td>2.026374</td>\n",
              "      <td>0.504733</td>\n",
              "      <td>0.737219</td>\n",
              "    </tr>\n",
              "    <tr>\n",
              "      <th>2</th>\n",
              "      <td>0.070486</td>\n",
              "      <td>-1.627138</td>\n",
              "      <td>3.817341</td>\n",
              "      <td>1.988511</td>\n",
              "    </tr>\n",
              "    <tr>\n",
              "      <th>3</th>\n",
              "      <td>-0.843380</td>\n",
              "      <td>-0.113753</td>\n",
              "      <td>-0.053882</td>\n",
              "      <td>-0.460884</td>\n",
              "    </tr>\n",
              "    <tr>\n",
              "      <th>4</th>\n",
              "      <td>0.944657</td>\n",
              "      <td>-0.496297</td>\n",
              "      <td>-2.183390</td>\n",
              "      <td>-0.331700</td>\n",
              "    </tr>\n",
              "    <tr>\n",
              "      <th>5</th>\n",
              "      <td>0.085583</td>\n",
              "      <td>1.619082</td>\n",
              "      <td>-0.419896</td>\n",
              "      <td>-1.638264</td>\n",
              "    </tr>\n",
              "    <tr>\n",
              "      <th>6</th>\n",
              "      <td>-0.092185</td>\n",
              "      <td>-0.491370</td>\n",
              "      <td>1.553665</td>\n",
              "      <td>-1.788383</td>\n",
              "    </tr>\n",
              "    <tr>\n",
              "      <th>7</th>\n",
              "      <td>-0.528742</td>\n",
              "      <td>0.377261</td>\n",
              "      <td>0.200022</td>\n",
              "      <td>-0.791721</td>\n",
              "    </tr>\n",
              "    <tr>\n",
              "      <th>8</th>\n",
              "      <td>-0.909908</td>\n",
              "      <td>-0.721217</td>\n",
              "      <td>-2.386109</td>\n",
              "      <td>-0.346291</td>\n",
              "    </tr>\n",
              "    <tr>\n",
              "      <th>9</th>\n",
              "      <td>-1.633561</td>\n",
              "      <td>0.947551</td>\n",
              "      <td>0.140958</td>\n",
              "      <td>-0.895679</td>\n",
              "    </tr>\n",
              "  </tbody>\n",
              "</table>\n",
              "</div>"
            ],
            "text/plain": [
              "          0         1         2         3\n",
              "0  0.780514 -0.355932 -0.141033  1.078374\n",
              "1  0.842607  2.026374  0.504733  0.737219\n",
              "2  0.070486 -1.627138  3.817341  1.988511\n",
              "3 -0.843380 -0.113753 -0.053882 -0.460884\n",
              "4  0.944657 -0.496297 -2.183390 -0.331700\n",
              "5  0.085583  1.619082 -0.419896 -1.638264\n",
              "6 -0.092185 -0.491370  1.553665 -1.788383\n",
              "7 -0.528742  0.377261  0.200022 -0.791721\n",
              "8 -0.909908 -0.721217 -2.386109 -0.346291\n",
              "9 -1.633561  0.947551  0.140958 -0.895679"
            ]
          },
          "metadata": {
            "tags": []
          },
          "execution_count": 69
        }
      ]
    },
    {
      "cell_type": "code",
      "metadata": {
        "_cell_guid": "295ac685-5727-4a04-b910-34810572e984",
        "_uuid": "e1b0e0b7a541f0347586622dbd355ca42b7778cd",
        "collapsed": true,
        "id": "SsnxBe2k-scx",
        "outputId": "25c03df3-e2ea-4d3d-fd93-5a80dd30056f",
        "colab": {
          "base_uri": "https://localhost:8080/",
          "height": 0
        }
      },
      "source": [
        "#break it into pieces:\n",
        "pieces = [df[:3], df[3:7], df[7:]]\n",
        "pieces"
      ],
      "execution_count": 70,
      "outputs": [
        {
          "output_type": "execute_result",
          "data": {
            "text/plain": [
              "[          0         1         2         3\n",
              " 0  0.780514 -0.355932 -0.141033  1.078374\n",
              " 1  0.842607  2.026374  0.504733  0.737219\n",
              " 2  0.070486 -1.627138  3.817341  1.988511,\n",
              "           0         1         2         3\n",
              " 3 -0.843380 -0.113753 -0.053882 -0.460884\n",
              " 4  0.944657 -0.496297 -2.183390 -0.331700\n",
              " 5  0.085583  1.619082 -0.419896 -1.638264\n",
              " 6 -0.092185 -0.491370  1.553665 -1.788383,\n",
              "           0         1         2         3\n",
              " 7 -0.528742  0.377261  0.200022 -0.791721\n",
              " 8 -0.909908 -0.721217 -2.386109 -0.346291\n",
              " 9 -1.633561  0.947551  0.140958 -0.895679]"
            ]
          },
          "metadata": {
            "tags": []
          },
          "execution_count": 70
        }
      ]
    },
    {
      "cell_type": "code",
      "metadata": {
        "_cell_guid": "aa28f68e-a314-4bbe-a71b-568238c3be23",
        "_uuid": "ec51477795c9b3f0bd0366d130175b226cc9232b",
        "collapsed": true,
        "id": "ei15hrGo-scz",
        "outputId": "739a3ab1-9919-41fa-f204-e8e4a86e828d",
        "colab": {
          "base_uri": "https://localhost:8080/",
          "height": 0
        }
      },
      "source": [
        "pd.concat(pieces)\n"
      ],
      "execution_count": 71,
      "outputs": [
        {
          "output_type": "execute_result",
          "data": {
            "text/html": [
              "<div>\n",
              "<style scoped>\n",
              "    .dataframe tbody tr th:only-of-type {\n",
              "        vertical-align: middle;\n",
              "    }\n",
              "\n",
              "    .dataframe tbody tr th {\n",
              "        vertical-align: top;\n",
              "    }\n",
              "\n",
              "    .dataframe thead th {\n",
              "        text-align: right;\n",
              "    }\n",
              "</style>\n",
              "<table border=\"1\" class=\"dataframe\">\n",
              "  <thead>\n",
              "    <tr style=\"text-align: right;\">\n",
              "      <th></th>\n",
              "      <th>0</th>\n",
              "      <th>1</th>\n",
              "      <th>2</th>\n",
              "      <th>3</th>\n",
              "    </tr>\n",
              "  </thead>\n",
              "  <tbody>\n",
              "    <tr>\n",
              "      <th>0</th>\n",
              "      <td>0.780514</td>\n",
              "      <td>-0.355932</td>\n",
              "      <td>-0.141033</td>\n",
              "      <td>1.078374</td>\n",
              "    </tr>\n",
              "    <tr>\n",
              "      <th>1</th>\n",
              "      <td>0.842607</td>\n",
              "      <td>2.026374</td>\n",
              "      <td>0.504733</td>\n",
              "      <td>0.737219</td>\n",
              "    </tr>\n",
              "    <tr>\n",
              "      <th>2</th>\n",
              "      <td>0.070486</td>\n",
              "      <td>-1.627138</td>\n",
              "      <td>3.817341</td>\n",
              "      <td>1.988511</td>\n",
              "    </tr>\n",
              "    <tr>\n",
              "      <th>3</th>\n",
              "      <td>-0.843380</td>\n",
              "      <td>-0.113753</td>\n",
              "      <td>-0.053882</td>\n",
              "      <td>-0.460884</td>\n",
              "    </tr>\n",
              "    <tr>\n",
              "      <th>4</th>\n",
              "      <td>0.944657</td>\n",
              "      <td>-0.496297</td>\n",
              "      <td>-2.183390</td>\n",
              "      <td>-0.331700</td>\n",
              "    </tr>\n",
              "    <tr>\n",
              "      <th>5</th>\n",
              "      <td>0.085583</td>\n",
              "      <td>1.619082</td>\n",
              "      <td>-0.419896</td>\n",
              "      <td>-1.638264</td>\n",
              "    </tr>\n",
              "    <tr>\n",
              "      <th>6</th>\n",
              "      <td>-0.092185</td>\n",
              "      <td>-0.491370</td>\n",
              "      <td>1.553665</td>\n",
              "      <td>-1.788383</td>\n",
              "    </tr>\n",
              "    <tr>\n",
              "      <th>7</th>\n",
              "      <td>-0.528742</td>\n",
              "      <td>0.377261</td>\n",
              "      <td>0.200022</td>\n",
              "      <td>-0.791721</td>\n",
              "    </tr>\n",
              "    <tr>\n",
              "      <th>8</th>\n",
              "      <td>-0.909908</td>\n",
              "      <td>-0.721217</td>\n",
              "      <td>-2.386109</td>\n",
              "      <td>-0.346291</td>\n",
              "    </tr>\n",
              "    <tr>\n",
              "      <th>9</th>\n",
              "      <td>-1.633561</td>\n",
              "      <td>0.947551</td>\n",
              "      <td>0.140958</td>\n",
              "      <td>-0.895679</td>\n",
              "    </tr>\n",
              "  </tbody>\n",
              "</table>\n",
              "</div>"
            ],
            "text/plain": [
              "          0         1         2         3\n",
              "0  0.780514 -0.355932 -0.141033  1.078374\n",
              "1  0.842607  2.026374  0.504733  0.737219\n",
              "2  0.070486 -1.627138  3.817341  1.988511\n",
              "3 -0.843380 -0.113753 -0.053882 -0.460884\n",
              "4  0.944657 -0.496297 -2.183390 -0.331700\n",
              "5  0.085583  1.619082 -0.419896 -1.638264\n",
              "6 -0.092185 -0.491370  1.553665 -1.788383\n",
              "7 -0.528742  0.377261  0.200022 -0.791721\n",
              "8 -0.909908 -0.721217 -2.386109 -0.346291\n",
              "9 -1.633561  0.947551  0.140958 -0.895679"
            ]
          },
          "metadata": {
            "tags": []
          },
          "execution_count": 71
        }
      ]
    },
    {
      "cell_type": "markdown",
      "metadata": {
        "_cell_guid": "62030eae-f3ff-4d73-816b-a7c9b16d557d",
        "_uuid": "bd71a71d0715857037ccb116bec2084ac65f0a17",
        "id": "JO_Alg2Y-sc3"
      },
      "source": [
        "### Join"
      ]
    },
    {
      "cell_type": "markdown",
      "metadata": {
        "_cell_guid": "1fc997a6-5359-4fcd-bd1a-b0348f71b819",
        "_uuid": "2e5ea2b06b8349ad6e39af887988652edb8fbb73",
        "id": "z57yWjg1-sc3"
      },
      "source": [
        "SQL style merges. See the [Database style joining](https://pandas.pydata.org/pandas-docs/stable/merging.html#merging-join)"
      ]
    },
    {
      "cell_type": "code",
      "metadata": {
        "_cell_guid": "e4564981-808b-4154-8e35-6e94c2883821",
        "_uuid": "ae963f9acd041abc13954a8b57425a162550106f",
        "collapsed": true,
        "id": "1oHxMmri-sc4",
        "outputId": "952e1301-8d70-4881-d395-1eddfe3179fb",
        "colab": {
          "base_uri": "https://localhost:8080/",
          "height": 0
        }
      },
      "source": [
        "left = pd.DataFrame({'key': ['foo', 'foo'], 'lval': [1, 2]})\n",
        "left"
      ],
      "execution_count": 72,
      "outputs": [
        {
          "output_type": "execute_result",
          "data": {
            "text/html": [
              "<div>\n",
              "<style scoped>\n",
              "    .dataframe tbody tr th:only-of-type {\n",
              "        vertical-align: middle;\n",
              "    }\n",
              "\n",
              "    .dataframe tbody tr th {\n",
              "        vertical-align: top;\n",
              "    }\n",
              "\n",
              "    .dataframe thead th {\n",
              "        text-align: right;\n",
              "    }\n",
              "</style>\n",
              "<table border=\"1\" class=\"dataframe\">\n",
              "  <thead>\n",
              "    <tr style=\"text-align: right;\">\n",
              "      <th></th>\n",
              "      <th>key</th>\n",
              "      <th>lval</th>\n",
              "    </tr>\n",
              "  </thead>\n",
              "  <tbody>\n",
              "    <tr>\n",
              "      <th>0</th>\n",
              "      <td>foo</td>\n",
              "      <td>1</td>\n",
              "    </tr>\n",
              "    <tr>\n",
              "      <th>1</th>\n",
              "      <td>foo</td>\n",
              "      <td>2</td>\n",
              "    </tr>\n",
              "  </tbody>\n",
              "</table>\n",
              "</div>"
            ],
            "text/plain": [
              "   key  lval\n",
              "0  foo     1\n",
              "1  foo     2"
            ]
          },
          "metadata": {
            "tags": []
          },
          "execution_count": 72
        }
      ]
    },
    {
      "cell_type": "code",
      "metadata": {
        "_cell_guid": "4fc7aac1-cf73-4026-9f1a-765b5a8177b3",
        "_uuid": "4c66f190e7c6b22d22629bba2da2b253ebc0258d",
        "collapsed": true,
        "id": "O5wv9uhi-sc6",
        "outputId": "d028d17d-2769-4696-b071-9bae88f15987",
        "colab": {
          "base_uri": "https://localhost:8080/",
          "height": 0
        }
      },
      "source": [
        "right = pd.DataFrame({'key': ['foo', 'foo'], 'rval': [4, 5]})\n",
        "right"
      ],
      "execution_count": 73,
      "outputs": [
        {
          "output_type": "execute_result",
          "data": {
            "text/html": [
              "<div>\n",
              "<style scoped>\n",
              "    .dataframe tbody tr th:only-of-type {\n",
              "        vertical-align: middle;\n",
              "    }\n",
              "\n",
              "    .dataframe tbody tr th {\n",
              "        vertical-align: top;\n",
              "    }\n",
              "\n",
              "    .dataframe thead th {\n",
              "        text-align: right;\n",
              "    }\n",
              "</style>\n",
              "<table border=\"1\" class=\"dataframe\">\n",
              "  <thead>\n",
              "    <tr style=\"text-align: right;\">\n",
              "      <th></th>\n",
              "      <th>key</th>\n",
              "      <th>rval</th>\n",
              "    </tr>\n",
              "  </thead>\n",
              "  <tbody>\n",
              "    <tr>\n",
              "      <th>0</th>\n",
              "      <td>foo</td>\n",
              "      <td>4</td>\n",
              "    </tr>\n",
              "    <tr>\n",
              "      <th>1</th>\n",
              "      <td>foo</td>\n",
              "      <td>5</td>\n",
              "    </tr>\n",
              "  </tbody>\n",
              "</table>\n",
              "</div>"
            ],
            "text/plain": [
              "   key  rval\n",
              "0  foo     4\n",
              "1  foo     5"
            ]
          },
          "metadata": {
            "tags": []
          },
          "execution_count": 73
        }
      ]
    },
    {
      "cell_type": "code",
      "metadata": {
        "_cell_guid": "d5208a6c-f5d4-4e03-9ae0-bbfb8c119e36",
        "_uuid": "72654ecbb57e52b793ee3be15f82cade614c6158",
        "collapsed": true,
        "id": "geUvAv-8-sc8",
        "outputId": "6ae6309e-02ce-4d37-d8d2-57101a7fb25e",
        "colab": {
          "base_uri": "https://localhost:8080/",
          "height": 0
        }
      },
      "source": [
        "pd.merge(left,right,on='key')"
      ],
      "execution_count": 74,
      "outputs": [
        {
          "output_type": "execute_result",
          "data": {
            "text/html": [
              "<div>\n",
              "<style scoped>\n",
              "    .dataframe tbody tr th:only-of-type {\n",
              "        vertical-align: middle;\n",
              "    }\n",
              "\n",
              "    .dataframe tbody tr th {\n",
              "        vertical-align: top;\n",
              "    }\n",
              "\n",
              "    .dataframe thead th {\n",
              "        text-align: right;\n",
              "    }\n",
              "</style>\n",
              "<table border=\"1\" class=\"dataframe\">\n",
              "  <thead>\n",
              "    <tr style=\"text-align: right;\">\n",
              "      <th></th>\n",
              "      <th>key</th>\n",
              "      <th>lval</th>\n",
              "      <th>rval</th>\n",
              "    </tr>\n",
              "  </thead>\n",
              "  <tbody>\n",
              "    <tr>\n",
              "      <th>0</th>\n",
              "      <td>foo</td>\n",
              "      <td>1</td>\n",
              "      <td>4</td>\n",
              "    </tr>\n",
              "    <tr>\n",
              "      <th>1</th>\n",
              "      <td>foo</td>\n",
              "      <td>1</td>\n",
              "      <td>5</td>\n",
              "    </tr>\n",
              "    <tr>\n",
              "      <th>2</th>\n",
              "      <td>foo</td>\n",
              "      <td>2</td>\n",
              "      <td>4</td>\n",
              "    </tr>\n",
              "    <tr>\n",
              "      <th>3</th>\n",
              "      <td>foo</td>\n",
              "      <td>2</td>\n",
              "      <td>5</td>\n",
              "    </tr>\n",
              "  </tbody>\n",
              "</table>\n",
              "</div>"
            ],
            "text/plain": [
              "   key  lval  rval\n",
              "0  foo     1     4\n",
              "1  foo     1     5\n",
              "2  foo     2     4\n",
              "3  foo     2     5"
            ]
          },
          "metadata": {
            "tags": []
          },
          "execution_count": 74
        }
      ]
    },
    {
      "cell_type": "markdown",
      "metadata": {
        "_cell_guid": "1bac3a7a-793c-4af0-a6a4-7a52ee72058d",
        "_uuid": "c1d886d9d9ebee002af9f789a1b7acf9ede81959",
        "id": "wlGVFwkj-sc_"
      },
      "source": [
        "Another example that can be given is:"
      ]
    },
    {
      "cell_type": "code",
      "metadata": {
        "_cell_guid": "ec2e4826-c7f0-44e1-90aa-cd981d8deb4f",
        "_uuid": "bc2f4621a6c78f60b886b35ec9a6aceaf4f7f1a6",
        "collapsed": true,
        "id": "7Sy_ksOJ-sc_",
        "outputId": "2cc74d20-0c2a-4f06-9a19-943d0bbf1e8e",
        "colab": {
          "base_uri": "https://localhost:8080/",
          "height": 0
        }
      },
      "source": [
        "left = pd.DataFrame({'key': ['foo', 'bar'], 'lval': [1, 2]})\n",
        "left"
      ],
      "execution_count": 75,
      "outputs": [
        {
          "output_type": "execute_result",
          "data": {
            "text/html": [
              "<div>\n",
              "<style scoped>\n",
              "    .dataframe tbody tr th:only-of-type {\n",
              "        vertical-align: middle;\n",
              "    }\n",
              "\n",
              "    .dataframe tbody tr th {\n",
              "        vertical-align: top;\n",
              "    }\n",
              "\n",
              "    .dataframe thead th {\n",
              "        text-align: right;\n",
              "    }\n",
              "</style>\n",
              "<table border=\"1\" class=\"dataframe\">\n",
              "  <thead>\n",
              "    <tr style=\"text-align: right;\">\n",
              "      <th></th>\n",
              "      <th>key</th>\n",
              "      <th>lval</th>\n",
              "    </tr>\n",
              "  </thead>\n",
              "  <tbody>\n",
              "    <tr>\n",
              "      <th>0</th>\n",
              "      <td>foo</td>\n",
              "      <td>1</td>\n",
              "    </tr>\n",
              "    <tr>\n",
              "      <th>1</th>\n",
              "      <td>bar</td>\n",
              "      <td>2</td>\n",
              "    </tr>\n",
              "  </tbody>\n",
              "</table>\n",
              "</div>"
            ],
            "text/plain": [
              "   key  lval\n",
              "0  foo     1\n",
              "1  bar     2"
            ]
          },
          "metadata": {
            "tags": []
          },
          "execution_count": 75
        }
      ]
    },
    {
      "cell_type": "code",
      "metadata": {
        "_cell_guid": "e5c24cf6-23e1-4949-9fee-bdedd1ad4130",
        "_uuid": "337fd14edbbaeedb42b598f0a185e235f71d673a",
        "collapsed": true,
        "id": "kFVMmqmB-sdC",
        "outputId": "02890a7f-172c-4305-bc58-e237a80937e3",
        "colab": {
          "base_uri": "https://localhost:8080/",
          "height": 0
        }
      },
      "source": [
        "right = pd.DataFrame({'key': ['foo', 'bar'], 'rval': [4, 5]})\n",
        "right"
      ],
      "execution_count": 76,
      "outputs": [
        {
          "output_type": "execute_result",
          "data": {
            "text/html": [
              "<div>\n",
              "<style scoped>\n",
              "    .dataframe tbody tr th:only-of-type {\n",
              "        vertical-align: middle;\n",
              "    }\n",
              "\n",
              "    .dataframe tbody tr th {\n",
              "        vertical-align: top;\n",
              "    }\n",
              "\n",
              "    .dataframe thead th {\n",
              "        text-align: right;\n",
              "    }\n",
              "</style>\n",
              "<table border=\"1\" class=\"dataframe\">\n",
              "  <thead>\n",
              "    <tr style=\"text-align: right;\">\n",
              "      <th></th>\n",
              "      <th>key</th>\n",
              "      <th>rval</th>\n",
              "    </tr>\n",
              "  </thead>\n",
              "  <tbody>\n",
              "    <tr>\n",
              "      <th>0</th>\n",
              "      <td>foo</td>\n",
              "      <td>4</td>\n",
              "    </tr>\n",
              "    <tr>\n",
              "      <th>1</th>\n",
              "      <td>bar</td>\n",
              "      <td>5</td>\n",
              "    </tr>\n",
              "  </tbody>\n",
              "</table>\n",
              "</div>"
            ],
            "text/plain": [
              "   key  rval\n",
              "0  foo     4\n",
              "1  bar     5"
            ]
          },
          "metadata": {
            "tags": []
          },
          "execution_count": 76
        }
      ]
    },
    {
      "cell_type": "code",
      "metadata": {
        "_cell_guid": "475c1acd-7405-4994-a861-28c7a8416b54",
        "_uuid": "acdb46712ef690150987d134784361bbc32eb90b",
        "collapsed": true,
        "id": "TMTBo8tH-sdE",
        "outputId": "2740f46a-b093-4a62-8602-3310917be87a",
        "colab": {
          "base_uri": "https://localhost:8080/",
          "height": 0
        }
      },
      "source": [
        "pd.merge(left, right, on='key')"
      ],
      "execution_count": 77,
      "outputs": [
        {
          "output_type": "execute_result",
          "data": {
            "text/html": [
              "<div>\n",
              "<style scoped>\n",
              "    .dataframe tbody tr th:only-of-type {\n",
              "        vertical-align: middle;\n",
              "    }\n",
              "\n",
              "    .dataframe tbody tr th {\n",
              "        vertical-align: top;\n",
              "    }\n",
              "\n",
              "    .dataframe thead th {\n",
              "        text-align: right;\n",
              "    }\n",
              "</style>\n",
              "<table border=\"1\" class=\"dataframe\">\n",
              "  <thead>\n",
              "    <tr style=\"text-align: right;\">\n",
              "      <th></th>\n",
              "      <th>key</th>\n",
              "      <th>lval</th>\n",
              "      <th>rval</th>\n",
              "    </tr>\n",
              "  </thead>\n",
              "  <tbody>\n",
              "    <tr>\n",
              "      <th>0</th>\n",
              "      <td>foo</td>\n",
              "      <td>1</td>\n",
              "      <td>4</td>\n",
              "    </tr>\n",
              "    <tr>\n",
              "      <th>1</th>\n",
              "      <td>bar</td>\n",
              "      <td>2</td>\n",
              "      <td>5</td>\n",
              "    </tr>\n",
              "  </tbody>\n",
              "</table>\n",
              "</div>"
            ],
            "text/plain": [
              "   key  lval  rval\n",
              "0  foo     1     4\n",
              "1  bar     2     5"
            ]
          },
          "metadata": {
            "tags": []
          },
          "execution_count": 77
        }
      ]
    },
    {
      "cell_type": "markdown",
      "metadata": {
        "_cell_guid": "dae9ef46-214d-48e2-ba5c-7e8191f33320",
        "_uuid": "52dfbaeb0fc5416d2e15972f3f544b689f32b701",
        "id": "5NrqrBpq-sdH"
      },
      "source": [
        "### Append\n",
        "Append rows to a dataframe. See the [Appending](https://pandas.pydata.org/pandas-docs/stable/merging.html#merging-concatenation)"
      ]
    },
    {
      "cell_type": "code",
      "metadata": {
        "_cell_guid": "df5cdd4b-3313-4a96-82cc-873ad0c67565",
        "_uuid": "4475724eba1b82530cfd5c7d32d46f4d3c2be1a5",
        "collapsed": true,
        "id": "hlnv_5g6-sdH",
        "outputId": "5cb9a35f-5717-4f5f-86bd-731ad8409129",
        "colab": {
          "base_uri": "https://localhost:8080/",
          "height": 0
        }
      },
      "source": [
        "df = pd.DataFrame(np.random.randn(8, 4), columns=['A','B','C','D'])\n",
        "df"
      ],
      "execution_count": 78,
      "outputs": [
        {
          "output_type": "execute_result",
          "data": {
            "text/html": [
              "<div>\n",
              "<style scoped>\n",
              "    .dataframe tbody tr th:only-of-type {\n",
              "        vertical-align: middle;\n",
              "    }\n",
              "\n",
              "    .dataframe tbody tr th {\n",
              "        vertical-align: top;\n",
              "    }\n",
              "\n",
              "    .dataframe thead th {\n",
              "        text-align: right;\n",
              "    }\n",
              "</style>\n",
              "<table border=\"1\" class=\"dataframe\">\n",
              "  <thead>\n",
              "    <tr style=\"text-align: right;\">\n",
              "      <th></th>\n",
              "      <th>A</th>\n",
              "      <th>B</th>\n",
              "      <th>C</th>\n",
              "      <th>D</th>\n",
              "    </tr>\n",
              "  </thead>\n",
              "  <tbody>\n",
              "    <tr>\n",
              "      <th>0</th>\n",
              "      <td>1.143869</td>\n",
              "      <td>-0.237102</td>\n",
              "      <td>0.398207</td>\n",
              "      <td>0.488126</td>\n",
              "    </tr>\n",
              "    <tr>\n",
              "      <th>1</th>\n",
              "      <td>1.647687</td>\n",
              "      <td>0.634194</td>\n",
              "      <td>1.097722</td>\n",
              "      <td>0.083111</td>\n",
              "    </tr>\n",
              "    <tr>\n",
              "      <th>2</th>\n",
              "      <td>-1.223186</td>\n",
              "      <td>1.136358</td>\n",
              "      <td>-0.370397</td>\n",
              "      <td>-1.356728</td>\n",
              "    </tr>\n",
              "    <tr>\n",
              "      <th>3</th>\n",
              "      <td>1.025417</td>\n",
              "      <td>-1.499744</td>\n",
              "      <td>-0.605959</td>\n",
              "      <td>-1.141131</td>\n",
              "    </tr>\n",
              "    <tr>\n",
              "      <th>4</th>\n",
              "      <td>0.079806</td>\n",
              "      <td>-1.655369</td>\n",
              "      <td>-0.331661</td>\n",
              "      <td>1.443991</td>\n",
              "    </tr>\n",
              "    <tr>\n",
              "      <th>5</th>\n",
              "      <td>0.529883</td>\n",
              "      <td>-1.748435</td>\n",
              "      <td>0.807189</td>\n",
              "      <td>-1.123634</td>\n",
              "    </tr>\n",
              "    <tr>\n",
              "      <th>6</th>\n",
              "      <td>0.059029</td>\n",
              "      <td>0.426350</td>\n",
              "      <td>0.364983</td>\n",
              "      <td>-2.223074</td>\n",
              "    </tr>\n",
              "    <tr>\n",
              "      <th>7</th>\n",
              "      <td>0.357377</td>\n",
              "      <td>0.858220</td>\n",
              "      <td>0.834784</td>\n",
              "      <td>-1.127268</td>\n",
              "    </tr>\n",
              "  </tbody>\n",
              "</table>\n",
              "</div>"
            ],
            "text/plain": [
              "          A         B         C         D\n",
              "0  1.143869 -0.237102  0.398207  0.488126\n",
              "1  1.647687  0.634194  1.097722  0.083111\n",
              "2 -1.223186  1.136358 -0.370397 -1.356728\n",
              "3  1.025417 -1.499744 -0.605959 -1.141131\n",
              "4  0.079806 -1.655369 -0.331661  1.443991\n",
              "5  0.529883 -1.748435  0.807189 -1.123634\n",
              "6  0.059029  0.426350  0.364983 -2.223074\n",
              "7  0.357377  0.858220  0.834784 -1.127268"
            ]
          },
          "metadata": {
            "tags": []
          },
          "execution_count": 78
        }
      ]
    },
    {
      "cell_type": "code",
      "metadata": {
        "_cell_guid": "b15aafac-1acf-4dff-87fc-3e43b9e0ae68",
        "_uuid": "963ccfe458e2b84996e688c787dc9daf00ddfa2f",
        "collapsed": true,
        "id": "rX3qy0xQ-sdK",
        "outputId": "01c96ade-f21b-45ac-c64f-5c3ab339edbc",
        "colab": {
          "base_uri": "https://localhost:8080/",
          "height": 0
        }
      },
      "source": [
        "s = df.iloc[3]\n",
        "s"
      ],
      "execution_count": 79,
      "outputs": [
        {
          "output_type": "execute_result",
          "data": {
            "text/plain": [
              "A    1.025417\n",
              "B   -1.499744\n",
              "C   -0.605959\n",
              "D   -1.141131\n",
              "Name: 3, dtype: float64"
            ]
          },
          "metadata": {
            "tags": []
          },
          "execution_count": 79
        }
      ]
    },
    {
      "cell_type": "code",
      "metadata": {
        "_cell_guid": "8e8e9c59-b72f-423a-888b-adb66ff31f0d",
        "_uuid": "5de0b99314a3e8b7d347050a5d09f729dd54ed52",
        "collapsed": true,
        "id": "b7qO9N4m-sdM",
        "outputId": "d7b17bfc-2408-4025-d788-d925761dded5",
        "colab": {
          "base_uri": "https://localhost:8080/",
          "height": 0
        }
      },
      "source": [
        "df.append(s,ignore_index=True)"
      ],
      "execution_count": 80,
      "outputs": [
        {
          "output_type": "execute_result",
          "data": {
            "text/html": [
              "<div>\n",
              "<style scoped>\n",
              "    .dataframe tbody tr th:only-of-type {\n",
              "        vertical-align: middle;\n",
              "    }\n",
              "\n",
              "    .dataframe tbody tr th {\n",
              "        vertical-align: top;\n",
              "    }\n",
              "\n",
              "    .dataframe thead th {\n",
              "        text-align: right;\n",
              "    }\n",
              "</style>\n",
              "<table border=\"1\" class=\"dataframe\">\n",
              "  <thead>\n",
              "    <tr style=\"text-align: right;\">\n",
              "      <th></th>\n",
              "      <th>A</th>\n",
              "      <th>B</th>\n",
              "      <th>C</th>\n",
              "      <th>D</th>\n",
              "    </tr>\n",
              "  </thead>\n",
              "  <tbody>\n",
              "    <tr>\n",
              "      <th>0</th>\n",
              "      <td>1.143869</td>\n",
              "      <td>-0.237102</td>\n",
              "      <td>0.398207</td>\n",
              "      <td>0.488126</td>\n",
              "    </tr>\n",
              "    <tr>\n",
              "      <th>1</th>\n",
              "      <td>1.647687</td>\n",
              "      <td>0.634194</td>\n",
              "      <td>1.097722</td>\n",
              "      <td>0.083111</td>\n",
              "    </tr>\n",
              "    <tr>\n",
              "      <th>2</th>\n",
              "      <td>-1.223186</td>\n",
              "      <td>1.136358</td>\n",
              "      <td>-0.370397</td>\n",
              "      <td>-1.356728</td>\n",
              "    </tr>\n",
              "    <tr>\n",
              "      <th>3</th>\n",
              "      <td>1.025417</td>\n",
              "      <td>-1.499744</td>\n",
              "      <td>-0.605959</td>\n",
              "      <td>-1.141131</td>\n",
              "    </tr>\n",
              "    <tr>\n",
              "      <th>4</th>\n",
              "      <td>0.079806</td>\n",
              "      <td>-1.655369</td>\n",
              "      <td>-0.331661</td>\n",
              "      <td>1.443991</td>\n",
              "    </tr>\n",
              "    <tr>\n",
              "      <th>5</th>\n",
              "      <td>0.529883</td>\n",
              "      <td>-1.748435</td>\n",
              "      <td>0.807189</td>\n",
              "      <td>-1.123634</td>\n",
              "    </tr>\n",
              "    <tr>\n",
              "      <th>6</th>\n",
              "      <td>0.059029</td>\n",
              "      <td>0.426350</td>\n",
              "      <td>0.364983</td>\n",
              "      <td>-2.223074</td>\n",
              "    </tr>\n",
              "    <tr>\n",
              "      <th>7</th>\n",
              "      <td>0.357377</td>\n",
              "      <td>0.858220</td>\n",
              "      <td>0.834784</td>\n",
              "      <td>-1.127268</td>\n",
              "    </tr>\n",
              "    <tr>\n",
              "      <th>8</th>\n",
              "      <td>1.025417</td>\n",
              "      <td>-1.499744</td>\n",
              "      <td>-0.605959</td>\n",
              "      <td>-1.141131</td>\n",
              "    </tr>\n",
              "  </tbody>\n",
              "</table>\n",
              "</div>"
            ],
            "text/plain": [
              "          A         B         C         D\n",
              "0  1.143869 -0.237102  0.398207  0.488126\n",
              "1  1.647687  0.634194  1.097722  0.083111\n",
              "2 -1.223186  1.136358 -0.370397 -1.356728\n",
              "3  1.025417 -1.499744 -0.605959 -1.141131\n",
              "4  0.079806 -1.655369 -0.331661  1.443991\n",
              "5  0.529883 -1.748435  0.807189 -1.123634\n",
              "6  0.059029  0.426350  0.364983 -2.223074\n",
              "7  0.357377  0.858220  0.834784 -1.127268\n",
              "8  1.025417 -1.499744 -0.605959 -1.141131"
            ]
          },
          "metadata": {
            "tags": []
          },
          "execution_count": 80
        }
      ]
    },
    {
      "cell_type": "markdown",
      "metadata": {
        "_cell_guid": "dbf8666d-7af7-4fd0-b40a-5dd3a93cc0cb",
        "_uuid": "9f29392de68aceec0cadc01ccdfc2c124e6821f2",
        "id": "DIv9NW5f-sdW"
      },
      "source": [
        "# Grouping\n",
        "By “group by” we are referring to a process involving one or more of the following steps\n",
        "\n",
        "Splitting the data into groups based on some criteria\n",
        "Applying a function to each group independently\n",
        "Combining the results into a data structure\n",
        "\n",
        "See the [Grouping section](https://pandas.pydata.org/pandas-docs/stable/groupby.html#groupby)"
      ]
    },
    {
      "cell_type": "code",
      "metadata": {
        "_cell_guid": "23331b94-daca-4454-9f8c-f442169e5062",
        "_uuid": "4934d8285f1ed9fc748cb571d8bf212d6f4880ed",
        "collapsed": true,
        "id": "TGaWEv-z-sdX",
        "outputId": "73b587d4-686f-40db-addd-d980534ff3a8",
        "colab": {
          "base_uri": "https://localhost:8080/",
          "height": 0
        }
      },
      "source": [
        "df = pd.DataFrame({'A' : ['foo', 'bar', 'foo', 'bar',\n",
        "   ....:                           'foo', 'bar', 'foo', 'foo'],\n",
        "   ....:                    'B' : ['one', 'one', 'two', 'three',\n",
        "   ....:                           'two', 'two', 'one', 'three'],\n",
        "   ....:                    'C' : np.random.randn(8),\n",
        "   ....:                    'D' : np.random.randn(8)})\n",
        "df"
      ],
      "execution_count": 81,
      "outputs": [
        {
          "output_type": "execute_result",
          "data": {
            "text/html": [
              "<div>\n",
              "<style scoped>\n",
              "    .dataframe tbody tr th:only-of-type {\n",
              "        vertical-align: middle;\n",
              "    }\n",
              "\n",
              "    .dataframe tbody tr th {\n",
              "        vertical-align: top;\n",
              "    }\n",
              "\n",
              "    .dataframe thead th {\n",
              "        text-align: right;\n",
              "    }\n",
              "</style>\n",
              "<table border=\"1\" class=\"dataframe\">\n",
              "  <thead>\n",
              "    <tr style=\"text-align: right;\">\n",
              "      <th></th>\n",
              "      <th>A</th>\n",
              "      <th>B</th>\n",
              "      <th>C</th>\n",
              "      <th>D</th>\n",
              "    </tr>\n",
              "  </thead>\n",
              "  <tbody>\n",
              "    <tr>\n",
              "      <th>0</th>\n",
              "      <td>foo</td>\n",
              "      <td>one</td>\n",
              "      <td>0.814569</td>\n",
              "      <td>-0.951223</td>\n",
              "    </tr>\n",
              "    <tr>\n",
              "      <th>1</th>\n",
              "      <td>bar</td>\n",
              "      <td>one</td>\n",
              "      <td>-1.231187</td>\n",
              "      <td>-0.200815</td>\n",
              "    </tr>\n",
              "    <tr>\n",
              "      <th>2</th>\n",
              "      <td>foo</td>\n",
              "      <td>two</td>\n",
              "      <td>-1.133230</td>\n",
              "      <td>-1.344484</td>\n",
              "    </tr>\n",
              "    <tr>\n",
              "      <th>3</th>\n",
              "      <td>bar</td>\n",
              "      <td>three</td>\n",
              "      <td>-0.375652</td>\n",
              "      <td>1.081119</td>\n",
              "    </tr>\n",
              "    <tr>\n",
              "      <th>4</th>\n",
              "      <td>foo</td>\n",
              "      <td>two</td>\n",
              "      <td>-1.973952</td>\n",
              "      <td>-0.780746</td>\n",
              "    </tr>\n",
              "    <tr>\n",
              "      <th>5</th>\n",
              "      <td>bar</td>\n",
              "      <td>two</td>\n",
              "      <td>-0.203353</td>\n",
              "      <td>0.456882</td>\n",
              "    </tr>\n",
              "    <tr>\n",
              "      <th>6</th>\n",
              "      <td>foo</td>\n",
              "      <td>one</td>\n",
              "      <td>0.236202</td>\n",
              "      <td>-0.121186</td>\n",
              "    </tr>\n",
              "    <tr>\n",
              "      <th>7</th>\n",
              "      <td>foo</td>\n",
              "      <td>three</td>\n",
              "      <td>-0.053410</td>\n",
              "      <td>-0.025033</td>\n",
              "    </tr>\n",
              "  </tbody>\n",
              "</table>\n",
              "</div>"
            ],
            "text/plain": [
              "     A      B         C         D\n",
              "0  foo    one  0.814569 -0.951223\n",
              "1  bar    one -1.231187 -0.200815\n",
              "2  foo    two -1.133230 -1.344484\n",
              "3  bar  three -0.375652  1.081119\n",
              "4  foo    two -1.973952 -0.780746\n",
              "5  bar    two -0.203353  0.456882\n",
              "6  foo    one  0.236202 -0.121186\n",
              "7  foo  three -0.053410 -0.025033"
            ]
          },
          "metadata": {
            "tags": []
          },
          "execution_count": 81
        }
      ]
    },
    {
      "cell_type": "markdown",
      "metadata": {
        "_cell_guid": "6ba9b996-c9dc-4ea0-901b-32ee9251529c",
        "_uuid": "c58620f714db8772c05d14a5945c69db2e2f8e62",
        "id": "Pwjzg5eG-sdZ"
      },
      "source": [
        "Grouping and then applying a function sum to the resulting groups."
      ]
    },
    {
      "cell_type": "code",
      "metadata": {
        "_cell_guid": "ea8abe75-1945-402c-9a22-7d19393853ba",
        "_uuid": "98178d2cec0567107285d68e1dcb9aa411b74ad4",
        "collapsed": true,
        "id": "DxGVgQaw-sdZ",
        "outputId": "299a1e47-d9a5-4180-e9e0-b6adfe8230cc",
        "colab": {
          "base_uri": "https://localhost:8080/",
          "height": 0
        }
      },
      "source": [
        "df.groupby('A').sum()"
      ],
      "execution_count": 82,
      "outputs": [
        {
          "output_type": "execute_result",
          "data": {
            "text/html": [
              "<div>\n",
              "<style scoped>\n",
              "    .dataframe tbody tr th:only-of-type {\n",
              "        vertical-align: middle;\n",
              "    }\n",
              "\n",
              "    .dataframe tbody tr th {\n",
              "        vertical-align: top;\n",
              "    }\n",
              "\n",
              "    .dataframe thead th {\n",
              "        text-align: right;\n",
              "    }\n",
              "</style>\n",
              "<table border=\"1\" class=\"dataframe\">\n",
              "  <thead>\n",
              "    <tr style=\"text-align: right;\">\n",
              "      <th></th>\n",
              "      <th>C</th>\n",
              "      <th>D</th>\n",
              "    </tr>\n",
              "    <tr>\n",
              "      <th>A</th>\n",
              "      <th></th>\n",
              "      <th></th>\n",
              "    </tr>\n",
              "  </thead>\n",
              "  <tbody>\n",
              "    <tr>\n",
              "      <th>bar</th>\n",
              "      <td>-1.810192</td>\n",
              "      <td>1.337186</td>\n",
              "    </tr>\n",
              "    <tr>\n",
              "      <th>foo</th>\n",
              "      <td>-2.109820</td>\n",
              "      <td>-3.222671</td>\n",
              "    </tr>\n",
              "  </tbody>\n",
              "</table>\n",
              "</div>"
            ],
            "text/plain": [
              "            C         D\n",
              "A                      \n",
              "bar -1.810192  1.337186\n",
              "foo -2.109820 -3.222671"
            ]
          },
          "metadata": {
            "tags": []
          },
          "execution_count": 82
        }
      ]
    },
    {
      "cell_type": "markdown",
      "metadata": {
        "_cell_guid": "8d5181e7-9196-4575-979a-5167e1347f99",
        "_uuid": "4e11d0fa50d0c5f4ba267e7f13af361eb78715fa",
        "id": "FSgGlFLe-sdb"
      },
      "source": [
        "Grouping by multiple columns forms a hierarchical index, which we then apply the function."
      ]
    },
    {
      "cell_type": "code",
      "metadata": {
        "_cell_guid": "d4fd100b-cd69-4f81-afae-f1930e1d66c2",
        "_uuid": "f66bb1fb16b537febc7839743a177a222f4946e5",
        "collapsed": true,
        "id": "L3OUWS-2-sdc",
        "outputId": "d1e47bab-560f-4696-d97a-d919cd7b4d81",
        "colab": {
          "base_uri": "https://localhost:8080/",
          "height": 0
        }
      },
      "source": [
        "df.groupby(['A','B']).sum()"
      ],
      "execution_count": 83,
      "outputs": [
        {
          "output_type": "execute_result",
          "data": {
            "text/html": [
              "<div>\n",
              "<style scoped>\n",
              "    .dataframe tbody tr th:only-of-type {\n",
              "        vertical-align: middle;\n",
              "    }\n",
              "\n",
              "    .dataframe tbody tr th {\n",
              "        vertical-align: top;\n",
              "    }\n",
              "\n",
              "    .dataframe thead th {\n",
              "        text-align: right;\n",
              "    }\n",
              "</style>\n",
              "<table border=\"1\" class=\"dataframe\">\n",
              "  <thead>\n",
              "    <tr style=\"text-align: right;\">\n",
              "      <th></th>\n",
              "      <th></th>\n",
              "      <th>C</th>\n",
              "      <th>D</th>\n",
              "    </tr>\n",
              "    <tr>\n",
              "      <th>A</th>\n",
              "      <th>B</th>\n",
              "      <th></th>\n",
              "      <th></th>\n",
              "    </tr>\n",
              "  </thead>\n",
              "  <tbody>\n",
              "    <tr>\n",
              "      <th rowspan=\"3\" valign=\"top\">bar</th>\n",
              "      <th>one</th>\n",
              "      <td>-1.231187</td>\n",
              "      <td>-0.200815</td>\n",
              "    </tr>\n",
              "    <tr>\n",
              "      <th>three</th>\n",
              "      <td>-0.375652</td>\n",
              "      <td>1.081119</td>\n",
              "    </tr>\n",
              "    <tr>\n",
              "      <th>two</th>\n",
              "      <td>-0.203353</td>\n",
              "      <td>0.456882</td>\n",
              "    </tr>\n",
              "    <tr>\n",
              "      <th rowspan=\"3\" valign=\"top\">foo</th>\n",
              "      <th>one</th>\n",
              "      <td>1.050772</td>\n",
              "      <td>-1.072409</td>\n",
              "    </tr>\n",
              "    <tr>\n",
              "      <th>three</th>\n",
              "      <td>-0.053410</td>\n",
              "      <td>-0.025033</td>\n",
              "    </tr>\n",
              "    <tr>\n",
              "      <th>two</th>\n",
              "      <td>-3.107182</td>\n",
              "      <td>-2.125230</td>\n",
              "    </tr>\n",
              "  </tbody>\n",
              "</table>\n",
              "</div>"
            ],
            "text/plain": [
              "                  C         D\n",
              "A   B                        \n",
              "bar one   -1.231187 -0.200815\n",
              "    three -0.375652  1.081119\n",
              "    two   -0.203353  0.456882\n",
              "foo one    1.050772 -1.072409\n",
              "    three -0.053410 -0.025033\n",
              "    two   -3.107182 -2.125230"
            ]
          },
          "metadata": {
            "tags": []
          },
          "execution_count": 83
        }
      ]
    },
    {
      "cell_type": "markdown",
      "metadata": {
        "_cell_guid": "d0c596d2-7b4a-4b22-80c9-fad65f090aba",
        "_uuid": "15911cf2e4cddee344569d63d9ed362efca7f919",
        "id": "wHMitNQr-sdf"
      },
      "source": [
        "# Reshaping\n",
        "See the sections on [Hierarchical Indexing](https://pandas.pydata.org/pandas-docs/stable/advanced.html#advanced-hierarchical) and [Reshaping](https://pandas.pydata.org/pandas-docs/stable/reshaping.html#reshaping-stacking).\n",
        "\n",
        "### Stack"
      ]
    },
    {
      "cell_type": "code",
      "metadata": {
        "_cell_guid": "266aea3e-433a-436a-83df-08551438f6df",
        "_uuid": "5d1deec928f77a06ad5d090b9a72c04168cda5c2",
        "collapsed": true,
        "id": "5sxQ_Evp-sdf",
        "outputId": "45fb80d6-047a-4333-dc27-20469e6c6f58",
        "colab": {
          "base_uri": "https://localhost:8080/",
          "height": 0
        }
      },
      "source": [
        "tuples = list(zip(*[['bar', 'bar', 'baz', 'baz',\n",
        "   ....:                      'foo', 'foo', 'qux', 'qux'],\n",
        "   ....:                     ['one', 'two', 'one', 'two',\n",
        "   ....:                      'one', 'two', 'one', 'two']]))\n",
        "tuples"
      ],
      "execution_count": 84,
      "outputs": [
        {
          "output_type": "execute_result",
          "data": {
            "text/plain": [
              "[('bar', 'one'),\n",
              " ('bar', 'two'),\n",
              " ('baz', 'one'),\n",
              " ('baz', 'two'),\n",
              " ('foo', 'one'),\n",
              " ('foo', 'two'),\n",
              " ('qux', 'one'),\n",
              " ('qux', 'two')]"
            ]
          },
          "metadata": {
            "tags": []
          },
          "execution_count": 84
        }
      ]
    },
    {
      "cell_type": "code",
      "metadata": {
        "_cell_guid": "084d1096-800c-4bc4-aa44-cea9599a65dd",
        "_uuid": "4568a8525a65f30a40a3c6cbae4b8c53eb403b97",
        "collapsed": true,
        "id": "Vcb1XHG9-sdj",
        "outputId": "fa85e742-bd60-4638-91a6-5e8c4a64be72",
        "colab": {
          "base_uri": "https://localhost:8080/",
          "height": 0
        }
      },
      "source": [
        "index = pd.MultiIndex.from_tuples(tuples, names=['first', 'second'])\n",
        "index"
      ],
      "execution_count": 85,
      "outputs": [
        {
          "output_type": "execute_result",
          "data": {
            "text/plain": [
              "MultiIndex([('bar', 'one'),\n",
              "            ('bar', 'two'),\n",
              "            ('baz', 'one'),\n",
              "            ('baz', 'two'),\n",
              "            ('foo', 'one'),\n",
              "            ('foo', 'two'),\n",
              "            ('qux', 'one'),\n",
              "            ('qux', 'two')],\n",
              "           names=['first', 'second'])"
            ]
          },
          "metadata": {
            "tags": []
          },
          "execution_count": 85
        }
      ]
    },
    {
      "cell_type": "code",
      "metadata": {
        "_cell_guid": "0764158a-666f-46d9-a981-c97df7b39b34",
        "_uuid": "a05b99f0ea1fa20c13aaad0e738045f14c97e8fb",
        "collapsed": true,
        "id": "LWHRNBtd-sdm",
        "outputId": "47b79868-6197-444f-e7f8-a5d8964837c5",
        "colab": {
          "base_uri": "https://localhost:8080/",
          "height": 0
        }
      },
      "source": [
        "df = pd.DataFrame(np.random.randn(8, 2), index=index, columns=['A', 'B'])\n",
        "df"
      ],
      "execution_count": 86,
      "outputs": [
        {
          "output_type": "execute_result",
          "data": {
            "text/html": [
              "<div>\n",
              "<style scoped>\n",
              "    .dataframe tbody tr th:only-of-type {\n",
              "        vertical-align: middle;\n",
              "    }\n",
              "\n",
              "    .dataframe tbody tr th {\n",
              "        vertical-align: top;\n",
              "    }\n",
              "\n",
              "    .dataframe thead th {\n",
              "        text-align: right;\n",
              "    }\n",
              "</style>\n",
              "<table border=\"1\" class=\"dataframe\">\n",
              "  <thead>\n",
              "    <tr style=\"text-align: right;\">\n",
              "      <th></th>\n",
              "      <th></th>\n",
              "      <th>A</th>\n",
              "      <th>B</th>\n",
              "    </tr>\n",
              "    <tr>\n",
              "      <th>first</th>\n",
              "      <th>second</th>\n",
              "      <th></th>\n",
              "      <th></th>\n",
              "    </tr>\n",
              "  </thead>\n",
              "  <tbody>\n",
              "    <tr>\n",
              "      <th rowspan=\"2\" valign=\"top\">bar</th>\n",
              "      <th>one</th>\n",
              "      <td>2.261812</td>\n",
              "      <td>0.057638</td>\n",
              "    </tr>\n",
              "    <tr>\n",
              "      <th>two</th>\n",
              "      <td>-0.092779</td>\n",
              "      <td>0.610452</td>\n",
              "    </tr>\n",
              "    <tr>\n",
              "      <th rowspan=\"2\" valign=\"top\">baz</th>\n",
              "      <th>one</th>\n",
              "      <td>-0.764306</td>\n",
              "      <td>-1.327512</td>\n",
              "    </tr>\n",
              "    <tr>\n",
              "      <th>two</th>\n",
              "      <td>-0.093806</td>\n",
              "      <td>0.019207</td>\n",
              "    </tr>\n",
              "    <tr>\n",
              "      <th rowspan=\"2\" valign=\"top\">foo</th>\n",
              "      <th>one</th>\n",
              "      <td>-0.099534</td>\n",
              "      <td>0.145352</td>\n",
              "    </tr>\n",
              "    <tr>\n",
              "      <th>two</th>\n",
              "      <td>-0.625521</td>\n",
              "      <td>1.235269</td>\n",
              "    </tr>\n",
              "    <tr>\n",
              "      <th rowspan=\"2\" valign=\"top\">qux</th>\n",
              "      <th>one</th>\n",
              "      <td>0.069514</td>\n",
              "      <td>-1.659993</td>\n",
              "    </tr>\n",
              "    <tr>\n",
              "      <th>two</th>\n",
              "      <td>0.709759</td>\n",
              "      <td>1.541067</td>\n",
              "    </tr>\n",
              "  </tbody>\n",
              "</table>\n",
              "</div>"
            ],
            "text/plain": [
              "                     A         B\n",
              "first second                    \n",
              "bar   one     2.261812  0.057638\n",
              "      two    -0.092779  0.610452\n",
              "baz   one    -0.764306 -1.327512\n",
              "      two    -0.093806  0.019207\n",
              "foo   one    -0.099534  0.145352\n",
              "      two    -0.625521  1.235269\n",
              "qux   one     0.069514 -1.659993\n",
              "      two     0.709759  1.541067"
            ]
          },
          "metadata": {
            "tags": []
          },
          "execution_count": 86
        }
      ]
    },
    {
      "cell_type": "markdown",
      "metadata": {
        "_cell_guid": "35cca8ca-6aed-4f7e-9d52-14f5ec8e4e42",
        "_uuid": "3987868916766e10a30f5bdc3d1759ae29aec4b0",
        "id": "D0ugeEZ4-sdn"
      },
      "source": [
        "The [stack()](https://pandas.pydata.org/pandas-docs/stable/generated/pandas.DataFrame.stack.html#pandas.DataFrame.stack) method “compresses” a level in the DataFrame’s columns."
      ]
    },
    {
      "cell_type": "code",
      "metadata": {
        "_cell_guid": "ba300ff7-e5a1-4169-9b00-6c5a13e4d557",
        "_uuid": "a05087c82e0941531337c2166c6027ce8b8e9624",
        "collapsed": true,
        "id": "9RGeJJuZ-sdo",
        "outputId": "0181789c-2fae-4db9-aac9-29e80a61446e",
        "colab": {
          "base_uri": "https://localhost:8080/",
          "height": 0
        }
      },
      "source": [
        "stacked = df.stack()\n",
        "stacked"
      ],
      "execution_count": 87,
      "outputs": [
        {
          "output_type": "execute_result",
          "data": {
            "text/plain": [
              "first  second   \n",
              "bar    one     A    2.261812\n",
              "               B    0.057638\n",
              "       two     A   -0.092779\n",
              "               B    0.610452\n",
              "baz    one     A   -0.764306\n",
              "               B   -1.327512\n",
              "       two     A   -0.093806\n",
              "               B    0.019207\n",
              "foo    one     A   -0.099534\n",
              "               B    0.145352\n",
              "       two     A   -0.625521\n",
              "               B    1.235269\n",
              "qux    one     A    0.069514\n",
              "               B   -1.659993\n",
              "       two     A    0.709759\n",
              "               B    1.541067\n",
              "dtype: float64"
            ]
          },
          "metadata": {
            "tags": []
          },
          "execution_count": 87
        }
      ]
    },
    {
      "cell_type": "markdown",
      "metadata": {
        "_cell_guid": "e15acb89-1dd2-4ff4-90ca-796d6dc510b3",
        "_uuid": "b8d507f4029c20f98bb3a782845bc8ca13637a82",
        "id": "UiHZ4Y7G-sdq"
      },
      "source": [
        "With a “stacked” DataFrame or Series (having a MultiIndex as the index), the inverse operation of [stack()](https://pandas.pydata.org/pandas-docs/stable/generated/pandas.DataFrame.stack.html#pandas.DataFrame.stack) is [unstack()](https://pandas.pydata.org/pandas-docs/stable/generated/pandas.DataFrame.unstack.html#pandas.DataFrame.unstack), which by default unstacks the last level:"
      ]
    },
    {
      "cell_type": "code",
      "metadata": {
        "_cell_guid": "73d256c6-dd54-418d-b3c0-ce432f397763",
        "_uuid": "7ac035cd3392fdb6e9bc8bdf49b69c279309c018",
        "collapsed": true,
        "id": "RgEDiSZ9-sdr",
        "outputId": "7081c974-3d3f-472c-bab8-a0cf0b3c26f0",
        "colab": {
          "base_uri": "https://localhost:8080/",
          "height": 0
        }
      },
      "source": [
        "stacked.unstack()"
      ],
      "execution_count": 88,
      "outputs": [
        {
          "output_type": "execute_result",
          "data": {
            "text/html": [
              "<div>\n",
              "<style scoped>\n",
              "    .dataframe tbody tr th:only-of-type {\n",
              "        vertical-align: middle;\n",
              "    }\n",
              "\n",
              "    .dataframe tbody tr th {\n",
              "        vertical-align: top;\n",
              "    }\n",
              "\n",
              "    .dataframe thead th {\n",
              "        text-align: right;\n",
              "    }\n",
              "</style>\n",
              "<table border=\"1\" class=\"dataframe\">\n",
              "  <thead>\n",
              "    <tr style=\"text-align: right;\">\n",
              "      <th></th>\n",
              "      <th></th>\n",
              "      <th>A</th>\n",
              "      <th>B</th>\n",
              "    </tr>\n",
              "    <tr>\n",
              "      <th>first</th>\n",
              "      <th>second</th>\n",
              "      <th></th>\n",
              "      <th></th>\n",
              "    </tr>\n",
              "  </thead>\n",
              "  <tbody>\n",
              "    <tr>\n",
              "      <th rowspan=\"2\" valign=\"top\">bar</th>\n",
              "      <th>one</th>\n",
              "      <td>2.261812</td>\n",
              "      <td>0.057638</td>\n",
              "    </tr>\n",
              "    <tr>\n",
              "      <th>two</th>\n",
              "      <td>-0.092779</td>\n",
              "      <td>0.610452</td>\n",
              "    </tr>\n",
              "    <tr>\n",
              "      <th rowspan=\"2\" valign=\"top\">baz</th>\n",
              "      <th>one</th>\n",
              "      <td>-0.764306</td>\n",
              "      <td>-1.327512</td>\n",
              "    </tr>\n",
              "    <tr>\n",
              "      <th>two</th>\n",
              "      <td>-0.093806</td>\n",
              "      <td>0.019207</td>\n",
              "    </tr>\n",
              "    <tr>\n",
              "      <th rowspan=\"2\" valign=\"top\">foo</th>\n",
              "      <th>one</th>\n",
              "      <td>-0.099534</td>\n",
              "      <td>0.145352</td>\n",
              "    </tr>\n",
              "    <tr>\n",
              "      <th>two</th>\n",
              "      <td>-0.625521</td>\n",
              "      <td>1.235269</td>\n",
              "    </tr>\n",
              "    <tr>\n",
              "      <th rowspan=\"2\" valign=\"top\">qux</th>\n",
              "      <th>one</th>\n",
              "      <td>0.069514</td>\n",
              "      <td>-1.659993</td>\n",
              "    </tr>\n",
              "    <tr>\n",
              "      <th>two</th>\n",
              "      <td>0.709759</td>\n",
              "      <td>1.541067</td>\n",
              "    </tr>\n",
              "  </tbody>\n",
              "</table>\n",
              "</div>"
            ],
            "text/plain": [
              "                     A         B\n",
              "first second                    \n",
              "bar   one     2.261812  0.057638\n",
              "      two    -0.092779  0.610452\n",
              "baz   one    -0.764306 -1.327512\n",
              "      two    -0.093806  0.019207\n",
              "foo   one    -0.099534  0.145352\n",
              "      two    -0.625521  1.235269\n",
              "qux   one     0.069514 -1.659993\n",
              "      two     0.709759  1.541067"
            ]
          },
          "metadata": {
            "tags": []
          },
          "execution_count": 88
        }
      ]
    },
    {
      "cell_type": "code",
      "metadata": {
        "_cell_guid": "cd7ae481-efc0-41cb-aacf-a7388c4111c0",
        "_uuid": "904cdcfbabb4492ab2a1a573c2cbd57f72bfe4bb",
        "collapsed": true,
        "id": "8h6BRHBJ-sdt",
        "outputId": "716a1e08-dae6-48b5-ea8b-21ab389fa298",
        "colab": {
          "base_uri": "https://localhost:8080/",
          "height": 0
        }
      },
      "source": [
        "stacked.unstack(1)"
      ],
      "execution_count": 89,
      "outputs": [
        {
          "output_type": "execute_result",
          "data": {
            "text/html": [
              "<div>\n",
              "<style scoped>\n",
              "    .dataframe tbody tr th:only-of-type {\n",
              "        vertical-align: middle;\n",
              "    }\n",
              "\n",
              "    .dataframe tbody tr th {\n",
              "        vertical-align: top;\n",
              "    }\n",
              "\n",
              "    .dataframe thead th {\n",
              "        text-align: right;\n",
              "    }\n",
              "</style>\n",
              "<table border=\"1\" class=\"dataframe\">\n",
              "  <thead>\n",
              "    <tr style=\"text-align: right;\">\n",
              "      <th></th>\n",
              "      <th>second</th>\n",
              "      <th>one</th>\n",
              "      <th>two</th>\n",
              "    </tr>\n",
              "    <tr>\n",
              "      <th>first</th>\n",
              "      <th></th>\n",
              "      <th></th>\n",
              "      <th></th>\n",
              "    </tr>\n",
              "  </thead>\n",
              "  <tbody>\n",
              "    <tr>\n",
              "      <th rowspan=\"2\" valign=\"top\">bar</th>\n",
              "      <th>A</th>\n",
              "      <td>2.261812</td>\n",
              "      <td>-0.092779</td>\n",
              "    </tr>\n",
              "    <tr>\n",
              "      <th>B</th>\n",
              "      <td>0.057638</td>\n",
              "      <td>0.610452</td>\n",
              "    </tr>\n",
              "    <tr>\n",
              "      <th rowspan=\"2\" valign=\"top\">baz</th>\n",
              "      <th>A</th>\n",
              "      <td>-0.764306</td>\n",
              "      <td>-0.093806</td>\n",
              "    </tr>\n",
              "    <tr>\n",
              "      <th>B</th>\n",
              "      <td>-1.327512</td>\n",
              "      <td>0.019207</td>\n",
              "    </tr>\n",
              "    <tr>\n",
              "      <th rowspan=\"2\" valign=\"top\">foo</th>\n",
              "      <th>A</th>\n",
              "      <td>-0.099534</td>\n",
              "      <td>-0.625521</td>\n",
              "    </tr>\n",
              "    <tr>\n",
              "      <th>B</th>\n",
              "      <td>0.145352</td>\n",
              "      <td>1.235269</td>\n",
              "    </tr>\n",
              "    <tr>\n",
              "      <th rowspan=\"2\" valign=\"top\">qux</th>\n",
              "      <th>A</th>\n",
              "      <td>0.069514</td>\n",
              "      <td>0.709759</td>\n",
              "    </tr>\n",
              "    <tr>\n",
              "      <th>B</th>\n",
              "      <td>-1.659993</td>\n",
              "      <td>1.541067</td>\n",
              "    </tr>\n",
              "  </tbody>\n",
              "</table>\n",
              "</div>"
            ],
            "text/plain": [
              "second        one       two\n",
              "first                      \n",
              "bar   A  2.261812 -0.092779\n",
              "      B  0.057638  0.610452\n",
              "baz   A -0.764306 -0.093806\n",
              "      B -1.327512  0.019207\n",
              "foo   A -0.099534 -0.625521\n",
              "      B  0.145352  1.235269\n",
              "qux   A  0.069514  0.709759\n",
              "      B -1.659993  1.541067"
            ]
          },
          "metadata": {
            "tags": []
          },
          "execution_count": 89
        }
      ]
    },
    {
      "cell_type": "code",
      "metadata": {
        "_cell_guid": "63d4143c-2488-40a7-9d6a-8751ed8f5bec",
        "_uuid": "21092205bbd06eab81ab2b54fc709110c8ebedee",
        "collapsed": true,
        "id": "nxgPGJA0-sdw",
        "outputId": "1abbd352-0dd7-4be3-e466-c2b5f45a8517",
        "colab": {
          "base_uri": "https://localhost:8080/",
          "height": 0
        }
      },
      "source": [
        "stacked.unstack(0)"
      ],
      "execution_count": 90,
      "outputs": [
        {
          "output_type": "execute_result",
          "data": {
            "text/html": [
              "<div>\n",
              "<style scoped>\n",
              "    .dataframe tbody tr th:only-of-type {\n",
              "        vertical-align: middle;\n",
              "    }\n",
              "\n",
              "    .dataframe tbody tr th {\n",
              "        vertical-align: top;\n",
              "    }\n",
              "\n",
              "    .dataframe thead th {\n",
              "        text-align: right;\n",
              "    }\n",
              "</style>\n",
              "<table border=\"1\" class=\"dataframe\">\n",
              "  <thead>\n",
              "    <tr style=\"text-align: right;\">\n",
              "      <th></th>\n",
              "      <th>first</th>\n",
              "      <th>bar</th>\n",
              "      <th>baz</th>\n",
              "      <th>foo</th>\n",
              "      <th>qux</th>\n",
              "    </tr>\n",
              "    <tr>\n",
              "      <th>second</th>\n",
              "      <th></th>\n",
              "      <th></th>\n",
              "      <th></th>\n",
              "      <th></th>\n",
              "      <th></th>\n",
              "    </tr>\n",
              "  </thead>\n",
              "  <tbody>\n",
              "    <tr>\n",
              "      <th rowspan=\"2\" valign=\"top\">one</th>\n",
              "      <th>A</th>\n",
              "      <td>2.261812</td>\n",
              "      <td>-0.764306</td>\n",
              "      <td>-0.099534</td>\n",
              "      <td>0.069514</td>\n",
              "    </tr>\n",
              "    <tr>\n",
              "      <th>B</th>\n",
              "      <td>0.057638</td>\n",
              "      <td>-1.327512</td>\n",
              "      <td>0.145352</td>\n",
              "      <td>-1.659993</td>\n",
              "    </tr>\n",
              "    <tr>\n",
              "      <th rowspan=\"2\" valign=\"top\">two</th>\n",
              "      <th>A</th>\n",
              "      <td>-0.092779</td>\n",
              "      <td>-0.093806</td>\n",
              "      <td>-0.625521</td>\n",
              "      <td>0.709759</td>\n",
              "    </tr>\n",
              "    <tr>\n",
              "      <th>B</th>\n",
              "      <td>0.610452</td>\n",
              "      <td>0.019207</td>\n",
              "      <td>1.235269</td>\n",
              "      <td>1.541067</td>\n",
              "    </tr>\n",
              "  </tbody>\n",
              "</table>\n",
              "</div>"
            ],
            "text/plain": [
              "first          bar       baz       foo       qux\n",
              "second                                          \n",
              "one    A  2.261812 -0.764306 -0.099534  0.069514\n",
              "       B  0.057638 -1.327512  0.145352 -1.659993\n",
              "two    A -0.092779 -0.093806 -0.625521  0.709759\n",
              "       B  0.610452  0.019207  1.235269  1.541067"
            ]
          },
          "metadata": {
            "tags": []
          },
          "execution_count": 90
        }
      ]
    },
    {
      "cell_type": "markdown",
      "metadata": {
        "_cell_guid": "2aeae2c4-7559-4fa7-a837-4500980c823c",
        "_uuid": "6108ff3064ecc74f8d264309548f6feb125ed9be",
        "id": "a68EuUef-sdy"
      },
      "source": [
        "### Pivot Tables\n",
        "See the section on [Pivot Tables](https://pandas.pydata.org/pandas-docs/stable/reshaping.html#reshaping-pivot)."
      ]
    },
    {
      "cell_type": "code",
      "metadata": {
        "_cell_guid": "1a188e29-26e1-4ffc-acd1-5e8fb7c99465",
        "_uuid": "0acd04af17bb429101737d38d9f603571fb3006f",
        "collapsed": true,
        "id": "EH6dQb9_-sdy",
        "outputId": "520da35a-5ed6-4719-a037-d29bf598e7d1",
        "colab": {
          "base_uri": "https://localhost:8080/",
          "height": 0
        }
      },
      "source": [
        "df = pd.DataFrame({'A' : ['one', 'one', 'two', 'three'] * 3,\n",
        "   .....:                    'B' : ['A', 'B', 'C'] * 4,\n",
        "   .....:                    'C' : ['foo', 'foo', 'foo', 'bar', 'bar', 'bar'] * 2,\n",
        "   .....:                    'D' : np.random.randn(12),\n",
        "   .....:                    'E' : np.random.randn(12)})\n",
        "df"
      ],
      "execution_count": 91,
      "outputs": [
        {
          "output_type": "execute_result",
          "data": {
            "text/html": [
              "<div>\n",
              "<style scoped>\n",
              "    .dataframe tbody tr th:only-of-type {\n",
              "        vertical-align: middle;\n",
              "    }\n",
              "\n",
              "    .dataframe tbody tr th {\n",
              "        vertical-align: top;\n",
              "    }\n",
              "\n",
              "    .dataframe thead th {\n",
              "        text-align: right;\n",
              "    }\n",
              "</style>\n",
              "<table border=\"1\" class=\"dataframe\">\n",
              "  <thead>\n",
              "    <tr style=\"text-align: right;\">\n",
              "      <th></th>\n",
              "      <th>A</th>\n",
              "      <th>B</th>\n",
              "      <th>C</th>\n",
              "      <th>D</th>\n",
              "      <th>E</th>\n",
              "    </tr>\n",
              "  </thead>\n",
              "  <tbody>\n",
              "    <tr>\n",
              "      <th>0</th>\n",
              "      <td>one</td>\n",
              "      <td>A</td>\n",
              "      <td>foo</td>\n",
              "      <td>-1.532689</td>\n",
              "      <td>0.687751</td>\n",
              "    </tr>\n",
              "    <tr>\n",
              "      <th>1</th>\n",
              "      <td>one</td>\n",
              "      <td>B</td>\n",
              "      <td>foo</td>\n",
              "      <td>-1.162355</td>\n",
              "      <td>-0.513612</td>\n",
              "    </tr>\n",
              "    <tr>\n",
              "      <th>2</th>\n",
              "      <td>two</td>\n",
              "      <td>C</td>\n",
              "      <td>foo</td>\n",
              "      <td>1.748900</td>\n",
              "      <td>0.247908</td>\n",
              "    </tr>\n",
              "    <tr>\n",
              "      <th>3</th>\n",
              "      <td>three</td>\n",
              "      <td>A</td>\n",
              "      <td>bar</td>\n",
              "      <td>0.086325</td>\n",
              "      <td>0.257446</td>\n",
              "    </tr>\n",
              "    <tr>\n",
              "      <th>4</th>\n",
              "      <td>one</td>\n",
              "      <td>B</td>\n",
              "      <td>bar</td>\n",
              "      <td>0.557432</td>\n",
              "      <td>-0.624299</td>\n",
              "    </tr>\n",
              "    <tr>\n",
              "      <th>5</th>\n",
              "      <td>one</td>\n",
              "      <td>C</td>\n",
              "      <td>bar</td>\n",
              "      <td>-0.349525</td>\n",
              "      <td>-0.529188</td>\n",
              "    </tr>\n",
              "    <tr>\n",
              "      <th>6</th>\n",
              "      <td>two</td>\n",
              "      <td>A</td>\n",
              "      <td>foo</td>\n",
              "      <td>-0.313450</td>\n",
              "      <td>0.504735</td>\n",
              "    </tr>\n",
              "    <tr>\n",
              "      <th>7</th>\n",
              "      <td>three</td>\n",
              "      <td>B</td>\n",
              "      <td>foo</td>\n",
              "      <td>-0.034972</td>\n",
              "      <td>-0.149090</td>\n",
              "    </tr>\n",
              "    <tr>\n",
              "      <th>8</th>\n",
              "      <td>one</td>\n",
              "      <td>C</td>\n",
              "      <td>foo</td>\n",
              "      <td>-1.669236</td>\n",
              "      <td>0.022067</td>\n",
              "    </tr>\n",
              "    <tr>\n",
              "      <th>9</th>\n",
              "      <td>one</td>\n",
              "      <td>A</td>\n",
              "      <td>bar</td>\n",
              "      <td>-0.663696</td>\n",
              "      <td>0.042743</td>\n",
              "    </tr>\n",
              "    <tr>\n",
              "      <th>10</th>\n",
              "      <td>two</td>\n",
              "      <td>B</td>\n",
              "      <td>bar</td>\n",
              "      <td>-0.502083</td>\n",
              "      <td>0.596464</td>\n",
              "    </tr>\n",
              "    <tr>\n",
              "      <th>11</th>\n",
              "      <td>three</td>\n",
              "      <td>C</td>\n",
              "      <td>bar</td>\n",
              "      <td>-0.081641</td>\n",
              "      <td>0.495577</td>\n",
              "    </tr>\n",
              "  </tbody>\n",
              "</table>\n",
              "</div>"
            ],
            "text/plain": [
              "        A  B    C         D         E\n",
              "0     one  A  foo -1.532689  0.687751\n",
              "1     one  B  foo -1.162355 -0.513612\n",
              "2     two  C  foo  1.748900  0.247908\n",
              "3   three  A  bar  0.086325  0.257446\n",
              "4     one  B  bar  0.557432 -0.624299\n",
              "5     one  C  bar -0.349525 -0.529188\n",
              "6     two  A  foo -0.313450  0.504735\n",
              "7   three  B  foo -0.034972 -0.149090\n",
              "8     one  C  foo -1.669236  0.022067\n",
              "9     one  A  bar -0.663696  0.042743\n",
              "10    two  B  bar -0.502083  0.596464\n",
              "11  three  C  bar -0.081641  0.495577"
            ]
          },
          "metadata": {
            "tags": []
          },
          "execution_count": 91
        }
      ]
    },
    {
      "cell_type": "markdown",
      "metadata": {
        "_cell_guid": "2b2e7f69-e135-4cdb-9053-15446689a343",
        "_uuid": "8a59aa522a9c86d054fc8f1917117ff7131ce9d7",
        "id": "mwunzt3M-sd1"
      },
      "source": [
        "We can produce pivot tables from this data very easily:"
      ]
    },
    {
      "cell_type": "code",
      "metadata": {
        "_cell_guid": "236b385e-a44c-4526-b7dd-826b858aec30",
        "_uuid": "24977494d59f97c71999811110baf456f25d9e1c",
        "collapsed": true,
        "id": "uuPEwAth-sd1",
        "outputId": "3dbec094-f7b6-4269-d55f-5ced55517bdc",
        "colab": {
          "base_uri": "https://localhost:8080/",
          "height": 0
        }
      },
      "source": [
        "pd.pivot_table(df, values='D', index=['A', 'B'], columns=['C'])"
      ],
      "execution_count": 92,
      "outputs": [
        {
          "output_type": "execute_result",
          "data": {
            "text/html": [
              "<div>\n",
              "<style scoped>\n",
              "    .dataframe tbody tr th:only-of-type {\n",
              "        vertical-align: middle;\n",
              "    }\n",
              "\n",
              "    .dataframe tbody tr th {\n",
              "        vertical-align: top;\n",
              "    }\n",
              "\n",
              "    .dataframe thead th {\n",
              "        text-align: right;\n",
              "    }\n",
              "</style>\n",
              "<table border=\"1\" class=\"dataframe\">\n",
              "  <thead>\n",
              "    <tr style=\"text-align: right;\">\n",
              "      <th></th>\n",
              "      <th>C</th>\n",
              "      <th>bar</th>\n",
              "      <th>foo</th>\n",
              "    </tr>\n",
              "    <tr>\n",
              "      <th>A</th>\n",
              "      <th>B</th>\n",
              "      <th></th>\n",
              "      <th></th>\n",
              "    </tr>\n",
              "  </thead>\n",
              "  <tbody>\n",
              "    <tr>\n",
              "      <th rowspan=\"3\" valign=\"top\">one</th>\n",
              "      <th>A</th>\n",
              "      <td>-0.663696</td>\n",
              "      <td>-1.532689</td>\n",
              "    </tr>\n",
              "    <tr>\n",
              "      <th>B</th>\n",
              "      <td>0.557432</td>\n",
              "      <td>-1.162355</td>\n",
              "    </tr>\n",
              "    <tr>\n",
              "      <th>C</th>\n",
              "      <td>-0.349525</td>\n",
              "      <td>-1.669236</td>\n",
              "    </tr>\n",
              "    <tr>\n",
              "      <th rowspan=\"3\" valign=\"top\">three</th>\n",
              "      <th>A</th>\n",
              "      <td>0.086325</td>\n",
              "      <td>NaN</td>\n",
              "    </tr>\n",
              "    <tr>\n",
              "      <th>B</th>\n",
              "      <td>NaN</td>\n",
              "      <td>-0.034972</td>\n",
              "    </tr>\n",
              "    <tr>\n",
              "      <th>C</th>\n",
              "      <td>-0.081641</td>\n",
              "      <td>NaN</td>\n",
              "    </tr>\n",
              "    <tr>\n",
              "      <th rowspan=\"3\" valign=\"top\">two</th>\n",
              "      <th>A</th>\n",
              "      <td>NaN</td>\n",
              "      <td>-0.313450</td>\n",
              "    </tr>\n",
              "    <tr>\n",
              "      <th>B</th>\n",
              "      <td>-0.502083</td>\n",
              "      <td>NaN</td>\n",
              "    </tr>\n",
              "    <tr>\n",
              "      <th>C</th>\n",
              "      <td>NaN</td>\n",
              "      <td>1.748900</td>\n",
              "    </tr>\n",
              "  </tbody>\n",
              "</table>\n",
              "</div>"
            ],
            "text/plain": [
              "C             bar       foo\n",
              "A     B                    \n",
              "one   A -0.663696 -1.532689\n",
              "      B  0.557432 -1.162355\n",
              "      C -0.349525 -1.669236\n",
              "three A  0.086325       NaN\n",
              "      B       NaN -0.034972\n",
              "      C -0.081641       NaN\n",
              "two   A       NaN -0.313450\n",
              "      B -0.502083       NaN\n",
              "      C       NaN  1.748900"
            ]
          },
          "metadata": {
            "tags": []
          },
          "execution_count": 92
        }
      ]
    },
    {
      "cell_type": "markdown",
      "metadata": {
        "_cell_guid": "8f173711-84cf-405d-a974-8f3d467a1699",
        "_uuid": "6707cccfbd1da29773303b644ad02a47e917e182",
        "id": "I95_2to4-sem"
      },
      "source": [
        "# Getting Data In/Out\n",
        "### CSV\n",
        "[Writing to a csv file](https://pandas.pydata.org/pandas-docs/stable/io.html#io-store-in-csv)."
      ]
    },
    {
      "cell_type": "code",
      "metadata": {
        "_cell_guid": "c2854c44-5039-4c4f-9333-f4b0f33edc5b",
        "_uuid": "f321aa65d66246497c509d32969d3e1a3d717391",
        "id": "WxE2u_cb-seo"
      },
      "source": [
        "df.to_csv('foo.csv')"
      ],
      "execution_count": 93,
      "outputs": []
    },
    {
      "cell_type": "code",
      "metadata": {
        "_cell_guid": "746340a9-c552-4995-8cbd-067f7dd62e35",
        "_uuid": "c0daece574ad9366f247716b0bfe7f3fd0c9351e",
        "collapsed": true,
        "id": "1SdlCCCn-sep",
        "outputId": "d2f37c8c-429a-49c2-f7de-c921b287d6e1",
        "colab": {
          "base_uri": "https://localhost:8080/",
          "height": 0
        }
      },
      "source": [
        "pd.read_csv('foo.csv')"
      ],
      "execution_count": 94,
      "outputs": [
        {
          "output_type": "execute_result",
          "data": {
            "text/html": [
              "<div>\n",
              "<style scoped>\n",
              "    .dataframe tbody tr th:only-of-type {\n",
              "        vertical-align: middle;\n",
              "    }\n",
              "\n",
              "    .dataframe tbody tr th {\n",
              "        vertical-align: top;\n",
              "    }\n",
              "\n",
              "    .dataframe thead th {\n",
              "        text-align: right;\n",
              "    }\n",
              "</style>\n",
              "<table border=\"1\" class=\"dataframe\">\n",
              "  <thead>\n",
              "    <tr style=\"text-align: right;\">\n",
              "      <th></th>\n",
              "      <th>Unnamed: 0</th>\n",
              "      <th>A</th>\n",
              "      <th>B</th>\n",
              "      <th>C</th>\n",
              "      <th>D</th>\n",
              "      <th>E</th>\n",
              "    </tr>\n",
              "  </thead>\n",
              "  <tbody>\n",
              "    <tr>\n",
              "      <th>0</th>\n",
              "      <td>0</td>\n",
              "      <td>one</td>\n",
              "      <td>A</td>\n",
              "      <td>foo</td>\n",
              "      <td>-1.532689</td>\n",
              "      <td>0.687751</td>\n",
              "    </tr>\n",
              "    <tr>\n",
              "      <th>1</th>\n",
              "      <td>1</td>\n",
              "      <td>one</td>\n",
              "      <td>B</td>\n",
              "      <td>foo</td>\n",
              "      <td>-1.162355</td>\n",
              "      <td>-0.513612</td>\n",
              "    </tr>\n",
              "    <tr>\n",
              "      <th>2</th>\n",
              "      <td>2</td>\n",
              "      <td>two</td>\n",
              "      <td>C</td>\n",
              "      <td>foo</td>\n",
              "      <td>1.748900</td>\n",
              "      <td>0.247908</td>\n",
              "    </tr>\n",
              "    <tr>\n",
              "      <th>3</th>\n",
              "      <td>3</td>\n",
              "      <td>three</td>\n",
              "      <td>A</td>\n",
              "      <td>bar</td>\n",
              "      <td>0.086325</td>\n",
              "      <td>0.257446</td>\n",
              "    </tr>\n",
              "    <tr>\n",
              "      <th>4</th>\n",
              "      <td>4</td>\n",
              "      <td>one</td>\n",
              "      <td>B</td>\n",
              "      <td>bar</td>\n",
              "      <td>0.557432</td>\n",
              "      <td>-0.624299</td>\n",
              "    </tr>\n",
              "    <tr>\n",
              "      <th>5</th>\n",
              "      <td>5</td>\n",
              "      <td>one</td>\n",
              "      <td>C</td>\n",
              "      <td>bar</td>\n",
              "      <td>-0.349525</td>\n",
              "      <td>-0.529188</td>\n",
              "    </tr>\n",
              "    <tr>\n",
              "      <th>6</th>\n",
              "      <td>6</td>\n",
              "      <td>two</td>\n",
              "      <td>A</td>\n",
              "      <td>foo</td>\n",
              "      <td>-0.313450</td>\n",
              "      <td>0.504735</td>\n",
              "    </tr>\n",
              "    <tr>\n",
              "      <th>7</th>\n",
              "      <td>7</td>\n",
              "      <td>three</td>\n",
              "      <td>B</td>\n",
              "      <td>foo</td>\n",
              "      <td>-0.034972</td>\n",
              "      <td>-0.149090</td>\n",
              "    </tr>\n",
              "    <tr>\n",
              "      <th>8</th>\n",
              "      <td>8</td>\n",
              "      <td>one</td>\n",
              "      <td>C</td>\n",
              "      <td>foo</td>\n",
              "      <td>-1.669236</td>\n",
              "      <td>0.022067</td>\n",
              "    </tr>\n",
              "    <tr>\n",
              "      <th>9</th>\n",
              "      <td>9</td>\n",
              "      <td>one</td>\n",
              "      <td>A</td>\n",
              "      <td>bar</td>\n",
              "      <td>-0.663696</td>\n",
              "      <td>0.042743</td>\n",
              "    </tr>\n",
              "    <tr>\n",
              "      <th>10</th>\n",
              "      <td>10</td>\n",
              "      <td>two</td>\n",
              "      <td>B</td>\n",
              "      <td>bar</td>\n",
              "      <td>-0.502083</td>\n",
              "      <td>0.596464</td>\n",
              "    </tr>\n",
              "    <tr>\n",
              "      <th>11</th>\n",
              "      <td>11</td>\n",
              "      <td>three</td>\n",
              "      <td>C</td>\n",
              "      <td>bar</td>\n",
              "      <td>-0.081641</td>\n",
              "      <td>0.495577</td>\n",
              "    </tr>\n",
              "  </tbody>\n",
              "</table>\n",
              "</div>"
            ],
            "text/plain": [
              "    Unnamed: 0      A  B    C         D         E\n",
              "0            0    one  A  foo -1.532689  0.687751\n",
              "1            1    one  B  foo -1.162355 -0.513612\n",
              "2            2    two  C  foo  1.748900  0.247908\n",
              "3            3  three  A  bar  0.086325  0.257446\n",
              "4            4    one  B  bar  0.557432 -0.624299\n",
              "5            5    one  C  bar -0.349525 -0.529188\n",
              "6            6    two  A  foo -0.313450  0.504735\n",
              "7            7  three  B  foo -0.034972 -0.149090\n",
              "8            8    one  C  foo -1.669236  0.022067\n",
              "9            9    one  A  bar -0.663696  0.042743\n",
              "10          10    two  B  bar -0.502083  0.596464\n",
              "11          11  three  C  bar -0.081641  0.495577"
            ]
          },
          "metadata": {
            "tags": []
          },
          "execution_count": 94
        }
      ]
    },
    {
      "cell_type": "markdown",
      "metadata": {
        "_cell_guid": "577ea484-5412-4e56-bce9-e7ac085f43e7",
        "_uuid": "1ed3197b98a526670ad2e5fc2fd3d783f4aa26df",
        "id": "C7ZIggm6-sew"
      },
      "source": [
        "### Excel\n",
        "Reading and writing to [MS Excel](https://pandas.pydata.org/pandas-docs/stable/io.html#io-excel).\n",
        "\n",
        "Writing to an excel file:"
      ]
    },
    {
      "cell_type": "code",
      "metadata": {
        "_cell_guid": "56ebcc49-1c6e-4fba-b0be-885bd38c8edd",
        "_uuid": "b4aa25c0d51d6981aefeb56d369f73892d89bf75",
        "id": "uLNWvE0--sew"
      },
      "source": [
        "df.to_excel('foo.xlsx', sheet_name='Sheet1')"
      ],
      "execution_count": 95,
      "outputs": []
    },
    {
      "cell_type": "markdown",
      "metadata": {
        "_cell_guid": "516aeff5-882d-464f-a4a8-23c39a9faa78",
        "_uuid": "53c3b30580b3f53be31cf66c379f0a930b5ebe6d",
        "id": "lzJvHzEg-sez"
      },
      "source": [
        "Reading from an excel file:"
      ]
    },
    {
      "cell_type": "code",
      "metadata": {
        "_cell_guid": "7d1fb689-56d4-4ebf-bf7e-775f55268861",
        "_uuid": "80517bdf809673c3b298888c8b2e0835e1f862dc",
        "collapsed": true,
        "id": "7k5WrnFG-sez",
        "outputId": "8e2e5163-b949-4462-c3db-fb67e7dc6dbe",
        "colab": {
          "base_uri": "https://localhost:8080/",
          "height": 0
        }
      },
      "source": [
        "pd.read_excel('foo.xlsx', 'Sheet1', index_col=None, na_values=['NA'])"
      ],
      "execution_count": 96,
      "outputs": [
        {
          "output_type": "execute_result",
          "data": {
            "text/html": [
              "<div>\n",
              "<style scoped>\n",
              "    .dataframe tbody tr th:only-of-type {\n",
              "        vertical-align: middle;\n",
              "    }\n",
              "\n",
              "    .dataframe tbody tr th {\n",
              "        vertical-align: top;\n",
              "    }\n",
              "\n",
              "    .dataframe thead th {\n",
              "        text-align: right;\n",
              "    }\n",
              "</style>\n",
              "<table border=\"1\" class=\"dataframe\">\n",
              "  <thead>\n",
              "    <tr style=\"text-align: right;\">\n",
              "      <th></th>\n",
              "      <th>Unnamed: 0</th>\n",
              "      <th>A</th>\n",
              "      <th>B</th>\n",
              "      <th>C</th>\n",
              "      <th>D</th>\n",
              "      <th>E</th>\n",
              "    </tr>\n",
              "  </thead>\n",
              "  <tbody>\n",
              "    <tr>\n",
              "      <th>0</th>\n",
              "      <td>0</td>\n",
              "      <td>one</td>\n",
              "      <td>A</td>\n",
              "      <td>foo</td>\n",
              "      <td>-1.532689</td>\n",
              "      <td>0.687751</td>\n",
              "    </tr>\n",
              "    <tr>\n",
              "      <th>1</th>\n",
              "      <td>1</td>\n",
              "      <td>one</td>\n",
              "      <td>B</td>\n",
              "      <td>foo</td>\n",
              "      <td>-1.162355</td>\n",
              "      <td>-0.513612</td>\n",
              "    </tr>\n",
              "    <tr>\n",
              "      <th>2</th>\n",
              "      <td>2</td>\n",
              "      <td>two</td>\n",
              "      <td>C</td>\n",
              "      <td>foo</td>\n",
              "      <td>1.748900</td>\n",
              "      <td>0.247908</td>\n",
              "    </tr>\n",
              "    <tr>\n",
              "      <th>3</th>\n",
              "      <td>3</td>\n",
              "      <td>three</td>\n",
              "      <td>A</td>\n",
              "      <td>bar</td>\n",
              "      <td>0.086325</td>\n",
              "      <td>0.257446</td>\n",
              "    </tr>\n",
              "    <tr>\n",
              "      <th>4</th>\n",
              "      <td>4</td>\n",
              "      <td>one</td>\n",
              "      <td>B</td>\n",
              "      <td>bar</td>\n",
              "      <td>0.557432</td>\n",
              "      <td>-0.624299</td>\n",
              "    </tr>\n",
              "    <tr>\n",
              "      <th>5</th>\n",
              "      <td>5</td>\n",
              "      <td>one</td>\n",
              "      <td>C</td>\n",
              "      <td>bar</td>\n",
              "      <td>-0.349525</td>\n",
              "      <td>-0.529188</td>\n",
              "    </tr>\n",
              "    <tr>\n",
              "      <th>6</th>\n",
              "      <td>6</td>\n",
              "      <td>two</td>\n",
              "      <td>A</td>\n",
              "      <td>foo</td>\n",
              "      <td>-0.313450</td>\n",
              "      <td>0.504735</td>\n",
              "    </tr>\n",
              "    <tr>\n",
              "      <th>7</th>\n",
              "      <td>7</td>\n",
              "      <td>three</td>\n",
              "      <td>B</td>\n",
              "      <td>foo</td>\n",
              "      <td>-0.034972</td>\n",
              "      <td>-0.149090</td>\n",
              "    </tr>\n",
              "    <tr>\n",
              "      <th>8</th>\n",
              "      <td>8</td>\n",
              "      <td>one</td>\n",
              "      <td>C</td>\n",
              "      <td>foo</td>\n",
              "      <td>-1.669236</td>\n",
              "      <td>0.022067</td>\n",
              "    </tr>\n",
              "    <tr>\n",
              "      <th>9</th>\n",
              "      <td>9</td>\n",
              "      <td>one</td>\n",
              "      <td>A</td>\n",
              "      <td>bar</td>\n",
              "      <td>-0.663696</td>\n",
              "      <td>0.042743</td>\n",
              "    </tr>\n",
              "    <tr>\n",
              "      <th>10</th>\n",
              "      <td>10</td>\n",
              "      <td>two</td>\n",
              "      <td>B</td>\n",
              "      <td>bar</td>\n",
              "      <td>-0.502083</td>\n",
              "      <td>0.596464</td>\n",
              "    </tr>\n",
              "    <tr>\n",
              "      <th>11</th>\n",
              "      <td>11</td>\n",
              "      <td>three</td>\n",
              "      <td>C</td>\n",
              "      <td>bar</td>\n",
              "      <td>-0.081641</td>\n",
              "      <td>0.495577</td>\n",
              "    </tr>\n",
              "  </tbody>\n",
              "</table>\n",
              "</div>"
            ],
            "text/plain": [
              "    Unnamed: 0      A  B    C         D         E\n",
              "0            0    one  A  foo -1.532689  0.687751\n",
              "1            1    one  B  foo -1.162355 -0.513612\n",
              "2            2    two  C  foo  1.748900  0.247908\n",
              "3            3  three  A  bar  0.086325  0.257446\n",
              "4            4    one  B  bar  0.557432 -0.624299\n",
              "5            5    one  C  bar -0.349525 -0.529188\n",
              "6            6    two  A  foo -0.313450  0.504735\n",
              "7            7  three  B  foo -0.034972 -0.149090\n",
              "8            8    one  C  foo -1.669236  0.022067\n",
              "9            9    one  A  bar -0.663696  0.042743\n",
              "10          10    two  B  bar -0.502083  0.596464\n",
              "11          11  three  C  bar -0.081641  0.495577"
            ]
          },
          "metadata": {
            "tags": []
          },
          "execution_count": 96
        }
      ]
    }
  ]
}